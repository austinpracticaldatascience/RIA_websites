{
 "cells": [
  {
   "cell_type": "code",
   "execution_count": 1,
   "id": "00b45f8f-5ab6-46ad-b152-df40d30b30e5",
   "metadata": {
    "tags": []
   },
   "outputs": [],
   "source": [
    "import pandas as pd\n",
    "import numpy as np\n",
    "import matplotlib.pyplot as plt\n",
    "import re"
   ]
  },
  {
   "cell_type": "code",
   "execution_count": null,
   "id": "e0da9547-d106-4220-b090-59df2e8c1d24",
   "metadata": {},
   "outputs": [],
   "source": [
    "# !pip install surt\n",
    "# !pip install validators"
   ]
  },
  {
   "cell_type": "code",
   "execution_count": 90,
   "id": "e2ddb4f9-bafa-4fe8-93a4-e51d78c4f429",
   "metadata": {
    "tags": []
   },
   "outputs": [],
   "source": [
    "# Two handy libraries for checking if a URL is valid or not\n",
    "# import surt\n",
    "import validators"
   ]
  },
  {
   "cell_type": "markdown",
   "id": "8139f451-f36f-4eea-a15d-a07b4f8efd66",
   "metadata": {},
   "source": [
    "## SEC-Registered"
   ]
  },
  {
   "cell_type": "code",
   "execution_count": 109,
   "id": "e3fa8f46-ae7e-4f5a-9775-7f5af79b4d99",
   "metadata": {
    "tags": []
   },
   "outputs": [
    {
     "name": "stderr",
     "output_type": "stream",
     "text": [
      "/var/folders/4c/2qnjjn4s5ll345918sr_tf8r0000gn/T/ipykernel_12623/537414822.py:1: DtypeWarning: Columns (49,217,250,251,252,253,254,255,256,257,258,259,260,261,262,263,264,265,266,267,268,269,270,271,272,273,274,275,276) have mixed types. Specify dtype option on import or set low_memory=False.\n",
      "  df_sec = pd.read_csv('data/sec/IA_FIRM_SEC_Feed_02_02_2023.csv')\n"
     ]
    }
   ],
   "source": [
    "df_sec = pd.read_csv('data/sec/IA_FIRM_SEC_Feed_02_02_2023.csv')"
   ]
  },
  {
   "cell_type": "code",
   "execution_count": 110,
   "id": "ccbc8ef2-9044-4a54-a57a-583c2813c364",
   "metadata": {
    "collapsed": true,
    "jupyter": {
     "outputs_hidden": true
    },
    "tags": []
   },
   "outputs": [
    {
     "data": {
      "text/plain": [
       "['Filing.@Dt',\n",
       " 'Filing.@FormVrsn',\n",
       " 'FormInfo.Part1A.Item1.@Q1F5',\n",
       " 'FormInfo.Part1A.Item1.@Q1I',\n",
       " 'FormInfo.Part1A.Item1.@Q1M',\n",
       " 'FormInfo.Part1A.Item1.@Q1N',\n",
       " 'FormInfo.Part1A.Item1.@Q1O',\n",
       " 'FormInfo.Part1A.Item1.@Q1ODesc',\n",
       " 'FormInfo.Part1A.Item1.@Q1P',\n",
       " 'FormInfo.Part1A.Item1.WebAddrs',\n",
       " 'FormInfo.Part1A.Item1.WebAddrs.WebAddr',\n",
       " 'FormInfo.Part1A.Item10A.@Q10A',\n",
       " 'FormInfo.Part1A.Item11.@Q11',\n",
       " 'FormInfo.Part1A.Item11A.@Q11A1',\n",
       " 'FormInfo.Part1A.Item11A.@Q11A2',\n",
       " 'FormInfo.Part1A.Item11B.@Q11B1',\n",
       " 'FormInfo.Part1A.Item11B.@Q11B2',\n",
       " 'FormInfo.Part1A.Item11C.@Q11C1',\n",
       " 'FormInfo.Part1A.Item11C.@Q11C2',\n",
       " 'FormInfo.Part1A.Item11C.@Q11C3',\n",
       " 'FormInfo.Part1A.Item11C.@Q11C4',\n",
       " 'FormInfo.Part1A.Item11C.@Q11C5',\n",
       " 'FormInfo.Part1A.Item11D.@Q11D1',\n",
       " 'FormInfo.Part1A.Item11D.@Q11D2',\n",
       " 'FormInfo.Part1A.Item11D.@Q11D3',\n",
       " 'FormInfo.Part1A.Item11D.@Q11D4',\n",
       " 'FormInfo.Part1A.Item11D.@Q11D5',\n",
       " 'FormInfo.Part1A.Item11E.@Q11E1',\n",
       " 'FormInfo.Part1A.Item11E.@Q11E2',\n",
       " 'FormInfo.Part1A.Item11E.@Q11E3',\n",
       " 'FormInfo.Part1A.Item11E.@Q11E4',\n",
       " 'FormInfo.Part1A.Item11F.@Q11F',\n",
       " 'FormInfo.Part1A.Item11G.@Q11G',\n",
       " 'FormInfo.Part1A.Item11H.@Q11H1A',\n",
       " 'FormInfo.Part1A.Item11H.@Q11H1B',\n",
       " 'FormInfo.Part1A.Item11H.@Q11H1C',\n",
       " 'FormInfo.Part1A.Item11H.@Q11H2',\n",
       " 'FormInfo.Part1A.Item2A.@Q2A1',\n",
       " 'FormInfo.Part1A.Item2A.@Q2A10',\n",
       " 'FormInfo.Part1A.Item2A.@Q2A11',\n",
       " 'FormInfo.Part1A.Item2A.@Q2A12',\n",
       " 'FormInfo.Part1A.Item2A.@Q2A13',\n",
       " 'FormInfo.Part1A.Item2A.@Q2A2',\n",
       " 'FormInfo.Part1A.Item2A.@Q2A4',\n",
       " 'FormInfo.Part1A.Item2A.@Q2A5',\n",
       " 'FormInfo.Part1A.Item2A.@Q2A6',\n",
       " 'FormInfo.Part1A.Item2A.@Q2A7',\n",
       " 'FormInfo.Part1A.Item2A.@Q2A8',\n",
       " 'FormInfo.Part1A.Item2A.@Q2A9',\n",
       " 'FormInfo.Part1A.Item2B.@Q2B1',\n",
       " 'FormInfo.Part1A.Item2B.@Q2B2',\n",
       " 'FormInfo.Part1A.Item2B.@Q2B3',\n",
       " 'FormInfo.Part1A.Item3A.@OrgFormNm',\n",
       " 'FormInfo.Part1A.Item3A.@OrgFormOthNm',\n",
       " 'FormInfo.Part1A.Item3B.@Q3B',\n",
       " 'FormInfo.Part1A.Item3C.@CntryNm',\n",
       " 'FormInfo.Part1A.Item3C.@StateCD',\n",
       " 'FormInfo.Part1A.Item5A.@TtlEmp',\n",
       " 'FormInfo.Part1A.Item5B.@Q5B1',\n",
       " 'FormInfo.Part1A.Item5B.@Q5B2',\n",
       " 'FormInfo.Part1A.Item5B.@Q5B3',\n",
       " 'FormInfo.Part1A.Item5B.@Q5B4',\n",
       " 'FormInfo.Part1A.Item5B.@Q5B5',\n",
       " 'FormInfo.Part1A.Item5B.@Q5B6',\n",
       " 'FormInfo.Part1A.Item5C.@Q5C1',\n",
       " 'FormInfo.Part1A.Item5C.@Q5C1Oth',\n",
       " 'FormInfo.Part1A.Item5C.@Q5C2',\n",
       " 'FormInfo.Part1A.Item5D.@Q5D1A',\n",
       " 'FormInfo.Part1A.Item5D.@Q5D1B',\n",
       " 'FormInfo.Part1A.Item5D.@Q5D1C',\n",
       " 'FormInfo.Part1A.Item5D.@Q5D1D',\n",
       " 'FormInfo.Part1A.Item5D.@Q5D1E',\n",
       " 'FormInfo.Part1A.Item5D.@Q5D1F',\n",
       " 'FormInfo.Part1A.Item5D.@Q5D1G',\n",
       " 'FormInfo.Part1A.Item5D.@Q5D1H',\n",
       " 'FormInfo.Part1A.Item5D.@Q5D1I',\n",
       " 'FormInfo.Part1A.Item5D.@Q5D1J',\n",
       " 'FormInfo.Part1A.Item5D.@Q5D1K',\n",
       " 'FormInfo.Part1A.Item5D.@Q5D1L',\n",
       " 'FormInfo.Part1A.Item5D.@Q5D1M',\n",
       " 'FormInfo.Part1A.Item5D.@Q5D2A',\n",
       " 'FormInfo.Part1A.Item5D.@Q5D2B',\n",
       " 'FormInfo.Part1A.Item5D.@Q5D2C',\n",
       " 'FormInfo.Part1A.Item5D.@Q5D2D',\n",
       " 'FormInfo.Part1A.Item5D.@Q5D2E',\n",
       " 'FormInfo.Part1A.Item5D.@Q5D2F',\n",
       " 'FormInfo.Part1A.Item5D.@Q5D2G',\n",
       " 'FormInfo.Part1A.Item5D.@Q5D2H',\n",
       " 'FormInfo.Part1A.Item5D.@Q5D2I',\n",
       " 'FormInfo.Part1A.Item5D.@Q5D2J',\n",
       " 'FormInfo.Part1A.Item5D.@Q5D2K',\n",
       " 'FormInfo.Part1A.Item5D.@Q5D2L',\n",
       " 'FormInfo.Part1A.Item5D.@Q5D2M',\n",
       " 'FormInfo.Part1A.Item5D.@Q5DA1',\n",
       " 'FormInfo.Part1A.Item5D.@Q5DA2',\n",
       " 'FormInfo.Part1A.Item5D.@Q5DA3',\n",
       " 'FormInfo.Part1A.Item5D.@Q5DB1',\n",
       " 'FormInfo.Part1A.Item5D.@Q5DB2',\n",
       " 'FormInfo.Part1A.Item5D.@Q5DB3',\n",
       " 'FormInfo.Part1A.Item5D.@Q5DC1',\n",
       " 'FormInfo.Part1A.Item5D.@Q5DC2',\n",
       " 'FormInfo.Part1A.Item5D.@Q5DC3',\n",
       " 'FormInfo.Part1A.Item5D.@Q5DD1',\n",
       " 'FormInfo.Part1A.Item5D.@Q5DD3',\n",
       " 'FormInfo.Part1A.Item5D.@Q5DE1',\n",
       " 'FormInfo.Part1A.Item5D.@Q5DE3',\n",
       " 'FormInfo.Part1A.Item5D.@Q5DF1',\n",
       " 'FormInfo.Part1A.Item5D.@Q5DF3',\n",
       " 'FormInfo.Part1A.Item5D.@Q5DG1',\n",
       " 'FormInfo.Part1A.Item5D.@Q5DG2',\n",
       " 'FormInfo.Part1A.Item5D.@Q5DG3',\n",
       " 'FormInfo.Part1A.Item5D.@Q5DH1',\n",
       " 'FormInfo.Part1A.Item5D.@Q5DH2',\n",
       " 'FormInfo.Part1A.Item5D.@Q5DH3',\n",
       " 'FormInfo.Part1A.Item5D.@Q5DI1',\n",
       " 'FormInfo.Part1A.Item5D.@Q5DI2',\n",
       " 'FormInfo.Part1A.Item5D.@Q5DI3',\n",
       " 'FormInfo.Part1A.Item5D.@Q5DJ1',\n",
       " 'FormInfo.Part1A.Item5D.@Q5DJ2',\n",
       " 'FormInfo.Part1A.Item5D.@Q5DJ3',\n",
       " 'FormInfo.Part1A.Item5D.@Q5DK1',\n",
       " 'FormInfo.Part1A.Item5D.@Q5DK2',\n",
       " 'FormInfo.Part1A.Item5D.@Q5DK3',\n",
       " 'FormInfo.Part1A.Item5D.@Q5DL1',\n",
       " 'FormInfo.Part1A.Item5D.@Q5DL2',\n",
       " 'FormInfo.Part1A.Item5D.@Q5DL3',\n",
       " 'FormInfo.Part1A.Item5D.@Q5DM1',\n",
       " 'FormInfo.Part1A.Item5D.@Q5DM2',\n",
       " 'FormInfo.Part1A.Item5D.@Q5DM3',\n",
       " 'FormInfo.Part1A.Item5D.@Q5DN1',\n",
       " 'FormInfo.Part1A.Item5D.@Q5DN2',\n",
       " 'FormInfo.Part1A.Item5D.@Q5DN3',\n",
       " 'FormInfo.Part1A.Item5D.@Q5DN3Oth',\n",
       " 'FormInfo.Part1A.Item5E.@Q5E1',\n",
       " 'FormInfo.Part1A.Item5E.@Q5E2',\n",
       " 'FormInfo.Part1A.Item5E.@Q5E3',\n",
       " 'FormInfo.Part1A.Item5E.@Q5E4',\n",
       " 'FormInfo.Part1A.Item5E.@Q5E5',\n",
       " 'FormInfo.Part1A.Item5E.@Q5E6',\n",
       " 'FormInfo.Part1A.Item5E.@Q5E7',\n",
       " 'FormInfo.Part1A.Item5E.@Q5E7Oth',\n",
       " 'FormInfo.Part1A.Item5F.@Q5F1',\n",
       " 'FormInfo.Part1A.Item5F.@Q5F2A',\n",
       " 'FormInfo.Part1A.Item5F.@Q5F2B',\n",
       " 'FormInfo.Part1A.Item5F.@Q5F2C',\n",
       " 'FormInfo.Part1A.Item5F.@Q5F2D',\n",
       " 'FormInfo.Part1A.Item5F.@Q5F2E',\n",
       " 'FormInfo.Part1A.Item5F.@Q5F2F',\n",
       " 'FormInfo.Part1A.Item5F.@Q5F3',\n",
       " 'FormInfo.Part1A.Item5G.@Q5G1',\n",
       " 'FormInfo.Part1A.Item5G.@Q5G10',\n",
       " 'FormInfo.Part1A.Item5G.@Q5G11',\n",
       " 'FormInfo.Part1A.Item5G.@Q5G12',\n",
       " 'FormInfo.Part1A.Item5G.@Q5G12Oth',\n",
       " 'FormInfo.Part1A.Item5G.@Q5G2',\n",
       " 'FormInfo.Part1A.Item5G.@Q5G3',\n",
       " 'FormInfo.Part1A.Item5G.@Q5G4',\n",
       " 'FormInfo.Part1A.Item5G.@Q5G5',\n",
       " 'FormInfo.Part1A.Item5G.@Q5G6',\n",
       " 'FormInfo.Part1A.Item5G.@Q5G7',\n",
       " 'FormInfo.Part1A.Item5G.@Q5G8',\n",
       " 'FormInfo.Part1A.Item5G.@Q5G9',\n",
       " 'FormInfo.Part1A.Item5H.@Q5H',\n",
       " 'FormInfo.Part1A.Item5H.@Q5HMT500',\n",
       " 'FormInfo.Part1A.Item5I.@Q5I1',\n",
       " 'FormInfo.Part1A.Item5I.@Q5I2A',\n",
       " 'FormInfo.Part1A.Item5I.@Q5I2B',\n",
       " 'FormInfo.Part1A.Item5I.@Q5I2C',\n",
       " 'FormInfo.Part1A.Item5J.@Q5J1',\n",
       " 'FormInfo.Part1A.Item5J.@Q5J2',\n",
       " 'FormInfo.Part1A.Item5K.@Q5K1',\n",
       " 'FormInfo.Part1A.Item5K.@Q5K2',\n",
       " 'FormInfo.Part1A.Item5K.@Q5K3',\n",
       " 'FormInfo.Part1A.Item5K.@Q5K4',\n",
       " 'FormInfo.Part1A.Item5L.@Q5L1A',\n",
       " 'FormInfo.Part1A.Item5L.@Q5L1B',\n",
       " 'FormInfo.Part1A.Item5L.@Q5L1C',\n",
       " 'FormInfo.Part1A.Item5L.@Q5L1D',\n",
       " 'FormInfo.Part1A.Item5L.@Q5L1E',\n",
       " 'FormInfo.Part1A.Item5L.@Q5L2',\n",
       " 'FormInfo.Part1A.Item5L.@Q5L3',\n",
       " 'FormInfo.Part1A.Item5L.@Q5L4',\n",
       " 'FormInfo.Part1A.Item6A.@Q6A1',\n",
       " 'FormInfo.Part1A.Item6A.@Q6A10',\n",
       " 'FormInfo.Part1A.Item6A.@Q6A11',\n",
       " 'FormInfo.Part1A.Item6A.@Q6A12',\n",
       " 'FormInfo.Part1A.Item6A.@Q6A13',\n",
       " 'FormInfo.Part1A.Item6A.@Q6A14',\n",
       " 'FormInfo.Part1A.Item6A.@Q6A14Oth',\n",
       " 'FormInfo.Part1A.Item6A.@Q6A2',\n",
       " 'FormInfo.Part1A.Item6A.@Q6A3',\n",
       " 'FormInfo.Part1A.Item6A.@Q6A4',\n",
       " 'FormInfo.Part1A.Item6A.@Q6A5',\n",
       " 'FormInfo.Part1A.Item6A.@Q6A6',\n",
       " 'FormInfo.Part1A.Item6A.@Q6A7',\n",
       " 'FormInfo.Part1A.Item6A.@Q6A8',\n",
       " 'FormInfo.Part1A.Item6A.@Q6A9',\n",
       " 'FormInfo.Part1A.Item6B.@Q6B1',\n",
       " 'FormInfo.Part1A.Item6B.@Q6B2',\n",
       " 'FormInfo.Part1A.Item6B.@Q6B3',\n",
       " 'FormInfo.Part1A.Item7A.@Q7A1',\n",
       " 'FormInfo.Part1A.Item7A.@Q7A10',\n",
       " 'FormInfo.Part1A.Item7A.@Q7A11',\n",
       " 'FormInfo.Part1A.Item7A.@Q7A12',\n",
       " 'FormInfo.Part1A.Item7A.@Q7A13',\n",
       " 'FormInfo.Part1A.Item7A.@Q7A14',\n",
       " 'FormInfo.Part1A.Item7A.@Q7A15',\n",
       " 'FormInfo.Part1A.Item7A.@Q7A16',\n",
       " 'FormInfo.Part1A.Item7A.@Q7A2',\n",
       " 'FormInfo.Part1A.Item7A.@Q7A3',\n",
       " 'FormInfo.Part1A.Item7A.@Q7A4',\n",
       " 'FormInfo.Part1A.Item7A.@Q7A5',\n",
       " 'FormInfo.Part1A.Item7A.@Q7A6',\n",
       " 'FormInfo.Part1A.Item7A.@Q7A7',\n",
       " 'FormInfo.Part1A.Item7A.@Q7A8',\n",
       " 'FormInfo.Part1A.Item7A.@Q7A9',\n",
       " 'FormInfo.Part1A.Item7B.@Q7B',\n",
       " 'FormInfo.Part1A.Item8A.@Q8A1',\n",
       " 'FormInfo.Part1A.Item8A.@Q8A2',\n",
       " 'FormInfo.Part1A.Item8A.@Q8A3',\n",
       " 'FormInfo.Part1A.Item8B.@Q8B1',\n",
       " 'FormInfo.Part1A.Item8B.@Q8B2',\n",
       " 'FormInfo.Part1A.Item8B.@Q8B3',\n",
       " 'FormInfo.Part1A.Item8C.@Q8C1',\n",
       " 'FormInfo.Part1A.Item8C.@Q8C2',\n",
       " 'FormInfo.Part1A.Item8C.@Q8C3',\n",
       " 'FormInfo.Part1A.Item8C.@Q8C4',\n",
       " 'FormInfo.Part1A.Item8D.@Q8D',\n",
       " 'FormInfo.Part1A.Item8E.@Q8E',\n",
       " 'FormInfo.Part1A.Item8F.@Q8F',\n",
       " 'FormInfo.Part1A.Item8G.@Q8G1',\n",
       " 'FormInfo.Part1A.Item8G.@Q8G2',\n",
       " 'FormInfo.Part1A.Item8H.@Q8H',\n",
       " 'FormInfo.Part1A.Item8H.@Q8H1',\n",
       " 'FormInfo.Part1A.Item8H.@Q8H2',\n",
       " 'FormInfo.Part1A.Item8I.@Q8I',\n",
       " 'FormInfo.Part1A.Item9A.@Q9A1A',\n",
       " 'FormInfo.Part1A.Item9A.@Q9A1B',\n",
       " 'FormInfo.Part1A.Item9A.@Q9A2A',\n",
       " 'FormInfo.Part1A.Item9A.@Q9A2B',\n",
       " 'FormInfo.Part1A.Item9B.@Q9B1A',\n",
       " 'FormInfo.Part1A.Item9B.@Q9B1B',\n",
       " 'FormInfo.Part1A.Item9B.@Q9B2A',\n",
       " 'FormInfo.Part1A.Item9B.@Q9B2B',\n",
       " 'FormInfo.Part1A.Item9C.@Q9C1',\n",
       " 'FormInfo.Part1A.Item9C.@Q9C2',\n",
       " 'FormInfo.Part1A.Item9C.@Q9C3',\n",
       " 'FormInfo.Part1A.Item9C.@Q9C4',\n",
       " 'FormInfo.Part1A.Item9D.@Q9D1',\n",
       " 'FormInfo.Part1A.Item9D.@Q9D2',\n",
       " 'FormInfo.Part1A.Item9E.@Q9E',\n",
       " 'FormInfo.Part1A.Item9F.@Q9F',\n",
       " 'Info.@BusNm',\n",
       " 'Info.@FirmCrdNb',\n",
       " 'Info.@LegalNm',\n",
       " 'Info.@SECNb',\n",
       " 'Info.@SECRgnCD',\n",
       " 'Info.@UmbrRgstn',\n",
       " 'MailingAddr.@City',\n",
       " 'MailingAddr.@Cntry',\n",
       " 'MailingAddr.@PostlCd',\n",
       " 'MailingAddr.@State',\n",
       " 'MailingAddr.@Strt1',\n",
       " 'MailingAddr.@Strt2',\n",
       " 'MainAddr.@City',\n",
       " 'MainAddr.@Cntry',\n",
       " 'MainAddr.@FaxNb',\n",
       " 'MainAddr.@PhNb',\n",
       " 'MainAddr.@PostlCd',\n",
       " 'MainAddr.@State',\n",
       " 'MainAddr.@Strt1',\n",
       " 'MainAddr.@Strt2',\n",
       " 'NoticeFiled.States.@Dt',\n",
       " 'NoticeFiled.States.@RgltrCd',\n",
       " 'NoticeFiled.States.@St',\n",
       " 'Rgstn.@Dt',\n",
       " 'Rgstn.@FirmType',\n",
       " 'Rgstn.@St']"
      ]
     },
     "execution_count": 110,
     "metadata": {},
     "output_type": "execute_result"
    }
   ],
   "source": [
    "sorted(df_sec.columns.to_list())"
   ]
  },
  {
   "cell_type": "markdown",
   "id": "2e348260-8088-4de3-b23a-527c0993d0fe",
   "metadata": {},
   "source": [
    "Number of Advisers -- everything"
   ]
  },
  {
   "cell_type": "code",
   "execution_count": 111,
   "id": "e1ba3fec-053d-42f0-9eaa-e7dd29674891",
   "metadata": {
    "tags": []
   },
   "outputs": [
    {
     "data": {
      "text/plain": [
       "21061"
      ]
     },
     "execution_count": 111,
     "metadata": {},
     "output_type": "execute_result"
    }
   ],
   "source": [
    "df_sec.shape[0]"
   ]
  },
  {
   "cell_type": "code",
   "execution_count": 112,
   "id": "0379a23f-1110-4882-be0f-17037abd427b",
   "metadata": {
    "tags": []
   },
   "outputs": [],
   "source": [
    "df_sec['large_or_mid_sized'] = np.where((df_sec['FormInfo.Part1A.Item2A.@Q2A1'] == 'Y') | (df_sec['FormInfo.Part1A.Item2A.@Q2A2'] == 'Y'),\n",
    "                                        True,\n",
    "                                        False)"
   ]
  },
  {
   "cell_type": "code",
   "execution_count": 113,
   "id": "587ed5ae-f520-475f-a518-098608159014",
   "metadata": {
    "tags": []
   },
   "outputs": [],
   "source": [
    "df_sec['robo'] = np.where(df_sec['FormInfo.Part1A.Item2A.@Q2A11'] == 'Y',\n",
    "                          True, False)"
   ]
  },
  {
   "cell_type": "code",
   "execution_count": 114,
   "id": "0c2a22d6-ff8a-4bf7-9697-4f629a33d0a1",
   "metadata": {
    "tags": []
   },
   "outputs": [
    {
     "data": {
      "text/plain": [
       "True"
      ]
     },
     "execution_count": 114,
     "metadata": {},
     "output_type": "execute_result"
    }
   ],
   "source": [
    "(df_sec.loc[(df_sec['FormInfo.Part1A.Item2A.@Q2A1'] == 'Y') | (df_sec['FormInfo.Part1A.Item2A.@Q2A2'] == 'Y'),:].index == df_sec[df_sec['large_or_mid_sized']].index).all()"
   ]
  },
  {
   "cell_type": "markdown",
   "id": "849a8536-f7f3-4e10-a3c4-eb7a6b7fc316",
   "metadata": {},
   "source": [
    "Number of Advisers -- just the \"regular\" firms"
   ]
  },
  {
   "cell_type": "code",
   "execution_count": 115,
   "id": "3b5c751d-9d92-44de-be9f-e9f4ab11d03b",
   "metadata": {
    "tags": []
   },
   "outputs": [
    {
     "data": {
      "text/plain": [
       "13800"
      ]
     },
     "execution_count": 115,
     "metadata": {},
     "output_type": "execute_result"
    }
   ],
   "source": [
    "df_sec_reg = df_sec[df_sec['large_or_mid_sized']].copy()\n",
    "df_sec_reg.shape[0]"
   ]
  },
  {
   "cell_type": "markdown",
   "id": "dc067efb-4b4c-4963-8b4b-e6f4a6145a3f",
   "metadata": {},
   "source": [
    "Number of Robo Advisers"
   ]
  },
  {
   "cell_type": "code",
   "execution_count": 116,
   "id": "bc86f8f6-b448-4bd1-b8ab-7f412247e74e",
   "metadata": {
    "tags": []
   },
   "outputs": [
    {
     "data": {
      "text/plain": [
       "266"
      ]
     },
     "execution_count": 116,
     "metadata": {},
     "output_type": "execute_result"
    }
   ],
   "source": [
    "df_sec_robo = df_sec[df_sec['robo']].copy()\n",
    "df_sec_robo.shape[0]"
   ]
  },
  {
   "cell_type": "code",
   "execution_count": null,
   "id": "5a74e29e-1eb8-4c07-8df6-10a87d2fb437",
   "metadata": {},
   "outputs": [],
   "source": []
  },
  {
   "cell_type": "markdown",
   "id": "37eb51e4-d9f9-4606-a7c9-cb76c13ae5aa",
   "metadata": {},
   "source": [
    "## State-Registered Advisers "
   ]
  },
  {
   "cell_type": "code",
   "execution_count": 142,
   "id": "40ced4ae-3670-4bd8-95c2-1c1e0c3dfb22",
   "metadata": {
    "tags": []
   },
   "outputs": [
    {
     "name": "stderr",
     "output_type": "stream",
     "text": [
      "/var/folders/4c/2qnjjn4s5ll345918sr_tf8r0000gn/T/ipykernel_12623/506064576.py:1: DtypeWarning: Columns (35,243,244,245,246,247,248,249,250,251,252,253,254,255,256,257,258,259,260,261,262,263,264,265,266,267,268,270,277,285,299,306,309,310,313) have mixed types. Specify dtype option on import or set low_memory=False.\n",
      "  df_state = pd.read_csv('data/sec/IA_FIRM_STATE_Feed_02_02_2023.csv')\n"
     ]
    }
   ],
   "source": [
    "df_state = pd.read_csv('data/sec/IA_FIRM_STATE_Feed_02_02_2023.csv')"
   ]
  },
  {
   "cell_type": "code",
   "execution_count": 143,
   "id": "fbe1a715-0e21-4720-8198-08827f43b16d",
   "metadata": {
    "collapsed": true,
    "jupyter": {
     "outputs_hidden": true
    },
    "tags": []
   },
   "outputs": [
    {
     "data": {
      "text/plain": [
       "['ERA.Rgltrs',\n",
       " 'ERA.Rgltrs.Rgltr',\n",
       " 'ERA.Rgltrs.Rgltr.@Cd',\n",
       " 'ERA.Rgltrs.Rgltr.@Dt',\n",
       " 'ERA.Rgltrs.Rgltr.@St',\n",
       " 'Filing.@Dt',\n",
       " 'Filing.@FormVrsn',\n",
       " 'FormInfo.Part1A.Item1.@Q1F5',\n",
       " 'FormInfo.Part1A.Item1.@Q1I',\n",
       " 'FormInfo.Part1A.Item1.@Q1M',\n",
       " 'FormInfo.Part1A.Item1.@Q1N',\n",
       " 'FormInfo.Part1A.Item1.@Q1O',\n",
       " 'FormInfo.Part1A.Item1.@Q1ODESC',\n",
       " 'FormInfo.Part1A.Item1.@Q1P',\n",
       " 'FormInfo.Part1A.Item1.WebAddrs',\n",
       " 'FormInfo.Part1A.Item1.WebAddrs.WebAddr',\n",
       " 'FormInfo.Part1A.Item10A.@Q10A',\n",
       " 'FormInfo.Part1A.Item11.@Q11',\n",
       " 'FormInfo.Part1A.Item11A.@Q11A1',\n",
       " 'FormInfo.Part1A.Item11A.@Q11A2',\n",
       " 'FormInfo.Part1A.Item11B.@Q11B1',\n",
       " 'FormInfo.Part1A.Item11B.@Q11B2',\n",
       " 'FormInfo.Part1A.Item11C.@Q11C1',\n",
       " 'FormInfo.Part1A.Item11C.@Q11C2',\n",
       " 'FormInfo.Part1A.Item11C.@Q11C3',\n",
       " 'FormInfo.Part1A.Item11C.@Q11C4',\n",
       " 'FormInfo.Part1A.Item11C.@Q11C5',\n",
       " 'FormInfo.Part1A.Item11D.@Q11D1',\n",
       " 'FormInfo.Part1A.Item11D.@Q11D2',\n",
       " 'FormInfo.Part1A.Item11D.@Q11D3',\n",
       " 'FormInfo.Part1A.Item11D.@Q11D4',\n",
       " 'FormInfo.Part1A.Item11D.@Q11D5',\n",
       " 'FormInfo.Part1A.Item11E.@Q11E1',\n",
       " 'FormInfo.Part1A.Item11E.@Q11E2',\n",
       " 'FormInfo.Part1A.Item11E.@Q11E3',\n",
       " 'FormInfo.Part1A.Item11E.@Q11E4',\n",
       " 'FormInfo.Part1A.Item11F.@Q11F',\n",
       " 'FormInfo.Part1A.Item11G.@Q11G',\n",
       " 'FormInfo.Part1A.Item11H.@Q11H1A',\n",
       " 'FormInfo.Part1A.Item11H.@Q11H1B',\n",
       " 'FormInfo.Part1A.Item11H.@Q11H1C',\n",
       " 'FormInfo.Part1A.Item11H.@Q11H2',\n",
       " 'FormInfo.Part1A.Item3A.@OrgFormNm',\n",
       " 'FormInfo.Part1A.Item3A.@OrgFormOthNm',\n",
       " 'FormInfo.Part1A.Item3B.@Q3B',\n",
       " 'FormInfo.Part1A.Item3C.@CntryNm',\n",
       " 'FormInfo.Part1A.Item3C.@StateCD',\n",
       " 'FormInfo.Part1A.Item5A.@TtlEmp',\n",
       " 'FormInfo.Part1A.Item5B.@Q5B1',\n",
       " 'FormInfo.Part1A.Item5B.@Q5B2',\n",
       " 'FormInfo.Part1A.Item5B.@Q5B3',\n",
       " 'FormInfo.Part1A.Item5B.@Q5B4',\n",
       " 'FormInfo.Part1A.Item5B.@Q5B5',\n",
       " 'FormInfo.Part1A.Item5B.@Q5B6',\n",
       " 'FormInfo.Part1A.Item5C.@Q5C1',\n",
       " 'FormInfo.Part1A.Item5C.@Q5C1Oth',\n",
       " 'FormInfo.Part1A.Item5C.@Q5C2',\n",
       " 'FormInfo.Part1A.Item5D.@Q5D1A',\n",
       " 'FormInfo.Part1A.Item5D.@Q5D1B',\n",
       " 'FormInfo.Part1A.Item5D.@Q5D1C',\n",
       " 'FormInfo.Part1A.Item5D.@Q5D1D',\n",
       " 'FormInfo.Part1A.Item5D.@Q5D1E',\n",
       " 'FormInfo.Part1A.Item5D.@Q5D1F',\n",
       " 'FormInfo.Part1A.Item5D.@Q5D1G',\n",
       " 'FormInfo.Part1A.Item5D.@Q5D1H',\n",
       " 'FormInfo.Part1A.Item5D.@Q5D1I',\n",
       " 'FormInfo.Part1A.Item5D.@Q5D1J',\n",
       " 'FormInfo.Part1A.Item5D.@Q5D1K',\n",
       " 'FormInfo.Part1A.Item5D.@Q5D1L',\n",
       " 'FormInfo.Part1A.Item5D.@Q5D1M',\n",
       " 'FormInfo.Part1A.Item5D.@Q5D1MOth',\n",
       " 'FormInfo.Part1A.Item5D.@Q5D2A',\n",
       " 'FormInfo.Part1A.Item5D.@Q5D2B',\n",
       " 'FormInfo.Part1A.Item5D.@Q5D2C',\n",
       " 'FormInfo.Part1A.Item5D.@Q5D2D',\n",
       " 'FormInfo.Part1A.Item5D.@Q5D2E',\n",
       " 'FormInfo.Part1A.Item5D.@Q5D2F',\n",
       " 'FormInfo.Part1A.Item5D.@Q5D2G',\n",
       " 'FormInfo.Part1A.Item5D.@Q5D2H',\n",
       " 'FormInfo.Part1A.Item5D.@Q5D2I',\n",
       " 'FormInfo.Part1A.Item5D.@Q5D2J',\n",
       " 'FormInfo.Part1A.Item5D.@Q5D2K',\n",
       " 'FormInfo.Part1A.Item5D.@Q5D2L',\n",
       " 'FormInfo.Part1A.Item5D.@Q5D2M',\n",
       " 'FormInfo.Part1A.Item5D.@Q5D2MOth',\n",
       " 'FormInfo.Part1A.Item5D.@Q5DA1',\n",
       " 'FormInfo.Part1A.Item5D.@Q5DA2',\n",
       " 'FormInfo.Part1A.Item5D.@Q5DA3',\n",
       " 'FormInfo.Part1A.Item5D.@Q5DB1',\n",
       " 'FormInfo.Part1A.Item5D.@Q5DB2',\n",
       " 'FormInfo.Part1A.Item5D.@Q5DB3',\n",
       " 'FormInfo.Part1A.Item5D.@Q5DC1',\n",
       " 'FormInfo.Part1A.Item5D.@Q5DC2',\n",
       " 'FormInfo.Part1A.Item5D.@Q5DC3',\n",
       " 'FormInfo.Part1A.Item5D.@Q5DD1',\n",
       " 'FormInfo.Part1A.Item5D.@Q5DD3',\n",
       " 'FormInfo.Part1A.Item5D.@Q5DE1',\n",
       " 'FormInfo.Part1A.Item5D.@Q5DE3',\n",
       " 'FormInfo.Part1A.Item5D.@Q5DF1',\n",
       " 'FormInfo.Part1A.Item5D.@Q5DF3',\n",
       " 'FormInfo.Part1A.Item5D.@Q5DG1',\n",
       " 'FormInfo.Part1A.Item5D.@Q5DG2',\n",
       " 'FormInfo.Part1A.Item5D.@Q5DG3',\n",
       " 'FormInfo.Part1A.Item5D.@Q5DH1',\n",
       " 'FormInfo.Part1A.Item5D.@Q5DH2',\n",
       " 'FormInfo.Part1A.Item5D.@Q5DH3',\n",
       " 'FormInfo.Part1A.Item5D.@Q5DI1',\n",
       " 'FormInfo.Part1A.Item5D.@Q5DI2',\n",
       " 'FormInfo.Part1A.Item5D.@Q5DI3',\n",
       " 'FormInfo.Part1A.Item5D.@Q5DJ1',\n",
       " 'FormInfo.Part1A.Item5D.@Q5DJ2',\n",
       " 'FormInfo.Part1A.Item5D.@Q5DJ3',\n",
       " 'FormInfo.Part1A.Item5D.@Q5DK1',\n",
       " 'FormInfo.Part1A.Item5D.@Q5DK2',\n",
       " 'FormInfo.Part1A.Item5D.@Q5DK3',\n",
       " 'FormInfo.Part1A.Item5D.@Q5DL1',\n",
       " 'FormInfo.Part1A.Item5D.@Q5DL2',\n",
       " 'FormInfo.Part1A.Item5D.@Q5DL3',\n",
       " 'FormInfo.Part1A.Item5D.@Q5DM1',\n",
       " 'FormInfo.Part1A.Item5D.@Q5DM2',\n",
       " 'FormInfo.Part1A.Item5D.@Q5DM3',\n",
       " 'FormInfo.Part1A.Item5D.@Q5DN1',\n",
       " 'FormInfo.Part1A.Item5D.@Q5DN2',\n",
       " 'FormInfo.Part1A.Item5D.@Q5DN3',\n",
       " 'FormInfo.Part1A.Item5D.@Q5DN3Oth',\n",
       " 'FormInfo.Part1A.Item5E.@Q5E1',\n",
       " 'FormInfo.Part1A.Item5E.@Q5E2',\n",
       " 'FormInfo.Part1A.Item5E.@Q5E3',\n",
       " 'FormInfo.Part1A.Item5E.@Q5E4',\n",
       " 'FormInfo.Part1A.Item5E.@Q5E5',\n",
       " 'FormInfo.Part1A.Item5E.@Q5E6',\n",
       " 'FormInfo.Part1A.Item5E.@Q5E7',\n",
       " 'FormInfo.Part1A.Item5E.@Q5E7Oth',\n",
       " 'FormInfo.Part1A.Item5F.@Q5F1',\n",
       " 'FormInfo.Part1A.Item5F.@Q5F2A',\n",
       " 'FormInfo.Part1A.Item5F.@Q5F2B',\n",
       " 'FormInfo.Part1A.Item5F.@Q5F2C',\n",
       " 'FormInfo.Part1A.Item5F.@Q5F2D',\n",
       " 'FormInfo.Part1A.Item5F.@Q5F2E',\n",
       " 'FormInfo.Part1A.Item5F.@Q5F2F',\n",
       " 'FormInfo.Part1A.Item5F.@Q5F3',\n",
       " 'FormInfo.Part1A.Item5G.@Q5G1',\n",
       " 'FormInfo.Part1A.Item5G.@Q5G10',\n",
       " 'FormInfo.Part1A.Item5G.@Q5G11',\n",
       " 'FormInfo.Part1A.Item5G.@Q5G12',\n",
       " 'FormInfo.Part1A.Item5G.@Q5G12Oth',\n",
       " 'FormInfo.Part1A.Item5G.@Q5G2',\n",
       " 'FormInfo.Part1A.Item5G.@Q5G3',\n",
       " 'FormInfo.Part1A.Item5G.@Q5G4',\n",
       " 'FormInfo.Part1A.Item5G.@Q5G5',\n",
       " 'FormInfo.Part1A.Item5G.@Q5G6',\n",
       " 'FormInfo.Part1A.Item5G.@Q5G7',\n",
       " 'FormInfo.Part1A.Item5G.@Q5G8',\n",
       " 'FormInfo.Part1A.Item5G.@Q5G9',\n",
       " 'FormInfo.Part1A.Item5H.@Q5H',\n",
       " 'FormInfo.Part1A.Item5H.@Q5HMT500',\n",
       " 'FormInfo.Part1A.Item5I.@Q5I1',\n",
       " 'FormInfo.Part1A.Item5I.@Q5I2A',\n",
       " 'FormInfo.Part1A.Item5I.@Q5I2B',\n",
       " 'FormInfo.Part1A.Item5I.@Q5I2C',\n",
       " 'FormInfo.Part1A.Item5J.@Q5J1',\n",
       " 'FormInfo.Part1A.Item5J.@Q5J2',\n",
       " 'FormInfo.Part1A.Item5K.@Q5K1',\n",
       " 'FormInfo.Part1A.Item5K.@Q5K2',\n",
       " 'FormInfo.Part1A.Item5K.@Q5K3',\n",
       " 'FormInfo.Part1A.Item5K.@Q5K4',\n",
       " 'FormInfo.Part1A.Item5L.@Q5L1A',\n",
       " 'FormInfo.Part1A.Item5L.@Q5L1B',\n",
       " 'FormInfo.Part1A.Item5L.@Q5L1C',\n",
       " 'FormInfo.Part1A.Item5L.@Q5L1D',\n",
       " 'FormInfo.Part1A.Item5L.@Q5L1E',\n",
       " 'FormInfo.Part1A.Item5L.@Q5L2',\n",
       " 'FormInfo.Part1A.Item5L.@Q5L3',\n",
       " 'FormInfo.Part1A.Item5L.@Q5L4',\n",
       " 'FormInfo.Part1A.Item6A.@Q6A1',\n",
       " 'FormInfo.Part1A.Item6A.@Q6A10',\n",
       " 'FormInfo.Part1A.Item6A.@Q6A11',\n",
       " 'FormInfo.Part1A.Item6A.@Q6A12',\n",
       " 'FormInfo.Part1A.Item6A.@Q6A13',\n",
       " 'FormInfo.Part1A.Item6A.@Q6A14',\n",
       " 'FormInfo.Part1A.Item6A.@Q6A14Oth',\n",
       " 'FormInfo.Part1A.Item6A.@Q6A2',\n",
       " 'FormInfo.Part1A.Item6A.@Q6A3',\n",
       " 'FormInfo.Part1A.Item6A.@Q6A4',\n",
       " 'FormInfo.Part1A.Item6A.@Q6A5',\n",
       " 'FormInfo.Part1A.Item6A.@Q6A6',\n",
       " 'FormInfo.Part1A.Item6A.@Q6A7',\n",
       " 'FormInfo.Part1A.Item6A.@Q6A8',\n",
       " 'FormInfo.Part1A.Item6A.@Q6A9',\n",
       " 'FormInfo.Part1A.Item6B.@Q6B1',\n",
       " 'FormInfo.Part1A.Item6B.@Q6B2',\n",
       " 'FormInfo.Part1A.Item6B.@Q6B3',\n",
       " 'FormInfo.Part1A.Item7A.@Q7A1',\n",
       " 'FormInfo.Part1A.Item7A.@Q7A10',\n",
       " 'FormInfo.Part1A.Item7A.@Q7A11',\n",
       " 'FormInfo.Part1A.Item7A.@Q7A12',\n",
       " 'FormInfo.Part1A.Item7A.@Q7A13',\n",
       " 'FormInfo.Part1A.Item7A.@Q7A14',\n",
       " 'FormInfo.Part1A.Item7A.@Q7A15',\n",
       " 'FormInfo.Part1A.Item7A.@Q7A16',\n",
       " 'FormInfo.Part1A.Item7A.@Q7A2',\n",
       " 'FormInfo.Part1A.Item7A.@Q7A3',\n",
       " 'FormInfo.Part1A.Item7A.@Q7A4',\n",
       " 'FormInfo.Part1A.Item7A.@Q7A5',\n",
       " 'FormInfo.Part1A.Item7A.@Q7A6',\n",
       " 'FormInfo.Part1A.Item7A.@Q7A7',\n",
       " 'FormInfo.Part1A.Item7A.@Q7A8',\n",
       " 'FormInfo.Part1A.Item7A.@Q7A9',\n",
       " 'FormInfo.Part1A.Item7B.@Q7B',\n",
       " 'FormInfo.Part1A.Item8A.@Q8A1',\n",
       " 'FormInfo.Part1A.Item8A.@Q8A2',\n",
       " 'FormInfo.Part1A.Item8A.@Q8A3',\n",
       " 'FormInfo.Part1A.Item8B.@Q8B1',\n",
       " 'FormInfo.Part1A.Item8B.@Q8B2',\n",
       " 'FormInfo.Part1A.Item8B.@Q8B3',\n",
       " 'FormInfo.Part1A.Item8C.@Q8C1',\n",
       " 'FormInfo.Part1A.Item8C.@Q8C2',\n",
       " 'FormInfo.Part1A.Item8C.@Q8C3',\n",
       " 'FormInfo.Part1A.Item8C.@Q8C4',\n",
       " 'FormInfo.Part1A.Item8D.@Q8D',\n",
       " 'FormInfo.Part1A.Item8E.@Q8E',\n",
       " 'FormInfo.Part1A.Item8F.@Q8F',\n",
       " 'FormInfo.Part1A.Item8G.@Q8G1',\n",
       " 'FormInfo.Part1A.Item8G.@Q8G2',\n",
       " 'FormInfo.Part1A.Item8H.@Q8H',\n",
       " 'FormInfo.Part1A.Item8H.@Q8H1',\n",
       " 'FormInfo.Part1A.Item8H.@Q8H2',\n",
       " 'FormInfo.Part1A.Item8I.@Q8I',\n",
       " 'FormInfo.Part1A.Item9A.@Q9A1A',\n",
       " 'FormInfo.Part1A.Item9A.@Q9A1B',\n",
       " 'FormInfo.Part1A.Item9A.@Q9A2A',\n",
       " 'FormInfo.Part1A.Item9A.@Q9A2B',\n",
       " 'FormInfo.Part1A.Item9B.@Q9B1A',\n",
       " 'FormInfo.Part1A.Item9B.@Q9B1B',\n",
       " 'FormInfo.Part1A.Item9B.@Q9B2A',\n",
       " 'FormInfo.Part1A.Item9B.@Q9B2B',\n",
       " 'FormInfo.Part1A.Item9C.@Q9C1',\n",
       " 'FormInfo.Part1A.Item9C.@Q9C2',\n",
       " 'FormInfo.Part1A.Item9C.@Q9C3',\n",
       " 'FormInfo.Part1A.Item9C.@Q9C4',\n",
       " 'FormInfo.Part1A.Item9D.@Q9D1',\n",
       " 'FormInfo.Part1A.Item9D.@Q9D2',\n",
       " 'FormInfo.Part1A.Item9E.@Q9E',\n",
       " 'FormInfo.Part1A.Item9F.@Q9F',\n",
       " 'FormInfo.Part1B.DsclrQstns.@Q1B2C',\n",
       " 'FormInfo.Part1B.DsclrQstns.@Q1B2D',\n",
       " 'FormInfo.Part1B.DsclrQstns.@Q1B2E1',\n",
       " 'FormInfo.Part1B.DsclrQstns.@Q1B2E2',\n",
       " 'FormInfo.Part1B.DsclrQstns.@Q1B2E3',\n",
       " 'FormInfo.Part1B.DsclrQstns.@Q1B2E4',\n",
       " 'FormInfo.Part1B.DsclrQstns.@Q1B2E5',\n",
       " 'FormInfo.Part1B.DsclrQstns.@Q1B2F1',\n",
       " 'FormInfo.Part1B.DsclrQstns.@Q1B2F2',\n",
       " 'FormInfo.Part1B.DsclrQstns.@Q1B2F3',\n",
       " 'FormInfo.Part1B.DsclrQstns.@Q1B2F4',\n",
       " 'FormInfo.Part1B.DsclrQstns.@Q1B2F5',\n",
       " 'FormInfo.Part1B.Item2.@Q1B2B1',\n",
       " 'FormInfo.Part1B.Item2.@Q1B2B2',\n",
       " 'FormInfo.Part1B.Item2.@Q1B2B4',\n",
       " 'FormInfo.Part1B.ItemG.@Q1B2G2',\n",
       " 'FormInfo.Part1B.ItemG.@Q1BG1IssueScrts',\n",
       " 'FormInfo.Part1B.ItemG.@Q1BG1PoolInvmt',\n",
       " 'FormInfo.Part1B.ItemG.@Q1BG1ReAdvsr',\n",
       " 'FormInfo.Part1B.ItemG.@Q1BG1TaxPrprr',\n",
       " 'FormInfo.Part1B.ItemG.@Q1BG1XcldPoolInvmt',\n",
       " 'FormInfo.Part1B.ItemH.@Q1B2HNScrtsNvsmt',\n",
       " 'FormInfo.Part1B.ItemH.@Q1B2HNScrtsNvsmtAm',\n",
       " 'FormInfo.Part1B.ItemH.@Q1B2HScrtsNvsmt',\n",
       " 'FormInfo.Part1B.ItemH.@Q1B2HScrtsNvsmtAm',\n",
       " 'FormInfo.Part1B.ItemI.@Q1B2I1',\n",
       " 'FormInfo.Part1B.ItemI.@Q1B2I1A',\n",
       " 'FormInfo.Part1B.ItemI.@Q1B2I1B',\n",
       " 'FormInfo.Part1B.ItemI.@Q1B2I1C',\n",
       " 'FormInfo.Part1B.ItemI.@Q1B2I2Ai',\n",
       " 'FormInfo.Part1B.ItemI.@Q1B2I2AiiAtrny',\n",
       " 'FormInfo.Part1B.ItemI.@Q1B2I2AiiCpa',\n",
       " 'FormInfo.Part1B.ItemI.@Q1B2I2AiiOth',\n",
       " 'FormInfo.Part1B.ItemI.@Q1B2I2AiiOthTx',\n",
       " 'FormInfo.Part1B.ItemI.@Q1B2I2B',\n",
       " 'FormInfo.Part1B.ItemI.@Q1B2I3',\n",
       " 'FormInfo.Part1B.ItemJ.@Q1BJ1A',\n",
       " 'FormInfo.Part1B.ItemJ.@Q1BJ1B',\n",
       " 'FormInfo.Part1B.ItemJ.@Q1BJ2A',\n",
       " 'FormInfo.Part1B.ItemJ.@Q1BJ2BCfa',\n",
       " 'FormInfo.Part1B.ItemJ.@Q1BJ2BCfp',\n",
       " 'FormInfo.Part1B.ItemJ.@Q1BJ2BChfc',\n",
       " 'FormInfo.Part1B.ItemJ.@Q1BJ2BCic',\n",
       " 'FormInfo.Part1B.ItemJ.@Q1BJ2BNone',\n",
       " 'FormInfo.Part1B.ItemJ.@Q1BJ2BPfs',\n",
       " 'FormInfo.Part1B.ItemK.@Q1B2K1',\n",
       " 'Info.@BusNm',\n",
       " 'Info.@FirmCrdNb',\n",
       " 'Info.@LegalNm',\n",
       " 'Info.@SECNb',\n",
       " 'Info.@UmbrRgstn',\n",
       " 'MailingAddr.@City',\n",
       " 'MailingAddr.@Cntry',\n",
       " 'MailingAddr.@PostlCd',\n",
       " 'MailingAddr.@State',\n",
       " 'MailingAddr.@Strt1',\n",
       " 'MailingAddr.@Strt2',\n",
       " 'MainAddr.@City',\n",
       " 'MainAddr.@Cntry',\n",
       " 'MainAddr.@FaxNb',\n",
       " 'MainAddr.@PhNb',\n",
       " 'MainAddr.@PostlCd',\n",
       " 'MainAddr.@State',\n",
       " 'MainAddr.@Strt1',\n",
       " 'MainAddr.@Strt2',\n",
       " 'StateRgstn.Rgltrs',\n",
       " 'StateRgstn.Rgltrs.Rgltr',\n",
       " 'StateRgstn.Rgltrs.Rgltr.@Cd',\n",
       " 'StateRgstn.Rgltrs.Rgltr.@Dt',\n",
       " 'StateRgstn.Rgltrs.Rgltr.@St']"
      ]
     },
     "execution_count": 143,
     "metadata": {},
     "output_type": "execute_result"
    }
   ],
   "source": [
    "sorted(df_state.columns.to_list())"
   ]
  },
  {
   "cell_type": "markdown",
   "id": "95463207-57f2-43c3-850d-605c9cba4685",
   "metadata": {},
   "source": [
    "Some Advisers are \"Exempt Reporting Advisers\", they are typically VCs \n",
    "https://learn.angellist.com/articles/exempt-reporting-advisor"
   ]
  },
  {
   "cell_type": "code",
   "execution_count": 146,
   "id": "a3454355-1afb-47cd-af0b-1e0f9ff587a8",
   "metadata": {
    "tags": []
   },
   "outputs": [],
   "source": [
    "df_state_exempt = df_state[(df_state['ERA.Rgltrs'].notnull() |\n",
    "                            df_state['ERA.Rgltrs.Rgltr'].notnull() |\n",
    "                            df_state['ERA.Rgltrs.Rgltr.@Cd'].notnull() |\n",
    "                            df_state['ERA.Rgltrs.Rgltr.@Dt'].notnull() |\n",
    "                            df_state['ERA.Rgltrs.Rgltr.@St'].notnull() )].copy()"
   ]
  },
  {
   "cell_type": "code",
   "execution_count": 147,
   "id": "1362f0e2-9a77-4264-9c01-21f8e3c48baa",
   "metadata": {
    "tags": []
   },
   "outputs": [],
   "source": [
    "df_state_reg =df_state[(df_state['ERA.Rgltrs'].isnull() &\n",
    "                        df_state['ERA.Rgltrs.Rgltr'].isnull() &\n",
    "                        df_state['ERA.Rgltrs.Rgltr.@Cd'].isnull() &\n",
    "                        df_state['ERA.Rgltrs.Rgltr.@Dt'].isnull() &\n",
    "                        df_state['ERA.Rgltrs.Rgltr.@St'].isnull() )].copy()"
   ]
  },
  {
   "cell_type": "code",
   "execution_count": 150,
   "id": "7965ac13-a189-48f2-9cc1-3bdf3b5da9e8",
   "metadata": {
    "tags": []
   },
   "outputs": [
    {
     "data": {
      "text/plain": [
       "True"
      ]
     },
     "execution_count": 150,
     "metadata": {},
     "output_type": "execute_result"
    }
   ],
   "source": [
    "df_state_reg.shape[0] + df_state_exempt.shape[0] == df_state.shape[0]"
   ]
  },
  {
   "cell_type": "code",
   "execution_count": null,
   "id": "81e0c236-2802-4c76-ae19-9354125286f5",
   "metadata": {},
   "outputs": [],
   "source": []
  },
  {
   "cell_type": "code",
   "execution_count": null,
   "id": "a6e10dfe-f946-45e4-92b8-4b94d20ec24f",
   "metadata": {},
   "outputs": [],
   "source": []
  },
  {
   "cell_type": "code",
   "execution_count": null,
   "id": "f40232ab-d440-4095-991a-68c59adbbe51",
   "metadata": {},
   "outputs": [],
   "source": []
  },
  {
   "cell_type": "code",
   "execution_count": null,
   "id": "a5c83318-9c0e-4b18-8456-bfac51090960",
   "metadata": {},
   "outputs": [],
   "source": []
  },
  {
   "cell_type": "code",
   "execution_count": null,
   "id": "a2b18ef6-ef61-4941-ba06-0ab63e41bef1",
   "metadata": {},
   "outputs": [],
   "source": []
  },
  {
   "cell_type": "code",
   "execution_count": null,
   "id": "33c6b1c0-8fb3-41ca-b299-c48ddc30c4c7",
   "metadata": {},
   "outputs": [],
   "source": []
  },
  {
   "cell_type": "code",
   "execution_count": null,
   "id": "4877d6cc-753e-4b45-b1b0-a3b61c6d795d",
   "metadata": {},
   "outputs": [],
   "source": []
  },
  {
   "cell_type": "markdown",
   "id": "edc9c36b-0ee1-4917-be3a-bbf5026bf7a1",
   "metadata": {},
   "source": [
    "# Get All Web Addresses"
   ]
  },
  {
   "cell_type": "code",
   "execution_count": 207,
   "id": "be37af59-ad3f-4525-95a3-41fb3b258c52",
   "metadata": {
    "tags": []
   },
   "outputs": [],
   "source": [
    "def get_all_urls(df, valid_only=True):\n",
    "    df_urls = df.loc[df['FormInfo.Part1A.Item1.WebAddrs.WebAddr'].notnull(),\n",
    "                    ['Info.@FirmCrdNb',\n",
    "                     'FormInfo.Part1A.Item1.WebAddrs.WebAddr']\n",
    "                    ]\n",
    "    df_urls.rename(columns={'FormInfo.Part1A.Item1.WebAddrs.WebAddr':'url'}, inplace=True)\n",
    "    df_urls['url'] = df_urls['url'].apply(lambda x: eval(x.lower()) if ('[' in x and ']' in x) else x.lower())\n",
    "    df_urls = df_urls.explode('url').reset_index(drop=True)\n",
    "    df_urls['url_valid'] = df_urls['url'].apply(validators.url)\n",
    "    if valid_only:\n",
    "        df_urls = df_urls.loc[df_urls['url_valid'] == True,:]\n",
    "    return df_urls"
   ]
  },
  {
   "cell_type": "code",
   "execution_count": 246,
   "id": "ddca5d99-1d19-4e8e-ae39-6e42cff7576d",
   "metadata": {
    "tags": []
   },
   "outputs": [],
   "source": [
    "df_sec_reg_urls = get_all_urls(df_sec_reg, valid_only=False)"
   ]
  },
  {
   "cell_type": "code",
   "execution_count": null,
   "id": "f9616cae-c226-4e80-a9c9-7675a26ad70a",
   "metadata": {},
   "outputs": [],
   "source": []
  }
 ],
 "metadata": {
  "kernelspec": {
   "display_name": "Python 3 (ipykernel)",
   "language": "python",
   "name": "python3"
  },
  "language_info": {
   "codemirror_mode": {
    "name": "ipython",
    "version": 3
   },
   "file_extension": ".py",
   "mimetype": "text/x-python",
   "name": "python",
   "nbconvert_exporter": "python",
   "pygments_lexer": "ipython3",
   "version": "3.11.0"
  }
 },
 "nbformat": 4,
 "nbformat_minor": 5
}
