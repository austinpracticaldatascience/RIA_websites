{
 "cells": [
  {
   "cell_type": "code",
   "execution_count": 1,
   "id": "00b45f8f-5ab6-46ad-b152-df40d30b30e5",
   "metadata": {
    "tags": []
   },
   "outputs": [],
   "source": [
    "import pandas as pd\n",
    "import numpy as np\n",
    "import matplotlib.pyplot as plt\n",
    "import seaborn as sns\n",
    "import glob"
   ]
  },
  {
   "cell_type": "code",
   "execution_count": 2,
   "id": "6c0fd2ed-9b5e-432b-a04b-c3aaa0e22892",
   "metadata": {
    "tags": []
   },
   "outputs": [],
   "source": [
    "# !pip install scikit-learn"
   ]
  },
  {
   "cell_type": "code",
   "execution_count": 3,
   "id": "6c9c05be-da91-410b-9cbc-9aec3f795ffa",
   "metadata": {
    "tags": []
   },
   "outputs": [],
   "source": [
    "import numpy as np\n",
    "from sklearn.feature_selection import VarianceThreshold\n",
    "from sklearn.linear_model import SGDClassifier\n",
    "from sklearn.preprocessing import StandardScaler\n",
    "from sklearn.pipeline import make_pipeline\n",
    "from scipy import stats"
   ]
  },
  {
   "cell_type": "code",
   "execution_count": 4,
   "id": "0fa33f44-00e2-424d-84ea-4537b9b562c1",
   "metadata": {
    "tags": []
   },
   "outputs": [],
   "source": [
    "# df_all = pd.read_csv(glob.glob('data/clean/ALL_*.csv')[0],\n",
    "#                      low_memory=False)"
   ]
  },
  {
   "cell_type": "code",
   "execution_count": 5,
   "id": "a974326d-044c-4fe5-9129-1e128dacf5d0",
   "metadata": {
    "tags": []
   },
   "outputs": [],
   "source": [
    "df_ria = pd.read_csv(glob.glob('data/clean/RIA_*.csv')[0],\n",
    "                     low_memory=False)"
   ]
  },
  {
   "cell_type": "code",
   "execution_count": 6,
   "id": "29e5e8d9-a158-40ba-a1df-a8c86f946dad",
   "metadata": {
    "tags": []
   },
   "outputs": [],
   "source": [
    "# df_ria.head()"
   ]
  },
  {
   "cell_type": "markdown",
   "id": "439b7095-38d6-43b1-b666-928ded1694a6",
   "metadata": {},
   "source": [
    "#### Check we have correctly removed all ERA?"
   ]
  },
  {
   "cell_type": "code",
   "execution_count": 7,
   "id": "01bd6e88-69ea-406b-9541-b7e650f798c6",
   "metadata": {
    "tags": []
   },
   "outputs": [
    {
     "data": {
      "text/plain": [
       "array([nan, 'Registered'], dtype=object)"
      ]
     },
     "execution_count": 7,
     "metadata": {},
     "output_type": "execute_result"
    }
   ],
   "source": [
    "df_ria['Rgstn.@FirmType'].unique()"
   ]
  },
  {
   "cell_type": "code",
   "execution_count": 8,
   "id": "928209a6-31be-44b1-8680-80825d7f714a",
   "metadata": {
    "tags": []
   },
   "outputs": [
    {
     "data": {
      "text/plain": [
       "False"
      ]
     },
     "execution_count": 8,
     "metadata": {},
     "output_type": "execute_result"
    }
   ],
   "source": [
    "df_ria.loc[:, 'ERA'].any()"
   ]
  },
  {
   "cell_type": "code",
   "execution_count": 9,
   "id": "3b7aa54c-8d86-4865-99c9-744d4f84992c",
   "metadata": {},
   "outputs": [],
   "source": [
    "df_ria = df_ria.loc[:, ~df_ria.columns.str.contains('ERA')]"
   ]
  },
  {
   "cell_type": "markdown",
   "id": "6bacc18e-1546-4b38-bd43-2404f74e9c52",
   "metadata": {},
   "source": [
    "#### TODO: decide if we should cut out SUSPENDED firms?"
   ]
  },
  {
   "cell_type": "code",
   "execution_count": 10,
   "id": "8f59c5cc-4fce-4963-822e-7fe2f6628873",
   "metadata": {
    "tags": []
   },
   "outputs": [
    {
     "data": {
      "text/plain": [
       "array(['APPROVED', nan, 'TERMREQUEST', 'CONDREST', 'LIMITED', 'SUSPENDED'],\n",
       "      dtype=object)"
      ]
     },
     "execution_count": 10,
     "metadata": {},
     "output_type": "execute_result"
    }
   ],
   "source": [
    "df_ria['StateRgstn.Rgltrs.Rgltr.@St'].unique()"
   ]
  },
  {
   "cell_type": "markdown",
   "id": "69a98883-530d-421f-aa21-4c21da3b6580",
   "metadata": {},
   "source": [
    "# Process Dataframe into something useable by Scikit-Learn \n",
    "#### structured numpy array\n",
    "#### categorical vars -> dummy /one-hot encoded vars\n",
    "#### ['Y', 'N'], ['True','False'], etc. -> [1,0] integer\n",
    "#### \"percentile\" answers -> (0, 1) continuous\n",
    "#### Remove Near-Zero Variance variables"
   ]
  },
  {
   "cell_type": "code",
   "execution_count": 11,
   "id": "bf2db735-3117-4f2a-9513-ae4610640bc7",
   "metadata": {
    "tags": []
   },
   "outputs": [],
   "source": [
    "to_dummy_var_cols= [\n",
    "    'registration',\n",
    "    'MainAddr.@State',\n",
    "    'FormInfo.Part1A.Item3C.@StateCD',\n",
    "    'StateRgstn.Rgltrs.Rgltr.@Cd',\n",
    "    'StateRgstn.Rgltrs.Rgltr.@St',\n",
    "    'FormInfo.Part1A.Item3A.@OrgFormNm',\n",
    "    'Rgstn.@FirmType',\n",
    "    'Rgstn.@St',\n",
    "    'FormInfo.Part1A.Item3C.@CntryNm',\n",
    "    'FormInfo.Part1B.ItemH.@Q1B2HScrtsNvsmt',\n",
    "    'FormInfo.Part1B.ItemH.@Q1B2HNScrtsNvsmt',\n",
    "    'FormInfo.Part1A.Item5H.@Q5H'\n",
    "]"
   ]
  },
  {
   "cell_type": "code",
   "execution_count": 12,
   "id": "4d1d7719-372e-4d81-b08c-75b70743ef75",
   "metadata": {
    "tags": []
   },
   "outputs": [],
   "source": [
    "df_ria_with_dum = pd.get_dummies(df_ria,\n",
    "                                 columns=to_dummy_var_cols)"
   ]
  },
  {
   "cell_type": "code",
   "execution_count": 13,
   "id": "2e2c65d9-2e03-49c7-b6ca-58e7bf0e3d01",
   "metadata": {
    "tags": []
   },
   "outputs": [],
   "source": [
    "zero_information_cols = [\n",
    "    'Info.@SECNb',\n",
    "    'Info.@FirmCrdNb',\n",
    "    'Info.@SECRgnCD',\n",
    "#    'NoticeFiled.States',\n",
    "    'NoticeFiled.States.@St',\n",
    "    'NoticeFiled.States.@RgltrCd',\n",
    "    'StateRgstn.Rgltrs',\n",
    "    'StateRgstn.Rgltrs.Rgltr',\n",
    "    'FormInfo.Part1A.Item1.@Q1P', #legal entity identifier\n",
    "    'Rgstn.@Dt',\n",
    "    'Info.@BusNm',\n",
    "    'Info.@LegalNm',\n",
    "    'Info.@UmbrRgstn',\n",
    "    'MainAddr.@Strt1',\n",
    "    'MainAddr.@Strt2',\n",
    "    'MainAddr.@City',\n",
    "    'MainAddr.@Cntry',\n",
    "    'MainAddr.@PostlCd',\n",
    "    'MainAddr.@PhNb',\n",
    "    'MainAddr.@FaxNb',\n",
    "    'MailingAddr.@Strt1',\n",
    "    'MailingAddr.@Strt2',\n",
    "    'MailingAddr.@City',\n",
    "    'MailingAddr.@State',\n",
    "    'MailingAddr.@Cntry',\n",
    "    'MailingAddr.@PostlCd',\n",
    "    'StateRgstn.Rgltrs.Rgltr.@Dt', 'Filing.@Dt', 'Filing.@FormVrsn',\n",
    "    'FormInfo.Part1A.Item1.WebAddrs',\n",
    "    'FormInfo.Part1A.Item1.WebAddrs.WebAddr',\n",
    "    'FormInfo.Part1A.Item9E.@Q9E',\n",
    "    'FormInfo.Part1A.Item3B.@Q3B',\n",
    "    'FormInfo.Part1B.Item2.@Q1B2B1',\n",
    "    'FormInfo.Part1B.ItemG.@Q1B2G2',\n",
    "    'urls', 'url_domains', 'url_schemes',\n",
    "    'url_social_media', 'url_aggregator', 'url_firm_specific',\n",
    "]"
   ]
  },
  {
   "cell_type": "code",
   "execution_count": 14,
   "id": "4fedd6cc-4f4a-4722-9a08-e12926e71d98",
   "metadata": {
    "tags": []
   },
   "outputs": [],
   "source": [
    "problem_columns = [\n",
    "    'FormInfo.Part1A.Item5C.@Q5C1',\n",
    "    'FormInfo.Part1B.ItemK.@Q1B2K1',\n",
    "    'NoticeFiled.States.@Dt',\n",
    "    'FormInfo.Part1A.Item1.@Q1ODESC',\n",
    "    'FormInfo.Part1A.Item1.@Q1ODesc'\n",
    "]"
   ]
  },
  {
   "cell_type": "code",
   "execution_count": 15,
   "id": "a5ac9655-ea67-4820-8ad7-a15b6b85adbc",
   "metadata": {
    "tags": []
   },
   "outputs": [],
   "source": [
    "recode_any_to_Y = [\n",
    " 'FormInfo.Part1A.Item5G.@Q5G12Oth',\n",
    " 'FormInfo.Part1A.Item6A.@Q6A14Oth',\n",
    " 'FormInfo.Part1A.Item5D.@Q5D1MOth',\n",
    " 'FormInfo.Part1A.Item3A.@OrgFormOthNm',\n",
    " 'FormInfo.Part1A.Item5E.@Q5E7Oth',\n",
    " 'FormInfo.Part1A.Item5D.@Q5D2MOth',\n",
    " 'FormInfo.Part1B.ItemI.@Q1B2I2AiiOthTx',\n",
    " 'FormInfo.Part1A.Item5D.@Q5DN3Oth'\n",
    "]"
   ]
  },
  {
   "cell_type": "code",
   "execution_count": 16,
   "id": "43c87d8f-cae4-4c8d-976a-abb9152f9dce",
   "metadata": {
    "tags": []
   },
   "outputs": [
    {
     "data": {
      "text/plain": [
       "['Filing.@Dt',\n",
       " 'Filing.@FormVrsn',\n",
       " 'FormInfo.Part1A.Item1.@Q1F5',\n",
       " 'FormInfo.Part1A.Item1.@Q1I',\n",
       " 'FormInfo.Part1A.Item1.@Q1M',\n",
       " 'FormInfo.Part1A.Item1.@Q1N',\n",
       " 'FormInfo.Part1A.Item1.@Q1O',\n",
       " 'FormInfo.Part1A.Item1.@Q1ODESC',\n",
       " 'FormInfo.Part1A.Item1.@Q1ODesc',\n",
       " 'FormInfo.Part1A.Item1.@Q1P',\n",
       " 'FormInfo.Part1A.Item1.WebAddrs',\n",
       " 'FormInfo.Part1A.Item1.WebAddrs.WebAddr',\n",
       " 'FormInfo.Part1A.Item10A.@Q10A',\n",
       " 'FormInfo.Part1A.Item11.@Q11',\n",
       " 'FormInfo.Part1A.Item11A.@Q11A1',\n",
       " 'FormInfo.Part1A.Item11A.@Q11A2',\n",
       " 'FormInfo.Part1A.Item11B.@Q11B1',\n",
       " 'FormInfo.Part1A.Item11B.@Q11B2',\n",
       " 'FormInfo.Part1A.Item11C.@Q11C1',\n",
       " 'FormInfo.Part1A.Item11C.@Q11C2',\n",
       " 'FormInfo.Part1A.Item11C.@Q11C3',\n",
       " 'FormInfo.Part1A.Item11C.@Q11C4',\n",
       " 'FormInfo.Part1A.Item11C.@Q11C5',\n",
       " 'FormInfo.Part1A.Item11D.@Q11D1',\n",
       " 'FormInfo.Part1A.Item11D.@Q11D2',\n",
       " 'FormInfo.Part1A.Item11D.@Q11D3',\n",
       " 'FormInfo.Part1A.Item11D.@Q11D4',\n",
       " 'FormInfo.Part1A.Item11D.@Q11D5',\n",
       " 'FormInfo.Part1A.Item11E.@Q11E1',\n",
       " 'FormInfo.Part1A.Item11E.@Q11E2',\n",
       " 'FormInfo.Part1A.Item11E.@Q11E3',\n",
       " 'FormInfo.Part1A.Item11E.@Q11E4',\n",
       " 'FormInfo.Part1A.Item11F.@Q11F',\n",
       " 'FormInfo.Part1A.Item11G.@Q11G',\n",
       " 'FormInfo.Part1A.Item11H.@Q11H1A',\n",
       " 'FormInfo.Part1A.Item11H.@Q11H1B',\n",
       " 'FormInfo.Part1A.Item11H.@Q11H1C',\n",
       " 'FormInfo.Part1A.Item11H.@Q11H2',\n",
       " 'FormInfo.Part1A.Item2A.@Q2A1',\n",
       " 'FormInfo.Part1A.Item2A.@Q2A10',\n",
       " 'FormInfo.Part1A.Item2A.@Q2A11',\n",
       " 'FormInfo.Part1A.Item2A.@Q2A12',\n",
       " 'FormInfo.Part1A.Item2A.@Q2A13',\n",
       " 'FormInfo.Part1A.Item2A.@Q2A2',\n",
       " 'FormInfo.Part1A.Item2A.@Q2A4',\n",
       " 'FormInfo.Part1A.Item2A.@Q2A5',\n",
       " 'FormInfo.Part1A.Item2A.@Q2A6',\n",
       " 'FormInfo.Part1A.Item2A.@Q2A7',\n",
       " 'FormInfo.Part1A.Item2A.@Q2A8',\n",
       " 'FormInfo.Part1A.Item2A.@Q2A9',\n",
       " 'FormInfo.Part1A.Item2B.@Q2B1',\n",
       " 'FormInfo.Part1A.Item2B.@Q2B2',\n",
       " 'FormInfo.Part1A.Item2B.@Q2B3',\n",
       " 'FormInfo.Part1A.Item3A.@OrgFormNm_Corporation',\n",
       " 'FormInfo.Part1A.Item3A.@OrgFormNm_Limited Liability Company',\n",
       " 'FormInfo.Part1A.Item3A.@OrgFormNm_Limited Liability Partnership',\n",
       " 'FormInfo.Part1A.Item3A.@OrgFormNm_Limited Partnership',\n",
       " 'FormInfo.Part1A.Item3A.@OrgFormNm_Other (specify)',\n",
       " 'FormInfo.Part1A.Item3A.@OrgFormNm_Partnership',\n",
       " 'FormInfo.Part1A.Item3A.@OrgFormNm_Sole Proprietorship',\n",
       " 'FormInfo.Part1A.Item3A.@OrgFormOthNm',\n",
       " 'FormInfo.Part1A.Item3B.@Q3B',\n",
       " 'FormInfo.Part1A.Item3C.@CntryNm_Australia',\n",
       " 'FormInfo.Part1A.Item3C.@CntryNm_Austria',\n",
       " 'FormInfo.Part1A.Item3C.@CntryNm_Bahamas, The',\n",
       " 'FormInfo.Part1A.Item3C.@CntryNm_Belgium',\n",
       " 'FormInfo.Part1A.Item3C.@CntryNm_Bermuda',\n",
       " 'FormInfo.Part1A.Item3C.@CntryNm_Brazil',\n",
       " 'FormInfo.Part1A.Item3C.@CntryNm_British Virgin Islands',\n",
       " 'FormInfo.Part1A.Item3C.@CntryNm_Canada',\n",
       " 'FormInfo.Part1A.Item3C.@CntryNm_Cayman Islands',\n",
       " 'FormInfo.Part1A.Item3C.@CntryNm_Chile',\n",
       " 'FormInfo.Part1A.Item3C.@CntryNm_China',\n",
       " 'FormInfo.Part1A.Item3C.@CntryNm_Colombia',\n",
       " 'FormInfo.Part1A.Item3C.@CntryNm_Cyprus',\n",
       " 'FormInfo.Part1A.Item3C.@CntryNm_Denmark',\n",
       " 'FormInfo.Part1A.Item3C.@CntryNm_Dominican Republic',\n",
       " 'FormInfo.Part1A.Item3C.@CntryNm_Estonia',\n",
       " 'FormInfo.Part1A.Item3C.@CntryNm_France',\n",
       " 'FormInfo.Part1A.Item3C.@CntryNm_Germany',\n",
       " 'FormInfo.Part1A.Item3C.@CntryNm_Gibraltar',\n",
       " 'FormInfo.Part1A.Item3C.@CntryNm_Grenada',\n",
       " 'FormInfo.Part1A.Item3C.@CntryNm_Guam',\n",
       " 'FormInfo.Part1A.Item3C.@CntryNm_Guernsey',\n",
       " 'FormInfo.Part1A.Item3C.@CntryNm_Hong Kong',\n",
       " 'FormInfo.Part1A.Item3C.@CntryNm_India',\n",
       " 'FormInfo.Part1A.Item3C.@CntryNm_Ireland',\n",
       " 'FormInfo.Part1A.Item3C.@CntryNm_Isle of Man',\n",
       " 'FormInfo.Part1A.Item3C.@CntryNm_Israel',\n",
       " 'FormInfo.Part1A.Item3C.@CntryNm_Italy',\n",
       " 'FormInfo.Part1A.Item3C.@CntryNm_Japan',\n",
       " 'FormInfo.Part1A.Item3C.@CntryNm_Jersey',\n",
       " 'FormInfo.Part1A.Item3C.@CntryNm_Korea, South',\n",
       " 'FormInfo.Part1A.Item3C.@CntryNm_Liechtenstein',\n",
       " 'FormInfo.Part1A.Item3C.@CntryNm_Luxembourg',\n",
       " 'FormInfo.Part1A.Item3C.@CntryNm_Malta',\n",
       " 'FormInfo.Part1A.Item3C.@CntryNm_Mauritius',\n",
       " 'FormInfo.Part1A.Item3C.@CntryNm_Mexico',\n",
       " 'FormInfo.Part1A.Item3C.@CntryNm_Netherlands',\n",
       " 'FormInfo.Part1A.Item3C.@CntryNm_New Zealand',\n",
       " 'FormInfo.Part1A.Item3C.@CntryNm_Norway',\n",
       " 'FormInfo.Part1A.Item3C.@CntryNm_Other',\n",
       " 'FormInfo.Part1A.Item3C.@CntryNm_Panama',\n",
       " 'FormInfo.Part1A.Item3C.@CntryNm_Romania',\n",
       " 'FormInfo.Part1A.Item3C.@CntryNm_Saint Kitts and Nevis',\n",
       " 'FormInfo.Part1A.Item3C.@CntryNm_Seychelles',\n",
       " 'FormInfo.Part1A.Item3C.@CntryNm_Singapore',\n",
       " 'FormInfo.Part1A.Item3C.@CntryNm_South Africa',\n",
       " 'FormInfo.Part1A.Item3C.@CntryNm_Spain',\n",
       " 'FormInfo.Part1A.Item3C.@CntryNm_Sweden',\n",
       " 'FormInfo.Part1A.Item3C.@CntryNm_Switzerland',\n",
       " 'FormInfo.Part1A.Item3C.@CntryNm_Thailand',\n",
       " 'FormInfo.Part1A.Item3C.@CntryNm_United Arab Emirates',\n",
       " 'FormInfo.Part1A.Item3C.@CntryNm_United Kingdom',\n",
       " 'FormInfo.Part1A.Item3C.@CntryNm_United States',\n",
       " 'FormInfo.Part1A.Item3C.@CntryNm_United States Minor Outlying Islands (The)',\n",
       " 'FormInfo.Part1A.Item3C.@CntryNm_Venezuela',\n",
       " 'FormInfo.Part1A.Item3C.@StateCD_AK',\n",
       " 'FormInfo.Part1A.Item3C.@StateCD_AL',\n",
       " 'FormInfo.Part1A.Item3C.@StateCD_AR',\n",
       " 'FormInfo.Part1A.Item3C.@StateCD_AZ',\n",
       " 'FormInfo.Part1A.Item3C.@StateCD_CA',\n",
       " 'FormInfo.Part1A.Item3C.@StateCD_CO',\n",
       " 'FormInfo.Part1A.Item3C.@StateCD_CT',\n",
       " 'FormInfo.Part1A.Item3C.@StateCD_DC',\n",
       " 'FormInfo.Part1A.Item3C.@StateCD_DE',\n",
       " 'FormInfo.Part1A.Item3C.@StateCD_FL',\n",
       " 'FormInfo.Part1A.Item3C.@StateCD_GA',\n",
       " 'FormInfo.Part1A.Item3C.@StateCD_GU',\n",
       " 'FormInfo.Part1A.Item3C.@StateCD_HI',\n",
       " 'FormInfo.Part1A.Item3C.@StateCD_IA',\n",
       " 'FormInfo.Part1A.Item3C.@StateCD_ID',\n",
       " 'FormInfo.Part1A.Item3C.@StateCD_IL',\n",
       " 'FormInfo.Part1A.Item3C.@StateCD_IN',\n",
       " 'FormInfo.Part1A.Item3C.@StateCD_KS',\n",
       " 'FormInfo.Part1A.Item3C.@StateCD_KY',\n",
       " 'FormInfo.Part1A.Item3C.@StateCD_LA',\n",
       " 'FormInfo.Part1A.Item3C.@StateCD_MA',\n",
       " 'FormInfo.Part1A.Item3C.@StateCD_MD',\n",
       " 'FormInfo.Part1A.Item3C.@StateCD_ME',\n",
       " 'FormInfo.Part1A.Item3C.@StateCD_MI',\n",
       " 'FormInfo.Part1A.Item3C.@StateCD_MN',\n",
       " 'FormInfo.Part1A.Item3C.@StateCD_MO',\n",
       " 'FormInfo.Part1A.Item3C.@StateCD_MS',\n",
       " 'FormInfo.Part1A.Item3C.@StateCD_MT',\n",
       " 'FormInfo.Part1A.Item3C.@StateCD_NC',\n",
       " 'FormInfo.Part1A.Item3C.@StateCD_ND',\n",
       " 'FormInfo.Part1A.Item3C.@StateCD_NE',\n",
       " 'FormInfo.Part1A.Item3C.@StateCD_NH',\n",
       " 'FormInfo.Part1A.Item3C.@StateCD_NJ',\n",
       " 'FormInfo.Part1A.Item3C.@StateCD_NM',\n",
       " 'FormInfo.Part1A.Item3C.@StateCD_NV',\n",
       " 'FormInfo.Part1A.Item3C.@StateCD_NY',\n",
       " 'FormInfo.Part1A.Item3C.@StateCD_OH',\n",
       " 'FormInfo.Part1A.Item3C.@StateCD_OK',\n",
       " 'FormInfo.Part1A.Item3C.@StateCD_OR',\n",
       " 'FormInfo.Part1A.Item3C.@StateCD_PA',\n",
       " 'FormInfo.Part1A.Item3C.@StateCD_PR',\n",
       " 'FormInfo.Part1A.Item3C.@StateCD_RI',\n",
       " 'FormInfo.Part1A.Item3C.@StateCD_SC',\n",
       " 'FormInfo.Part1A.Item3C.@StateCD_SD',\n",
       " 'FormInfo.Part1A.Item3C.@StateCD_TN',\n",
       " 'FormInfo.Part1A.Item3C.@StateCD_TX',\n",
       " 'FormInfo.Part1A.Item3C.@StateCD_UT',\n",
       " 'FormInfo.Part1A.Item3C.@StateCD_VA',\n",
       " 'FormInfo.Part1A.Item3C.@StateCD_VI',\n",
       " 'FormInfo.Part1A.Item3C.@StateCD_VT',\n",
       " 'FormInfo.Part1A.Item3C.@StateCD_WA',\n",
       " 'FormInfo.Part1A.Item3C.@StateCD_WI',\n",
       " 'FormInfo.Part1A.Item3C.@StateCD_WV',\n",
       " 'FormInfo.Part1A.Item3C.@StateCD_WY',\n",
       " 'FormInfo.Part1A.Item5A.@TtlEmp',\n",
       " 'FormInfo.Part1A.Item5B.@Q5B1',\n",
       " 'FormInfo.Part1A.Item5B.@Q5B2',\n",
       " 'FormInfo.Part1A.Item5B.@Q5B3',\n",
       " 'FormInfo.Part1A.Item5B.@Q5B4',\n",
       " 'FormInfo.Part1A.Item5B.@Q5B5',\n",
       " 'FormInfo.Part1A.Item5B.@Q5B6',\n",
       " 'FormInfo.Part1A.Item5C.@Q5C1',\n",
       " 'FormInfo.Part1A.Item5C.@Q5C1Oth',\n",
       " 'FormInfo.Part1A.Item5C.@Q5C2',\n",
       " 'FormInfo.Part1A.Item5D.@Q5D1A',\n",
       " 'FormInfo.Part1A.Item5D.@Q5D1B',\n",
       " 'FormInfo.Part1A.Item5D.@Q5D1C',\n",
       " 'FormInfo.Part1A.Item5D.@Q5D1D',\n",
       " 'FormInfo.Part1A.Item5D.@Q5D1E',\n",
       " 'FormInfo.Part1A.Item5D.@Q5D1F',\n",
       " 'FormInfo.Part1A.Item5D.@Q5D1G',\n",
       " 'FormInfo.Part1A.Item5D.@Q5D1H',\n",
       " 'FormInfo.Part1A.Item5D.@Q5D1I',\n",
       " 'FormInfo.Part1A.Item5D.@Q5D1J',\n",
       " 'FormInfo.Part1A.Item5D.@Q5D1K',\n",
       " 'FormInfo.Part1A.Item5D.@Q5D1L',\n",
       " 'FormInfo.Part1A.Item5D.@Q5D1M',\n",
       " 'FormInfo.Part1A.Item5D.@Q5D1MOth',\n",
       " 'FormInfo.Part1A.Item5D.@Q5D2A',\n",
       " 'FormInfo.Part1A.Item5D.@Q5D2B',\n",
       " 'FormInfo.Part1A.Item5D.@Q5D2C',\n",
       " 'FormInfo.Part1A.Item5D.@Q5D2D',\n",
       " 'FormInfo.Part1A.Item5D.@Q5D2E',\n",
       " 'FormInfo.Part1A.Item5D.@Q5D2F',\n",
       " 'FormInfo.Part1A.Item5D.@Q5D2G',\n",
       " 'FormInfo.Part1A.Item5D.@Q5D2H',\n",
       " 'FormInfo.Part1A.Item5D.@Q5D2I',\n",
       " 'FormInfo.Part1A.Item5D.@Q5D2J',\n",
       " 'FormInfo.Part1A.Item5D.@Q5D2K',\n",
       " 'FormInfo.Part1A.Item5D.@Q5D2L',\n",
       " 'FormInfo.Part1A.Item5D.@Q5D2M',\n",
       " 'FormInfo.Part1A.Item5D.@Q5D2MOth',\n",
       " 'FormInfo.Part1A.Item5D.@Q5DA1',\n",
       " 'FormInfo.Part1A.Item5D.@Q5DA2',\n",
       " 'FormInfo.Part1A.Item5D.@Q5DA3',\n",
       " 'FormInfo.Part1A.Item5D.@Q5DB1',\n",
       " 'FormInfo.Part1A.Item5D.@Q5DB2',\n",
       " 'FormInfo.Part1A.Item5D.@Q5DB3',\n",
       " 'FormInfo.Part1A.Item5D.@Q5DC1',\n",
       " 'FormInfo.Part1A.Item5D.@Q5DC2',\n",
       " 'FormInfo.Part1A.Item5D.@Q5DC3',\n",
       " 'FormInfo.Part1A.Item5D.@Q5DD1',\n",
       " 'FormInfo.Part1A.Item5D.@Q5DD3',\n",
       " 'FormInfo.Part1A.Item5D.@Q5DE1',\n",
       " 'FormInfo.Part1A.Item5D.@Q5DE3',\n",
       " 'FormInfo.Part1A.Item5D.@Q5DF1',\n",
       " 'FormInfo.Part1A.Item5D.@Q5DF3',\n",
       " 'FormInfo.Part1A.Item5D.@Q5DG1',\n",
       " 'FormInfo.Part1A.Item5D.@Q5DG2',\n",
       " 'FormInfo.Part1A.Item5D.@Q5DG3',\n",
       " 'FormInfo.Part1A.Item5D.@Q5DH1',\n",
       " 'FormInfo.Part1A.Item5D.@Q5DH2',\n",
       " 'FormInfo.Part1A.Item5D.@Q5DH3',\n",
       " 'FormInfo.Part1A.Item5D.@Q5DI1',\n",
       " 'FormInfo.Part1A.Item5D.@Q5DI2',\n",
       " 'FormInfo.Part1A.Item5D.@Q5DI3',\n",
       " 'FormInfo.Part1A.Item5D.@Q5DJ1',\n",
       " 'FormInfo.Part1A.Item5D.@Q5DJ2',\n",
       " 'FormInfo.Part1A.Item5D.@Q5DJ3',\n",
       " 'FormInfo.Part1A.Item5D.@Q5DK1',\n",
       " 'FormInfo.Part1A.Item5D.@Q5DK2',\n",
       " 'FormInfo.Part1A.Item5D.@Q5DK3',\n",
       " 'FormInfo.Part1A.Item5D.@Q5DL1',\n",
       " 'FormInfo.Part1A.Item5D.@Q5DL2',\n",
       " 'FormInfo.Part1A.Item5D.@Q5DL3',\n",
       " 'FormInfo.Part1A.Item5D.@Q5DM1',\n",
       " 'FormInfo.Part1A.Item5D.@Q5DM2',\n",
       " 'FormInfo.Part1A.Item5D.@Q5DM3',\n",
       " 'FormInfo.Part1A.Item5D.@Q5DN1',\n",
       " 'FormInfo.Part1A.Item5D.@Q5DN2',\n",
       " 'FormInfo.Part1A.Item5D.@Q5DN3',\n",
       " 'FormInfo.Part1A.Item5D.@Q5DN3Oth',\n",
       " 'FormInfo.Part1A.Item5E.@Q5E1',\n",
       " 'FormInfo.Part1A.Item5E.@Q5E2',\n",
       " 'FormInfo.Part1A.Item5E.@Q5E3',\n",
       " 'FormInfo.Part1A.Item5E.@Q5E4',\n",
       " 'FormInfo.Part1A.Item5E.@Q5E5',\n",
       " 'FormInfo.Part1A.Item5E.@Q5E6',\n",
       " 'FormInfo.Part1A.Item5E.@Q5E7',\n",
       " 'FormInfo.Part1A.Item5E.@Q5E7Oth',\n",
       " 'FormInfo.Part1A.Item5F.@Q5F1',\n",
       " 'FormInfo.Part1A.Item5F.@Q5F2A',\n",
       " 'FormInfo.Part1A.Item5F.@Q5F2B',\n",
       " 'FormInfo.Part1A.Item5F.@Q5F2C',\n",
       " 'FormInfo.Part1A.Item5F.@Q5F2D',\n",
       " 'FormInfo.Part1A.Item5F.@Q5F2E',\n",
       " 'FormInfo.Part1A.Item5F.@Q5F2F',\n",
       " 'FormInfo.Part1A.Item5F.@Q5F3',\n",
       " 'FormInfo.Part1A.Item5G.@Q5G1',\n",
       " 'FormInfo.Part1A.Item5G.@Q5G10',\n",
       " 'FormInfo.Part1A.Item5G.@Q5G11',\n",
       " 'FormInfo.Part1A.Item5G.@Q5G12',\n",
       " 'FormInfo.Part1A.Item5G.@Q5G12Oth',\n",
       " 'FormInfo.Part1A.Item5G.@Q5G2',\n",
       " 'FormInfo.Part1A.Item5G.@Q5G3',\n",
       " 'FormInfo.Part1A.Item5G.@Q5G4',\n",
       " 'FormInfo.Part1A.Item5G.@Q5G5',\n",
       " 'FormInfo.Part1A.Item5G.@Q5G6',\n",
       " 'FormInfo.Part1A.Item5G.@Q5G7',\n",
       " 'FormInfo.Part1A.Item5G.@Q5G8',\n",
       " 'FormInfo.Part1A.Item5G.@Q5G9',\n",
       " 'FormInfo.Part1A.Item5H.@Q5HMT500',\n",
       " 'FormInfo.Part1A.Item5H.@Q5H_0',\n",
       " 'FormInfo.Part1A.Item5H.@Q5H_1-10',\n",
       " 'FormInfo.Part1A.Item5H.@Q5H_101-250',\n",
       " 'FormInfo.Part1A.Item5H.@Q5H_11-25',\n",
       " 'FormInfo.Part1A.Item5H.@Q5H_251-500',\n",
       " 'FormInfo.Part1A.Item5H.@Q5H_26-50',\n",
       " 'FormInfo.Part1A.Item5H.@Q5H_51-100',\n",
       " 'FormInfo.Part1A.Item5H.@Q5H_More than 500',\n",
       " 'FormInfo.Part1A.Item5I.@Q5I1',\n",
       " 'FormInfo.Part1A.Item5I.@Q5I2A',\n",
       " 'FormInfo.Part1A.Item5I.@Q5I2B',\n",
       " 'FormInfo.Part1A.Item5I.@Q5I2C',\n",
       " 'FormInfo.Part1A.Item5J.@Q5J1',\n",
       " 'FormInfo.Part1A.Item5J.@Q5J2',\n",
       " 'FormInfo.Part1A.Item5K.@Q5K1',\n",
       " 'FormInfo.Part1A.Item5K.@Q5K2',\n",
       " 'FormInfo.Part1A.Item5K.@Q5K3',\n",
       " 'FormInfo.Part1A.Item5K.@Q5K4',\n",
       " 'FormInfo.Part1A.Item5L.@Q5L1A',\n",
       " 'FormInfo.Part1A.Item5L.@Q5L1B',\n",
       " 'FormInfo.Part1A.Item5L.@Q5L1C',\n",
       " 'FormInfo.Part1A.Item5L.@Q5L1D',\n",
       " 'FormInfo.Part1A.Item5L.@Q5L1E',\n",
       " 'FormInfo.Part1A.Item5L.@Q5L2',\n",
       " 'FormInfo.Part1A.Item5L.@Q5L3',\n",
       " 'FormInfo.Part1A.Item5L.@Q5L4',\n",
       " 'FormInfo.Part1A.Item6A.@Q6A1',\n",
       " 'FormInfo.Part1A.Item6A.@Q6A10',\n",
       " 'FormInfo.Part1A.Item6A.@Q6A11',\n",
       " 'FormInfo.Part1A.Item6A.@Q6A12',\n",
       " 'FormInfo.Part1A.Item6A.@Q6A13',\n",
       " 'FormInfo.Part1A.Item6A.@Q6A14',\n",
       " 'FormInfo.Part1A.Item6A.@Q6A14Oth',\n",
       " 'FormInfo.Part1A.Item6A.@Q6A2',\n",
       " 'FormInfo.Part1A.Item6A.@Q6A3',\n",
       " 'FormInfo.Part1A.Item6A.@Q6A4',\n",
       " 'FormInfo.Part1A.Item6A.@Q6A5',\n",
       " 'FormInfo.Part1A.Item6A.@Q6A6',\n",
       " 'FormInfo.Part1A.Item6A.@Q6A7',\n",
       " 'FormInfo.Part1A.Item6A.@Q6A8',\n",
       " 'FormInfo.Part1A.Item6A.@Q6A9',\n",
       " 'FormInfo.Part1A.Item6B.@Q6B1',\n",
       " 'FormInfo.Part1A.Item6B.@Q6B2',\n",
       " 'FormInfo.Part1A.Item6B.@Q6B3',\n",
       " 'FormInfo.Part1A.Item7A.@Q7A1',\n",
       " 'FormInfo.Part1A.Item7A.@Q7A10',\n",
       " 'FormInfo.Part1A.Item7A.@Q7A11',\n",
       " 'FormInfo.Part1A.Item7A.@Q7A12',\n",
       " 'FormInfo.Part1A.Item7A.@Q7A13',\n",
       " 'FormInfo.Part1A.Item7A.@Q7A14',\n",
       " 'FormInfo.Part1A.Item7A.@Q7A15',\n",
       " 'FormInfo.Part1A.Item7A.@Q7A16',\n",
       " 'FormInfo.Part1A.Item7A.@Q7A2',\n",
       " 'FormInfo.Part1A.Item7A.@Q7A3',\n",
       " 'FormInfo.Part1A.Item7A.@Q7A4',\n",
       " 'FormInfo.Part1A.Item7A.@Q7A5',\n",
       " 'FormInfo.Part1A.Item7A.@Q7A6',\n",
       " 'FormInfo.Part1A.Item7A.@Q7A7',\n",
       " 'FormInfo.Part1A.Item7A.@Q7A8',\n",
       " 'FormInfo.Part1A.Item7A.@Q7A9',\n",
       " 'FormInfo.Part1A.Item7B.@Q7B',\n",
       " 'FormInfo.Part1A.Item8A.@Q8A1',\n",
       " 'FormInfo.Part1A.Item8A.@Q8A2',\n",
       " 'FormInfo.Part1A.Item8A.@Q8A3',\n",
       " 'FormInfo.Part1A.Item8B.@Q8B1',\n",
       " 'FormInfo.Part1A.Item8B.@Q8B2',\n",
       " 'FormInfo.Part1A.Item8B.@Q8B3',\n",
       " 'FormInfo.Part1A.Item8C.@Q8C1',\n",
       " 'FormInfo.Part1A.Item8C.@Q8C2',\n",
       " 'FormInfo.Part1A.Item8C.@Q8C3',\n",
       " 'FormInfo.Part1A.Item8C.@Q8C4',\n",
       " 'FormInfo.Part1A.Item8D.@Q8D',\n",
       " 'FormInfo.Part1A.Item8E.@Q8E',\n",
       " 'FormInfo.Part1A.Item8F.@Q8F',\n",
       " 'FormInfo.Part1A.Item8G.@Q8G1',\n",
       " 'FormInfo.Part1A.Item8G.@Q8G2',\n",
       " 'FormInfo.Part1A.Item8H.@Q8H',\n",
       " 'FormInfo.Part1A.Item8H.@Q8H1',\n",
       " 'FormInfo.Part1A.Item8H.@Q8H2',\n",
       " 'FormInfo.Part1A.Item8I.@Q8I',\n",
       " 'FormInfo.Part1A.Item9A.@Q9A1A',\n",
       " 'FormInfo.Part1A.Item9A.@Q9A1B',\n",
       " 'FormInfo.Part1A.Item9A.@Q9A2A',\n",
       " 'FormInfo.Part1A.Item9A.@Q9A2B',\n",
       " 'FormInfo.Part1A.Item9B.@Q9B1A',\n",
       " 'FormInfo.Part1A.Item9B.@Q9B1B',\n",
       " 'FormInfo.Part1A.Item9B.@Q9B2A',\n",
       " 'FormInfo.Part1A.Item9B.@Q9B2B',\n",
       " 'FormInfo.Part1A.Item9C.@Q9C1',\n",
       " 'FormInfo.Part1A.Item9C.@Q9C2',\n",
       " 'FormInfo.Part1A.Item9C.@Q9C3',\n",
       " 'FormInfo.Part1A.Item9C.@Q9C4',\n",
       " 'FormInfo.Part1A.Item9D.@Q9D1',\n",
       " 'FormInfo.Part1A.Item9D.@Q9D2',\n",
       " 'FormInfo.Part1A.Item9E.@Q9E',\n",
       " 'FormInfo.Part1A.Item9F.@Q9F',\n",
       " 'FormInfo.Part1B.DsclrQstns.@Q1B2C',\n",
       " 'FormInfo.Part1B.DsclrQstns.@Q1B2D',\n",
       " 'FormInfo.Part1B.DsclrQstns.@Q1B2E1',\n",
       " 'FormInfo.Part1B.DsclrQstns.@Q1B2E2',\n",
       " 'FormInfo.Part1B.DsclrQstns.@Q1B2E3',\n",
       " 'FormInfo.Part1B.DsclrQstns.@Q1B2E4',\n",
       " 'FormInfo.Part1B.DsclrQstns.@Q1B2E5',\n",
       " 'FormInfo.Part1B.DsclrQstns.@Q1B2F1',\n",
       " 'FormInfo.Part1B.DsclrQstns.@Q1B2F2',\n",
       " 'FormInfo.Part1B.DsclrQstns.@Q1B2F3',\n",
       " 'FormInfo.Part1B.DsclrQstns.@Q1B2F4',\n",
       " 'FormInfo.Part1B.DsclrQstns.@Q1B2F5',\n",
       " 'FormInfo.Part1B.Item2.@Q1B2B1',\n",
       " 'FormInfo.Part1B.Item2.@Q1B2B2',\n",
       " 'FormInfo.Part1B.Item2.@Q1B2B4',\n",
       " 'FormInfo.Part1B.ItemG.@Q1B2G2',\n",
       " 'FormInfo.Part1B.ItemG.@Q1BG1IssueScrts',\n",
       " 'FormInfo.Part1B.ItemG.@Q1BG1PoolInvmt',\n",
       " 'FormInfo.Part1B.ItemG.@Q1BG1ReAdvsr',\n",
       " 'FormInfo.Part1B.ItemG.@Q1BG1TaxPrprr',\n",
       " 'FormInfo.Part1B.ItemG.@Q1BG1XcldPoolInvmt',\n",
       " 'FormInfo.Part1B.ItemH.@Q1B2HNScrtsNvsmtAm',\n",
       " 'FormInfo.Part1B.ItemH.@Q1B2HNScrtsNvsmt_$1,000,001 to $2,500,000',\n",
       " 'FormInfo.Part1B.ItemH.@Q1B2HNScrtsNvsmt_$100,001 to $500,000',\n",
       " 'FormInfo.Part1B.ItemH.@Q1B2HNScrtsNvsmt_$2,500,001 to $5,000,000',\n",
       " 'FormInfo.Part1B.ItemH.@Q1B2HNScrtsNvsmt_$500,001 to $1,000,000',\n",
       " 'FormInfo.Part1B.ItemH.@Q1B2HNScrtsNvsmt_Over $5,000,000',\n",
       " 'FormInfo.Part1B.ItemH.@Q1B2HNScrtsNvsmt_Under $100,000',\n",
       " 'FormInfo.Part1B.ItemH.@Q1B2HScrtsNvsmtAm',\n",
       " 'FormInfo.Part1B.ItemH.@Q1B2HScrtsNvsmt_$1,000,001 to $2,500,000',\n",
       " 'FormInfo.Part1B.ItemH.@Q1B2HScrtsNvsmt_$100,001 to $500,000',\n",
       " 'FormInfo.Part1B.ItemH.@Q1B2HScrtsNvsmt_$2,500,001 to $5,000,000',\n",
       " 'FormInfo.Part1B.ItemH.@Q1B2HScrtsNvsmt_$500,001 to $1,000,000',\n",
       " 'FormInfo.Part1B.ItemH.@Q1B2HScrtsNvsmt_Over $5,000,000',\n",
       " 'FormInfo.Part1B.ItemH.@Q1B2HScrtsNvsmt_Under $100,000',\n",
       " 'FormInfo.Part1B.ItemI.@Q1B2I1',\n",
       " 'FormInfo.Part1B.ItemI.@Q1B2I1A',\n",
       " 'FormInfo.Part1B.ItemI.@Q1B2I1B',\n",
       " 'FormInfo.Part1B.ItemI.@Q1B2I1C',\n",
       " 'FormInfo.Part1B.ItemI.@Q1B2I2Ai',\n",
       " 'FormInfo.Part1B.ItemI.@Q1B2I2AiiAtrny',\n",
       " 'FormInfo.Part1B.ItemI.@Q1B2I2AiiCpa',\n",
       " 'FormInfo.Part1B.ItemI.@Q1B2I2AiiOth',\n",
       " 'FormInfo.Part1B.ItemI.@Q1B2I2AiiOthTx',\n",
       " 'FormInfo.Part1B.ItemI.@Q1B2I2B',\n",
       " 'FormInfo.Part1B.ItemI.@Q1B2I3',\n",
       " 'FormInfo.Part1B.ItemJ.@Q1BJ1A',\n",
       " 'FormInfo.Part1B.ItemJ.@Q1BJ1B',\n",
       " 'FormInfo.Part1B.ItemJ.@Q1BJ2A',\n",
       " 'FormInfo.Part1B.ItemJ.@Q1BJ2BCfa',\n",
       " 'FormInfo.Part1B.ItemJ.@Q1BJ2BCfp',\n",
       " 'FormInfo.Part1B.ItemJ.@Q1BJ2BChfc',\n",
       " 'FormInfo.Part1B.ItemJ.@Q1BJ2BCic',\n",
       " 'FormInfo.Part1B.ItemJ.@Q1BJ2BNone',\n",
       " 'FormInfo.Part1B.ItemJ.@Q1BJ2BPfs',\n",
       " 'FormInfo.Part1B.ItemK.@Q1B2K1',\n",
       " 'Info.@BusNm',\n",
       " 'Info.@FirmCrdNb',\n",
       " 'Info.@LegalNm',\n",
       " 'Info.@SECNb',\n",
       " 'Info.@SECRgnCD',\n",
       " 'Info.@UmbrRgstn',\n",
       " 'MailingAddr.@City',\n",
       " 'MailingAddr.@Cntry',\n",
       " 'MailingAddr.@PostlCd',\n",
       " 'MailingAddr.@State',\n",
       " 'MailingAddr.@Strt1',\n",
       " 'MailingAddr.@Strt2',\n",
       " 'MainAddr.@City',\n",
       " 'MainAddr.@Cntry',\n",
       " 'MainAddr.@FaxNb',\n",
       " 'MainAddr.@PhNb',\n",
       " 'MainAddr.@PostlCd',\n",
       " 'MainAddr.@State_AK',\n",
       " 'MainAddr.@State_AL',\n",
       " 'MainAddr.@State_AR',\n",
       " 'MainAddr.@State_AZ',\n",
       " 'MainAddr.@State_CA',\n",
       " 'MainAddr.@State_CO',\n",
       " 'MainAddr.@State_CT',\n",
       " 'MainAddr.@State_DC',\n",
       " 'MainAddr.@State_DE',\n",
       " 'MainAddr.@State_FL',\n",
       " 'MainAddr.@State_GA',\n",
       " 'MainAddr.@State_HI',\n",
       " 'MainAddr.@State_IA',\n",
       " 'MainAddr.@State_ID',\n",
       " 'MainAddr.@State_IL',\n",
       " 'MainAddr.@State_IN',\n",
       " 'MainAddr.@State_KS',\n",
       " 'MainAddr.@State_KY',\n",
       " 'MainAddr.@State_LA',\n",
       " 'MainAddr.@State_MA',\n",
       " 'MainAddr.@State_MD',\n",
       " 'MainAddr.@State_ME',\n",
       " 'MainAddr.@State_MI',\n",
       " 'MainAddr.@State_MN',\n",
       " 'MainAddr.@State_MO',\n",
       " 'MainAddr.@State_MS',\n",
       " 'MainAddr.@State_MT',\n",
       " 'MainAddr.@State_NC',\n",
       " 'MainAddr.@State_ND',\n",
       " 'MainAddr.@State_NE',\n",
       " 'MainAddr.@State_NH',\n",
       " 'MainAddr.@State_NJ',\n",
       " 'MainAddr.@State_NM',\n",
       " 'MainAddr.@State_NV',\n",
       " 'MainAddr.@State_NY',\n",
       " 'MainAddr.@State_OH',\n",
       " 'MainAddr.@State_OK',\n",
       " 'MainAddr.@State_OR',\n",
       " 'MainAddr.@State_PA',\n",
       " 'MainAddr.@State_PR',\n",
       " 'MainAddr.@State_RI',\n",
       " 'MainAddr.@State_SC',\n",
       " 'MainAddr.@State_SD',\n",
       " 'MainAddr.@State_TN',\n",
       " 'MainAddr.@State_TX',\n",
       " 'MainAddr.@State_UT',\n",
       " 'MainAddr.@State_VA',\n",
       " 'MainAddr.@State_VI',\n",
       " 'MainAddr.@State_VT',\n",
       " 'MainAddr.@State_WA',\n",
       " 'MainAddr.@State_WI',\n",
       " 'MainAddr.@State_WV',\n",
       " 'MainAddr.@State_WY',\n",
       " 'MainAddr.@Strt1',\n",
       " 'MainAddr.@Strt2',\n",
       " 'NoticeFiled.States.@Dt',\n",
       " 'NoticeFiled.States.@RgltrCd',\n",
       " 'NoticeFiled.States.@St',\n",
       " 'Rgstn.@Dt',\n",
       " 'Rgstn.@FirmType_Registered',\n",
       " 'Rgstn.@St_APPROVED',\n",
       " 'Rgstn.@St_APPROVED-120',\n",
       " 'StateRgstn.Rgltrs',\n",
       " 'StateRgstn.Rgltrs.Rgltr',\n",
       " 'StateRgstn.Rgltrs.Rgltr.@Cd_AK',\n",
       " 'StateRgstn.Rgltrs.Rgltr.@Cd_AL',\n",
       " 'StateRgstn.Rgltrs.Rgltr.@Cd_AR',\n",
       " 'StateRgstn.Rgltrs.Rgltr.@Cd_AZ',\n",
       " 'StateRgstn.Rgltrs.Rgltr.@Cd_CA',\n",
       " 'StateRgstn.Rgltrs.Rgltr.@Cd_CO',\n",
       " 'StateRgstn.Rgltrs.Rgltr.@Cd_CT',\n",
       " 'StateRgstn.Rgltrs.Rgltr.@Cd_DC',\n",
       " 'StateRgstn.Rgltrs.Rgltr.@Cd_DE',\n",
       " 'StateRgstn.Rgltrs.Rgltr.@Cd_FL',\n",
       " 'StateRgstn.Rgltrs.Rgltr.@Cd_GA',\n",
       " 'StateRgstn.Rgltrs.Rgltr.@Cd_HI',\n",
       " 'StateRgstn.Rgltrs.Rgltr.@Cd_IA',\n",
       " 'StateRgstn.Rgltrs.Rgltr.@Cd_ID',\n",
       " 'StateRgstn.Rgltrs.Rgltr.@Cd_IL',\n",
       " 'StateRgstn.Rgltrs.Rgltr.@Cd_IN',\n",
       " 'StateRgstn.Rgltrs.Rgltr.@Cd_KS',\n",
       " 'StateRgstn.Rgltrs.Rgltr.@Cd_KY',\n",
       " 'StateRgstn.Rgltrs.Rgltr.@Cd_LA',\n",
       " 'StateRgstn.Rgltrs.Rgltr.@Cd_MA',\n",
       " 'StateRgstn.Rgltrs.Rgltr.@Cd_MD',\n",
       " 'StateRgstn.Rgltrs.Rgltr.@Cd_ME',\n",
       " 'StateRgstn.Rgltrs.Rgltr.@Cd_MI',\n",
       " 'StateRgstn.Rgltrs.Rgltr.@Cd_MN',\n",
       " 'StateRgstn.Rgltrs.Rgltr.@Cd_MO',\n",
       " 'StateRgstn.Rgltrs.Rgltr.@Cd_MS',\n",
       " 'StateRgstn.Rgltrs.Rgltr.@Cd_MT',\n",
       " 'StateRgstn.Rgltrs.Rgltr.@Cd_NC',\n",
       " 'StateRgstn.Rgltrs.Rgltr.@Cd_ND',\n",
       " 'StateRgstn.Rgltrs.Rgltr.@Cd_NE',\n",
       " 'StateRgstn.Rgltrs.Rgltr.@Cd_NH',\n",
       " 'StateRgstn.Rgltrs.Rgltr.@Cd_NJ',\n",
       " 'StateRgstn.Rgltrs.Rgltr.@Cd_NM',\n",
       " 'StateRgstn.Rgltrs.Rgltr.@Cd_NV',\n",
       " 'StateRgstn.Rgltrs.Rgltr.@Cd_NY',\n",
       " 'StateRgstn.Rgltrs.Rgltr.@Cd_OH',\n",
       " 'StateRgstn.Rgltrs.Rgltr.@Cd_OK',\n",
       " 'StateRgstn.Rgltrs.Rgltr.@Cd_OR',\n",
       " 'StateRgstn.Rgltrs.Rgltr.@Cd_PA',\n",
       " 'StateRgstn.Rgltrs.Rgltr.@Cd_PR',\n",
       " 'StateRgstn.Rgltrs.Rgltr.@Cd_RI',\n",
       " 'StateRgstn.Rgltrs.Rgltr.@Cd_SC',\n",
       " 'StateRgstn.Rgltrs.Rgltr.@Cd_SD',\n",
       " 'StateRgstn.Rgltrs.Rgltr.@Cd_TN',\n",
       " 'StateRgstn.Rgltrs.Rgltr.@Cd_TX',\n",
       " 'StateRgstn.Rgltrs.Rgltr.@Cd_UT',\n",
       " 'StateRgstn.Rgltrs.Rgltr.@Cd_VA',\n",
       " 'StateRgstn.Rgltrs.Rgltr.@Cd_VI',\n",
       " 'StateRgstn.Rgltrs.Rgltr.@Cd_VT',\n",
       " 'StateRgstn.Rgltrs.Rgltr.@Cd_WA',\n",
       " 'StateRgstn.Rgltrs.Rgltr.@Cd_WI',\n",
       " 'StateRgstn.Rgltrs.Rgltr.@Cd_WV',\n",
       " 'StateRgstn.Rgltrs.Rgltr.@Cd_WY',\n",
       " 'StateRgstn.Rgltrs.Rgltr.@Dt',\n",
       " 'StateRgstn.Rgltrs.Rgltr.@St_APPROVED',\n",
       " 'StateRgstn.Rgltrs.Rgltr.@St_CONDREST',\n",
       " 'StateRgstn.Rgltrs.Rgltr.@St_LIMITED',\n",
       " 'StateRgstn.Rgltrs.Rgltr.@St_SUSPENDED',\n",
       " 'StateRgstn.Rgltrs.Rgltr.@St_TERMREQUEST',\n",
       " 'TotalAUM',\n",
       " 'TotalEmp',\n",
       " 'registration_both',\n",
       " 'registration_sec',\n",
       " 'registration_state',\n",
       " 'url_aggregator',\n",
       " 'url_domains',\n",
       " 'url_firm_specific',\n",
       " 'url_has_aggregator',\n",
       " 'url_has_firm_specific',\n",
       " 'url_has_linkedin',\n",
       " 'url_has_social_media',\n",
       " 'url_schemes',\n",
       " 'url_social_media',\n",
       " 'url_social_media_count',\n",
       " 'urls']"
      ]
     },
     "execution_count": 16,
     "metadata": {},
     "output_type": "execute_result"
    }
   ],
   "source": [
    "sorted(df_ria_with_dum.columns)"
   ]
  },
  {
   "cell_type": "code",
   "execution_count": 17,
   "id": "e8baddc5-784c-4006-ba32-35ca5f0973a9",
   "metadata": {
    "tags": []
   },
   "outputs": [],
   "source": [
    "df_ria_with_dum_zi = df_ria_with_dum.drop(columns=zero_information_cols)"
   ]
  },
  {
   "cell_type": "code",
   "execution_count": 18,
   "id": "f4b30cbd-9041-454c-aa2f-67d6b10ea7d3",
   "metadata": {
    "tags": []
   },
   "outputs": [],
   "source": [
    "# df_ria_with_dum_zi[df_ria_with_dum_zi.columns.to_list()[310:320]]\n",
    "# df_ria_with_dum_zi.columns.to_list()"
   ]
  },
  {
   "cell_type": "code",
   "execution_count": 19,
   "id": "873efebb-b49f-47c3-bc08-fa712f99de53",
   "metadata": {
    "tags": []
   },
   "outputs": [
    {
     "data": {
      "text/plain": [
       "Index(['url_has_linkedin', 'url_has_social_media', 'url_has_aggregator',\n",
       "       'url_has_firm_specific', 'url_social_media_count'],\n",
       "      dtype='object')"
      ]
     },
     "execution_count": 19,
     "metadata": {},
     "output_type": "execute_result"
    }
   ],
   "source": [
    "df_ria_with_dum_zi.columns[df_ria_with_dum_zi.columns.str.contains('url')]"
   ]
  },
  {
   "cell_type": "code",
   "execution_count": 20,
   "id": "be4b567d-ffb8-4037-af2a-38560cfa9152",
   "metadata": {
    "tags": []
   },
   "outputs": [
    {
     "data": {
      "text/html": [
       "<div>\n",
       "<style scoped>\n",
       "    .dataframe tbody tr th:only-of-type {\n",
       "        vertical-align: middle;\n",
       "    }\n",
       "\n",
       "    .dataframe tbody tr th {\n",
       "        vertical-align: top;\n",
       "    }\n",
       "\n",
       "    .dataframe thead th {\n",
       "        text-align: right;\n",
       "    }\n",
       "</style>\n",
       "<table border=\"1\" class=\"dataframe\">\n",
       "  <thead>\n",
       "    <tr style=\"text-align: right;\">\n",
       "      <th></th>\n",
       "      <th>FormInfo.Part1A.Item5G.@Q5G12Oth</th>\n",
       "      <th>FormInfo.Part1A.Item6A.@Q6A14Oth</th>\n",
       "      <th>FormInfo.Part1A.Item5D.@Q5D1MOth</th>\n",
       "      <th>FormInfo.Part1A.Item3A.@OrgFormOthNm</th>\n",
       "      <th>FormInfo.Part1A.Item5E.@Q5E7Oth</th>\n",
       "      <th>FormInfo.Part1A.Item5D.@Q5D2MOth</th>\n",
       "      <th>FormInfo.Part1B.ItemI.@Q1B2I2AiiOthTx</th>\n",
       "      <th>FormInfo.Part1A.Item5D.@Q5DN3Oth</th>\n",
       "    </tr>\n",
       "  </thead>\n",
       "  <tbody>\n",
       "    <tr>\n",
       "      <th>0</th>\n",
       "      <td>NaN</td>\n",
       "      <td>NaN</td>\n",
       "      <td>NaN</td>\n",
       "      <td>NaN</td>\n",
       "      <td>NaN</td>\n",
       "      <td>NaN</td>\n",
       "      <td>NaN</td>\n",
       "      <td>NaN</td>\n",
       "    </tr>\n",
       "    <tr>\n",
       "      <th>1</th>\n",
       "      <td>NaN</td>\n",
       "      <td>NaN</td>\n",
       "      <td>NaN</td>\n",
       "      <td>NaN</td>\n",
       "      <td>NaN</td>\n",
       "      <td>NaN</td>\n",
       "      <td>NaN</td>\n",
       "      <td>NaN</td>\n",
       "    </tr>\n",
       "    <tr>\n",
       "      <th>2</th>\n",
       "      <td>NaN</td>\n",
       "      <td>NaN</td>\n",
       "      <td>NaN</td>\n",
       "      <td>NaN</td>\n",
       "      <td>TIMING SERVICES PROVIDED BY OTHERS</td>\n",
       "      <td>NaN</td>\n",
       "      <td>NaN</td>\n",
       "      <td>NaN</td>\n",
       "    </tr>\n",
       "    <tr>\n",
       "      <th>3</th>\n",
       "      <td>CONSULTING SERVICES FOR PROFESSIONAL INVESTMEN...</td>\n",
       "      <td>NaN</td>\n",
       "      <td>NaN</td>\n",
       "      <td>NaN</td>\n",
       "      <td>NaN</td>\n",
       "      <td>NaN</td>\n",
       "      <td>FUND ADMINISTRATOR</td>\n",
       "      <td>NaN</td>\n",
       "    </tr>\n",
       "    <tr>\n",
       "      <th>4</th>\n",
       "      <td>NaN</td>\n",
       "      <td>NaN</td>\n",
       "      <td>NaN</td>\n",
       "      <td>NaN</td>\n",
       "      <td>NaN</td>\n",
       "      <td>NaN</td>\n",
       "      <td>NaN</td>\n",
       "      <td>NaN</td>\n",
       "    </tr>\n",
       "    <tr>\n",
       "      <th>...</th>\n",
       "      <td>...</td>\n",
       "      <td>...</td>\n",
       "      <td>...</td>\n",
       "      <td>...</td>\n",
       "      <td>...</td>\n",
       "      <td>...</td>\n",
       "      <td>...</td>\n",
       "      <td>...</td>\n",
       "    </tr>\n",
       "    <tr>\n",
       "      <th>32525</th>\n",
       "      <td>NaN</td>\n",
       "      <td>NaN</td>\n",
       "      <td>NaN</td>\n",
       "      <td>NaN</td>\n",
       "      <td>NaN</td>\n",
       "      <td>NaN</td>\n",
       "      <td>NaN</td>\n",
       "      <td>NaN</td>\n",
       "    </tr>\n",
       "    <tr>\n",
       "      <th>32526</th>\n",
       "      <td>NaN</td>\n",
       "      <td>NaN</td>\n",
       "      <td>NaN</td>\n",
       "      <td>NaN</td>\n",
       "      <td>NaN</td>\n",
       "      <td>NaN</td>\n",
       "      <td>NaN</td>\n",
       "      <td>NaN</td>\n",
       "    </tr>\n",
       "    <tr>\n",
       "      <th>32527</th>\n",
       "      <td>NaN</td>\n",
       "      <td>NaN</td>\n",
       "      <td>NaN</td>\n",
       "      <td>NaN</td>\n",
       "      <td>NaN</td>\n",
       "      <td>NaN</td>\n",
       "      <td>NaN</td>\n",
       "      <td>NaN</td>\n",
       "    </tr>\n",
       "    <tr>\n",
       "      <th>32528</th>\n",
       "      <td>NaN</td>\n",
       "      <td>NaN</td>\n",
       "      <td>NaN</td>\n",
       "      <td>NaN</td>\n",
       "      <td>NaN</td>\n",
       "      <td>NaN</td>\n",
       "      <td>NaN</td>\n",
       "      <td>NaN</td>\n",
       "    </tr>\n",
       "    <tr>\n",
       "      <th>32529</th>\n",
       "      <td>NaN</td>\n",
       "      <td>NaN</td>\n",
       "      <td>NaN</td>\n",
       "      <td>NaN</td>\n",
       "      <td>NaN</td>\n",
       "      <td>NaN</td>\n",
       "      <td>NaN</td>\n",
       "      <td>NaN</td>\n",
       "    </tr>\n",
       "  </tbody>\n",
       "</table>\n",
       "<p>32530 rows × 8 columns</p>\n",
       "</div>"
      ],
      "text/plain": [
       "                        FormInfo.Part1A.Item5G.@Q5G12Oth  \\\n",
       "0                                                    NaN   \n",
       "1                                                    NaN   \n",
       "2                                                    NaN   \n",
       "3      CONSULTING SERVICES FOR PROFESSIONAL INVESTMEN...   \n",
       "4                                                    NaN   \n",
       "...                                                  ...   \n",
       "32525                                                NaN   \n",
       "32526                                                NaN   \n",
       "32527                                                NaN   \n",
       "32528                                                NaN   \n",
       "32529                                                NaN   \n",
       "\n",
       "      FormInfo.Part1A.Item6A.@Q6A14Oth FormInfo.Part1A.Item5D.@Q5D1MOth  \\\n",
       "0                                  NaN                              NaN   \n",
       "1                                  NaN                              NaN   \n",
       "2                                  NaN                              NaN   \n",
       "3                                  NaN                              NaN   \n",
       "4                                  NaN                              NaN   \n",
       "...                                ...                              ...   \n",
       "32525                              NaN                              NaN   \n",
       "32526                              NaN                              NaN   \n",
       "32527                              NaN                              NaN   \n",
       "32528                              NaN                              NaN   \n",
       "32529                              NaN                              NaN   \n",
       "\n",
       "      FormInfo.Part1A.Item3A.@OrgFormOthNm  \\\n",
       "0                                      NaN   \n",
       "1                                      NaN   \n",
       "2                                      NaN   \n",
       "3                                      NaN   \n",
       "4                                      NaN   \n",
       "...                                    ...   \n",
       "32525                                  NaN   \n",
       "32526                                  NaN   \n",
       "32527                                  NaN   \n",
       "32528                                  NaN   \n",
       "32529                                  NaN   \n",
       "\n",
       "          FormInfo.Part1A.Item5E.@Q5E7Oth FormInfo.Part1A.Item5D.@Q5D2MOth  \\\n",
       "0                                     NaN                              NaN   \n",
       "1                                     NaN                              NaN   \n",
       "2      TIMING SERVICES PROVIDED BY OTHERS                              NaN   \n",
       "3                                     NaN                              NaN   \n",
       "4                                     NaN                              NaN   \n",
       "...                                   ...                              ...   \n",
       "32525                                 NaN                              NaN   \n",
       "32526                                 NaN                              NaN   \n",
       "32527                                 NaN                              NaN   \n",
       "32528                                 NaN                              NaN   \n",
       "32529                                 NaN                              NaN   \n",
       "\n",
       "      FormInfo.Part1B.ItemI.@Q1B2I2AiiOthTx FormInfo.Part1A.Item5D.@Q5DN3Oth  \n",
       "0                                       NaN                              NaN  \n",
       "1                                       NaN                              NaN  \n",
       "2                                       NaN                              NaN  \n",
       "3                        FUND ADMINISTRATOR                              NaN  \n",
       "4                                       NaN                              NaN  \n",
       "...                                     ...                              ...  \n",
       "32525                                   NaN                              NaN  \n",
       "32526                                   NaN                              NaN  \n",
       "32527                                   NaN                              NaN  \n",
       "32528                                   NaN                              NaN  \n",
       "32529                                   NaN                              NaN  \n",
       "\n",
       "[32530 rows x 8 columns]"
      ]
     },
     "execution_count": 20,
     "metadata": {},
     "output_type": "execute_result"
    }
   ],
   "source": [
    "df_ria_with_dum_zi[recode_any_to_Y]"
   ]
  },
  {
   "cell_type": "code",
   "execution_count": 21,
   "id": "785617e9-1054-4816-b53c-844956404461",
   "metadata": {
    "tags": []
   },
   "outputs": [],
   "source": [
    "for col_name in recode_any_to_Y:\n",
    "    df_ria_with_dum_zi[col_name] = [*map(lambda x: 'Y' if x else np.NaN,\n",
    "                                         pd.notnull(df_ria_with_dum_zi[col_name]))]"
   ]
  },
  {
   "cell_type": "code",
   "execution_count": 22,
   "id": "3c6bb332-a999-415d-9a64-4daa93b43ac3",
   "metadata": {},
   "outputs": [],
   "source": [
    "df_ria_with_dum_zi_yn = df_ria_with_dum_zi.replace(('Y', 'N',\n",
    "                                                    '0 percent', '11-25 percent', '26-50 percent', '51-75 percent', '76-99 percent', '100 percent',\n",
    "                                                    'Up to 10 percent', 'Up to 25 percent', 'Up to 50 percent', 'Up to 75 percent', 'More than 75 percent',\n",
    "                                                   'Fewer than 5 clients'),\n",
    "                                                   (1, 0, 0.0,\n",
    "                                                    0.18, 0.38, 0.63, 0.875, 1.0,\n",
    "                                                    0.1, 0.25, 0.5, 0.75, 1.0,\n",
    "                                                    0.5))"
   ]
  },
  {
   "cell_type": "code",
   "execution_count": 23,
   "id": "39b0234e-7e5f-4f5b-883f-e8a816e7749c",
   "metadata": {
    "tags": []
   },
   "outputs": [],
   "source": [
    "df_ria_clean = df_ria_with_dum_zi_yn.loc[:,[c for c in df_ria_with_dum_zi_yn.columns.to_list() if c not in problem_columns]]"
   ]
  },
  {
   "cell_type": "code",
   "execution_count": 25,
   "id": "2d44489a-c767-4f79-924e-700fd7952fb9",
   "metadata": {
    "tags": []
   },
   "outputs": [],
   "source": [
    "df_ria_clean = df_ria_clean.fillna(0)"
   ]
  },
  {
   "cell_type": "code",
   "execution_count": 26,
   "id": "4deb8b2d-3474-4208-8971-3f119cdcfd87",
   "metadata": {
    "tags": []
   },
   "outputs": [],
   "source": [
    "regressor_cols = df_ria_clean.loc[:,~df_ria_clean.columns.str.contains('url|@Q1I')].columns"
   ]
  },
  {
   "cell_type": "code",
   "execution_count": 27,
   "id": "c0e398da-d4b7-45e3-a80a-f86ab0da07c3",
   "metadata": {
    "tags": []
   },
   "outputs": [],
   "source": [
    "bool_cols = df_ria_clean.columns[df_ria_clean.apply(lambda x: len(np.unique(x))) == 2]"
   ]
  },
  {
   "cell_type": "code",
   "execution_count": 28,
   "id": "51cfc0df-0b53-4f97-9759-ae73e7fbb70e",
   "metadata": {
    "tags": []
   },
   "outputs": [
    {
     "data": {
      "text/plain": [
       "Index(['FormInfo.Part1A.Item1.@Q1I', 'FormInfo.Part1A.Item1.@Q1M',\n",
       "       'FormInfo.Part1A.Item1.@Q1N', 'FormInfo.Part1A.Item1.@Q1O',\n",
       "       'FormInfo.Part1A.Item5E.@Q5E1', 'FormInfo.Part1A.Item5E.@Q5E2',\n",
       "       'FormInfo.Part1A.Item5E.@Q5E3', 'FormInfo.Part1A.Item5E.@Q5E4',\n",
       "       'FormInfo.Part1A.Item5E.@Q5E5', 'FormInfo.Part1A.Item5E.@Q5E6',\n",
       "       ...\n",
       "       'FormInfo.Part1B.ItemH.@Q1B2HNScrtsNvsmt_Over $5,000,000',\n",
       "       'FormInfo.Part1B.ItemH.@Q1B2HNScrtsNvsmt_Under $100,000',\n",
       "       'FormInfo.Part1A.Item5H.@Q5H_0', 'FormInfo.Part1A.Item5H.@Q5H_1-10',\n",
       "       'FormInfo.Part1A.Item5H.@Q5H_101-250',\n",
       "       'FormInfo.Part1A.Item5H.@Q5H_11-25',\n",
       "       'FormInfo.Part1A.Item5H.@Q5H_251-500',\n",
       "       'FormInfo.Part1A.Item5H.@Q5H_26-50',\n",
       "       'FormInfo.Part1A.Item5H.@Q5H_51-100',\n",
       "       'FormInfo.Part1A.Item5H.@Q5H_More than 500'],\n",
       "      dtype='object', length=459)"
      ]
     },
     "execution_count": 28,
     "metadata": {},
     "output_type": "execute_result"
    }
   ],
   "source": [
    "bool_cols"
   ]
  },
  {
   "cell_type": "code",
   "execution_count": 29,
   "id": "934fea3f-e0a7-4e2e-a3d6-57bd7a9f12e1",
   "metadata": {
    "tags": []
   },
   "outputs": [],
   "source": [
    "bool_regressor_cols = []\n",
    "bool_regressor_cols_i = []\n",
    "\n",
    "for i, col in enumerate(regressor_cols):\n",
    "    if col in bool_cols and (col != 'FormInfo.Part1A.Item1.@Q1I'):\n",
    "        bool_regressor_cols.append(col)\n",
    "        bool_regressor_cols_i.append(i)\n",
    "bool_regressor_cols = pd.Index(bool_regressor_cols)"
   ]
  },
  {
   "cell_type": "code",
   "execution_count": 30,
   "id": "5326b20c-39dd-4a27-872e-3355e77d995c",
   "metadata": {
    "tags": []
   },
   "outputs": [],
   "source": [
    "cont_cols = df_ria_clean.columns[df_ria_clean.apply(lambda x: len(np.unique(x))) > 2]"
   ]
  },
  {
   "cell_type": "code",
   "execution_count": 31,
   "id": "a7d6dd63-9dbc-438f-a054-58635323dec7",
   "metadata": {
    "tags": []
   },
   "outputs": [],
   "source": [
    "cont_regressor_cols = []\n",
    "cont_regressor_cols_i = []\n",
    "\n",
    "for i, col in enumerate(regressor_cols):\n",
    "    if col in cont_cols and (col != 'FormInfo.Part1A.Item1.@Q1I'):\n",
    "        cont_regressor_cols.append(col)\n",
    "        cont_regressor_cols_i.append(i)\n",
    "cont_regressor_cols = pd.Index(cont_regressor_cols)"
   ]
  },
  {
   "cell_type": "code",
   "execution_count": 32,
   "id": "e55dbc34-f645-4602-a2b7-a1e1e26977a3",
   "metadata": {
    "tags": []
   },
   "outputs": [
    {
     "data": {
      "text/plain": [
       "Index(['FormInfo.Part1A.Item1.@Q1F5', 'FormInfo.Part1A.Item5A.@TtlEmp',\n",
       "       'FormInfo.Part1A.Item5B.@Q5B1', 'FormInfo.Part1A.Item5B.@Q5B2',\n",
       "       'FormInfo.Part1A.Item5B.@Q5B3', 'FormInfo.Part1A.Item5B.@Q5B4',\n",
       "       'FormInfo.Part1A.Item5B.@Q5B5', 'FormInfo.Part1A.Item5B.@Q5B6',\n",
       "       'FormInfo.Part1A.Item5C.@Q5C2', 'FormInfo.Part1A.Item5D.@Q5DA1',\n",
       "       'FormInfo.Part1A.Item5D.@Q5DA3', 'FormInfo.Part1A.Item5D.@Q5DB1',\n",
       "       'FormInfo.Part1A.Item5D.@Q5DB3', 'FormInfo.Part1A.Item5D.@Q5DC1',\n",
       "       'FormInfo.Part1A.Item5D.@Q5DC3', 'FormInfo.Part1A.Item5D.@Q5DD1',\n",
       "       'FormInfo.Part1A.Item5D.@Q5DD3', 'FormInfo.Part1A.Item5D.@Q5DE1',\n",
       "       'FormInfo.Part1A.Item5D.@Q5DE3', 'FormInfo.Part1A.Item5D.@Q5DF1',\n",
       "       'FormInfo.Part1A.Item5D.@Q5DF3', 'FormInfo.Part1A.Item5D.@Q5DG1',\n",
       "       'FormInfo.Part1A.Item5D.@Q5DG3', 'FormInfo.Part1A.Item5D.@Q5DH1',\n",
       "       'FormInfo.Part1A.Item5D.@Q5DH3', 'FormInfo.Part1A.Item5D.@Q5DI1',\n",
       "       'FormInfo.Part1A.Item5D.@Q5DI3', 'FormInfo.Part1A.Item5D.@Q5DJ1',\n",
       "       'FormInfo.Part1A.Item5D.@Q5DJ3', 'FormInfo.Part1A.Item5D.@Q5DK1',\n",
       "       'FormInfo.Part1A.Item5D.@Q5DK3', 'FormInfo.Part1A.Item5D.@Q5DL1',\n",
       "       'FormInfo.Part1A.Item5D.@Q5DL3', 'FormInfo.Part1A.Item5D.@Q5DM1',\n",
       "       'FormInfo.Part1A.Item5D.@Q5DM3', 'FormInfo.Part1A.Item5D.@Q5DN1',\n",
       "       'FormInfo.Part1A.Item5D.@Q5DN3', 'FormInfo.Part1A.Item5F.@Q5F2A',\n",
       "       'FormInfo.Part1A.Item5F.@Q5F2B', 'FormInfo.Part1A.Item5F.@Q5F2C',\n",
       "       'FormInfo.Part1A.Item5F.@Q5F2D', 'FormInfo.Part1A.Item5F.@Q5F2E',\n",
       "       'FormInfo.Part1A.Item5F.@Q5F2F', 'FormInfo.Part1A.Item5F.@Q5F3',\n",
       "       'FormInfo.Part1A.Item9A.@Q9A2A', 'FormInfo.Part1A.Item9A.@Q9A2B',\n",
       "       'FormInfo.Part1A.Item9F.@Q9F',\n",
       "       'FormInfo.Part1B.ItemH.@Q1B2HScrtsNvsmtAm',\n",
       "       'FormInfo.Part1A.Item5D.@Q5D1A', 'FormInfo.Part1A.Item5D.@Q5D1B',\n",
       "       'FormInfo.Part1A.Item5D.@Q5D1F', 'FormInfo.Part1A.Item5D.@Q5D1G',\n",
       "       'FormInfo.Part1A.Item5D.@Q5D1H', 'FormInfo.Part1A.Item5D.@Q5D1I',\n",
       "       'FormInfo.Part1A.Item5D.@Q5D1J', 'FormInfo.Part1A.Item5D.@Q5D1K',\n",
       "       'FormInfo.Part1A.Item5D.@Q5D1M', 'FormInfo.Part1A.Item5D.@Q5D2A',\n",
       "       'FormInfo.Part1A.Item5D.@Q5D2B', 'FormInfo.Part1A.Item5D.@Q5D2D',\n",
       "       'FormInfo.Part1A.Item5D.@Q5D2F', 'FormInfo.Part1A.Item5D.@Q5D2G',\n",
       "       'FormInfo.Part1A.Item5D.@Q5D2H', 'FormInfo.Part1A.Item5D.@Q5D2I',\n",
       "       'FormInfo.Part1A.Item5D.@Q5D2M', 'FormInfo.Part1A.Item5I.@Q5I2A',\n",
       "       'FormInfo.Part1A.Item5I.@Q5I2B', 'FormInfo.Part1A.Item5I.@Q5I2C',\n",
       "       'FormInfo.Part1B.Item2.@Q1B2B2', 'FormInfo.Part1A.Item9B.@Q9B2A',\n",
       "       'FormInfo.Part1A.Item9B.@Q9B2B',\n",
       "       'FormInfo.Part1B.ItemH.@Q1B2HNScrtsNvsmtAm',\n",
       "       'FormInfo.Part1A.Item5H.@Q5HMT500', 'FormInfo.Part1A.Item5C.@Q5C1Oth',\n",
       "       'TotalAUM', 'TotalEmp'],\n",
       "      dtype='object')"
      ]
     },
     "execution_count": 32,
     "metadata": {},
     "output_type": "execute_result"
    }
   ],
   "source": [
    "cont_regressor_cols"
   ]
  },
  {
   "cell_type": "markdown",
   "id": "8f23d607-c253-4b8a-ab86-179544d40ff7",
   "metadata": {},
   "source": [
    "### Convert to numpy"
   ]
  },
  {
   "cell_type": "code",
   "execution_count": 33,
   "id": "39c53b4f-74bc-4841-a913-d7ff501370df",
   "metadata": {
    "tags": []
   },
   "outputs": [],
   "source": [
    "X_ria = df_ria_clean.loc[:,regressor_cols].to_numpy()"
   ]
  },
  {
   "cell_type": "code",
   "execution_count": 34,
   "id": "e65e5dd2-d6c1-40ef-ad14-0eed321fb761",
   "metadata": {
    "tags": []
   },
   "outputs": [],
   "source": [
    "Y_url_firm_specific = df_ria_clean['FormInfo.Part1A.Item1.@Q1I'].to_numpy()   #'url_has_firm_specific'"
   ]
  },
  {
   "cell_type": "code",
   "execution_count": 35,
   "id": "70790780-bdff-4053-b507-034148c08389",
   "metadata": {
    "tags": []
   },
   "outputs": [
    {
     "data": {
      "text/plain": [
       "array([[0., 0., 0., ..., 0., 0., 0.],\n",
       "       [0., 0., 0., ..., 0., 0., 0.],\n",
       "       [0., 0., 0., ..., 0., 0., 0.],\n",
       "       ...,\n",
       "       [0., 0., 0., ..., 0., 0., 0.],\n",
       "       [0., 0., 0., ..., 0., 0., 0.],\n",
       "       [0., 0., 0., ..., 0., 0., 0.]])"
      ]
     },
     "execution_count": 35,
     "metadata": {},
     "output_type": "execute_result"
    }
   ],
   "source": [
    "X_ria[:,bool_regressor_cols_i]"
   ]
  },
  {
   "cell_type": "code",
   "execution_count": 36,
   "id": "6afa40ec-eb17-4d0a-9c26-1e8f85374820",
   "metadata": {
    "tags": []
   },
   "outputs": [
    {
     "data": {
      "text/plain": [
       "array([[0.0000000e+00, 1.0000000e+00, 1.0000000e+00, ..., 0.0000000e+00,\n",
       "        0.0000000e+00, 1.0000000e+00],\n",
       "       [1.0000000e+00, 1.0000000e+00, 1.0000000e+00, ..., 0.0000000e+00,\n",
       "        3.6000000e+06, 1.0000000e+00],\n",
       "       [4.0000000e+00, 2.6000000e+01, 2.4000000e+01, ..., 0.0000000e+00,\n",
       "        7.6000000e+07, 2.6000000e+01],\n",
       "       ...,\n",
       "       [0.0000000e+00, 3.0000000e+00, 2.0000000e+00, ..., 0.0000000e+00,\n",
       "        6.9133149e+07, 3.0000000e+00],\n",
       "       [0.0000000e+00, 2.0000000e+00, 1.0000000e+00, ..., 0.0000000e+00,\n",
       "        8.7305898e+07, 2.0000000e+00],\n",
       "       [0.0000000e+00, 3.0000000e+00, 1.0000000e+00, ..., 0.0000000e+00,\n",
       "        0.0000000e+00, 3.0000000e+00]])"
      ]
     },
     "execution_count": 36,
     "metadata": {},
     "output_type": "execute_result"
    }
   ],
   "source": [
    "X_ria[:,cont_regressor_cols_i]"
   ]
  },
  {
   "cell_type": "markdown",
   "id": "24eb3ec2-8755-4aca-b9ca-9d34a38b9d42",
   "metadata": {},
   "source": [
    "### Remove NZV regressors"
   ]
  },
  {
   "cell_type": "markdown",
   "id": "d195658f-9fc9-4392-8868-14583c235ee2",
   "metadata": {},
   "source": [
    "#### booleans"
   ]
  },
  {
   "cell_type": "code",
   "execution_count": 37,
   "id": "9170d01e-3958-4ed0-acc0-b671c7e6e26f",
   "metadata": {
    "tags": []
   },
   "outputs": [],
   "source": [
    "sel_not_nzv = VarianceThreshold(threshold=(0.95 * (1 - 0.95)))\n",
    "X_ria_bool_nzv = sel_not_nzv.fit_transform(X_ria[:,bool_regressor_cols_i])"
   ]
  },
  {
   "cell_type": "code",
   "execution_count": 38,
   "id": "dc27bf82-91d7-42ec-a2d7-2cdf7721719a",
   "metadata": {
    "tags": []
   },
   "outputs": [],
   "source": [
    "bool_regressor_cols_not_nzv = sel_not_nzv.get_feature_names_out(bool_regressor_cols)"
   ]
  },
  {
   "cell_type": "code",
   "execution_count": 39,
   "id": "8f5ba47b-7eb0-453c-8488-15fefc32419b",
   "metadata": {
    "tags": []
   },
   "outputs": [
    {
     "data": {
      "text/plain": [
       "(32530, 86)"
      ]
     },
     "execution_count": 39,
     "metadata": {},
     "output_type": "execute_result"
    }
   ],
   "source": [
    "X_ria_bool_nzv.shape"
   ]
  },
  {
   "cell_type": "code",
   "execution_count": 40,
   "id": "9967268c-20ce-435a-850e-929939206485",
   "metadata": {
    "tags": []
   },
   "outputs": [
    {
     "data": {
      "text/plain": [
       "(32530, 536)"
      ]
     },
     "execution_count": 40,
     "metadata": {},
     "output_type": "execute_result"
    }
   ],
   "source": [
    "X_ria.shape"
   ]
  },
  {
   "cell_type": "markdown",
   "id": "ec6e3fe7-f476-4fcf-9f76-f962320aeaf5",
   "metadata": {},
   "source": [
    "#### continuous"
   ]
  },
  {
   "cell_type": "code",
   "execution_count": 45,
   "id": "000cd904-95d3-4b53-a26c-e364cfa1d309",
   "metadata": {
    "tags": []
   },
   "outputs": [],
   "source": [
    "sel_not_zv_continuous = VarianceThreshold(threshold=0)\n",
    "X_ria_cont_nzv = sel_not_zv_continuous.fit_transform(X_ria[:,cont_regressor_cols_i])"
   ]
  },
  {
   "cell_type": "code",
   "execution_count": 46,
   "id": "8d613d48-f61d-41f0-806a-c3d9f44f4747",
   "metadata": {
    "tags": []
   },
   "outputs": [
    {
     "data": {
      "text/plain": [
       "(32530, 76)"
      ]
     },
     "execution_count": 46,
     "metadata": {},
     "output_type": "execute_result"
    }
   ],
   "source": [
    "X_ria_cont_nzv.shape"
   ]
  },
  {
   "cell_type": "code",
   "execution_count": 47,
   "id": "648acbbc-754c-4ea6-b263-807db6bc88c5",
   "metadata": {
    "tags": []
   },
   "outputs": [
    {
     "data": {
      "text/plain": [
       "(32530, 536)"
      ]
     },
     "execution_count": 47,
     "metadata": {},
     "output_type": "execute_result"
    }
   ],
   "source": [
    "X_ria.shape"
   ]
  },
  {
   "cell_type": "code",
   "execution_count": 48,
   "id": "9f471cd3-1841-4a3a-bf71-6c1d473c84b8",
   "metadata": {
    "tags": []
   },
   "outputs": [],
   "source": [
    "cont_regressor_cols_not_nzv = sel_not_zv_continuous.get_feature_names_out(cont_regressor_cols)"
   ]
  },
  {
   "cell_type": "markdown",
   "id": "ef55360a-c5ca-4726-83d4-20536f1e0156",
   "metadata": {},
   "source": [
    "### Regressionfrom scipy import stats"
   ]
  },
  {
   "cell_type": "code",
   "execution_count": 49,
   "id": "91d9d4f0-0166-4c8e-bebb-09d3df2ee713",
   "metadata": {
    "tags": []
   },
   "outputs": [],
   "source": [
    "X_ria_cont_nzv_normed = stats.zscore(X_ria_cont_nzv, axis=0)"
   ]
  },
  {
   "cell_type": "code",
   "execution_count": 50,
   "id": "115d9e31-c2a7-4212-a7cd-e40a1a63dd3a",
   "metadata": {
    "tags": []
   },
   "outputs": [],
   "source": [
    "X_ria_reg = np.concatenate((X_ria_bool_nzv, X_ria_cont_nzv_normed), axis=1)"
   ]
  },
  {
   "cell_type": "code",
   "execution_count": 51,
   "id": "55284bd7-1347-45d2-9e10-a35324948ff1",
   "metadata": {
    "tags": []
   },
   "outputs": [],
   "source": [
    "all_regressor_cols_not_nzv = np.concatenate([bool_regressor_cols_not_nzv, cont_regressor_cols_not_nzv])"
   ]
  },
  {
   "cell_type": "code",
   "execution_count": 52,
   "id": "ac7ec6e3-97f3-41a6-afa8-f42e81e586ca",
   "metadata": {
    "tags": []
   },
   "outputs": [],
   "source": [
    "np.save('X_ria_reg.npy', X_ria_reg)\n",
    "np.save('Y_url_firm_specific.npy', Y_url_firm_specific)"
   ]
  },
  {
   "cell_type": "code",
   "execution_count": 53,
   "id": "6f5602bd-468b-4c9d-9810-da0aad508d16",
   "metadata": {},
   "outputs": [],
   "source": [
    "X = X_ria_reg\n",
    "Y = Y_url_firm_specific"
   ]
  },
  {
   "cell_type": "code",
   "execution_count": 54,
   "id": "9b1c6a50-b79e-4501-81fa-5e15862f0425",
   "metadata": {
    "tags": []
   },
   "outputs": [
    {
     "data": {
      "text/html": [
       "<style>#sk-container-id-1 {color: black;background-color: white;}#sk-container-id-1 pre{padding: 0;}#sk-container-id-1 div.sk-toggleable {background-color: white;}#sk-container-id-1 label.sk-toggleable__label {cursor: pointer;display: block;width: 100%;margin-bottom: 0;padding: 0.3em;box-sizing: border-box;text-align: center;}#sk-container-id-1 label.sk-toggleable__label-arrow:before {content: \"▸\";float: left;margin-right: 0.25em;color: #696969;}#sk-container-id-1 label.sk-toggleable__label-arrow:hover:before {color: black;}#sk-container-id-1 div.sk-estimator:hover label.sk-toggleable__label-arrow:before {color: black;}#sk-container-id-1 div.sk-toggleable__content {max-height: 0;max-width: 0;overflow: hidden;text-align: left;background-color: #f0f8ff;}#sk-container-id-1 div.sk-toggleable__content pre {margin: 0.2em;color: black;border-radius: 0.25em;background-color: #f0f8ff;}#sk-container-id-1 input.sk-toggleable__control:checked~div.sk-toggleable__content {max-height: 200px;max-width: 100%;overflow: auto;}#sk-container-id-1 input.sk-toggleable__control:checked~label.sk-toggleable__label-arrow:before {content: \"▾\";}#sk-container-id-1 div.sk-estimator input.sk-toggleable__control:checked~label.sk-toggleable__label {background-color: #d4ebff;}#sk-container-id-1 div.sk-label input.sk-toggleable__control:checked~label.sk-toggleable__label {background-color: #d4ebff;}#sk-container-id-1 input.sk-hidden--visually {border: 0;clip: rect(1px 1px 1px 1px);clip: rect(1px, 1px, 1px, 1px);height: 1px;margin: -1px;overflow: hidden;padding: 0;position: absolute;width: 1px;}#sk-container-id-1 div.sk-estimator {font-family: monospace;background-color: #f0f8ff;border: 1px dotted black;border-radius: 0.25em;box-sizing: border-box;margin-bottom: 0.5em;}#sk-container-id-1 div.sk-estimator:hover {background-color: #d4ebff;}#sk-container-id-1 div.sk-parallel-item::after {content: \"\";width: 100%;border-bottom: 1px solid gray;flex-grow: 1;}#sk-container-id-1 div.sk-label:hover label.sk-toggleable__label {background-color: #d4ebff;}#sk-container-id-1 div.sk-serial::before {content: \"\";position: absolute;border-left: 1px solid gray;box-sizing: border-box;top: 0;bottom: 0;left: 50%;z-index: 0;}#sk-container-id-1 div.sk-serial {display: flex;flex-direction: column;align-items: center;background-color: white;padding-right: 0.2em;padding-left: 0.2em;position: relative;}#sk-container-id-1 div.sk-item {position: relative;z-index: 1;}#sk-container-id-1 div.sk-parallel {display: flex;align-items: stretch;justify-content: center;background-color: white;position: relative;}#sk-container-id-1 div.sk-item::before, #sk-container-id-1 div.sk-parallel-item::before {content: \"\";position: absolute;border-left: 1px solid gray;box-sizing: border-box;top: 0;bottom: 0;left: 50%;z-index: -1;}#sk-container-id-1 div.sk-parallel-item {display: flex;flex-direction: column;z-index: 1;position: relative;background-color: white;}#sk-container-id-1 div.sk-parallel-item:first-child::after {align-self: flex-end;width: 50%;}#sk-container-id-1 div.sk-parallel-item:last-child::after {align-self: flex-start;width: 50%;}#sk-container-id-1 div.sk-parallel-item:only-child::after {width: 0;}#sk-container-id-1 div.sk-dashed-wrapped {border: 1px dashed gray;margin: 0 0.4em 0.5em 0.4em;box-sizing: border-box;padding-bottom: 0.4em;background-color: white;}#sk-container-id-1 div.sk-label label {font-family: monospace;font-weight: bold;display: inline-block;line-height: 1.2em;}#sk-container-id-1 div.sk-label-container {text-align: center;}#sk-container-id-1 div.sk-container {/* jupyter's `normalize.less` sets `[hidden] { display: none; }` but bootstrap.min.css set `[hidden] { display: none !important; }` so we also need the `!important` here to be able to override the default hidden behavior on the sphinx rendered scikit-learn.org. See: https://github.com/scikit-learn/scikit-learn/issues/21755 */display: inline-block !important;position: relative;}#sk-container-id-1 div.sk-text-repr-fallback {display: none;}</style><div id=\"sk-container-id-1\" class=\"sk-top-container\"><div class=\"sk-text-repr-fallback\"><pre>SGDClassifier(loss=&#x27;log_loss&#x27;, max_iter=100000, penalty=&#x27;elasticnet&#x27;)</pre><b>In a Jupyter environment, please rerun this cell to show the HTML representation or trust the notebook. <br />On GitHub, the HTML representation is unable to render, please try loading this page with nbviewer.org.</b></div><div class=\"sk-container\" hidden><div class=\"sk-item\"><div class=\"sk-estimator sk-toggleable\"><input class=\"sk-toggleable__control sk-hidden--visually\" id=\"sk-estimator-id-1\" type=\"checkbox\" checked><label for=\"sk-estimator-id-1\" class=\"sk-toggleable__label sk-toggleable__label-arrow\">SGDClassifier</label><div class=\"sk-toggleable__content\"><pre>SGDClassifier(loss=&#x27;log_loss&#x27;, max_iter=100000, penalty=&#x27;elasticnet&#x27;)</pre></div></div></div></div></div>"
      ],
      "text/plain": [
       "SGDClassifier(loss='log_loss', max_iter=100000, penalty='elasticnet')"
      ]
     },
     "execution_count": 54,
     "metadata": {},
     "output_type": "execute_result"
    }
   ],
   "source": [
    "# Always scale the input. The most convenient way is to use a pipeline.\n",
    "clf_sgd = SGDClassifier(loss = 'log_loss',\n",
    "                                  penalty = 'elasticnet',\n",
    "                                  max_iter=100000,\n",
    "                                  tol=1e-3)\n",
    "clf_sgd.fit(X, Y)\n",
    "\n",
    "#print(clf.predict([[-0.8, -1]]))"
   ]
  },
  {
   "cell_type": "code",
   "execution_count": 55,
   "id": "7ba344ad-28ae-4375-85cd-e7a8d0ad70eb",
   "metadata": {
    "tags": []
   },
   "outputs": [
    {
     "data": {
      "text/plain": [
       "sklearn.linear_model._stochastic_gradient.SGDClassifier"
      ]
     },
     "execution_count": 55,
     "metadata": {},
     "output_type": "execute_result"
    }
   ],
   "source": [
    "type(clf_sgd)"
   ]
  },
  {
   "cell_type": "code",
   "execution_count": 56,
   "id": "68937b4f-fa70-4bb2-99b4-160f851504f2",
   "metadata": {
    "tags": []
   },
   "outputs": [],
   "source": [
    "df_sgd = pd.DataFrame(clf_sgd.coef_)"
   ]
  },
  {
   "cell_type": "code",
   "execution_count": 57,
   "id": "9ce9cd05-f1c5-42b7-b43f-c5c6cfd68815",
   "metadata": {
    "tags": []
   },
   "outputs": [],
   "source": [
    "df_sgd.columns = all_regressor_cols_not_nzv"
   ]
  },
  {
   "cell_type": "code",
   "execution_count": 58,
   "id": "0c87754a-3cd2-4a9d-94ef-481cb43eed36",
   "metadata": {
    "tags": []
   },
   "outputs": [
    {
     "data": {
      "text/html": [
       "<div>\n",
       "<style scoped>\n",
       "    .dataframe tbody tr th:only-of-type {\n",
       "        vertical-align: middle;\n",
       "    }\n",
       "\n",
       "    .dataframe tbody tr th {\n",
       "        vertical-align: top;\n",
       "    }\n",
       "\n",
       "    .dataframe thead th {\n",
       "        text-align: right;\n",
       "    }\n",
       "</style>\n",
       "<table border=\"1\" class=\"dataframe\">\n",
       "  <thead>\n",
       "    <tr style=\"text-align: right;\">\n",
       "      <th></th>\n",
       "      <th>0</th>\n",
       "    </tr>\n",
       "  </thead>\n",
       "  <tbody>\n",
       "    <tr>\n",
       "      <th>FormInfo.Part1A.Item5D.@Q5D2D</th>\n",
       "      <td>4.106307</td>\n",
       "    </tr>\n",
       "    <tr>\n",
       "      <th>FormInfo.Part1A.Item5D.@Q5DJ1</th>\n",
       "      <td>1.845063</td>\n",
       "    </tr>\n",
       "    <tr>\n",
       "      <th>FormInfo.Part1A.Item5D.@Q5DB1</th>\n",
       "      <td>1.568358</td>\n",
       "    </tr>\n",
       "    <tr>\n",
       "      <th>FormInfo.Part1A.Item5D.@Q5D1M</th>\n",
       "      <td>1.230528</td>\n",
       "    </tr>\n",
       "    <tr>\n",
       "      <th>FormInfo.Part1A.Item5A.@TtlEmp</th>\n",
       "      <td>1.111969</td>\n",
       "    </tr>\n",
       "    <tr>\n",
       "      <th>TotalEmp</th>\n",
       "      <td>1.088217</td>\n",
       "    </tr>\n",
       "    <tr>\n",
       "      <th>FormInfo.Part1A.Item5G.@Q5G8</th>\n",
       "      <td>1.082485</td>\n",
       "    </tr>\n",
       "    <tr>\n",
       "      <th>FormInfo.Part1A.Item1.@Q1F5</th>\n",
       "      <td>0.941206</td>\n",
       "    </tr>\n",
       "    <tr>\n",
       "      <th>FormInfo.Part1A.Item5D.@Q5DL3</th>\n",
       "      <td>0.856066</td>\n",
       "    </tr>\n",
       "    <tr>\n",
       "      <th>FormInfo.Part1A.Item5L.@Q5L1A</th>\n",
       "      <td>0.832551</td>\n",
       "    </tr>\n",
       "    <tr>\n",
       "      <th>FormInfo.Part1A.Item5D.@Q5DF1</th>\n",
       "      <td>0.798009</td>\n",
       "    </tr>\n",
       "    <tr>\n",
       "      <th>Rgstn.@St_APPROVED</th>\n",
       "      <td>0.747116</td>\n",
       "    </tr>\n",
       "    <tr>\n",
       "      <th>FormInfo.Part1A.Item5D.@Q5DL1</th>\n",
       "      <td>0.717582</td>\n",
       "    </tr>\n",
       "    <tr>\n",
       "      <th>FormInfo.Part1A.Item5G.@Q5G1</th>\n",
       "      <td>0.686364</td>\n",
       "    </tr>\n",
       "    <tr>\n",
       "      <th>FormInfo.Part1A.Item5D.@Q5DC1</th>\n",
       "      <td>0.639627</td>\n",
       "    </tr>\n",
       "    <tr>\n",
       "      <th>FormInfo.Part1A.Item5G.@Q5G11</th>\n",
       "      <td>0.631458</td>\n",
       "    </tr>\n",
       "    <tr>\n",
       "      <th>FormInfo.Part1A.Item8H.@Q8H1</th>\n",
       "      <td>0.589934</td>\n",
       "    </tr>\n",
       "    <tr>\n",
       "      <th>FormInfo.Part1A.Item5I.@Q5I1</th>\n",
       "      <td>0.558596</td>\n",
       "    </tr>\n",
       "    <tr>\n",
       "      <th>FormInfo.Part1A.Item3A.@OrgFormNm_Limited Liability Company</th>\n",
       "      <td>0.553187</td>\n",
       "    </tr>\n",
       "    <tr>\n",
       "      <th>FormInfo.Part1A.Item3A.@OrgFormNm_Corporation</th>\n",
       "      <td>0.544565</td>\n",
       "    </tr>\n",
       "  </tbody>\n",
       "</table>\n",
       "</div>"
      ],
      "text/plain": [
       "                                                           0\n",
       "FormInfo.Part1A.Item5D.@Q5D2D                       4.106307\n",
       "FormInfo.Part1A.Item5D.@Q5DJ1                       1.845063\n",
       "FormInfo.Part1A.Item5D.@Q5DB1                       1.568358\n",
       "FormInfo.Part1A.Item5D.@Q5D1M                       1.230528\n",
       "FormInfo.Part1A.Item5A.@TtlEmp                      1.111969\n",
       "TotalEmp                                            1.088217\n",
       "FormInfo.Part1A.Item5G.@Q5G8                        1.082485\n",
       "FormInfo.Part1A.Item1.@Q1F5                         0.941206\n",
       "FormInfo.Part1A.Item5D.@Q5DL3                       0.856066\n",
       "FormInfo.Part1A.Item5L.@Q5L1A                       0.832551\n",
       "FormInfo.Part1A.Item5D.@Q5DF1                       0.798009\n",
       "Rgstn.@St_APPROVED                                  0.747116\n",
       "FormInfo.Part1A.Item5D.@Q5DL1                       0.717582\n",
       "FormInfo.Part1A.Item5G.@Q5G1                        0.686364\n",
       "FormInfo.Part1A.Item5D.@Q5DC1                       0.639627\n",
       "FormInfo.Part1A.Item5G.@Q5G11                       0.631458\n",
       "FormInfo.Part1A.Item8H.@Q8H1                        0.589934\n",
       "FormInfo.Part1A.Item5I.@Q5I1                        0.558596\n",
       "FormInfo.Part1A.Item3A.@OrgFormNm_Limited Liabi...  0.553187\n",
       "FormInfo.Part1A.Item3A.@OrgFormNm_Corporation       0.544565"
      ]
     },
     "execution_count": 58,
     "metadata": {},
     "output_type": "execute_result"
    }
   ],
   "source": [
    "df_sgd.transpose().sort_values(0, ascending=False)[0:20]"
   ]
  },
  {
   "cell_type": "code",
   "execution_count": 59,
   "id": "82ad0061-8e0c-4e1f-a8fe-cad6cfa60868",
   "metadata": {
    "tags": []
   },
   "outputs": [
    {
     "data": {
      "text/html": [
       "<style>#sk-container-id-2 {color: black;background-color: white;}#sk-container-id-2 pre{padding: 0;}#sk-container-id-2 div.sk-toggleable {background-color: white;}#sk-container-id-2 label.sk-toggleable__label {cursor: pointer;display: block;width: 100%;margin-bottom: 0;padding: 0.3em;box-sizing: border-box;text-align: center;}#sk-container-id-2 label.sk-toggleable__label-arrow:before {content: \"▸\";float: left;margin-right: 0.25em;color: #696969;}#sk-container-id-2 label.sk-toggleable__label-arrow:hover:before {color: black;}#sk-container-id-2 div.sk-estimator:hover label.sk-toggleable__label-arrow:before {color: black;}#sk-container-id-2 div.sk-toggleable__content {max-height: 0;max-width: 0;overflow: hidden;text-align: left;background-color: #f0f8ff;}#sk-container-id-2 div.sk-toggleable__content pre {margin: 0.2em;color: black;border-radius: 0.25em;background-color: #f0f8ff;}#sk-container-id-2 input.sk-toggleable__control:checked~div.sk-toggleable__content {max-height: 200px;max-width: 100%;overflow: auto;}#sk-container-id-2 input.sk-toggleable__control:checked~label.sk-toggleable__label-arrow:before {content: \"▾\";}#sk-container-id-2 div.sk-estimator input.sk-toggleable__control:checked~label.sk-toggleable__label {background-color: #d4ebff;}#sk-container-id-2 div.sk-label input.sk-toggleable__control:checked~label.sk-toggleable__label {background-color: #d4ebff;}#sk-container-id-2 input.sk-hidden--visually {border: 0;clip: rect(1px 1px 1px 1px);clip: rect(1px, 1px, 1px, 1px);height: 1px;margin: -1px;overflow: hidden;padding: 0;position: absolute;width: 1px;}#sk-container-id-2 div.sk-estimator {font-family: monospace;background-color: #f0f8ff;border: 1px dotted black;border-radius: 0.25em;box-sizing: border-box;margin-bottom: 0.5em;}#sk-container-id-2 div.sk-estimator:hover {background-color: #d4ebff;}#sk-container-id-2 div.sk-parallel-item::after {content: \"\";width: 100%;border-bottom: 1px solid gray;flex-grow: 1;}#sk-container-id-2 div.sk-label:hover label.sk-toggleable__label {background-color: #d4ebff;}#sk-container-id-2 div.sk-serial::before {content: \"\";position: absolute;border-left: 1px solid gray;box-sizing: border-box;top: 0;bottom: 0;left: 50%;z-index: 0;}#sk-container-id-2 div.sk-serial {display: flex;flex-direction: column;align-items: center;background-color: white;padding-right: 0.2em;padding-left: 0.2em;position: relative;}#sk-container-id-2 div.sk-item {position: relative;z-index: 1;}#sk-container-id-2 div.sk-parallel {display: flex;align-items: stretch;justify-content: center;background-color: white;position: relative;}#sk-container-id-2 div.sk-item::before, #sk-container-id-2 div.sk-parallel-item::before {content: \"\";position: absolute;border-left: 1px solid gray;box-sizing: border-box;top: 0;bottom: 0;left: 50%;z-index: -1;}#sk-container-id-2 div.sk-parallel-item {display: flex;flex-direction: column;z-index: 1;position: relative;background-color: white;}#sk-container-id-2 div.sk-parallel-item:first-child::after {align-self: flex-end;width: 50%;}#sk-container-id-2 div.sk-parallel-item:last-child::after {align-self: flex-start;width: 50%;}#sk-container-id-2 div.sk-parallel-item:only-child::after {width: 0;}#sk-container-id-2 div.sk-dashed-wrapped {border: 1px dashed gray;margin: 0 0.4em 0.5em 0.4em;box-sizing: border-box;padding-bottom: 0.4em;background-color: white;}#sk-container-id-2 div.sk-label label {font-family: monospace;font-weight: bold;display: inline-block;line-height: 1.2em;}#sk-container-id-2 div.sk-label-container {text-align: center;}#sk-container-id-2 div.sk-container {/* jupyter's `normalize.less` sets `[hidden] { display: none; }` but bootstrap.min.css set `[hidden] { display: none !important; }` so we also need the `!important` here to be able to override the default hidden behavior on the sphinx rendered scikit-learn.org. See: https://github.com/scikit-learn/scikit-learn/issues/21755 */display: inline-block !important;position: relative;}#sk-container-id-2 div.sk-text-repr-fallback {display: none;}</style><div id=\"sk-container-id-2\" class=\"sk-top-container\"><div class=\"sk-text-repr-fallback\"><pre>LogisticRegression(max_iter=1000000, solver=&#x27;newton-cholesky&#x27;)</pre><b>In a Jupyter environment, please rerun this cell to show the HTML representation or trust the notebook. <br />On GitHub, the HTML representation is unable to render, please try loading this page with nbviewer.org.</b></div><div class=\"sk-container\" hidden><div class=\"sk-item\"><div class=\"sk-estimator sk-toggleable\"><input class=\"sk-toggleable__control sk-hidden--visually\" id=\"sk-estimator-id-2\" type=\"checkbox\" checked><label for=\"sk-estimator-id-2\" class=\"sk-toggleable__label sk-toggleable__label-arrow\">LogisticRegression</label><div class=\"sk-toggleable__content\"><pre>LogisticRegression(max_iter=1000000, solver=&#x27;newton-cholesky&#x27;)</pre></div></div></div></div></div>"
      ],
      "text/plain": [
       "LogisticRegression(max_iter=1000000, solver='newton-cholesky')"
      ]
     },
     "execution_count": 59,
     "metadata": {},
     "output_type": "execute_result"
    }
   ],
   "source": [
    "from sklearn.linear_model import LogisticRegression\n",
    "clf_lr = LogisticRegression(solver='newton-cholesky',\n",
    "                            max_iter = 1000000)\n",
    "clf_lr.fit(X, Y)\n",
    "# clf_lr.predict(X[:2, :])\n",
    "\n",
    "# clf.predict_proba(X[:2, :])\n",
    "\n",
    "\n",
    "# clf.score(X, y)"
   ]
  },
  {
   "cell_type": "code",
   "execution_count": 60,
   "id": "c9b3f9ec-7fc8-4c2b-8b1c-8e240b0996e4",
   "metadata": {
    "tags": []
   },
   "outputs": [],
   "source": [
    "df_lr = pd.DataFrame(clf_lr.coef_)"
   ]
  },
  {
   "cell_type": "code",
   "execution_count": 61,
   "id": "c0f0431e-73a3-41a2-a80a-a3889027b2a9",
   "metadata": {
    "tags": []
   },
   "outputs": [],
   "source": [
    "all_regressor_cols_not_nzv = np.concatenate([bool_regressor_cols_not_nzv, cont_regressor_cols_not_nzv])"
   ]
  },
  {
   "cell_type": "code",
   "execution_count": 62,
   "id": "3b91ec75-09fd-4e0e-8cdc-81749bd86345",
   "metadata": {
    "tags": []
   },
   "outputs": [],
   "source": [
    "df_lr.columns = all_regressor_cols_not_nzv"
   ]
  },
  {
   "cell_type": "code",
   "execution_count": 63,
   "id": "a32682a5-43cc-443d-856d-81efe085aae8",
   "metadata": {
    "tags": []
   },
   "outputs": [
    {
     "data": {
      "text/html": [
       "<div>\n",
       "<style scoped>\n",
       "    .dataframe tbody tr th:only-of-type {\n",
       "        vertical-align: middle;\n",
       "    }\n",
       "\n",
       "    .dataframe tbody tr th {\n",
       "        vertical-align: top;\n",
       "    }\n",
       "\n",
       "    .dataframe thead th {\n",
       "        text-align: right;\n",
       "    }\n",
       "</style>\n",
       "<table border=\"1\" class=\"dataframe\">\n",
       "  <thead>\n",
       "    <tr style=\"text-align: right;\">\n",
       "      <th></th>\n",
       "      <th>0</th>\n",
       "    </tr>\n",
       "  </thead>\n",
       "  <tbody>\n",
       "    <tr>\n",
       "      <th>FormInfo.Part1A.Item5A.@TtlEmp</th>\n",
       "      <td>1.653097</td>\n",
       "    </tr>\n",
       "    <tr>\n",
       "      <th>TotalEmp</th>\n",
       "      <td>1.584094</td>\n",
       "    </tr>\n",
       "    <tr>\n",
       "      <th>FormInfo.Part1A.Item1.@Q1F5</th>\n",
       "      <td>1.362268</td>\n",
       "    </tr>\n",
       "    <tr>\n",
       "      <th>FormInfo.Part1A.Item5D.@Q5DB1</th>\n",
       "      <td>1.274733</td>\n",
       "    </tr>\n",
       "    <tr>\n",
       "      <th>FormInfo.Part1A.Item5G.@Q5G8</th>\n",
       "      <td>1.074159</td>\n",
       "    </tr>\n",
       "    <tr>\n",
       "      <th>FormInfo.Part1A.Item5L.@Q5L1A</th>\n",
       "      <td>0.836692</td>\n",
       "    </tr>\n",
       "    <tr>\n",
       "      <th>Rgstn.@St_APPROVED</th>\n",
       "      <td>0.781516</td>\n",
       "    </tr>\n",
       "    <tr>\n",
       "      <th>FormInfo.Part1A.Item5D.@Q5DH1</th>\n",
       "      <td>0.749838</td>\n",
       "    </tr>\n",
       "    <tr>\n",
       "      <th>FormInfo.Part1A.Item5D.@Q5DF1</th>\n",
       "      <td>0.744644</td>\n",
       "    </tr>\n",
       "    <tr>\n",
       "      <th>FormInfo.Part1A.Item3A.@OrgFormNm_Limited Liability Company</th>\n",
       "      <td>0.696615</td>\n",
       "    </tr>\n",
       "    <tr>\n",
       "      <th>FormInfo.Part1A.Item5G.@Q5G11</th>\n",
       "      <td>0.694778</td>\n",
       "    </tr>\n",
       "    <tr>\n",
       "      <th>FormInfo.Part1A.Item5D.@Q5DC1</th>\n",
       "      <td>0.647834</td>\n",
       "    </tr>\n",
       "    <tr>\n",
       "      <th>FormInfo.Part1A.Item5D.@Q5DL1</th>\n",
       "      <td>0.631679</td>\n",
       "    </tr>\n",
       "    <tr>\n",
       "      <th>FormInfo.Part1A.Item5G.@Q5G1</th>\n",
       "      <td>0.606982</td>\n",
       "    </tr>\n",
       "    <tr>\n",
       "      <th>FormInfo.Part1A.Item5I.@Q5I1</th>\n",
       "      <td>0.591003</td>\n",
       "    </tr>\n",
       "    <tr>\n",
       "      <th>FormInfo.Part1A.Item8H.@Q8H1</th>\n",
       "      <td>0.579021</td>\n",
       "    </tr>\n",
       "    <tr>\n",
       "      <th>FormInfo.Part1A.Item8H.@Q8H2</th>\n",
       "      <td>0.525828</td>\n",
       "    </tr>\n",
       "    <tr>\n",
       "      <th>FormInfo.Part1A.Item5D.@Q5D2D</th>\n",
       "      <td>0.521542</td>\n",
       "    </tr>\n",
       "    <tr>\n",
       "      <th>FormInfo.Part1A.Item3A.@OrgFormNm_Corporation</th>\n",
       "      <td>0.510651</td>\n",
       "    </tr>\n",
       "    <tr>\n",
       "      <th>FormInfo.Part1A.Item8C.@Q8C2</th>\n",
       "      <td>0.458060</td>\n",
       "    </tr>\n",
       "  </tbody>\n",
       "</table>\n",
       "</div>"
      ],
      "text/plain": [
       "                                                           0\n",
       "FormInfo.Part1A.Item5A.@TtlEmp                      1.653097\n",
       "TotalEmp                                            1.584094\n",
       "FormInfo.Part1A.Item1.@Q1F5                         1.362268\n",
       "FormInfo.Part1A.Item5D.@Q5DB1                       1.274733\n",
       "FormInfo.Part1A.Item5G.@Q5G8                        1.074159\n",
       "FormInfo.Part1A.Item5L.@Q5L1A                       0.836692\n",
       "Rgstn.@St_APPROVED                                  0.781516\n",
       "FormInfo.Part1A.Item5D.@Q5DH1                       0.749838\n",
       "FormInfo.Part1A.Item5D.@Q5DF1                       0.744644\n",
       "FormInfo.Part1A.Item3A.@OrgFormNm_Limited Liabi...  0.696615\n",
       "FormInfo.Part1A.Item5G.@Q5G11                       0.694778\n",
       "FormInfo.Part1A.Item5D.@Q5DC1                       0.647834\n",
       "FormInfo.Part1A.Item5D.@Q5DL1                       0.631679\n",
       "FormInfo.Part1A.Item5G.@Q5G1                        0.606982\n",
       "FormInfo.Part1A.Item5I.@Q5I1                        0.591003\n",
       "FormInfo.Part1A.Item8H.@Q8H1                        0.579021\n",
       "FormInfo.Part1A.Item8H.@Q8H2                        0.525828\n",
       "FormInfo.Part1A.Item5D.@Q5D2D                       0.521542\n",
       "FormInfo.Part1A.Item3A.@OrgFormNm_Corporation       0.510651\n",
       "FormInfo.Part1A.Item8C.@Q8C2                        0.458060"
      ]
     },
     "execution_count": 63,
     "metadata": {},
     "output_type": "execute_result"
    }
   ],
   "source": [
    "df_lr.transpose().sort_values(0, ascending=False)[0:20]"
   ]
  },
  {
   "cell_type": "code",
   "execution_count": null,
   "id": "4e038ab8-0c80-4710-955b-3d3dcacbf7e3",
   "metadata": {},
   "outputs": [],
   "source": []
  },
  {
   "cell_type": "code",
   "execution_count": null,
   "id": "10a703db-af1d-41d3-a614-a85893849a68",
   "metadata": {},
   "outputs": [],
   "source": []
  },
  {
   "cell_type": "markdown",
   "id": "f1cafc2b-dddf-4bcb-92d8-6a8723859fd3",
   "metadata": {
    "tags": []
   },
   "source": [
    "# Try clustering Example from Scikit-Learn docs\n",
    "### https://scikit-learn.org/stable/modules/clustering.html"
   ]
  },
  {
   "cell_type": "code",
   "execution_count": 172,
   "id": "0408ec2d-d61d-448f-b9df-ff6f2f00fa66",
   "metadata": {
    "tags": []
   },
   "outputs": [],
   "source": [
    "import time\n",
    "import warnings\n",
    "\n",
    "import numpy as np\n",
    "import matplotlib.pyplot as plt\n",
    "\n",
    "from sklearn import cluster, datasets, mixture\n",
    "from sklearn.neighbors import kneighbors_graph\n",
    "from sklearn.preprocessing import StandardScaler\n",
    "from itertools import cycle, islice"
   ]
  },
  {
   "cell_type": "code",
   "execution_count": 173,
   "id": "5d00a232-b70e-4087-9148-606502f82812",
   "metadata": {
    "tags": []
   },
   "outputs": [],
   "source": [
    "np.random.seed(0)"
   ]
  },
  {
   "cell_type": "code",
   "execution_count": 174,
   "id": "9bc4210e-b919-4ac1-b578-2278c23bca46",
   "metadata": {
    "tags": []
   },
   "outputs": [
    {
     "data": {
      "text/plain": [
       "(32530, 163)"
      ]
     },
     "execution_count": 174,
     "metadata": {},
     "output_type": "execute_result"
    }
   ],
   "source": [
    "np.concatenate([X_ria_reg, Y_url_firm_specific.reshape(-1,1)], axis=1).shape"
   ]
  },
  {
   "cell_type": "code",
   "execution_count": 175,
   "id": "843624e0-8129-4cfd-b0f7-e73215b42824",
   "metadata": {
    "tags": []
   },
   "outputs": [],
   "source": [
    "dataset = np.concatenate([X_ria_reg, Y_url_firm_specific.reshape(-1,1)], axis=1)"
   ]
  },
  {
   "cell_type": "code",
   "execution_count": 176,
   "id": "6dad7646-a356-417d-a12f-6fcf73542689",
   "metadata": {
    "tags": []
   },
   "outputs": [],
   "source": [
    "datasets = [\n",
    "    (\n",
    "        dataset,\n",
    "        {\n",
    "            \"eps\": 0.18,\n",
    "            \"n_neighbors\": 2,\n",
    "            \"min_samples\": 7,\n",
    "            \"xi\": 0.01,\n",
    "            \"min_cluster_size\": 0.2,\n",
    "        },\n",
    "    )]"
   ]
  },
  {
   "cell_type": "code",
   "execution_count": 177,
   "id": "5bfe1fe0-fce1-4d5c-a465-46d614e0a477",
   "metadata": {
    "tags": []
   },
   "outputs": [],
   "source": [
    "default_base = {\n",
    "    \"quantile\": 0.3,\n",
    "    \"eps\": 0.3,\n",
    "    \"damping\": 0.9,\n",
    "    \"preference\": -200,\n",
    "    \"n_neighbors\": 3,\n",
    "    \"n_clusters\": 3,\n",
    "    \"min_samples\": 7,\n",
    "    \"xi\": 0.05,\n",
    "    \"min_cluster_size\": 0.1,\n",
    "}"
   ]
  }
 ],
 "metadata": {
  "kernelspec": {
   "display_name": "Python 3 (ipykernel)",
   "language": "python",
   "name": "python3"
  },
  "language_info": {
   "codemirror_mode": {
    "name": "ipython",
    "version": 3
   },
   "file_extension": ".py",
   "mimetype": "text/x-python",
   "name": "python",
   "nbconvert_exporter": "python",
   "pygments_lexer": "ipython3",
   "version": "3.10.10"
  }
 },
 "nbformat": 4,
 "nbformat_minor": 5
}
