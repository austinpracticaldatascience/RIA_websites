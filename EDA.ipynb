{
 "cells": [
  {
   "cell_type": "code",
   "execution_count": 1,
   "id": "00b45f8f-5ab6-46ad-b152-df40d30b30e5",
   "metadata": {
    "tags": []
   },
   "outputs": [],
   "source": [
    "import pandas as pd\n",
    "import numpy as np\n",
    "import matplotlib.pyplot as plt\n",
    "import re"
   ]
  },
  {
   "cell_type": "code",
   "execution_count": 2,
   "id": "e0da9547-d106-4220-b090-59df2e8c1d24",
   "metadata": {},
   "outputs": [],
   "source": [
    "# !pip install surt\n",
    "# !pip install validators"
   ]
  },
  {
   "cell_type": "code",
   "execution_count": 3,
   "id": "e2ddb4f9-bafa-4fe8-93a4-e51d78c4f429",
   "metadata": {
    "tags": []
   },
   "outputs": [],
   "source": [
    "# Two handy libraries for checking if a URL is valid or not\n",
    "# import surt\n",
    "import validators"
   ]
  },
  {
   "cell_type": "markdown",
   "id": "8139f451-f36f-4eea-a15d-a07b4f8efd66",
   "metadata": {},
   "source": [
    "## SEC-Registered"
   ]
  },
  {
   "cell_type": "code",
   "execution_count": 43,
   "id": "e3fa8f46-ae7e-4f5a-9775-7f5af79b4d99",
   "metadata": {
    "tags": []
   },
   "outputs": [
    {
     "name": "stderr",
     "output_type": "stream",
     "text": [
      "/tmp/ipykernel_161773/3704932919.py:1: DtypeWarning: Columns (49,217,250,251,252,253,254,255,256,257,258,259,260,261,262,263,264,265,266,267,268,269,270,271,272,273,274,275,276) have mixed types. Specify dtype option on import or set low_memory=False.\n",
      "  df_sec = pd.read_csv('data/sec/IA_FIRM_SEC_Feed_02_15_2023.csv')\n"
     ]
    }
   ],
   "source": [
    "df_sec = pd.read_csv('data/sec/IA_FIRM_SEC_Feed_02_15_2023.csv')"
   ]
  },
  {
   "cell_type": "code",
   "execution_count": 44,
   "id": "ccbc8ef2-9044-4a54-a57a-583c2813c364",
   "metadata": {
    "collapsed": true,
    "jupyter": {
     "outputs_hidden": true
    },
    "tags": []
   },
   "outputs": [
    {
     "data": {
      "text/plain": [
       "['Filing.@Dt',\n",
       " 'Filing.@FormVrsn',\n",
       " 'FormInfo.Part1A.Item1.@Q1F5',\n",
       " 'FormInfo.Part1A.Item1.@Q1I',\n",
       " 'FormInfo.Part1A.Item1.@Q1M',\n",
       " 'FormInfo.Part1A.Item1.@Q1N',\n",
       " 'FormInfo.Part1A.Item1.@Q1O',\n",
       " 'FormInfo.Part1A.Item1.@Q1ODesc',\n",
       " 'FormInfo.Part1A.Item1.@Q1P',\n",
       " 'FormInfo.Part1A.Item1.WebAddrs',\n",
       " 'FormInfo.Part1A.Item1.WebAddrs.WebAddr',\n",
       " 'FormInfo.Part1A.Item10A.@Q10A',\n",
       " 'FormInfo.Part1A.Item11.@Q11',\n",
       " 'FormInfo.Part1A.Item11A.@Q11A1',\n",
       " 'FormInfo.Part1A.Item11A.@Q11A2',\n",
       " 'FormInfo.Part1A.Item11B.@Q11B1',\n",
       " 'FormInfo.Part1A.Item11B.@Q11B2',\n",
       " 'FormInfo.Part1A.Item11C.@Q11C1',\n",
       " 'FormInfo.Part1A.Item11C.@Q11C2',\n",
       " 'FormInfo.Part1A.Item11C.@Q11C3',\n",
       " 'FormInfo.Part1A.Item11C.@Q11C4',\n",
       " 'FormInfo.Part1A.Item11C.@Q11C5',\n",
       " 'FormInfo.Part1A.Item11D.@Q11D1',\n",
       " 'FormInfo.Part1A.Item11D.@Q11D2',\n",
       " 'FormInfo.Part1A.Item11D.@Q11D3',\n",
       " 'FormInfo.Part1A.Item11D.@Q11D4',\n",
       " 'FormInfo.Part1A.Item11D.@Q11D5',\n",
       " 'FormInfo.Part1A.Item11E.@Q11E1',\n",
       " 'FormInfo.Part1A.Item11E.@Q11E2',\n",
       " 'FormInfo.Part1A.Item11E.@Q11E3',\n",
       " 'FormInfo.Part1A.Item11E.@Q11E4',\n",
       " 'FormInfo.Part1A.Item11F.@Q11F',\n",
       " 'FormInfo.Part1A.Item11G.@Q11G',\n",
       " 'FormInfo.Part1A.Item11H.@Q11H1A',\n",
       " 'FormInfo.Part1A.Item11H.@Q11H1B',\n",
       " 'FormInfo.Part1A.Item11H.@Q11H1C',\n",
       " 'FormInfo.Part1A.Item11H.@Q11H2',\n",
       " 'FormInfo.Part1A.Item2A.@Q2A1',\n",
       " 'FormInfo.Part1A.Item2A.@Q2A10',\n",
       " 'FormInfo.Part1A.Item2A.@Q2A11',\n",
       " 'FormInfo.Part1A.Item2A.@Q2A12',\n",
       " 'FormInfo.Part1A.Item2A.@Q2A13',\n",
       " 'FormInfo.Part1A.Item2A.@Q2A2',\n",
       " 'FormInfo.Part1A.Item2A.@Q2A4',\n",
       " 'FormInfo.Part1A.Item2A.@Q2A5',\n",
       " 'FormInfo.Part1A.Item2A.@Q2A6',\n",
       " 'FormInfo.Part1A.Item2A.@Q2A7',\n",
       " 'FormInfo.Part1A.Item2A.@Q2A8',\n",
       " 'FormInfo.Part1A.Item2A.@Q2A9',\n",
       " 'FormInfo.Part1A.Item2B.@Q2B1',\n",
       " 'FormInfo.Part1A.Item2B.@Q2B2',\n",
       " 'FormInfo.Part1A.Item2B.@Q2B3',\n",
       " 'FormInfo.Part1A.Item3A.@OrgFormNm',\n",
       " 'FormInfo.Part1A.Item3A.@OrgFormOthNm',\n",
       " 'FormInfo.Part1A.Item3B.@Q3B',\n",
       " 'FormInfo.Part1A.Item3C.@CntryNm',\n",
       " 'FormInfo.Part1A.Item3C.@StateCD',\n",
       " 'FormInfo.Part1A.Item5A.@TtlEmp',\n",
       " 'FormInfo.Part1A.Item5B.@Q5B1',\n",
       " 'FormInfo.Part1A.Item5B.@Q5B2',\n",
       " 'FormInfo.Part1A.Item5B.@Q5B3',\n",
       " 'FormInfo.Part1A.Item5B.@Q5B4',\n",
       " 'FormInfo.Part1A.Item5B.@Q5B5',\n",
       " 'FormInfo.Part1A.Item5B.@Q5B6',\n",
       " 'FormInfo.Part1A.Item5C.@Q5C1',\n",
       " 'FormInfo.Part1A.Item5C.@Q5C1Oth',\n",
       " 'FormInfo.Part1A.Item5C.@Q5C2',\n",
       " 'FormInfo.Part1A.Item5D.@Q5D1A',\n",
       " 'FormInfo.Part1A.Item5D.@Q5D1B',\n",
       " 'FormInfo.Part1A.Item5D.@Q5D1C',\n",
       " 'FormInfo.Part1A.Item5D.@Q5D1D',\n",
       " 'FormInfo.Part1A.Item5D.@Q5D1E',\n",
       " 'FormInfo.Part1A.Item5D.@Q5D1F',\n",
       " 'FormInfo.Part1A.Item5D.@Q5D1G',\n",
       " 'FormInfo.Part1A.Item5D.@Q5D1H',\n",
       " 'FormInfo.Part1A.Item5D.@Q5D1I',\n",
       " 'FormInfo.Part1A.Item5D.@Q5D1J',\n",
       " 'FormInfo.Part1A.Item5D.@Q5D1K',\n",
       " 'FormInfo.Part1A.Item5D.@Q5D1L',\n",
       " 'FormInfo.Part1A.Item5D.@Q5D1M',\n",
       " 'FormInfo.Part1A.Item5D.@Q5D2A',\n",
       " 'FormInfo.Part1A.Item5D.@Q5D2B',\n",
       " 'FormInfo.Part1A.Item5D.@Q5D2C',\n",
       " 'FormInfo.Part1A.Item5D.@Q5D2D',\n",
       " 'FormInfo.Part1A.Item5D.@Q5D2E',\n",
       " 'FormInfo.Part1A.Item5D.@Q5D2F',\n",
       " 'FormInfo.Part1A.Item5D.@Q5D2G',\n",
       " 'FormInfo.Part1A.Item5D.@Q5D2H',\n",
       " 'FormInfo.Part1A.Item5D.@Q5D2I',\n",
       " 'FormInfo.Part1A.Item5D.@Q5D2J',\n",
       " 'FormInfo.Part1A.Item5D.@Q5D2K',\n",
       " 'FormInfo.Part1A.Item5D.@Q5D2L',\n",
       " 'FormInfo.Part1A.Item5D.@Q5D2M',\n",
       " 'FormInfo.Part1A.Item5D.@Q5DA1',\n",
       " 'FormInfo.Part1A.Item5D.@Q5DA2',\n",
       " 'FormInfo.Part1A.Item5D.@Q5DA3',\n",
       " 'FormInfo.Part1A.Item5D.@Q5DB1',\n",
       " 'FormInfo.Part1A.Item5D.@Q5DB2',\n",
       " 'FormInfo.Part1A.Item5D.@Q5DB3',\n",
       " 'FormInfo.Part1A.Item5D.@Q5DC1',\n",
       " 'FormInfo.Part1A.Item5D.@Q5DC2',\n",
       " 'FormInfo.Part1A.Item5D.@Q5DC3',\n",
       " 'FormInfo.Part1A.Item5D.@Q5DD1',\n",
       " 'FormInfo.Part1A.Item5D.@Q5DD3',\n",
       " 'FormInfo.Part1A.Item5D.@Q5DE1',\n",
       " 'FormInfo.Part1A.Item5D.@Q5DE3',\n",
       " 'FormInfo.Part1A.Item5D.@Q5DF1',\n",
       " 'FormInfo.Part1A.Item5D.@Q5DF3',\n",
       " 'FormInfo.Part1A.Item5D.@Q5DG1',\n",
       " 'FormInfo.Part1A.Item5D.@Q5DG2',\n",
       " 'FormInfo.Part1A.Item5D.@Q5DG3',\n",
       " 'FormInfo.Part1A.Item5D.@Q5DH1',\n",
       " 'FormInfo.Part1A.Item5D.@Q5DH2',\n",
       " 'FormInfo.Part1A.Item5D.@Q5DH3',\n",
       " 'FormInfo.Part1A.Item5D.@Q5DI1',\n",
       " 'FormInfo.Part1A.Item5D.@Q5DI2',\n",
       " 'FormInfo.Part1A.Item5D.@Q5DI3',\n",
       " 'FormInfo.Part1A.Item5D.@Q5DJ1',\n",
       " 'FormInfo.Part1A.Item5D.@Q5DJ2',\n",
       " 'FormInfo.Part1A.Item5D.@Q5DJ3',\n",
       " 'FormInfo.Part1A.Item5D.@Q5DK1',\n",
       " 'FormInfo.Part1A.Item5D.@Q5DK2',\n",
       " 'FormInfo.Part1A.Item5D.@Q5DK3',\n",
       " 'FormInfo.Part1A.Item5D.@Q5DL1',\n",
       " 'FormInfo.Part1A.Item5D.@Q5DL2',\n",
       " 'FormInfo.Part1A.Item5D.@Q5DL3',\n",
       " 'FormInfo.Part1A.Item5D.@Q5DM1',\n",
       " 'FormInfo.Part1A.Item5D.@Q5DM2',\n",
       " 'FormInfo.Part1A.Item5D.@Q5DM3',\n",
       " 'FormInfo.Part1A.Item5D.@Q5DN1',\n",
       " 'FormInfo.Part1A.Item5D.@Q5DN2',\n",
       " 'FormInfo.Part1A.Item5D.@Q5DN3',\n",
       " 'FormInfo.Part1A.Item5D.@Q5DN3Oth',\n",
       " 'FormInfo.Part1A.Item5E.@Q5E1',\n",
       " 'FormInfo.Part1A.Item5E.@Q5E2',\n",
       " 'FormInfo.Part1A.Item5E.@Q5E3',\n",
       " 'FormInfo.Part1A.Item5E.@Q5E4',\n",
       " 'FormInfo.Part1A.Item5E.@Q5E5',\n",
       " 'FormInfo.Part1A.Item5E.@Q5E6',\n",
       " 'FormInfo.Part1A.Item5E.@Q5E7',\n",
       " 'FormInfo.Part1A.Item5E.@Q5E7Oth',\n",
       " 'FormInfo.Part1A.Item5F.@Q5F1',\n",
       " 'FormInfo.Part1A.Item5F.@Q5F2A',\n",
       " 'FormInfo.Part1A.Item5F.@Q5F2B',\n",
       " 'FormInfo.Part1A.Item5F.@Q5F2C',\n",
       " 'FormInfo.Part1A.Item5F.@Q5F2D',\n",
       " 'FormInfo.Part1A.Item5F.@Q5F2E',\n",
       " 'FormInfo.Part1A.Item5F.@Q5F2F',\n",
       " 'FormInfo.Part1A.Item5F.@Q5F3',\n",
       " 'FormInfo.Part1A.Item5G.@Q5G1',\n",
       " 'FormInfo.Part1A.Item5G.@Q5G10',\n",
       " 'FormInfo.Part1A.Item5G.@Q5G11',\n",
       " 'FormInfo.Part1A.Item5G.@Q5G12',\n",
       " 'FormInfo.Part1A.Item5G.@Q5G12Oth',\n",
       " 'FormInfo.Part1A.Item5G.@Q5G2',\n",
       " 'FormInfo.Part1A.Item5G.@Q5G3',\n",
       " 'FormInfo.Part1A.Item5G.@Q5G4',\n",
       " 'FormInfo.Part1A.Item5G.@Q5G5',\n",
       " 'FormInfo.Part1A.Item5G.@Q5G6',\n",
       " 'FormInfo.Part1A.Item5G.@Q5G7',\n",
       " 'FormInfo.Part1A.Item5G.@Q5G8',\n",
       " 'FormInfo.Part1A.Item5G.@Q5G9',\n",
       " 'FormInfo.Part1A.Item5H.@Q5H',\n",
       " 'FormInfo.Part1A.Item5H.@Q5HMT500',\n",
       " 'FormInfo.Part1A.Item5I.@Q5I1',\n",
       " 'FormInfo.Part1A.Item5I.@Q5I2A',\n",
       " 'FormInfo.Part1A.Item5I.@Q5I2B',\n",
       " 'FormInfo.Part1A.Item5I.@Q5I2C',\n",
       " 'FormInfo.Part1A.Item5J.@Q5J1',\n",
       " 'FormInfo.Part1A.Item5J.@Q5J2',\n",
       " 'FormInfo.Part1A.Item5K.@Q5K1',\n",
       " 'FormInfo.Part1A.Item5K.@Q5K2',\n",
       " 'FormInfo.Part1A.Item5K.@Q5K3',\n",
       " 'FormInfo.Part1A.Item5K.@Q5K4',\n",
       " 'FormInfo.Part1A.Item5L.@Q5L1A',\n",
       " 'FormInfo.Part1A.Item5L.@Q5L1B',\n",
       " 'FormInfo.Part1A.Item5L.@Q5L1C',\n",
       " 'FormInfo.Part1A.Item5L.@Q5L1D',\n",
       " 'FormInfo.Part1A.Item5L.@Q5L1E',\n",
       " 'FormInfo.Part1A.Item5L.@Q5L2',\n",
       " 'FormInfo.Part1A.Item5L.@Q5L3',\n",
       " 'FormInfo.Part1A.Item5L.@Q5L4',\n",
       " 'FormInfo.Part1A.Item6A.@Q6A1',\n",
       " 'FormInfo.Part1A.Item6A.@Q6A10',\n",
       " 'FormInfo.Part1A.Item6A.@Q6A11',\n",
       " 'FormInfo.Part1A.Item6A.@Q6A12',\n",
       " 'FormInfo.Part1A.Item6A.@Q6A13',\n",
       " 'FormInfo.Part1A.Item6A.@Q6A14',\n",
       " 'FormInfo.Part1A.Item6A.@Q6A14Oth',\n",
       " 'FormInfo.Part1A.Item6A.@Q6A2',\n",
       " 'FormInfo.Part1A.Item6A.@Q6A3',\n",
       " 'FormInfo.Part1A.Item6A.@Q6A4',\n",
       " 'FormInfo.Part1A.Item6A.@Q6A5',\n",
       " 'FormInfo.Part1A.Item6A.@Q6A6',\n",
       " 'FormInfo.Part1A.Item6A.@Q6A7',\n",
       " 'FormInfo.Part1A.Item6A.@Q6A8',\n",
       " 'FormInfo.Part1A.Item6A.@Q6A9',\n",
       " 'FormInfo.Part1A.Item6B.@Q6B1',\n",
       " 'FormInfo.Part1A.Item6B.@Q6B2',\n",
       " 'FormInfo.Part1A.Item6B.@Q6B3',\n",
       " 'FormInfo.Part1A.Item7A.@Q7A1',\n",
       " 'FormInfo.Part1A.Item7A.@Q7A10',\n",
       " 'FormInfo.Part1A.Item7A.@Q7A11',\n",
       " 'FormInfo.Part1A.Item7A.@Q7A12',\n",
       " 'FormInfo.Part1A.Item7A.@Q7A13',\n",
       " 'FormInfo.Part1A.Item7A.@Q7A14',\n",
       " 'FormInfo.Part1A.Item7A.@Q7A15',\n",
       " 'FormInfo.Part1A.Item7A.@Q7A16',\n",
       " 'FormInfo.Part1A.Item7A.@Q7A2',\n",
       " 'FormInfo.Part1A.Item7A.@Q7A3',\n",
       " 'FormInfo.Part1A.Item7A.@Q7A4',\n",
       " 'FormInfo.Part1A.Item7A.@Q7A5',\n",
       " 'FormInfo.Part1A.Item7A.@Q7A6',\n",
       " 'FormInfo.Part1A.Item7A.@Q7A7',\n",
       " 'FormInfo.Part1A.Item7A.@Q7A8',\n",
       " 'FormInfo.Part1A.Item7A.@Q7A9',\n",
       " 'FormInfo.Part1A.Item7B.@Q7B',\n",
       " 'FormInfo.Part1A.Item8A.@Q8A1',\n",
       " 'FormInfo.Part1A.Item8A.@Q8A2',\n",
       " 'FormInfo.Part1A.Item8A.@Q8A3',\n",
       " 'FormInfo.Part1A.Item8B.@Q8B1',\n",
       " 'FormInfo.Part1A.Item8B.@Q8B2',\n",
       " 'FormInfo.Part1A.Item8B.@Q8B3',\n",
       " 'FormInfo.Part1A.Item8C.@Q8C1',\n",
       " 'FormInfo.Part1A.Item8C.@Q8C2',\n",
       " 'FormInfo.Part1A.Item8C.@Q8C3',\n",
       " 'FormInfo.Part1A.Item8C.@Q8C4',\n",
       " 'FormInfo.Part1A.Item8D.@Q8D',\n",
       " 'FormInfo.Part1A.Item8E.@Q8E',\n",
       " 'FormInfo.Part1A.Item8F.@Q8F',\n",
       " 'FormInfo.Part1A.Item8G.@Q8G1',\n",
       " 'FormInfo.Part1A.Item8G.@Q8G2',\n",
       " 'FormInfo.Part1A.Item8H.@Q8H',\n",
       " 'FormInfo.Part1A.Item8H.@Q8H1',\n",
       " 'FormInfo.Part1A.Item8H.@Q8H2',\n",
       " 'FormInfo.Part1A.Item8I.@Q8I',\n",
       " 'FormInfo.Part1A.Item9A.@Q9A1A',\n",
       " 'FormInfo.Part1A.Item9A.@Q9A1B',\n",
       " 'FormInfo.Part1A.Item9A.@Q9A2A',\n",
       " 'FormInfo.Part1A.Item9A.@Q9A2B',\n",
       " 'FormInfo.Part1A.Item9B.@Q9B1A',\n",
       " 'FormInfo.Part1A.Item9B.@Q9B1B',\n",
       " 'FormInfo.Part1A.Item9B.@Q9B2A',\n",
       " 'FormInfo.Part1A.Item9B.@Q9B2B',\n",
       " 'FormInfo.Part1A.Item9C.@Q9C1',\n",
       " 'FormInfo.Part1A.Item9C.@Q9C2',\n",
       " 'FormInfo.Part1A.Item9C.@Q9C3',\n",
       " 'FormInfo.Part1A.Item9C.@Q9C4',\n",
       " 'FormInfo.Part1A.Item9D.@Q9D1',\n",
       " 'FormInfo.Part1A.Item9D.@Q9D2',\n",
       " 'FormInfo.Part1A.Item9E.@Q9E',\n",
       " 'FormInfo.Part1A.Item9F.@Q9F',\n",
       " 'Info.@BusNm',\n",
       " 'Info.@FirmCrdNb',\n",
       " 'Info.@LegalNm',\n",
       " 'Info.@SECNb',\n",
       " 'Info.@SECRgnCD',\n",
       " 'Info.@UmbrRgstn',\n",
       " 'MailingAddr.@City',\n",
       " 'MailingAddr.@Cntry',\n",
       " 'MailingAddr.@PostlCd',\n",
       " 'MailingAddr.@State',\n",
       " 'MailingAddr.@Strt1',\n",
       " 'MailingAddr.@Strt2',\n",
       " 'MainAddr.@City',\n",
       " 'MainAddr.@Cntry',\n",
       " 'MainAddr.@FaxNb',\n",
       " 'MainAddr.@PhNb',\n",
       " 'MainAddr.@PostlCd',\n",
       " 'MainAddr.@State',\n",
       " 'MainAddr.@Strt1',\n",
       " 'MainAddr.@Strt2',\n",
       " 'NoticeFiled.States.@Dt',\n",
       " 'NoticeFiled.States.@RgltrCd',\n",
       " 'NoticeFiled.States.@St',\n",
       " 'Rgstn.@Dt',\n",
       " 'Rgstn.@FirmType',\n",
       " 'Rgstn.@St']"
      ]
     },
     "execution_count": 44,
     "metadata": {},
     "output_type": "execute_result"
    }
   ],
   "source": [
    "sorted(df_sec.columns.to_list())"
   ]
  },
  {
   "cell_type": "markdown",
   "id": "2e348260-8088-4de3-b23a-527c0993d0fe",
   "metadata": {},
   "source": [
    "Number of Advisers -- everything"
   ]
  },
  {
   "cell_type": "code",
   "execution_count": 7,
   "id": "e1ba3fec-053d-42f0-9eaa-e7dd29674891",
   "metadata": {
    "tags": []
   },
   "outputs": [
    {
     "data": {
      "text/plain": [
       "21075"
      ]
     },
     "execution_count": 7,
     "metadata": {},
     "output_type": "execute_result"
    }
   ],
   "source": [
    "df_sec.shape[0]"
   ]
  },
  {
   "cell_type": "code",
   "execution_count": 12,
   "id": "0379a23f-1110-4882-be0f-17037abd427b",
   "metadata": {
    "tags": []
   },
   "outputs": [],
   "source": [
    "df_sec['large_or_mid_sized'] = (df_sec['FormInfo.Part1A.Item2A.@Q2A1'] == 'Y') | (df_sec['FormInfo.Part1A.Item2A.@Q2A2'] == 'Y')"
   ]
  },
  {
   "cell_type": "code",
   "execution_count": 13,
   "id": "587ed5ae-f520-475f-a518-098608159014",
   "metadata": {
    "tags": []
   },
   "outputs": [],
   "source": [
    "df_sec['robo'] = df_sec['FormInfo.Part1A.Item2A.@Q2A11'] == 'Y'"
   ]
  },
  {
   "cell_type": "markdown",
   "id": "849a8536-f7f3-4e10-a3c4-eb7a6b7fc316",
   "metadata": {},
   "source": [
    "Number of Advisers -- just the \"regular\" firms"
   ]
  },
  {
   "cell_type": "code",
   "execution_count": 15,
   "id": "3b5c751d-9d92-44de-be9f-e9f4ab11d03b",
   "metadata": {
    "tags": []
   },
   "outputs": [
    {
     "data": {
      "text/plain": [
       "13794"
      ]
     },
     "execution_count": 15,
     "metadata": {},
     "output_type": "execute_result"
    }
   ],
   "source": [
    "df_sec_reg = df_sec[df_sec['large_or_mid_sized']].copy()\n",
    "df_sec_reg.shape[0]"
   ]
  },
  {
   "cell_type": "markdown",
   "id": "dc067efb-4b4c-4963-8b4b-e6f4a6145a3f",
   "metadata": {},
   "source": [
    "Number of Robo Advisers"
   ]
  },
  {
   "cell_type": "code",
   "execution_count": 16,
   "id": "bc86f8f6-b448-4bd1-b8ab-7f412247e74e",
   "metadata": {
    "tags": []
   },
   "outputs": [
    {
     "data": {
      "text/plain": [
       "269"
      ]
     },
     "execution_count": 16,
     "metadata": {},
     "output_type": "execute_result"
    }
   ],
   "source": [
    "df_sec_robo = df_sec[df_sec['robo']].copy()\n",
    "df_sec_robo.shape[0]"
   ]
  },
  {
   "cell_type": "markdown",
   "id": "37eb51e4-d9f9-4606-a7c9-cb76c13ae5aa",
   "metadata": {},
   "source": [
    "## State-Registered Advisers "
   ]
  },
  {
   "cell_type": "code",
   "execution_count": 41,
   "id": "40ced4ae-3670-4bd8-95c2-1c1e0c3dfb22",
   "metadata": {
    "tags": []
   },
   "outputs": [
    {
     "name": "stderr",
     "output_type": "stream",
     "text": [
      "/tmp/ipykernel_161773/3518042785.py:1: DtypeWarning: Columns (35,243,244,245,246,247,248,249,250,251,252,253,254,255,256,257,258,259,260,261,262,263,264,265,266,267,268,270,277,299,306,309,310,313) have mixed types. Specify dtype option on import or set low_memory=False.\n",
      "  df_state = pd.read_csv('data/sec/IA_FIRM_STATE_Feed_02_15_2023.csv')\n"
     ]
    }
   ],
   "source": [
    "df_state = pd.read_csv('data/sec/IA_FIRM_STATE_Feed_02_15_2023.csv')"
   ]
  },
  {
   "cell_type": "code",
   "execution_count": 42,
   "id": "fbe1a715-0e21-4720-8198-08827f43b16d",
   "metadata": {
    "collapsed": true,
    "jupyter": {
     "outputs_hidden": true
    },
    "tags": []
   },
   "outputs": [
    {
     "data": {
      "text/plain": [
       "['ERA.Rgltrs',\n",
       " 'ERA.Rgltrs.Rgltr',\n",
       " 'ERA.Rgltrs.Rgltr.@Cd',\n",
       " 'ERA.Rgltrs.Rgltr.@Dt',\n",
       " 'ERA.Rgltrs.Rgltr.@St',\n",
       " 'Filing.@Dt',\n",
       " 'Filing.@FormVrsn',\n",
       " 'FormInfo.Part1A.Item1.@Q1F5',\n",
       " 'FormInfo.Part1A.Item1.@Q1I',\n",
       " 'FormInfo.Part1A.Item1.@Q1M',\n",
       " 'FormInfo.Part1A.Item1.@Q1N',\n",
       " 'FormInfo.Part1A.Item1.@Q1O',\n",
       " 'FormInfo.Part1A.Item1.@Q1ODESC',\n",
       " 'FormInfo.Part1A.Item1.@Q1P',\n",
       " 'FormInfo.Part1A.Item1.WebAddrs',\n",
       " 'FormInfo.Part1A.Item1.WebAddrs.WebAddr',\n",
       " 'FormInfo.Part1A.Item10A.@Q10A',\n",
       " 'FormInfo.Part1A.Item11.@Q11',\n",
       " 'FormInfo.Part1A.Item11A.@Q11A1',\n",
       " 'FormInfo.Part1A.Item11A.@Q11A2',\n",
       " 'FormInfo.Part1A.Item11B.@Q11B1',\n",
       " 'FormInfo.Part1A.Item11B.@Q11B2',\n",
       " 'FormInfo.Part1A.Item11C.@Q11C1',\n",
       " 'FormInfo.Part1A.Item11C.@Q11C2',\n",
       " 'FormInfo.Part1A.Item11C.@Q11C3',\n",
       " 'FormInfo.Part1A.Item11C.@Q11C4',\n",
       " 'FormInfo.Part1A.Item11C.@Q11C5',\n",
       " 'FormInfo.Part1A.Item11D.@Q11D1',\n",
       " 'FormInfo.Part1A.Item11D.@Q11D2',\n",
       " 'FormInfo.Part1A.Item11D.@Q11D3',\n",
       " 'FormInfo.Part1A.Item11D.@Q11D4',\n",
       " 'FormInfo.Part1A.Item11D.@Q11D5',\n",
       " 'FormInfo.Part1A.Item11E.@Q11E1',\n",
       " 'FormInfo.Part1A.Item11E.@Q11E2',\n",
       " 'FormInfo.Part1A.Item11E.@Q11E3',\n",
       " 'FormInfo.Part1A.Item11E.@Q11E4',\n",
       " 'FormInfo.Part1A.Item11F.@Q11F',\n",
       " 'FormInfo.Part1A.Item11G.@Q11G',\n",
       " 'FormInfo.Part1A.Item11H.@Q11H1A',\n",
       " 'FormInfo.Part1A.Item11H.@Q11H1B',\n",
       " 'FormInfo.Part1A.Item11H.@Q11H1C',\n",
       " 'FormInfo.Part1A.Item11H.@Q11H2',\n",
       " 'FormInfo.Part1A.Item3A.@OrgFormNm',\n",
       " 'FormInfo.Part1A.Item3A.@OrgFormOthNm',\n",
       " 'FormInfo.Part1A.Item3B.@Q3B',\n",
       " 'FormInfo.Part1A.Item3C.@CntryNm',\n",
       " 'FormInfo.Part1A.Item3C.@StateCD',\n",
       " 'FormInfo.Part1A.Item5A.@TtlEmp',\n",
       " 'FormInfo.Part1A.Item5B.@Q5B1',\n",
       " 'FormInfo.Part1A.Item5B.@Q5B2',\n",
       " 'FormInfo.Part1A.Item5B.@Q5B3',\n",
       " 'FormInfo.Part1A.Item5B.@Q5B4',\n",
       " 'FormInfo.Part1A.Item5B.@Q5B5',\n",
       " 'FormInfo.Part1A.Item5B.@Q5B6',\n",
       " 'FormInfo.Part1A.Item5C.@Q5C1',\n",
       " 'FormInfo.Part1A.Item5C.@Q5C1Oth',\n",
       " 'FormInfo.Part1A.Item5C.@Q5C2',\n",
       " 'FormInfo.Part1A.Item5D.@Q5D1A',\n",
       " 'FormInfo.Part1A.Item5D.@Q5D1B',\n",
       " 'FormInfo.Part1A.Item5D.@Q5D1C',\n",
       " 'FormInfo.Part1A.Item5D.@Q5D1D',\n",
       " 'FormInfo.Part1A.Item5D.@Q5D1E',\n",
       " 'FormInfo.Part1A.Item5D.@Q5D1F',\n",
       " 'FormInfo.Part1A.Item5D.@Q5D1G',\n",
       " 'FormInfo.Part1A.Item5D.@Q5D1H',\n",
       " 'FormInfo.Part1A.Item5D.@Q5D1I',\n",
       " 'FormInfo.Part1A.Item5D.@Q5D1J',\n",
       " 'FormInfo.Part1A.Item5D.@Q5D1K',\n",
       " 'FormInfo.Part1A.Item5D.@Q5D1L',\n",
       " 'FormInfo.Part1A.Item5D.@Q5D1M',\n",
       " 'FormInfo.Part1A.Item5D.@Q5D1MOth',\n",
       " 'FormInfo.Part1A.Item5D.@Q5D2A',\n",
       " 'FormInfo.Part1A.Item5D.@Q5D2B',\n",
       " 'FormInfo.Part1A.Item5D.@Q5D2C',\n",
       " 'FormInfo.Part1A.Item5D.@Q5D2D',\n",
       " 'FormInfo.Part1A.Item5D.@Q5D2E',\n",
       " 'FormInfo.Part1A.Item5D.@Q5D2F',\n",
       " 'FormInfo.Part1A.Item5D.@Q5D2G',\n",
       " 'FormInfo.Part1A.Item5D.@Q5D2H',\n",
       " 'FormInfo.Part1A.Item5D.@Q5D2I',\n",
       " 'FormInfo.Part1A.Item5D.@Q5D2J',\n",
       " 'FormInfo.Part1A.Item5D.@Q5D2K',\n",
       " 'FormInfo.Part1A.Item5D.@Q5D2L',\n",
       " 'FormInfo.Part1A.Item5D.@Q5D2M',\n",
       " 'FormInfo.Part1A.Item5D.@Q5D2MOth',\n",
       " 'FormInfo.Part1A.Item5D.@Q5DA1',\n",
       " 'FormInfo.Part1A.Item5D.@Q5DA2',\n",
       " 'FormInfo.Part1A.Item5D.@Q5DA3',\n",
       " 'FormInfo.Part1A.Item5D.@Q5DB1',\n",
       " 'FormInfo.Part1A.Item5D.@Q5DB2',\n",
       " 'FormInfo.Part1A.Item5D.@Q5DB3',\n",
       " 'FormInfo.Part1A.Item5D.@Q5DC1',\n",
       " 'FormInfo.Part1A.Item5D.@Q5DC2',\n",
       " 'FormInfo.Part1A.Item5D.@Q5DC3',\n",
       " 'FormInfo.Part1A.Item5D.@Q5DD1',\n",
       " 'FormInfo.Part1A.Item5D.@Q5DD3',\n",
       " 'FormInfo.Part1A.Item5D.@Q5DE1',\n",
       " 'FormInfo.Part1A.Item5D.@Q5DE3',\n",
       " 'FormInfo.Part1A.Item5D.@Q5DF1',\n",
       " 'FormInfo.Part1A.Item5D.@Q5DF3',\n",
       " 'FormInfo.Part1A.Item5D.@Q5DG1',\n",
       " 'FormInfo.Part1A.Item5D.@Q5DG2',\n",
       " 'FormInfo.Part1A.Item5D.@Q5DG3',\n",
       " 'FormInfo.Part1A.Item5D.@Q5DH1',\n",
       " 'FormInfo.Part1A.Item5D.@Q5DH2',\n",
       " 'FormInfo.Part1A.Item5D.@Q5DH3',\n",
       " 'FormInfo.Part1A.Item5D.@Q5DI1',\n",
       " 'FormInfo.Part1A.Item5D.@Q5DI2',\n",
       " 'FormInfo.Part1A.Item5D.@Q5DI3',\n",
       " 'FormInfo.Part1A.Item5D.@Q5DJ1',\n",
       " 'FormInfo.Part1A.Item5D.@Q5DJ2',\n",
       " 'FormInfo.Part1A.Item5D.@Q5DJ3',\n",
       " 'FormInfo.Part1A.Item5D.@Q5DK1',\n",
       " 'FormInfo.Part1A.Item5D.@Q5DK2',\n",
       " 'FormInfo.Part1A.Item5D.@Q5DK3',\n",
       " 'FormInfo.Part1A.Item5D.@Q5DL1',\n",
       " 'FormInfo.Part1A.Item5D.@Q5DL2',\n",
       " 'FormInfo.Part1A.Item5D.@Q5DL3',\n",
       " 'FormInfo.Part1A.Item5D.@Q5DM1',\n",
       " 'FormInfo.Part1A.Item5D.@Q5DM2',\n",
       " 'FormInfo.Part1A.Item5D.@Q5DM3',\n",
       " 'FormInfo.Part1A.Item5D.@Q5DN1',\n",
       " 'FormInfo.Part1A.Item5D.@Q5DN2',\n",
       " 'FormInfo.Part1A.Item5D.@Q5DN3',\n",
       " 'FormInfo.Part1A.Item5D.@Q5DN3Oth',\n",
       " 'FormInfo.Part1A.Item5E.@Q5E1',\n",
       " 'FormInfo.Part1A.Item5E.@Q5E2',\n",
       " 'FormInfo.Part1A.Item5E.@Q5E3',\n",
       " 'FormInfo.Part1A.Item5E.@Q5E4',\n",
       " 'FormInfo.Part1A.Item5E.@Q5E5',\n",
       " 'FormInfo.Part1A.Item5E.@Q5E6',\n",
       " 'FormInfo.Part1A.Item5E.@Q5E7',\n",
       " 'FormInfo.Part1A.Item5E.@Q5E7Oth',\n",
       " 'FormInfo.Part1A.Item5F.@Q5F1',\n",
       " 'FormInfo.Part1A.Item5F.@Q5F2A',\n",
       " 'FormInfo.Part1A.Item5F.@Q5F2B',\n",
       " 'FormInfo.Part1A.Item5F.@Q5F2C',\n",
       " 'FormInfo.Part1A.Item5F.@Q5F2D',\n",
       " 'FormInfo.Part1A.Item5F.@Q5F2E',\n",
       " 'FormInfo.Part1A.Item5F.@Q5F2F',\n",
       " 'FormInfo.Part1A.Item5F.@Q5F3',\n",
       " 'FormInfo.Part1A.Item5G.@Q5G1',\n",
       " 'FormInfo.Part1A.Item5G.@Q5G10',\n",
       " 'FormInfo.Part1A.Item5G.@Q5G11',\n",
       " 'FormInfo.Part1A.Item5G.@Q5G12',\n",
       " 'FormInfo.Part1A.Item5G.@Q5G12Oth',\n",
       " 'FormInfo.Part1A.Item5G.@Q5G2',\n",
       " 'FormInfo.Part1A.Item5G.@Q5G3',\n",
       " 'FormInfo.Part1A.Item5G.@Q5G4',\n",
       " 'FormInfo.Part1A.Item5G.@Q5G5',\n",
       " 'FormInfo.Part1A.Item5G.@Q5G6',\n",
       " 'FormInfo.Part1A.Item5G.@Q5G7',\n",
       " 'FormInfo.Part1A.Item5G.@Q5G8',\n",
       " 'FormInfo.Part1A.Item5G.@Q5G9',\n",
       " 'FormInfo.Part1A.Item5H.@Q5H',\n",
       " 'FormInfo.Part1A.Item5H.@Q5HMT500',\n",
       " 'FormInfo.Part1A.Item5I.@Q5I1',\n",
       " 'FormInfo.Part1A.Item5I.@Q5I2A',\n",
       " 'FormInfo.Part1A.Item5I.@Q5I2B',\n",
       " 'FormInfo.Part1A.Item5I.@Q5I2C',\n",
       " 'FormInfo.Part1A.Item5J.@Q5J1',\n",
       " 'FormInfo.Part1A.Item5J.@Q5J2',\n",
       " 'FormInfo.Part1A.Item5K.@Q5K1',\n",
       " 'FormInfo.Part1A.Item5K.@Q5K2',\n",
       " 'FormInfo.Part1A.Item5K.@Q5K3',\n",
       " 'FormInfo.Part1A.Item5K.@Q5K4',\n",
       " 'FormInfo.Part1A.Item5L.@Q5L1A',\n",
       " 'FormInfo.Part1A.Item5L.@Q5L1B',\n",
       " 'FormInfo.Part1A.Item5L.@Q5L1C',\n",
       " 'FormInfo.Part1A.Item5L.@Q5L1D',\n",
       " 'FormInfo.Part1A.Item5L.@Q5L1E',\n",
       " 'FormInfo.Part1A.Item5L.@Q5L2',\n",
       " 'FormInfo.Part1A.Item5L.@Q5L3',\n",
       " 'FormInfo.Part1A.Item5L.@Q5L4',\n",
       " 'FormInfo.Part1A.Item6A.@Q6A1',\n",
       " 'FormInfo.Part1A.Item6A.@Q6A10',\n",
       " 'FormInfo.Part1A.Item6A.@Q6A11',\n",
       " 'FormInfo.Part1A.Item6A.@Q6A12',\n",
       " 'FormInfo.Part1A.Item6A.@Q6A13',\n",
       " 'FormInfo.Part1A.Item6A.@Q6A14',\n",
       " 'FormInfo.Part1A.Item6A.@Q6A14Oth',\n",
       " 'FormInfo.Part1A.Item6A.@Q6A2',\n",
       " 'FormInfo.Part1A.Item6A.@Q6A3',\n",
       " 'FormInfo.Part1A.Item6A.@Q6A4',\n",
       " 'FormInfo.Part1A.Item6A.@Q6A5',\n",
       " 'FormInfo.Part1A.Item6A.@Q6A6',\n",
       " 'FormInfo.Part1A.Item6A.@Q6A7',\n",
       " 'FormInfo.Part1A.Item6A.@Q6A8',\n",
       " 'FormInfo.Part1A.Item6A.@Q6A9',\n",
       " 'FormInfo.Part1A.Item6B.@Q6B1',\n",
       " 'FormInfo.Part1A.Item6B.@Q6B2',\n",
       " 'FormInfo.Part1A.Item6B.@Q6B3',\n",
       " 'FormInfo.Part1A.Item7A.@Q7A1',\n",
       " 'FormInfo.Part1A.Item7A.@Q7A10',\n",
       " 'FormInfo.Part1A.Item7A.@Q7A11',\n",
       " 'FormInfo.Part1A.Item7A.@Q7A12',\n",
       " 'FormInfo.Part1A.Item7A.@Q7A13',\n",
       " 'FormInfo.Part1A.Item7A.@Q7A14',\n",
       " 'FormInfo.Part1A.Item7A.@Q7A15',\n",
       " 'FormInfo.Part1A.Item7A.@Q7A16',\n",
       " 'FormInfo.Part1A.Item7A.@Q7A2',\n",
       " 'FormInfo.Part1A.Item7A.@Q7A3',\n",
       " 'FormInfo.Part1A.Item7A.@Q7A4',\n",
       " 'FormInfo.Part1A.Item7A.@Q7A5',\n",
       " 'FormInfo.Part1A.Item7A.@Q7A6',\n",
       " 'FormInfo.Part1A.Item7A.@Q7A7',\n",
       " 'FormInfo.Part1A.Item7A.@Q7A8',\n",
       " 'FormInfo.Part1A.Item7A.@Q7A9',\n",
       " 'FormInfo.Part1A.Item7B.@Q7B',\n",
       " 'FormInfo.Part1A.Item8A.@Q8A1',\n",
       " 'FormInfo.Part1A.Item8A.@Q8A2',\n",
       " 'FormInfo.Part1A.Item8A.@Q8A3',\n",
       " 'FormInfo.Part1A.Item8B.@Q8B1',\n",
       " 'FormInfo.Part1A.Item8B.@Q8B2',\n",
       " 'FormInfo.Part1A.Item8B.@Q8B3',\n",
       " 'FormInfo.Part1A.Item8C.@Q8C1',\n",
       " 'FormInfo.Part1A.Item8C.@Q8C2',\n",
       " 'FormInfo.Part1A.Item8C.@Q8C3',\n",
       " 'FormInfo.Part1A.Item8C.@Q8C4',\n",
       " 'FormInfo.Part1A.Item8D.@Q8D',\n",
       " 'FormInfo.Part1A.Item8E.@Q8E',\n",
       " 'FormInfo.Part1A.Item8F.@Q8F',\n",
       " 'FormInfo.Part1A.Item8G.@Q8G1',\n",
       " 'FormInfo.Part1A.Item8G.@Q8G2',\n",
       " 'FormInfo.Part1A.Item8H.@Q8H',\n",
       " 'FormInfo.Part1A.Item8H.@Q8H1',\n",
       " 'FormInfo.Part1A.Item8H.@Q8H2',\n",
       " 'FormInfo.Part1A.Item8I.@Q8I',\n",
       " 'FormInfo.Part1A.Item9A.@Q9A1A',\n",
       " 'FormInfo.Part1A.Item9A.@Q9A1B',\n",
       " 'FormInfo.Part1A.Item9A.@Q9A2A',\n",
       " 'FormInfo.Part1A.Item9A.@Q9A2B',\n",
       " 'FormInfo.Part1A.Item9B.@Q9B1A',\n",
       " 'FormInfo.Part1A.Item9B.@Q9B1B',\n",
       " 'FormInfo.Part1A.Item9B.@Q9B2A',\n",
       " 'FormInfo.Part1A.Item9B.@Q9B2B',\n",
       " 'FormInfo.Part1A.Item9C.@Q9C1',\n",
       " 'FormInfo.Part1A.Item9C.@Q9C2',\n",
       " 'FormInfo.Part1A.Item9C.@Q9C3',\n",
       " 'FormInfo.Part1A.Item9C.@Q9C4',\n",
       " 'FormInfo.Part1A.Item9D.@Q9D1',\n",
       " 'FormInfo.Part1A.Item9D.@Q9D2',\n",
       " 'FormInfo.Part1A.Item9E.@Q9E',\n",
       " 'FormInfo.Part1A.Item9F.@Q9F',\n",
       " 'FormInfo.Part1B.DsclrQstns.@Q1B2C',\n",
       " 'FormInfo.Part1B.DsclrQstns.@Q1B2D',\n",
       " 'FormInfo.Part1B.DsclrQstns.@Q1B2E1',\n",
       " 'FormInfo.Part1B.DsclrQstns.@Q1B2E2',\n",
       " 'FormInfo.Part1B.DsclrQstns.@Q1B2E3',\n",
       " 'FormInfo.Part1B.DsclrQstns.@Q1B2E4',\n",
       " 'FormInfo.Part1B.DsclrQstns.@Q1B2E5',\n",
       " 'FormInfo.Part1B.DsclrQstns.@Q1B2F1',\n",
       " 'FormInfo.Part1B.DsclrQstns.@Q1B2F2',\n",
       " 'FormInfo.Part1B.DsclrQstns.@Q1B2F3',\n",
       " 'FormInfo.Part1B.DsclrQstns.@Q1B2F4',\n",
       " 'FormInfo.Part1B.DsclrQstns.@Q1B2F5',\n",
       " 'FormInfo.Part1B.Item2.@Q1B2B1',\n",
       " 'FormInfo.Part1B.Item2.@Q1B2B2',\n",
       " 'FormInfo.Part1B.Item2.@Q1B2B4',\n",
       " 'FormInfo.Part1B.ItemG.@Q1B2G2',\n",
       " 'FormInfo.Part1B.ItemG.@Q1BG1IssueScrts',\n",
       " 'FormInfo.Part1B.ItemG.@Q1BG1PoolInvmt',\n",
       " 'FormInfo.Part1B.ItemG.@Q1BG1ReAdvsr',\n",
       " 'FormInfo.Part1B.ItemG.@Q1BG1TaxPrprr',\n",
       " 'FormInfo.Part1B.ItemG.@Q1BG1XcldPoolInvmt',\n",
       " 'FormInfo.Part1B.ItemH.@Q1B2HNScrtsNvsmt',\n",
       " 'FormInfo.Part1B.ItemH.@Q1B2HNScrtsNvsmtAm',\n",
       " 'FormInfo.Part1B.ItemH.@Q1B2HScrtsNvsmt',\n",
       " 'FormInfo.Part1B.ItemH.@Q1B2HScrtsNvsmtAm',\n",
       " 'FormInfo.Part1B.ItemI.@Q1B2I1',\n",
       " 'FormInfo.Part1B.ItemI.@Q1B2I1A',\n",
       " 'FormInfo.Part1B.ItemI.@Q1B2I1B',\n",
       " 'FormInfo.Part1B.ItemI.@Q1B2I1C',\n",
       " 'FormInfo.Part1B.ItemI.@Q1B2I2Ai',\n",
       " 'FormInfo.Part1B.ItemI.@Q1B2I2AiiAtrny',\n",
       " 'FormInfo.Part1B.ItemI.@Q1B2I2AiiCpa',\n",
       " 'FormInfo.Part1B.ItemI.@Q1B2I2AiiOth',\n",
       " 'FormInfo.Part1B.ItemI.@Q1B2I2AiiOthTx',\n",
       " 'FormInfo.Part1B.ItemI.@Q1B2I2B',\n",
       " 'FormInfo.Part1B.ItemI.@Q1B2I3',\n",
       " 'FormInfo.Part1B.ItemJ.@Q1BJ1A',\n",
       " 'FormInfo.Part1B.ItemJ.@Q1BJ1B',\n",
       " 'FormInfo.Part1B.ItemJ.@Q1BJ2A',\n",
       " 'FormInfo.Part1B.ItemJ.@Q1BJ2BCfa',\n",
       " 'FormInfo.Part1B.ItemJ.@Q1BJ2BCfp',\n",
       " 'FormInfo.Part1B.ItemJ.@Q1BJ2BChfc',\n",
       " 'FormInfo.Part1B.ItemJ.@Q1BJ2BCic',\n",
       " 'FormInfo.Part1B.ItemJ.@Q1BJ2BNone',\n",
       " 'FormInfo.Part1B.ItemJ.@Q1BJ2BPfs',\n",
       " 'FormInfo.Part1B.ItemK.@Q1B2K1',\n",
       " 'Info.@BusNm',\n",
       " 'Info.@FirmCrdNb',\n",
       " 'Info.@LegalNm',\n",
       " 'Info.@SECNb',\n",
       " 'Info.@UmbrRgstn',\n",
       " 'MailingAddr.@City',\n",
       " 'MailingAddr.@Cntry',\n",
       " 'MailingAddr.@PostlCd',\n",
       " 'MailingAddr.@State',\n",
       " 'MailingAddr.@Strt1',\n",
       " 'MailingAddr.@Strt2',\n",
       " 'MainAddr.@City',\n",
       " 'MainAddr.@Cntry',\n",
       " 'MainAddr.@FaxNb',\n",
       " 'MainAddr.@PhNb',\n",
       " 'MainAddr.@PostlCd',\n",
       " 'MainAddr.@State',\n",
       " 'MainAddr.@Strt1',\n",
       " 'MainAddr.@Strt2',\n",
       " 'StateRgstn.Rgltrs',\n",
       " 'StateRgstn.Rgltrs.Rgltr',\n",
       " 'StateRgstn.Rgltrs.Rgltr.@Cd',\n",
       " 'StateRgstn.Rgltrs.Rgltr.@Dt',\n",
       " 'StateRgstn.Rgltrs.Rgltr.@St']"
      ]
     },
     "execution_count": 42,
     "metadata": {},
     "output_type": "execute_result"
    }
   ],
   "source": [
    "sorted(df_state.columns.to_list())"
   ]
  },
  {
   "cell_type": "markdown",
   "id": "95463207-57f2-43c3-850d-605c9cba4685",
   "metadata": {},
   "source": [
    "Some Advisers are \"Exempt Reporting Advisers\", they are typically VCs \n",
    "https://learn.angellist.com/articles/exempt-reporting-advisor"
   ]
  },
  {
   "cell_type": "code",
   "execution_count": 23,
   "id": "bf2231d1",
   "metadata": {},
   "outputs": [],
   "source": [
    "#df_state_exempt = df_state.dropna(subset=[\n",
    "#    \"ERA.Rgltrs\", \"ERA.Rgltrs.Rgltr\", \"ERA.Rgltrs.Rgltr.@Cd\", \"ERA.Rgltrs.Rgltr.@Dt\", \"ERA.Rgltrs.Rgltr.@St\",\n",
    "#    ], how=\"all\")"
   ]
  },
  {
   "cell_type": "code",
   "execution_count": 26,
   "id": "ac0967a5",
   "metadata": {},
   "outputs": [],
   "source": [
    "from functools import reduce\n",
    "import operator as op"
   ]
  },
  {
   "cell_type": "code",
   "execution_count": 39,
   "id": "fe1dec1f",
   "metadata": {},
   "outputs": [],
   "source": [
    "exemption_cols = [\"ERA.Rgltrs\", \"ERA.Rgltrs.Rgltr\", \"ERA.Rgltrs.Rgltr.@Cd\", \"ERA.Rgltrs.Rgltr.@Dt\", \"ERA.Rgltrs.Rgltr.@St\"]\n",
    "state_exempt = reduce(op.or_, [df_state[col].notnull() for col in exemption_cols])\n",
    "df_state[\"is_exempt\"] = state_exempt"
   ]
  },
  {
   "cell_type": "code",
   "execution_count": 30,
   "id": "5520283c",
   "metadata": {},
   "outputs": [],
   "source": [
    "df_state_exempt = df_state[state_exempt].copy()\n",
    "df_state_reg = df_state[~state_exempt].copy()"
   ]
  },
  {
   "cell_type": "code",
   "execution_count": 31,
   "id": "a3454355-1afb-47cd-af0b-1e0f9ff587a8",
   "metadata": {
    "tags": []
   },
   "outputs": [],
   "source": [
    "df_state_exempt_old = df_state[(df_state['ERA.Rgltrs'].notnull() |\n",
    "                            df_state['ERA.Rgltrs.Rgltr'].notnull() |\n",
    "                            df_state['ERA.Rgltrs.Rgltr.@Cd'].notnull() |\n",
    "                            df_state['ERA.Rgltrs.Rgltr.@Dt'].notnull() |\n",
    "                            df_state['ERA.Rgltrs.Rgltr.@St'].notnull() )].copy()"
   ]
  },
  {
   "cell_type": "code",
   "execution_count": 32,
   "id": "23d3a70a",
   "metadata": {},
   "outputs": [
    {
     "data": {
      "text/plain": [
       "((3870, 314), (3870, 314))"
      ]
     },
     "execution_count": 32,
     "metadata": {},
     "output_type": "execute_result"
    }
   ],
   "source": [
    "df_state_exempt.shape, df_state_exempt_old.shape"
   ]
  },
  {
   "cell_type": "code",
   "execution_count": 33,
   "id": "1362f0e2-9a77-4264-9c01-21f8e3c48baa",
   "metadata": {
    "tags": []
   },
   "outputs": [],
   "source": [
    "df_state_reg_old =df_state[(df_state['ERA.Rgltrs'].isnull() &\n",
    "                        df_state['ERA.Rgltrs.Rgltr'].isnull() &\n",
    "                        df_state['ERA.Rgltrs.Rgltr.@Cd'].isnull() &\n",
    "                        df_state['ERA.Rgltrs.Rgltr.@Dt'].isnull() &\n",
    "                        df_state['ERA.Rgltrs.Rgltr.@St'].isnull() )].copy()"
   ]
  },
  {
   "cell_type": "code",
   "execution_count": 34,
   "id": "2c91d719",
   "metadata": {},
   "outputs": [
    {
     "data": {
      "text/plain": [
       "((17274, 314), (17274, 314))"
      ]
     },
     "execution_count": 34,
     "metadata": {},
     "output_type": "execute_result"
    }
   ],
   "source": [
    "df_state_reg.shape, df_state_reg_old.shape"
   ]
  },
  {
   "cell_type": "code",
   "execution_count": 35,
   "id": "7965ac13-a189-48f2-9cc1-3bdf3b5da9e8",
   "metadata": {
    "tags": []
   },
   "outputs": [
    {
     "data": {
      "text/plain": [
       "True"
      ]
     },
     "execution_count": 35,
     "metadata": {},
     "output_type": "execute_result"
    }
   ],
   "source": [
    "df_state_reg.shape[0] + df_state_exempt.shape[0] == df_state.shape[0]"
   ]
  },
  {
   "cell_type": "markdown",
   "id": "edc9c36b-0ee1-4917-be3a-bbf5026bf7a1",
   "metadata": {},
   "source": [
    "# Get All Web Addresses"
   ]
  },
  {
   "cell_type": "code",
   "execution_count": null,
   "id": "e81023c1",
   "metadata": {},
   "outputs": [],
   "source": [
    "df_state"
   ]
  },
  {
   "cell_type": "code",
   "execution_count": 36,
   "id": "be37af59-ad3f-4525-95a3-41fb3b258c52",
   "metadata": {
    "tags": []
   },
   "outputs": [],
   "source": [
    "def get_all_urls(df, valid_only=True):\n",
    "    df_urls = df.loc[df['FormInfo.Part1A.Item1.WebAddrs.WebAddr'].notnull(),\n",
    "                    ['Info.@FirmCrdNb',\n",
    "                     'FormInfo.Part1A.Item1.WebAddrs.WebAddr']\n",
    "                    ]\n",
    "    df_urls.rename(columns={'FormInfo.Part1A.Item1.WebAddrs.WebAddr': 'url'}, inplace=True)\n",
    "    df_urls['url'] = df_urls['url'].apply(lambda x: eval(x.lower()) if ('[' in x and ']' in x) else x.lower())\n",
    "    df_urls = df_urls.explode('url').reset_index(drop=True)\n",
    "    df_urls['url_valid'] = df_urls['url'].apply(validators.url)\n",
    "    if valid_only:\n",
    "        df_urls = df_urls.loc[df_urls['url_valid'] == True,:]\n",
    "    return df_urls"
   ]
  },
  {
   "cell_type": "code",
   "execution_count": 37,
   "id": "ddca5d99-1d19-4e8e-ae39-6e42cff7576d",
   "metadata": {
    "tags": []
   },
   "outputs": [],
   "source": [
    "df_sec_reg_urls = get_all_urls(df_sec_reg, valid_only=False)"
   ]
  },
  {
   "cell_type": "code",
   "execution_count": 38,
   "id": "f9616cae-c226-4e80-a9c9-7675a26ad70a",
   "metadata": {},
   "outputs": [
    {
     "data": {
      "text/html": [
       "<div>\n",
       "<style scoped>\n",
       "    .dataframe tbody tr th:only-of-type {\n",
       "        vertical-align: middle;\n",
       "    }\n",
       "\n",
       "    .dataframe tbody tr th {\n",
       "        vertical-align: top;\n",
       "    }\n",
       "\n",
       "    .dataframe thead th {\n",
       "        text-align: right;\n",
       "    }\n",
       "</style>\n",
       "<table border=\"1\" class=\"dataframe\">\n",
       "  <thead>\n",
       "    <tr style=\"text-align: right;\">\n",
       "      <th></th>\n",
       "      <th>Info.@FirmCrdNb</th>\n",
       "      <th>url</th>\n",
       "      <th>url_valid</th>\n",
       "    </tr>\n",
       "  </thead>\n",
       "  <tbody>\n",
       "    <tr>\n",
       "      <th>0</th>\n",
       "      <td>282351</td>\n",
       "      <td>https://facebook.com/thefausergroup</td>\n",
       "      <td>True</td>\n",
       "    </tr>\n",
       "    <tr>\n",
       "      <th>1</th>\n",
       "      <td>282351</td>\n",
       "      <td>http://fausergroup.com/</td>\n",
       "      <td>True</td>\n",
       "    </tr>\n",
       "    <tr>\n",
       "      <th>2</th>\n",
       "      <td>145800</td>\n",
       "      <td>https://www.linkedin.com/company/freestate-adv...</td>\n",
       "      <td>True</td>\n",
       "    </tr>\n",
       "    <tr>\n",
       "      <th>3</th>\n",
       "      <td>145800</td>\n",
       "      <td>http://www.freestateadvisors.com</td>\n",
       "      <td>True</td>\n",
       "    </tr>\n",
       "    <tr>\n",
       "      <th>4</th>\n",
       "      <td>285650</td>\n",
       "      <td>http://www.morseasset.com</td>\n",
       "      <td>True</td>\n",
       "    </tr>\n",
       "    <tr>\n",
       "      <th>...</th>\n",
       "      <td>...</td>\n",
       "      <td>...</td>\n",
       "      <td>...</td>\n",
       "    </tr>\n",
       "    <tr>\n",
       "      <th>48620</th>\n",
       "      <td>319062</td>\n",
       "      <td>http://www.azimuthcap.com</td>\n",
       "      <td>True</td>\n",
       "    </tr>\n",
       "    <tr>\n",
       "      <th>48621</th>\n",
       "      <td>319062</td>\n",
       "      <td>https://www.linkedin.com/in/azimuth-capital-ma...</td>\n",
       "      <td>True</td>\n",
       "    </tr>\n",
       "    <tr>\n",
       "      <th>48622</th>\n",
       "      <td>319062</td>\n",
       "      <td>https://focusfinancialpartners.com</td>\n",
       "      <td>True</td>\n",
       "    </tr>\n",
       "    <tr>\n",
       "      <th>48623</th>\n",
       "      <td>319062</td>\n",
       "      <td>https://www.linkedin.com/company/2064318/</td>\n",
       "      <td>True</td>\n",
       "    </tr>\n",
       "    <tr>\n",
       "      <th>48624</th>\n",
       "      <td>319062</td>\n",
       "      <td>https://twitter.com/azimuthcapital</td>\n",
       "      <td>True</td>\n",
       "    </tr>\n",
       "  </tbody>\n",
       "</table>\n",
       "<p>48625 rows × 3 columns</p>\n",
       "</div>"
      ],
      "text/plain": [
       "       Info.@FirmCrdNb                                                url  \\\n",
       "0               282351                https://facebook.com/thefausergroup   \n",
       "1               282351                            http://fausergroup.com/   \n",
       "2               145800  https://www.linkedin.com/company/freestate-adv...   \n",
       "3               145800                   http://www.freestateadvisors.com   \n",
       "4               285650                          http://www.morseasset.com   \n",
       "...                ...                                                ...   \n",
       "48620           319062                          http://www.azimuthcap.com   \n",
       "48621           319062  https://www.linkedin.com/in/azimuth-capital-ma...   \n",
       "48622           319062                 https://focusfinancialpartners.com   \n",
       "48623           319062          https://www.linkedin.com/company/2064318/   \n",
       "48624           319062                 https://twitter.com/azimuthcapital   \n",
       "\n",
       "      url_valid  \n",
       "0          True  \n",
       "1          True  \n",
       "2          True  \n",
       "3          True  \n",
       "4          True  \n",
       "...         ...  \n",
       "48620      True  \n",
       "48621      True  \n",
       "48622      True  \n",
       "48623      True  \n",
       "48624      True  \n",
       "\n",
       "[48625 rows x 3 columns]"
      ]
     },
     "execution_count": 38,
     "metadata": {},
     "output_type": "execute_result"
    }
   ],
   "source": [
    "df_sec_reg_urls"
   ]
  },
  {
   "attachments": {},
   "cell_type": "markdown",
   "id": "0fcdcbc6",
   "metadata": {},
   "source": [
    "---"
   ]
  },
  {
   "cell_type": "code",
   "execution_count": 109,
   "id": "f15a9307",
   "metadata": {},
   "outputs": [],
   "source": [
    "firm_nb = set(df_sec['Info.@FirmCrdNb']) & set(df_state['Info.@FirmCrdNb'])"
   ]
  },
  {
   "cell_type": "code",
   "execution_count": 111,
   "id": "036e9017",
   "metadata": {},
   "outputs": [
    {
     "data": {
      "text/plain": [
       "1759"
      ]
     },
     "execution_count": 111,
     "metadata": {},
     "output_type": "execute_result"
    }
   ],
   "source": [
    "len(firm_nb)"
   ]
  },
  {
   "cell_type": "code",
   "execution_count": 115,
   "id": "cf5cd6f4",
   "metadata": {},
   "outputs": [
    {
     "data": {
      "text/html": [
       "<div>\n",
       "<style scoped>\n",
       "    .dataframe tbody tr th:only-of-type {\n",
       "        vertical-align: middle;\n",
       "    }\n",
       "\n",
       "    .dataframe tbody tr th {\n",
       "        vertical-align: top;\n",
       "    }\n",
       "\n",
       "    .dataframe thead th {\n",
       "        text-align: right;\n",
       "    }\n",
       "</style>\n",
       "<table border=\"1\" class=\"dataframe\">\n",
       "  <thead>\n",
       "    <tr style=\"text-align: right;\">\n",
       "      <th></th>\n",
       "      <th>Info.@FirmCrdNb</th>\n",
       "      <th>Info.@BusNm</th>\n",
       "      <th>Info.@LegalNm</th>\n",
       "      <th>Info.@UmbrRgstn</th>\n",
       "      <th>MainAddr.@Strt1</th>\n",
       "      <th>MainAddr.@Strt2</th>\n",
       "      <th>MainAddr.@City</th>\n",
       "      <th>MainAddr.@State</th>\n",
       "      <th>MainAddr.@Cntry</th>\n",
       "      <th>MainAddr.@PostlCd</th>\n",
       "      <th>...</th>\n",
       "      <th>FormInfo.Part1B.ItemJ.@Q1BJ2BPfs</th>\n",
       "      <th>FormInfo.Part1B.ItemJ.@Q1BJ2BNone</th>\n",
       "      <th>FormInfo.Part1A.Item9E.@Q9E</th>\n",
       "      <th>ERA.Rgltrs.Rgltr</th>\n",
       "      <th>FormInfo.Part1B.ItemH.@Q1B2HNScrtsNvsmtAm</th>\n",
       "      <th>FormInfo.Part1A.Item1.@Q1ODESC</th>\n",
       "      <th>FormInfo.Part1A.Item5D.@Q5D1MOth</th>\n",
       "      <th>FormInfo.Part1A.Item5H.@Q5HMT500</th>\n",
       "      <th>FormInfo.Part1A.Item5C.@Q5C1Oth</th>\n",
       "      <th>FormInfo.Part1A.Item5D.@Q5D2MOth</th>\n",
       "    </tr>\n",
       "  </thead>\n",
       "  <tbody>\n",
       "    <tr>\n",
       "      <th>112</th>\n",
       "      <td>159488</td>\n",
       "      <td>AEB CAPITAL</td>\n",
       "      <td>AEB CAPITAL, LLC</td>\n",
       "      <td>NaN</td>\n",
       "      <td>1701 PENNSYLVANIA AVE NW STE 200</td>\n",
       "      <td>NaN</td>\n",
       "      <td>WASHINGTON</td>\n",
       "      <td>DC</td>\n",
       "      <td>United States</td>\n",
       "      <td>20006</td>\n",
       "      <td>...</td>\n",
       "      <td>NaN</td>\n",
       "      <td>NaN</td>\n",
       "      <td>NaN</td>\n",
       "      <td>NaN</td>\n",
       "      <td>NaN</td>\n",
       "      <td>NaN</td>\n",
       "      <td>NaN</td>\n",
       "      <td>NaN</td>\n",
       "      <td>NaN</td>\n",
       "      <td>NaN</td>\n",
       "    </tr>\n",
       "    <tr>\n",
       "      <th>67</th>\n",
       "      <td>161098</td>\n",
       "      <td>OKAPI VENTURE CAPITAL</td>\n",
       "      <td>OKAPI VENTURE CAPITAL, LLC</td>\n",
       "      <td>NaN</td>\n",
       "      <td>1600 NEWPORT CENTER DRIVE</td>\n",
       "      <td>SUITE 1600</td>\n",
       "      <td>NEWPORT BEACH</td>\n",
       "      <td>CA</td>\n",
       "      <td>United States</td>\n",
       "      <td>92660</td>\n",
       "      <td>...</td>\n",
       "      <td>NaN</td>\n",
       "      <td>NaN</td>\n",
       "      <td>NaN</td>\n",
       "      <td>NaN</td>\n",
       "      <td>NaN</td>\n",
       "      <td>NaN</td>\n",
       "      <td>NaN</td>\n",
       "      <td>NaN</td>\n",
       "      <td>NaN</td>\n",
       "      <td>NaN</td>\n",
       "    </tr>\n",
       "    <tr>\n",
       "      <th>4</th>\n",
       "      <td>171863</td>\n",
       "      <td>MOSAIK PARTNERS</td>\n",
       "      <td>MOSAIK PARTNERS, LP</td>\n",
       "      <td>NaN</td>\n",
       "      <td>555 CALIFORNIA STREET</td>\n",
       "      <td>24TH FLOOR</td>\n",
       "      <td>SAN FRANCISCO</td>\n",
       "      <td>CA</td>\n",
       "      <td>United States</td>\n",
       "      <td>94104</td>\n",
       "      <td>...</td>\n",
       "      <td>NaN</td>\n",
       "      <td>NaN</td>\n",
       "      <td>NaN</td>\n",
       "      <td>NaN</td>\n",
       "      <td>NaN</td>\n",
       "      <td>NaN</td>\n",
       "      <td>NaN</td>\n",
       "      <td>NaN</td>\n",
       "      <td>NaN</td>\n",
       "      <td>NaN</td>\n",
       "    </tr>\n",
       "    <tr>\n",
       "      <th>244</th>\n",
       "      <td>172513</td>\n",
       "      <td>OWL VENTURES</td>\n",
       "      <td>OWL VENTURES, LLC</td>\n",
       "      <td>NaN</td>\n",
       "      <td>855 EL CAMINO REAL STE 13A-354</td>\n",
       "      <td>NaN</td>\n",
       "      <td>PALO ALTO</td>\n",
       "      <td>CA</td>\n",
       "      <td>United States</td>\n",
       "      <td>94301</td>\n",
       "      <td>...</td>\n",
       "      <td>NaN</td>\n",
       "      <td>NaN</td>\n",
       "      <td>NaN</td>\n",
       "      <td>NaN</td>\n",
       "      <td>NaN</td>\n",
       "      <td>$1 billion - $10 billion</td>\n",
       "      <td>NaN</td>\n",
       "      <td>NaN</td>\n",
       "      <td>NaN</td>\n",
       "      <td>NaN</td>\n",
       "    </tr>\n",
       "    <tr>\n",
       "      <th>160</th>\n",
       "      <td>206518</td>\n",
       "      <td>WALSER WEALTH MANAGEMENT COMPANY, A LIMITED LI...</td>\n",
       "      <td>WALSER WEALTH MANAGEMENT COMPANY, A LIMITED LI...</td>\n",
       "      <td>N</td>\n",
       "      <td>777 S. HARBOUR ISLAND BLVD</td>\n",
       "      <td>STE 440</td>\n",
       "      <td>TAMPA</td>\n",
       "      <td>FL</td>\n",
       "      <td>United States</td>\n",
       "      <td>33602</td>\n",
       "      <td>...</td>\n",
       "      <td>NaN</td>\n",
       "      <td>NaN</td>\n",
       "      <td>NaN</td>\n",
       "      <td>NaN</td>\n",
       "      <td>38174054.0</td>\n",
       "      <td>NaN</td>\n",
       "      <td>NaN</td>\n",
       "      <td>NaN</td>\n",
       "      <td>NaN</td>\n",
       "      <td>NaN</td>\n",
       "    </tr>\n",
       "    <tr>\n",
       "      <th>107</th>\n",
       "      <td>226615</td>\n",
       "      <td>MEGHALAYA PARTNERS, L.P.</td>\n",
       "      <td>MEGHALAYA PARTNERS, L.P.</td>\n",
       "      <td>NaN</td>\n",
       "      <td>500 WEST PUTNAM AVENUE</td>\n",
       "      <td>SUITE 400</td>\n",
       "      <td>GREENWICH</td>\n",
       "      <td>CT</td>\n",
       "      <td>United States</td>\n",
       "      <td>06830</td>\n",
       "      <td>...</td>\n",
       "      <td>NaN</td>\n",
       "      <td>NaN</td>\n",
       "      <td>NaN</td>\n",
       "      <td>NaN</td>\n",
       "      <td>NaN</td>\n",
       "      <td>NaN</td>\n",
       "      <td>NaN</td>\n",
       "      <td>NaN</td>\n",
       "      <td>NaN</td>\n",
       "      <td>NaN</td>\n",
       "    </tr>\n",
       "    <tr>\n",
       "      <th>117</th>\n",
       "      <td>292360</td>\n",
       "      <td>LONGEVITY FUNDS 2 LLC</td>\n",
       "      <td>LONGEVITY FUNDS 2 LLC</td>\n",
       "      <td>NaN</td>\n",
       "      <td>555 BRYANT STREET</td>\n",
       "      <td>#517</td>\n",
       "      <td>PALO ALTO</td>\n",
       "      <td>CA</td>\n",
       "      <td>United States</td>\n",
       "      <td>94301</td>\n",
       "      <td>...</td>\n",
       "      <td>NaN</td>\n",
       "      <td>NaN</td>\n",
       "      <td>NaN</td>\n",
       "      <td>NaN</td>\n",
       "      <td>NaN</td>\n",
       "      <td>NaN</td>\n",
       "      <td>NaN</td>\n",
       "      <td>NaN</td>\n",
       "      <td>NaN</td>\n",
       "      <td>NaN</td>\n",
       "    </tr>\n",
       "    <tr>\n",
       "      <th>25</th>\n",
       "      <td>298061</td>\n",
       "      <td>ZZG CAPITAL LLC</td>\n",
       "      <td>ZZG CAPITAL LLC</td>\n",
       "      <td>NaN</td>\n",
       "      <td>NaN</td>\n",
       "      <td>NaN</td>\n",
       "      <td>NaN</td>\n",
       "      <td>NaN</td>\n",
       "      <td>NaN</td>\n",
       "      <td>NaN</td>\n",
       "      <td>...</td>\n",
       "      <td>NaN</td>\n",
       "      <td>NaN</td>\n",
       "      <td>NaN</td>\n",
       "      <td>NaN</td>\n",
       "      <td>NaN</td>\n",
       "      <td>NaN</td>\n",
       "      <td>NaN</td>\n",
       "      <td>NaN</td>\n",
       "      <td>NaN</td>\n",
       "      <td>NaN</td>\n",
       "    </tr>\n",
       "    <tr>\n",
       "      <th>98</th>\n",
       "      <td>298342</td>\n",
       "      <td>IDEO COLAB VENTURES LLC</td>\n",
       "      <td>IDEO COLAB VENTURES LLC</td>\n",
       "      <td>NaN</td>\n",
       "      <td>501 THE EMBARCADERO</td>\n",
       "      <td>PIER 28 ANNEX</td>\n",
       "      <td>SAN FRANCISCO</td>\n",
       "      <td>CA</td>\n",
       "      <td>United States</td>\n",
       "      <td>94105</td>\n",
       "      <td>...</td>\n",
       "      <td>NaN</td>\n",
       "      <td>NaN</td>\n",
       "      <td>NaN</td>\n",
       "      <td>NaN</td>\n",
       "      <td>NaN</td>\n",
       "      <td>NaN</td>\n",
       "      <td>NaN</td>\n",
       "      <td>NaN</td>\n",
       "      <td>NaN</td>\n",
       "      <td>NaN</td>\n",
       "    </tr>\n",
       "    <tr>\n",
       "      <th>166</th>\n",
       "      <td>299671</td>\n",
       "      <td>DEFINE VENTURES MANAGEMENT, LLC</td>\n",
       "      <td>DEFINE VENTURES MANAGEMENT, LLC</td>\n",
       "      <td>NaN</td>\n",
       "      <td>97 ARGUELLO BLVD</td>\n",
       "      <td>NaN</td>\n",
       "      <td>SAN FRANCISCO</td>\n",
       "      <td>CA</td>\n",
       "      <td>United States</td>\n",
       "      <td>94129</td>\n",
       "      <td>...</td>\n",
       "      <td>NaN</td>\n",
       "      <td>NaN</td>\n",
       "      <td>NaN</td>\n",
       "      <td>NaN</td>\n",
       "      <td>NaN</td>\n",
       "      <td>NaN</td>\n",
       "      <td>NaN</td>\n",
       "      <td>NaN</td>\n",
       "      <td>NaN</td>\n",
       "      <td>NaN</td>\n",
       "    </tr>\n",
       "  </tbody>\n",
       "</table>\n",
       "<p>10 rows × 314 columns</p>\n",
       "</div>"
      ],
      "text/plain": [
       "     Info.@FirmCrdNb                                        Info.@BusNm  \\\n",
       "112           159488                                        AEB CAPITAL   \n",
       "67            161098                              OKAPI VENTURE CAPITAL   \n",
       "4             171863                                    MOSAIK PARTNERS   \n",
       "244           172513                                       OWL VENTURES   \n",
       "160           206518  WALSER WEALTH MANAGEMENT COMPANY, A LIMITED LI...   \n",
       "107           226615                           MEGHALAYA PARTNERS, L.P.   \n",
       "117           292360                              LONGEVITY FUNDS 2 LLC   \n",
       "25            298061                                    ZZG CAPITAL LLC   \n",
       "98            298342                            IDEO COLAB VENTURES LLC   \n",
       "166           299671                    DEFINE VENTURES MANAGEMENT, LLC   \n",
       "\n",
       "                                         Info.@LegalNm Info.@UmbrRgstn  \\\n",
       "112                                   AEB CAPITAL, LLC             NaN   \n",
       "67                          OKAPI VENTURE CAPITAL, LLC             NaN   \n",
       "4                                  MOSAIK PARTNERS, LP             NaN   \n",
       "244                                  OWL VENTURES, LLC             NaN   \n",
       "160  WALSER WEALTH MANAGEMENT COMPANY, A LIMITED LI...               N   \n",
       "107                           MEGHALAYA PARTNERS, L.P.             NaN   \n",
       "117                              LONGEVITY FUNDS 2 LLC             NaN   \n",
       "25                                     ZZG CAPITAL LLC             NaN   \n",
       "98                             IDEO COLAB VENTURES LLC             NaN   \n",
       "166                    DEFINE VENTURES MANAGEMENT, LLC             NaN   \n",
       "\n",
       "                      MainAddr.@Strt1 MainAddr.@Strt2 MainAddr.@City  \\\n",
       "112  1701 PENNSYLVANIA AVE NW STE 200             NaN     WASHINGTON   \n",
       "67          1600 NEWPORT CENTER DRIVE      SUITE 1600  NEWPORT BEACH   \n",
       "4               555 CALIFORNIA STREET      24TH FLOOR  SAN FRANCISCO   \n",
       "244    855 EL CAMINO REAL STE 13A-354             NaN      PALO ALTO   \n",
       "160        777 S. HARBOUR ISLAND BLVD         STE 440          TAMPA   \n",
       "107            500 WEST PUTNAM AVENUE       SUITE 400      GREENWICH   \n",
       "117                 555 BRYANT STREET            #517      PALO ALTO   \n",
       "25                                NaN             NaN            NaN   \n",
       "98                501 THE EMBARCADERO   PIER 28 ANNEX  SAN FRANCISCO   \n",
       "166                  97 ARGUELLO BLVD             NaN  SAN FRANCISCO   \n",
       "\n",
       "    MainAddr.@State MainAddr.@Cntry MainAddr.@PostlCd  ...  \\\n",
       "112              DC   United States             20006  ...   \n",
       "67               CA   United States             92660  ...   \n",
       "4                CA   United States             94104  ...   \n",
       "244              CA   United States             94301  ...   \n",
       "160              FL   United States             33602  ...   \n",
       "107              CT   United States             06830  ...   \n",
       "117              CA   United States             94301  ...   \n",
       "25              NaN             NaN               NaN  ...   \n",
       "98               CA   United States             94105  ...   \n",
       "166              CA   United States             94129  ...   \n",
       "\n",
       "    FormInfo.Part1B.ItemJ.@Q1BJ2BPfs FormInfo.Part1B.ItemJ.@Q1BJ2BNone  \\\n",
       "112                              NaN                               NaN   \n",
       "67                               NaN                               NaN   \n",
       "4                                NaN                               NaN   \n",
       "244                              NaN                               NaN   \n",
       "160                              NaN                               NaN   \n",
       "107                              NaN                               NaN   \n",
       "117                              NaN                               NaN   \n",
       "25                               NaN                               NaN   \n",
       "98                               NaN                               NaN   \n",
       "166                              NaN                               NaN   \n",
       "\n",
       "    FormInfo.Part1A.Item9E.@Q9E ERA.Rgltrs.Rgltr  \\\n",
       "112                         NaN              NaN   \n",
       "67                          NaN              NaN   \n",
       "4                           NaN              NaN   \n",
       "244                         NaN              NaN   \n",
       "160                         NaN              NaN   \n",
       "107                         NaN              NaN   \n",
       "117                         NaN              NaN   \n",
       "25                          NaN              NaN   \n",
       "98                          NaN              NaN   \n",
       "166                         NaN              NaN   \n",
       "\n",
       "    FormInfo.Part1B.ItemH.@Q1B2HNScrtsNvsmtAm  FormInfo.Part1A.Item1.@Q1ODESC  \\\n",
       "112                                       NaN                             NaN   \n",
       "67                                        NaN                             NaN   \n",
       "4                                         NaN                             NaN   \n",
       "244                                       NaN        $1 billion - $10 billion   \n",
       "160                                38174054.0                             NaN   \n",
       "107                                       NaN                             NaN   \n",
       "117                                       NaN                             NaN   \n",
       "25                                        NaN                             NaN   \n",
       "98                                        NaN                             NaN   \n",
       "166                                       NaN                             NaN   \n",
       "\n",
       "    FormInfo.Part1A.Item5D.@Q5D1MOth FormInfo.Part1A.Item5H.@Q5HMT500  \\\n",
       "112                              NaN                              NaN   \n",
       "67                               NaN                              NaN   \n",
       "4                                NaN                              NaN   \n",
       "244                              NaN                              NaN   \n",
       "160                              NaN                              NaN   \n",
       "107                              NaN                              NaN   \n",
       "117                              NaN                              NaN   \n",
       "25                               NaN                              NaN   \n",
       "98                               NaN                              NaN   \n",
       "166                              NaN                              NaN   \n",
       "\n",
       "     FormInfo.Part1A.Item5C.@Q5C1Oth FormInfo.Part1A.Item5D.@Q5D2MOth  \n",
       "112                              NaN                              NaN  \n",
       "67                               NaN                              NaN  \n",
       "4                                NaN                              NaN  \n",
       "244                              NaN                              NaN  \n",
       "160                              NaN                              NaN  \n",
       "107                              NaN                              NaN  \n",
       "117                              NaN                              NaN  \n",
       "25                               NaN                              NaN  \n",
       "98                               NaN                              NaN  \n",
       "166                              NaN                              NaN  \n",
       "\n",
       "[10 rows x 314 columns]"
      ]
     },
     "execution_count": 115,
     "metadata": {},
     "output_type": "execute_result"
    }
   ],
   "source": [
    "df_state[df_state[\"Info.@FirmCrdNb\"].isin(firm_nb)].iloc[:10].sort_values(\"Info.@FirmCrdNb\")"
   ]
  },
  {
   "cell_type": "code",
   "execution_count": 116,
   "id": "e567c097",
   "metadata": {},
   "outputs": [
    {
     "data": {
      "text/html": [
       "<div>\n",
       "<style scoped>\n",
       "    .dataframe tbody tr th:only-of-type {\n",
       "        vertical-align: middle;\n",
       "    }\n",
       "\n",
       "    .dataframe tbody tr th {\n",
       "        vertical-align: top;\n",
       "    }\n",
       "\n",
       "    .dataframe thead th {\n",
       "        text-align: right;\n",
       "    }\n",
       "</style>\n",
       "<table border=\"1\" class=\"dataframe\">\n",
       "  <thead>\n",
       "    <tr style=\"text-align: right;\">\n",
       "      <th></th>\n",
       "      <th>Info.@SECRgnCD</th>\n",
       "      <th>Info.@FirmCrdNb</th>\n",
       "      <th>Info.@SECNb</th>\n",
       "      <th>Info.@BusNm</th>\n",
       "      <th>Info.@LegalNm</th>\n",
       "      <th>Info.@UmbrRgstn</th>\n",
       "      <th>MainAddr.@Strt1</th>\n",
       "      <th>MainAddr.@Strt2</th>\n",
       "      <th>MainAddr.@City</th>\n",
       "      <th>MainAddr.@State</th>\n",
       "      <th>...</th>\n",
       "      <th>FormInfo.Part1A.Item5D.@Q5D2E</th>\n",
       "      <th>FormInfo.Part1A.Item5D.@Q5D2F</th>\n",
       "      <th>FormInfo.Part1A.Item5D.@Q5D2G</th>\n",
       "      <th>FormInfo.Part1A.Item5D.@Q5D2H</th>\n",
       "      <th>FormInfo.Part1A.Item5D.@Q5D2I</th>\n",
       "      <th>FormInfo.Part1A.Item5D.@Q5D2J</th>\n",
       "      <th>FormInfo.Part1A.Item5D.@Q5D2K</th>\n",
       "      <th>FormInfo.Part1A.Item5D.@Q5D2L</th>\n",
       "      <th>FormInfo.Part1A.Item5D.@Q5D2M</th>\n",
       "      <th>FormInfo.Part1A.Item5C.@Q5C1Oth</th>\n",
       "    </tr>\n",
       "  </thead>\n",
       "  <tbody>\n",
       "    <tr>\n",
       "      <th>102</th>\n",
       "      <td>PLRO</td>\n",
       "      <td>159488</td>\n",
       "      <td>802-78855</td>\n",
       "      <td>AEB CAPITAL</td>\n",
       "      <td>AEB CAPITAL, LLC</td>\n",
       "      <td>NaN</td>\n",
       "      <td>1701 PENNSYLVANIA AVE NW STE 200</td>\n",
       "      <td>NaN</td>\n",
       "      <td>WASHINGTON</td>\n",
       "      <td>DC</td>\n",
       "      <td>...</td>\n",
       "      <td>NaN</td>\n",
       "      <td>NaN</td>\n",
       "      <td>NaN</td>\n",
       "      <td>NaN</td>\n",
       "      <td>NaN</td>\n",
       "      <td>NaN</td>\n",
       "      <td>NaN</td>\n",
       "      <td>NaN</td>\n",
       "      <td>NaN</td>\n",
       "      <td>NaN</td>\n",
       "    </tr>\n",
       "    <tr>\n",
       "      <th>61</th>\n",
       "      <td>LARO</td>\n",
       "      <td>161098</td>\n",
       "      <td>802-74499</td>\n",
       "      <td>OKAPI VENTURE CAPITAL</td>\n",
       "      <td>OKAPI VENTURE CAPITAL, LLC</td>\n",
       "      <td>NaN</td>\n",
       "      <td>1600 NEWPORT CENTER DRIVE</td>\n",
       "      <td>SUITE 1600</td>\n",
       "      <td>NEWPORT BEACH</td>\n",
       "      <td>CA</td>\n",
       "      <td>...</td>\n",
       "      <td>NaN</td>\n",
       "      <td>NaN</td>\n",
       "      <td>NaN</td>\n",
       "      <td>NaN</td>\n",
       "      <td>NaN</td>\n",
       "      <td>NaN</td>\n",
       "      <td>NaN</td>\n",
       "      <td>NaN</td>\n",
       "      <td>NaN</td>\n",
       "      <td>NaN</td>\n",
       "    </tr>\n",
       "    <tr>\n",
       "      <th>8</th>\n",
       "      <td>SFRO</td>\n",
       "      <td>171863</td>\n",
       "      <td>802-123465</td>\n",
       "      <td>MOSAIK PARTNERS</td>\n",
       "      <td>MOSAIK PARTNERS, LP</td>\n",
       "      <td>NaN</td>\n",
       "      <td>555 CALIFORNIA STREET</td>\n",
       "      <td>24TH FLOOR</td>\n",
       "      <td>SAN FRANCISCO</td>\n",
       "      <td>CA</td>\n",
       "      <td>...</td>\n",
       "      <td>NaN</td>\n",
       "      <td>NaN</td>\n",
       "      <td>NaN</td>\n",
       "      <td>NaN</td>\n",
       "      <td>NaN</td>\n",
       "      <td>NaN</td>\n",
       "      <td>NaN</td>\n",
       "      <td>NaN</td>\n",
       "      <td>NaN</td>\n",
       "      <td>NaN</td>\n",
       "    </tr>\n",
       "    <tr>\n",
       "      <th>235</th>\n",
       "      <td>SFRO</td>\n",
       "      <td>172513</td>\n",
       "      <td>802-80272</td>\n",
       "      <td>OWL VENTURES</td>\n",
       "      <td>OWL VENTURES, LLC</td>\n",
       "      <td>NaN</td>\n",
       "      <td>855 EL CAMINO REAL STE 13A-354</td>\n",
       "      <td>NaN</td>\n",
       "      <td>PALO ALTO</td>\n",
       "      <td>CA</td>\n",
       "      <td>...</td>\n",
       "      <td>NaN</td>\n",
       "      <td>NaN</td>\n",
       "      <td>NaN</td>\n",
       "      <td>NaN</td>\n",
       "      <td>NaN</td>\n",
       "      <td>NaN</td>\n",
       "      <td>NaN</td>\n",
       "      <td>NaN</td>\n",
       "      <td>NaN</td>\n",
       "      <td>NaN</td>\n",
       "    </tr>\n",
       "    <tr>\n",
       "      <th>156</th>\n",
       "      <td>MIRO</td>\n",
       "      <td>206518</td>\n",
       "      <td>801-127246</td>\n",
       "      <td>WALSER WEALTH MANAGEMENT COMPANY, A LIMITED LI...</td>\n",
       "      <td>WALSER WEALTH MANAGEMENT COMPANY, A LIMITED LI...</td>\n",
       "      <td>N</td>\n",
       "      <td>777 S. HARBOUR ISLAND BLVD</td>\n",
       "      <td>STE 440</td>\n",
       "      <td>TAMPA</td>\n",
       "      <td>FL</td>\n",
       "      <td>...</td>\n",
       "      <td>NaN</td>\n",
       "      <td>NaN</td>\n",
       "      <td>NaN</td>\n",
       "      <td>NaN</td>\n",
       "      <td>NaN</td>\n",
       "      <td>NaN</td>\n",
       "      <td>NaN</td>\n",
       "      <td>NaN</td>\n",
       "      <td>NaN</td>\n",
       "      <td>NaN</td>\n",
       "    </tr>\n",
       "    <tr>\n",
       "      <th>91</th>\n",
       "      <td>BRO</td>\n",
       "      <td>226615</td>\n",
       "      <td>802-115159</td>\n",
       "      <td>MEGHALAYA PARTNERS, L.P.</td>\n",
       "      <td>MEGHALAYA PARTNERS, L.P.</td>\n",
       "      <td>NaN</td>\n",
       "      <td>500 WEST PUTNAM AVENUE</td>\n",
       "      <td>SUITE 400</td>\n",
       "      <td>GREENWICH</td>\n",
       "      <td>CT</td>\n",
       "      <td>...</td>\n",
       "      <td>NaN</td>\n",
       "      <td>NaN</td>\n",
       "      <td>NaN</td>\n",
       "      <td>NaN</td>\n",
       "      <td>NaN</td>\n",
       "      <td>NaN</td>\n",
       "      <td>NaN</td>\n",
       "      <td>NaN</td>\n",
       "      <td>NaN</td>\n",
       "      <td>NaN</td>\n",
       "    </tr>\n",
       "    <tr>\n",
       "      <th>111</th>\n",
       "      <td>SFRO</td>\n",
       "      <td>292360</td>\n",
       "      <td>802-112647</td>\n",
       "      <td>LONGEVITY FUNDS 2 LLC</td>\n",
       "      <td>LONGEVITY FUNDS 2 LLC</td>\n",
       "      <td>NaN</td>\n",
       "      <td>555 BRYANT STREET</td>\n",
       "      <td>#517</td>\n",
       "      <td>PALO ALTO</td>\n",
       "      <td>CA</td>\n",
       "      <td>...</td>\n",
       "      <td>NaN</td>\n",
       "      <td>NaN</td>\n",
       "      <td>NaN</td>\n",
       "      <td>NaN</td>\n",
       "      <td>NaN</td>\n",
       "      <td>NaN</td>\n",
       "      <td>NaN</td>\n",
       "      <td>NaN</td>\n",
       "      <td>NaN</td>\n",
       "      <td>NaN</td>\n",
       "    </tr>\n",
       "    <tr>\n",
       "      <th>36</th>\n",
       "      <td>NYRO</td>\n",
       "      <td>298061</td>\n",
       "      <td>802-124823</td>\n",
       "      <td>ZZG CAPITAL LLC</td>\n",
       "      <td>ZZG CAPITAL LLC</td>\n",
       "      <td>NaN</td>\n",
       "      <td>NaN</td>\n",
       "      <td>NaN</td>\n",
       "      <td>NaN</td>\n",
       "      <td>NaN</td>\n",
       "      <td>...</td>\n",
       "      <td>NaN</td>\n",
       "      <td>NaN</td>\n",
       "      <td>NaN</td>\n",
       "      <td>NaN</td>\n",
       "      <td>NaN</td>\n",
       "      <td>NaN</td>\n",
       "      <td>NaN</td>\n",
       "      <td>NaN</td>\n",
       "      <td>NaN</td>\n",
       "      <td>NaN</td>\n",
       "    </tr>\n",
       "    <tr>\n",
       "      <th>82</th>\n",
       "      <td>SFRO</td>\n",
       "      <td>298342</td>\n",
       "      <td>802-126171</td>\n",
       "      <td>IDEO COLAB VENTURES LLC</td>\n",
       "      <td>IDEO COLAB VENTURES LLC</td>\n",
       "      <td>NaN</td>\n",
       "      <td>501 THE EMBARCADERO</td>\n",
       "      <td>PIER 28 ANNEX</td>\n",
       "      <td>SAN FRANCISCO</td>\n",
       "      <td>CA</td>\n",
       "      <td>...</td>\n",
       "      <td>NaN</td>\n",
       "      <td>NaN</td>\n",
       "      <td>NaN</td>\n",
       "      <td>NaN</td>\n",
       "      <td>NaN</td>\n",
       "      <td>NaN</td>\n",
       "      <td>NaN</td>\n",
       "      <td>NaN</td>\n",
       "      <td>NaN</td>\n",
       "      <td>NaN</td>\n",
       "    </tr>\n",
       "    <tr>\n",
       "      <th>163</th>\n",
       "      <td>SFRO</td>\n",
       "      <td>299671</td>\n",
       "      <td>802-114577</td>\n",
       "      <td>DEFINE VENTURES MANAGEMENT, LLC</td>\n",
       "      <td>DEFINE VENTURES MANAGEMENT, LLC</td>\n",
       "      <td>NaN</td>\n",
       "      <td>97 ARGUELLO BLVD</td>\n",
       "      <td>NaN</td>\n",
       "      <td>SAN FRANCISCO</td>\n",
       "      <td>CA</td>\n",
       "      <td>...</td>\n",
       "      <td>NaN</td>\n",
       "      <td>NaN</td>\n",
       "      <td>NaN</td>\n",
       "      <td>NaN</td>\n",
       "      <td>NaN</td>\n",
       "      <td>NaN</td>\n",
       "      <td>NaN</td>\n",
       "      <td>NaN</td>\n",
       "      <td>NaN</td>\n",
       "      <td>NaN</td>\n",
       "    </tr>\n",
       "  </tbody>\n",
       "</table>\n",
       "<p>10 rows × 278 columns</p>\n",
       "</div>"
      ],
      "text/plain": [
       "    Info.@SECRgnCD  Info.@FirmCrdNb Info.@SECNb  \\\n",
       "102           PLRO           159488   802-78855   \n",
       "61            LARO           161098   802-74499   \n",
       "8             SFRO           171863  802-123465   \n",
       "235           SFRO           172513   802-80272   \n",
       "156           MIRO           206518  801-127246   \n",
       "91             BRO           226615  802-115159   \n",
       "111           SFRO           292360  802-112647   \n",
       "36            NYRO           298061  802-124823   \n",
       "82            SFRO           298342  802-126171   \n",
       "163           SFRO           299671  802-114577   \n",
       "\n",
       "                                           Info.@BusNm  \\\n",
       "102                                        AEB CAPITAL   \n",
       "61                               OKAPI VENTURE CAPITAL   \n",
       "8                                      MOSAIK PARTNERS   \n",
       "235                                       OWL VENTURES   \n",
       "156  WALSER WEALTH MANAGEMENT COMPANY, A LIMITED LI...   \n",
       "91                            MEGHALAYA PARTNERS, L.P.   \n",
       "111                              LONGEVITY FUNDS 2 LLC   \n",
       "36                                     ZZG CAPITAL LLC   \n",
       "82                             IDEO COLAB VENTURES LLC   \n",
       "163                    DEFINE VENTURES MANAGEMENT, LLC   \n",
       "\n",
       "                                         Info.@LegalNm Info.@UmbrRgstn  \\\n",
       "102                                   AEB CAPITAL, LLC             NaN   \n",
       "61                          OKAPI VENTURE CAPITAL, LLC             NaN   \n",
       "8                                  MOSAIK PARTNERS, LP             NaN   \n",
       "235                                  OWL VENTURES, LLC             NaN   \n",
       "156  WALSER WEALTH MANAGEMENT COMPANY, A LIMITED LI...               N   \n",
       "91                            MEGHALAYA PARTNERS, L.P.             NaN   \n",
       "111                              LONGEVITY FUNDS 2 LLC             NaN   \n",
       "36                                     ZZG CAPITAL LLC             NaN   \n",
       "82                             IDEO COLAB VENTURES LLC             NaN   \n",
       "163                    DEFINE VENTURES MANAGEMENT, LLC             NaN   \n",
       "\n",
       "                      MainAddr.@Strt1 MainAddr.@Strt2 MainAddr.@City  \\\n",
       "102  1701 PENNSYLVANIA AVE NW STE 200             NaN     WASHINGTON   \n",
       "61          1600 NEWPORT CENTER DRIVE      SUITE 1600  NEWPORT BEACH   \n",
       "8               555 CALIFORNIA STREET      24TH FLOOR  SAN FRANCISCO   \n",
       "235    855 EL CAMINO REAL STE 13A-354             NaN      PALO ALTO   \n",
       "156        777 S. HARBOUR ISLAND BLVD         STE 440          TAMPA   \n",
       "91             500 WEST PUTNAM AVENUE       SUITE 400      GREENWICH   \n",
       "111                 555 BRYANT STREET            #517      PALO ALTO   \n",
       "36                                NaN             NaN            NaN   \n",
       "82                501 THE EMBARCADERO   PIER 28 ANNEX  SAN FRANCISCO   \n",
       "163                  97 ARGUELLO BLVD             NaN  SAN FRANCISCO   \n",
       "\n",
       "    MainAddr.@State  ... FormInfo.Part1A.Item5D.@Q5D2E  \\\n",
       "102              DC  ...                           NaN   \n",
       "61               CA  ...                           NaN   \n",
       "8                CA  ...                           NaN   \n",
       "235              CA  ...                           NaN   \n",
       "156              FL  ...                           NaN   \n",
       "91               CT  ...                           NaN   \n",
       "111              CA  ...                           NaN   \n",
       "36              NaN  ...                           NaN   \n",
       "82               CA  ...                           NaN   \n",
       "163              CA  ...                           NaN   \n",
       "\n",
       "    FormInfo.Part1A.Item5D.@Q5D2F FormInfo.Part1A.Item5D.@Q5D2G  \\\n",
       "102                           NaN                           NaN   \n",
       "61                            NaN                           NaN   \n",
       "8                             NaN                           NaN   \n",
       "235                           NaN                           NaN   \n",
       "156                           NaN                           NaN   \n",
       "91                            NaN                           NaN   \n",
       "111                           NaN                           NaN   \n",
       "36                            NaN                           NaN   \n",
       "82                            NaN                           NaN   \n",
       "163                           NaN                           NaN   \n",
       "\n",
       "    FormInfo.Part1A.Item5D.@Q5D2H FormInfo.Part1A.Item5D.@Q5D2I  \\\n",
       "102                           NaN                           NaN   \n",
       "61                            NaN                           NaN   \n",
       "8                             NaN                           NaN   \n",
       "235                           NaN                           NaN   \n",
       "156                           NaN                           NaN   \n",
       "91                            NaN                           NaN   \n",
       "111                           NaN                           NaN   \n",
       "36                            NaN                           NaN   \n",
       "82                            NaN                           NaN   \n",
       "163                           NaN                           NaN   \n",
       "\n",
       "    FormInfo.Part1A.Item5D.@Q5D2J FormInfo.Part1A.Item5D.@Q5D2K  \\\n",
       "102                           NaN                           NaN   \n",
       "61                            NaN                           NaN   \n",
       "8                             NaN                           NaN   \n",
       "235                           NaN                           NaN   \n",
       "156                           NaN                           NaN   \n",
       "91                            NaN                           NaN   \n",
       "111                           NaN                           NaN   \n",
       "36                            NaN                           NaN   \n",
       "82                            NaN                           NaN   \n",
       "163                           NaN                           NaN   \n",
       "\n",
       "    FormInfo.Part1A.Item5D.@Q5D2L FormInfo.Part1A.Item5D.@Q5D2M  \\\n",
       "102                           NaN                           NaN   \n",
       "61                            NaN                           NaN   \n",
       "8                             NaN                           NaN   \n",
       "235                           NaN                           NaN   \n",
       "156                           NaN                           NaN   \n",
       "91                            NaN                           NaN   \n",
       "111                           NaN                           NaN   \n",
       "36                            NaN                           NaN   \n",
       "82                            NaN                           NaN   \n",
       "163                           NaN                           NaN   \n",
       "\n",
       "     FormInfo.Part1A.Item5C.@Q5C1Oth  \n",
       "102                              NaN  \n",
       "61                               NaN  \n",
       "8                                NaN  \n",
       "235                              NaN  \n",
       "156                              NaN  \n",
       "91                               NaN  \n",
       "111                              NaN  \n",
       "36                               NaN  \n",
       "82                               NaN  \n",
       "163                              NaN  \n",
       "\n",
       "[10 rows x 278 columns]"
      ]
     },
     "execution_count": 116,
     "metadata": {},
     "output_type": "execute_result"
    }
   ],
   "source": [
    "df_sec[df_sec[\"Info.@FirmCrdNb\"].isin(firm_nb)].iloc[:10].sort_values(\"Info.@FirmCrdNb\")"
   ]
  },
  {
   "cell_type": "code",
   "execution_count": 108,
   "id": "f46bf204",
   "metadata": {},
   "outputs": [
    {
     "data": {
      "text/plain": [
       "2"
      ]
     },
     "execution_count": 108,
     "metadata": {},
     "output_type": "execute_result"
    }
   ],
   "source": [
    "df_sec[\"Info.@SECNb\"].isnull().sum()"
   ]
  },
  {
   "cell_type": "code",
   "execution_count": 106,
   "id": "8b8ae5e3",
   "metadata": {},
   "outputs": [
    {
     "data": {
      "text/plain": [
       "21144"
      ]
     },
     "execution_count": 106,
     "metadata": {},
     "output_type": "execute_result"
    }
   ],
   "source": [
    "df_state['Info.@FirmCrdNb'].nunique()"
   ]
  },
  {
   "cell_type": "code",
   "execution_count": 107,
   "id": "aee48d83",
   "metadata": {},
   "outputs": [
    {
     "data": {
      "text/plain": [
       "(21144, 314)"
      ]
     },
     "execution_count": 107,
     "metadata": {},
     "output_type": "execute_result"
    }
   ],
   "source": [
    "df_state.shape"
   ]
  },
  {
   "cell_type": "code",
   "execution_count": null,
   "id": "4aa1e155",
   "metadata": {},
   "outputs": [],
   "source": [
    "df_sec"
   ]
  },
  {
   "cell_type": "code",
   "execution_count": 53,
   "id": "0f3a8df8",
   "metadata": {},
   "outputs": [
    {
     "name": "stdout",
     "output_type": "stream",
     "text": [
      "Unique Firms: 40460\n"
     ]
    }
   ],
   "source": [
    "n_unique_crd_nb = len(set(df_sec['Info.@FirmCrdNb']) | set(df_state['Info.@FirmCrdNb']))\n",
    "print(\"Unique Firms:\", n_unique_crd_nb)"
   ]
  },
  {
   "cell_type": "code",
   "execution_count": 103,
   "id": "de3bf06f",
   "metadata": {},
   "outputs": [
    {
     "data": {
      "text/plain": [
       "1"
      ]
     },
     "execution_count": 103,
     "metadata": {},
     "output_type": "execute_result"
    }
   ],
   "source": [
    "df_sec['Info.@FirmCrdNb'].value_counts().max()"
   ]
  },
  {
   "cell_type": "code",
   "execution_count": 55,
   "id": "40cdb497",
   "metadata": {},
   "outputs": [],
   "source": [
    "import json"
   ]
  },
  {
   "cell_type": "code",
   "execution_count": 65,
   "id": "20cee083",
   "metadata": {},
   "outputs": [
    {
     "data": {
      "text/plain": [
       "True"
      ]
     },
     "execution_count": 65,
     "metadata": {},
     "output_type": "execute_result"
    }
   ],
   "source": [
    "validators.url(\"https://asdf.com\")"
   ]
  },
  {
   "cell_type": "code",
   "execution_count": 66,
   "id": "008455fe",
   "metadata": {},
   "outputs": [
    {
     "data": {
      "text/plain": [
       "True"
      ]
     },
     "execution_count": 66,
     "metadata": {},
     "output_type": "execute_result"
    }
   ],
   "source": [
    "bool(_)"
   ]
  },
  {
   "cell_type": "code",
   "execution_count": 74,
   "id": "f65f8b7a",
   "metadata": {},
   "outputs": [],
   "source": [
    "all_web_addrs = list(df_sec['FormInfo.Part1A.Item1.WebAddrs.WebAddr'].dropna()) + list(df_state['FormInfo.Part1A.Item1.WebAddrs.WebAddr'].dropna())"
   ]
  },
  {
   "cell_type": "code",
   "execution_count": 78,
   "id": "0b13a920",
   "metadata": {},
   "outputs": [],
   "source": [
    "# data engineering podcast"
   ]
  },
  {
   "cell_type": "code",
   "execution_count": 79,
   "id": "3ccf0b8e",
   "metadata": {},
   "outputs": [],
   "source": [
    "all_urls = []\n",
    "for web_addr in all_web_addrs:\n",
    "    web_addr = web_addr.lower()\n",
    "    if web_addr.startswith(\"[\"):\n",
    "        web_addr = web_addr.replace(\"'\", '\"')\n",
    "        web_addr = web_addr.removeprefix(\"[\").removesuffix(\"]\")\n",
    "        candidates = [url.removeprefix('\"').removesuffix('\"') for url in web_addr.split(\", \")]\n",
    "    else:\n",
    "        candidates = [web_addr]\n",
    "    all_urls.extend(candidates)"
   ]
  },
  {
   "cell_type": "code",
   "execution_count": 86,
   "id": "37d77c2c",
   "metadata": {},
   "outputs": [],
   "source": [
    "from urllib.parse import urlparse\n",
    "from collections import defaultdict"
   ]
  },
  {
   "cell_type": "code",
   "execution_count": 97,
   "id": "6dcd71cc",
   "metadata": {},
   "outputs": [],
   "source": [
    "domains = defaultdict(int)\n",
    "for url in all_urls:\n",
    "    if validators.url(url):\n",
    "        domain = urlparse(url).netloc\n",
    "        if domain.startswith(\"www.\"):\n",
    "            domain = domain.removeprefix(\"www.\")\n",
    "        elif domain.startswith(\"m.\"):\n",
    "            domain = domain.removeprefix(\"m.\")\n",
    "        elif domain.startswith(\"mobile.\"):\n",
    "            domain = domain.removeprefix(\"mobile.\")\n",
    "        domains[domain] += 1"
   ]
  },
  {
   "cell_type": "code",
   "execution_count": null,
   "id": "a015d336",
   "metadata": {},
   "outputs": [],
   "source": [
    "40460"
   ]
  },
  {
   "cell_type": "code",
   "execution_count": 100,
   "id": "66dda95f",
   "metadata": {},
   "outputs": [
    {
     "data": {
      "text/plain": [
       "linkedin.com                     0.497331\n",
       "facebook.com                     0.229486\n",
       "twitter.com                      0.204993\n",
       "instagram.com                    0.066807\n",
       "youtube.com                      0.054251\n",
       "medium.com                       0.006574\n",
       "vimeo.com                        0.005413\n",
       "us.rbcwealthmanagement.com       0.005091\n",
       "tiktok.com                       0.003930\n",
       "angel.co                         0.002991\n",
       "soundcloud.com                   0.002694\n",
       "pinterest.com                    0.002595\n",
       "focusfinancialpartners.com       0.002175\n",
       "rcm.rockco.com                   0.001977\n",
       "advisor.hilltopsecurities.com    0.001928\n",
       "yelp.com                         0.001829\n",
       "crunchbase.com                   0.001705\n",
       "feeonlynetwork.com               0.001656\n",
       "investdavenport.com              0.001582\n",
       "plus.google.com                  0.001483\n",
       "open.spotify.com                 0.001434\n",
       "reddit.com                       0.001409\n",
       "napfa.org                        0.001236\n",
       "thefinancialhq.com               0.001186\n",
       "prudential.com                   0.001137\n",
       "linkedin                         0.000964\n",
       "advisors.arvest.com              0.000964\n",
       "protectionpointadvisors.com      0.000939\n",
       "podcasts.apple.com               0.000914\n",
       "blackstone.com                   0.000890\n",
       "alignable.com                    0.000890\n",
       "blackstone.podbean.com           0.000890\n",
       "seekingalpha.com                 0.000865\n",
       "apple.co                         0.000816\n",
       "glassdoor.com                    0.000791\n",
       "link.edgepilot.com               0.000766\n",
       "invesco.ca                       0.000667\n",
       "realwealthmedia.com              0.000643\n",
       "ca.linkedin.com                  0.000618\n",
       "spoti.fi                         0.000618\n",
       "google.com                       0.000568\n",
       "letsmakeaplan.org                0.000544\n",
       "business.facebook.com            0.000494\n",
       "mp.weixin.qq.com                 0.000470\n",
       "retire.johnsonbrunetti.com       0.000470\n",
       "nextdoor.com                     0.000445\n",
       "anchor.fm                        0.000420\n",
       "hvst.com                         0.000420\n",
       "xyplanningnetwork.com            0.000420\n",
       "pgim.com                         0.000420\n",
       "dtype: float64"
      ]
     },
     "execution_count": 100,
     "metadata": {},
     "output_type": "execute_result"
    }
   ],
   "source": [
    "pd.Series(domains).sort_values(ascending=False)[:50] / 40460"
   ]
  },
  {
   "cell_type": "code",
   "execution_count": 101,
   "id": "eb96053e",
   "metadata": {},
   "outputs": [
    {
     "data": {
      "text/plain": [
       "linkedin.com                     20122\n",
       "facebook.com                      9285\n",
       "twitter.com                       8294\n",
       "instagram.com                     2703\n",
       "youtube.com                       2195\n",
       "medium.com                         266\n",
       "vimeo.com                          219\n",
       "us.rbcwealthmanagement.com         206\n",
       "tiktok.com                         159\n",
       "angel.co                           121\n",
       "soundcloud.com                     109\n",
       "pinterest.com                      105\n",
       "focusfinancialpartners.com          88\n",
       "rcm.rockco.com                      80\n",
       "advisor.hilltopsecurities.com       78\n",
       "yelp.com                            74\n",
       "crunchbase.com                      69\n",
       "feeonlynetwork.com                  67\n",
       "investdavenport.com                 64\n",
       "plus.google.com                     60\n",
       "open.spotify.com                    58\n",
       "reddit.com                          57\n",
       "napfa.org                           50\n",
       "thefinancialhq.com                  48\n",
       "prudential.com                      46\n",
       "linkedin                            39\n",
       "advisors.arvest.com                 39\n",
       "protectionpointadvisors.com         38\n",
       "podcasts.apple.com                  37\n",
       "blackstone.com                      36\n",
       "alignable.com                       36\n",
       "blackstone.podbean.com              36\n",
       "seekingalpha.com                    35\n",
       "apple.co                            33\n",
       "glassdoor.com                       32\n",
       "link.edgepilot.com                  31\n",
       "invesco.ca                          27\n",
       "realwealthmedia.com                 26\n",
       "ca.linkedin.com                     25\n",
       "spoti.fi                            25\n",
       "google.com                          23\n",
       "letsmakeaplan.org                   22\n",
       "business.facebook.com               20\n",
       "mp.weixin.qq.com                    19\n",
       "retire.johnsonbrunetti.com          19\n",
       "nextdoor.com                        18\n",
       "anchor.fm                           17\n",
       "hvst.com                            17\n",
       "xyplanningnetwork.com               17\n",
       "pgim.com                            17\n",
       "dtype: int64"
      ]
     },
     "execution_count": 101,
     "metadata": {},
     "output_type": "execute_result"
    }
   ],
   "source": [
    "pd.Series(domains).sort_values(ascending=False)[:50]"
   ]
  },
  {
   "cell_type": "code",
   "execution_count": 89,
   "id": "c545d3a3",
   "metadata": {},
   "outputs": [
    {
     "data": {
      "text/plain": [
       "'facebook.com'"
      ]
     },
     "execution_count": 89,
     "metadata": {},
     "output_type": "execute_result"
    }
   ],
   "source": [
    "urlparse(url).netloc"
   ]
  },
  {
   "cell_type": "code",
   "execution_count": 80,
   "id": "16f83e50",
   "metadata": {},
   "outputs": [],
   "source": [
    "bad_urls = [url for url in all_urls if not validators.url(url)]"
   ]
  },
  {
   "cell_type": "code",
   "execution_count": 81,
   "id": "f2f6dd8e",
   "metadata": {},
   "outputs": [
    {
     "data": {
      "text/plain": [
       "494"
      ]
     },
     "execution_count": 81,
     "metadata": {},
     "output_type": "execute_result"
    }
   ],
   "source": [
    "len(bad_urls)"
   ]
  },
  {
   "cell_type": "code",
   "execution_count": 83,
   "id": "936ab4ff",
   "metadata": {},
   "outputs": [
    {
     "data": {
      "text/plain": [
       "['https://www.linkedin.com/showcase/ardian-women\"s-club/',\n",
       " 'http://www.contourventures.com;   https://www.linkedin.com/company/contour-venture-partners/',\n",
       " 'https://medium.com@primaryvc',\n",
       " 'http://www.linkedin.com - dif capital partners',\n",
       " 'https://linkedin.com  acg wealth management',\n",
       " 'https://twitter.com @acgrva',\n",
       " \"http://www.guidestone.org  (organization web site that contains links to all guidestone affiliates' websites)\",\n",
       " 'www.instagram.com/redewealth',\n",
       " 'https://www.youtube.com/channel/uccu1ztphtapsgg -mpsxrng',\n",
       " 'https://www.twitter.com/the pinnaclefg',\n",
       " 'https://line.me/r/ti/p/%40gpt0697p \\\\xa0messaging app: need scan qr code',\n",
       " 'https://www.facebook.com/flagship private wealth/',\n",
       " 'http://www.facebook.com/the planning center/',\n",
       " 'https://www.facebook.com /burnsestateplanning estateplanning',\n",
       " 'https://www.acerra-financial.com./',\n",
       " 'https://www.ma-financial',\n",
       " 'https://www.mi4na1kteam',\n",
       " 'https://www.facebook.com/american-financial-tax-strategies-inc- 530263377039835/',\n",
       " 'http://www.trigraninc.com (landing page only)',\n",
       " 'http://linkedin.com/w. ted isaacs',\n",
       " 'http://www.theoperandgroup.com; search_funder (twitter)',\n",
       " 'https://linkedin.com innovative portfolios',\n",
       " 'https://linkedin.com sheaff brock investment advisors',\n",
       " 'https://facebook.com sheaff brock',\n",
       " 'https://www.linkedin.com/company/o\"donnell-financial/',\n",
       " 'https://www.linkedin.com/company/-america\"s-wealth-management-show-on-wjr-760-am-sunday\"s-6-7-pm/',\n",
       " 'https://www.instagram.com/brown advisory/?hl=en',\n",
       " 'https://www.linkedin.com-plumb funds',\n",
       " 'http://www.volsharesetfs.com.',\n",
       " 'https://www.linkedin.com/company/2869320/ addresses of publicly available social media platforms',\n",
       " 'http://www.twitter.com@alhambrainvest',\n",
       " 'https://www.https://linkedin.com/company/3082981/',\n",
       " 'https://medium.com/at ylventures',\n",
       " 'https://www.linkedin.com/company/breed\"s-hill-capital/about/',\n",
       " 'https://www.linkedin.com/company/o\"boyle-wealth-management/',\n",
       " 'https://www.facebook.com - meridian investment advisors',\n",
       " 'https://www.linkedin.com - meridian investment advisors',\n",
       " 'https://www.facebook.comtabr-capital-management-2319971614730490/',\n",
       " 'https://facebook.com/echelon investment management',\n",
       " 'https://www.linkedin.com/company/provenance-wealth- advisors/',\n",
       " 'https://line.me/r/ti/p/%40gpt0697p \\\\xa0messaging app: need scan qr code',\n",
       " 'http://www.linkedin.com/dickmeyer boyce financial management',\n",
       " 'inc./',\n",
       " 'https://www.linkedin.com - o\"shaughnessy asset management',\n",
       " 'llc',\n",
       " 'https://www.youtube.com - osam research',\n",
       " 'https://vimeo.com/user110429897 - o\"shaughnessy asset management',\n",
       " 'https://www.youtube.com/channel/ucgfu2be8lopkwipmpkne3tw ;',\n",
       " 'https://www.facebook.com/search/top/?q=sage advisory services&epa=search_box',\n",
       " 'https://www.karaniasset.com.  the firm does not have an account on any publicly available media platform.']"
      ]
     },
     "execution_count": 83,
     "metadata": {},
     "output_type": "execute_result"
    }
   ],
   "source": [
    "bad_urls[:50]"
   ]
  },
  {
   "cell_type": "code",
   "execution_count": 68,
   "id": "9f980032",
   "metadata": {},
   "outputs": [
    {
     "data": {
      "text/plain": [
       "21389"
      ]
     },
     "execution_count": 68,
     "metadata": {},
     "output_type": "execute_result"
    }
   ],
   "source": [
    "len(all_web_addrs)"
   ]
  },
  {
   "cell_type": "code",
   "execution_count": 84,
   "id": "425aa468",
   "metadata": {},
   "outputs": [
    {
     "data": {
      "text/plain": [
       "94393"
      ]
     },
     "execution_count": 84,
     "metadata": {},
     "output_type": "execute_result"
    }
   ],
   "source": [
    "len(all_urls)"
   ]
  },
  {
   "cell_type": "code",
   "execution_count": null,
   "id": "4c6e8658",
   "metadata": {},
   "outputs": [],
   "source": []
  },
  {
   "cell_type": "code",
   "execution_count": 75,
   "id": "7a0f7fd5",
   "metadata": {},
   "outputs": [
    {
     "data": {
      "text/plain": [
       "[\"['HTTPS://FACEBOOK.COM/THEFAUSERGROUP', 'HTTP://FAUSERGROUP.COM/']\",\n",
       " \"['https://www.linkedin.com/company/freestate-advisors-llc', 'HTTP://WWW.FREESTATEADVISORS.COM']\",\n",
       " 'HTTP://WWW.MORSEASSET.COM',\n",
       " \"['HTTPS://WWW.FACEBOOK.COM/ALBIONFINANCIALGROUP/', 'HTTPS://TWITTER.COM/ALBIONFINGRP', 'HTTP://WWW.ALBIONFINANCIAL.COM', 'HTTPS://WWW.LINKEDIN.COM/COMPANY/ALBION-FINANCIAL-GROUP', 'https://www.instagram.com/womenofalbion', 'http://linkedin.com/showcase/women-of-albion']\",\n",
       " 'HTTP://CRAWFORDFP.COM',\n",
       " \"['HTTPS://WWW.ALTUSCAPITALPARTNERS.COM', 'HTTPS://WWW.LINKEDIN.COM/COMPANY/ALTUS-CAPITAL-PARTNERS/']\",\n",
       " \"['HTTPS://WWW.VALUESFIRST.COM', 'HTTPS://WWW.VALUESFIRSTADVISORS.COM', 'HTTPS://WWW.LINKEDIN.COM/COMPANY/VALUES-FIRST-ADVISORS']\",\n",
       " \"['https://twitter.com/mosaikpartners', 'https://www.linkedin.com/company/mosaik-partners/', 'HTTP://WWW.MOSAIKPARTNERS.COM', 'https://www.facebook.com/MosaikPartners/']\",\n",
       " \"['HTTP://WWW.NATREALESTATEDEVELOPMENT.COM/', 'HTTP://WWW.NATADVISORS.COM', 'HTTPS://WWW.FACEBOOK.COM/NATADVISORS/', 'HTTPS://TWITTER.COM/NATADVISORS', 'HTTPS://WWW.INSTAGRAM.COM/NATADVISORS/', 'HTTPS://WWW.LINKEDIN.COM/COMPANY/NATIONAL-REAL-ESTATE-ADVISORS/', 'HTTPS://NATIONAL.INVESTORPORTALCONNECT.MRISOFTWARE.COM/INDEX-OIDC-LANDING.ASPX']\",\n",
       " 'HTTP://WWW.TDFVENTURES.COM']"
      ]
     },
     "execution_count": 75,
     "metadata": {},
     "output_type": "execute_result"
    }
   ],
   "source": [
    "all_web_addrs[:10]"
   ]
  },
  {
   "cell_type": "code",
   "execution_count": null,
   "id": "43b4fa68",
   "metadata": {},
   "outputs": [],
   "source": [
    "def extract_url(web_addr):\n",
    "    web_addr = web_addr.lower()\n",
    "    if web_addr.startswith(\"[\"):\n",
    "        candidates = json.loads(web_addr.replace(\"'\", '\"'))\n",
    "    else:\n",
    "        candidates = [web_addr]\n",
    "    "
   ]
  },
  {
   "cell_type": "code",
   "execution_count": 61,
   "id": "e0438cdc",
   "metadata": {},
   "outputs": [
    {
     "data": {
      "text/plain": [
       "['HTTPS://FACEBOOK.COM/THEFAUSERGROUP', 'HTTP://FAUSERGROUP.COM/']"
      ]
     },
     "execution_count": 61,
     "metadata": {},
     "output_type": "execute_result"
    }
   ],
   "source": [
    "json.loads(df_sec['FormInfo.Part1A.Item1.WebAddrs.WebAddr'].str.replace(\"'\", '\"'))"
   ]
  },
  {
   "cell_type": "code",
   "execution_count": 58,
   "id": "1dad931c",
   "metadata": {},
   "outputs": [
    {
     "ename": "JSONDecodeError",
     "evalue": "Expecting value: line 1 column 2 (char 1)",
     "output_type": "error",
     "traceback": [
      "\u001b[0;31m---------------------------------------------------------------------------\u001b[0m",
      "\u001b[0;31mJSONDecodeError\u001b[0m                           Traceback (most recent call last)",
      "\u001b[1;32m/home/aition/proj/RIA_websites/EDA.ipynb Cell 36\u001b[0m in \u001b[0;36m<cell line: 1>\u001b[0;34m()\u001b[0m\n\u001b[0;32m----> <a href='vscode-notebook-cell:/home/aition/proj/RIA_websites/EDA.ipynb#Y103sZmlsZQ%3D%3D?line=0'>1</a>\u001b[0m json\u001b[39m.\u001b[39;49mloads(df_sec[\u001b[39m'\u001b[39;49m\u001b[39mFormInfo.Part1A.Item1.WebAddrs.WebAddr\u001b[39;49m\u001b[39m'\u001b[39;49m]\u001b[39m.\u001b[39;49miloc[\u001b[39m1\u001b[39;49m])\n",
      "File \u001b[0;32m~/.mamba/envs/datao/lib/python3.10/json/__init__.py:346\u001b[0m, in \u001b[0;36mloads\u001b[0;34m(s, cls, object_hook, parse_float, parse_int, parse_constant, object_pairs_hook, **kw)\u001b[0m\n\u001b[1;32m    341\u001b[0m     s \u001b[39m=\u001b[39m s\u001b[39m.\u001b[39mdecode(detect_encoding(s), \u001b[39m'\u001b[39m\u001b[39msurrogatepass\u001b[39m\u001b[39m'\u001b[39m)\n\u001b[1;32m    343\u001b[0m \u001b[39mif\u001b[39;00m (\u001b[39mcls\u001b[39m \u001b[39mis\u001b[39;00m \u001b[39mNone\u001b[39;00m \u001b[39mand\u001b[39;00m object_hook \u001b[39mis\u001b[39;00m \u001b[39mNone\u001b[39;00m \u001b[39mand\u001b[39;00m\n\u001b[1;32m    344\u001b[0m         parse_int \u001b[39mis\u001b[39;00m \u001b[39mNone\u001b[39;00m \u001b[39mand\u001b[39;00m parse_float \u001b[39mis\u001b[39;00m \u001b[39mNone\u001b[39;00m \u001b[39mand\u001b[39;00m\n\u001b[1;32m    345\u001b[0m         parse_constant \u001b[39mis\u001b[39;00m \u001b[39mNone\u001b[39;00m \u001b[39mand\u001b[39;00m object_pairs_hook \u001b[39mis\u001b[39;00m \u001b[39mNone\u001b[39;00m \u001b[39mand\u001b[39;00m \u001b[39mnot\u001b[39;00m kw):\n\u001b[0;32m--> 346\u001b[0m     \u001b[39mreturn\u001b[39;00m _default_decoder\u001b[39m.\u001b[39;49mdecode(s)\n\u001b[1;32m    347\u001b[0m \u001b[39mif\u001b[39;00m \u001b[39mcls\u001b[39m \u001b[39mis\u001b[39;00m \u001b[39mNone\u001b[39;00m:\n\u001b[1;32m    348\u001b[0m     \u001b[39mcls\u001b[39m \u001b[39m=\u001b[39m JSONDecoder\n",
      "File \u001b[0;32m~/.mamba/envs/datao/lib/python3.10/json/decoder.py:337\u001b[0m, in \u001b[0;36mJSONDecoder.decode\u001b[0;34m(self, s, _w)\u001b[0m\n\u001b[1;32m    332\u001b[0m \u001b[39mdef\u001b[39;00m \u001b[39mdecode\u001b[39m(\u001b[39mself\u001b[39m, s, _w\u001b[39m=\u001b[39mWHITESPACE\u001b[39m.\u001b[39mmatch):\n\u001b[1;32m    333\u001b[0m     \u001b[39m\"\"\"Return the Python representation of ``s`` (a ``str`` instance\u001b[39;00m\n\u001b[1;32m    334\u001b[0m \u001b[39m    containing a JSON document).\u001b[39;00m\n\u001b[1;32m    335\u001b[0m \n\u001b[1;32m    336\u001b[0m \u001b[39m    \"\"\"\u001b[39;00m\n\u001b[0;32m--> 337\u001b[0m     obj, end \u001b[39m=\u001b[39m \u001b[39mself\u001b[39;49m\u001b[39m.\u001b[39;49mraw_decode(s, idx\u001b[39m=\u001b[39;49m_w(s, \u001b[39m0\u001b[39;49m)\u001b[39m.\u001b[39;49mend())\n\u001b[1;32m    338\u001b[0m     end \u001b[39m=\u001b[39m _w(s, end)\u001b[39m.\u001b[39mend()\n\u001b[1;32m    339\u001b[0m     \u001b[39mif\u001b[39;00m end \u001b[39m!=\u001b[39m \u001b[39mlen\u001b[39m(s):\n",
      "File \u001b[0;32m~/.mamba/envs/datao/lib/python3.10/json/decoder.py:355\u001b[0m, in \u001b[0;36mJSONDecoder.raw_decode\u001b[0;34m(self, s, idx)\u001b[0m\n\u001b[1;32m    353\u001b[0m     obj, end \u001b[39m=\u001b[39m \u001b[39mself\u001b[39m\u001b[39m.\u001b[39mscan_once(s, idx)\n\u001b[1;32m    354\u001b[0m \u001b[39mexcept\u001b[39;00m \u001b[39mStopIteration\u001b[39;00m \u001b[39mas\u001b[39;00m err:\n\u001b[0;32m--> 355\u001b[0m     \u001b[39mraise\u001b[39;00m JSONDecodeError(\u001b[39m\"\u001b[39m\u001b[39mExpecting value\u001b[39m\u001b[39m\"\u001b[39m, s, err\u001b[39m.\u001b[39mvalue) \u001b[39mfrom\u001b[39;00m \u001b[39mNone\u001b[39m\n\u001b[1;32m    356\u001b[0m \u001b[39mreturn\u001b[39;00m obj, end\n",
      "\u001b[0;31mJSONDecodeError\u001b[0m: Expecting value: line 1 column 2 (char 1)"
     ]
    }
   ],
   "source": [
    "json.loads(df_sec['FormInfo.Part1A.Item1.WebAddrs.WebAddr'].iloc[1])"
   ]
  },
  {
   "cell_type": "code",
   "execution_count": 51,
   "id": "0c0389ff",
   "metadata": {},
   "outputs": [
    {
     "data": {
      "text/plain": [
       "0        146099\n",
       "1        289221\n",
       "2         23940\n",
       "3        155220\n",
       "4        171863\n",
       "          ...  \n",
       "21139    324692\n",
       "21140    324710\n",
       "21141    324715\n",
       "21142    324698\n",
       "21143    324726\n",
       "Name: Info.@FirmCrdNb, Length: 21144, dtype: int64"
      ]
     },
     "execution_count": 51,
     "metadata": {},
     "output_type": "execute_result"
    }
   ],
   "source": []
  },
  {
   "cell_type": "code",
   "execution_count": 47,
   "id": "526b75e5",
   "metadata": {},
   "outputs": [
    {
     "data": {
      "text/plain": [
       "{'FormInfo.Part1A.Item1.@Q1ODesc',\n",
       " 'FormInfo.Part1A.Item2A.@Q2A1',\n",
       " 'FormInfo.Part1A.Item2A.@Q2A10',\n",
       " 'FormInfo.Part1A.Item2A.@Q2A11',\n",
       " 'FormInfo.Part1A.Item2A.@Q2A12',\n",
       " 'FormInfo.Part1A.Item2A.@Q2A13',\n",
       " 'FormInfo.Part1A.Item2A.@Q2A2',\n",
       " 'FormInfo.Part1A.Item2A.@Q2A4',\n",
       " 'FormInfo.Part1A.Item2A.@Q2A5',\n",
       " 'FormInfo.Part1A.Item2A.@Q2A6',\n",
       " 'FormInfo.Part1A.Item2A.@Q2A7',\n",
       " 'FormInfo.Part1A.Item2A.@Q2A8',\n",
       " 'FormInfo.Part1A.Item2A.@Q2A9',\n",
       " 'FormInfo.Part1A.Item2B.@Q2B1',\n",
       " 'FormInfo.Part1A.Item2B.@Q2B2',\n",
       " 'FormInfo.Part1A.Item2B.@Q2B3',\n",
       " 'Info.@SECRgnCD',\n",
       " 'NoticeFiled.States.@Dt',\n",
       " 'NoticeFiled.States.@RgltrCd',\n",
       " 'NoticeFiled.States.@St',\n",
       " 'Rgstn.@Dt',\n",
       " 'Rgstn.@FirmType',\n",
       " 'Rgstn.@St'}"
      ]
     },
     "execution_count": 47,
     "metadata": {},
     "output_type": "execute_result"
    }
   ],
   "source": [
    "set(df_sec.columns) - set(df_state.columns)"
   ]
  },
  {
   "cell_type": "code",
   "execution_count": 48,
   "id": "00f26541",
   "metadata": {},
   "outputs": [
    {
     "data": {
      "text/plain": [
       "{'ERA.Rgltrs',\n",
       " 'ERA.Rgltrs.Rgltr',\n",
       " 'ERA.Rgltrs.Rgltr.@Cd',\n",
       " 'ERA.Rgltrs.Rgltr.@Dt',\n",
       " 'ERA.Rgltrs.Rgltr.@St',\n",
       " 'FormInfo.Part1A.Item1.@Q1ODESC',\n",
       " 'FormInfo.Part1A.Item5D.@Q5D1MOth',\n",
       " 'FormInfo.Part1A.Item5D.@Q5D2MOth',\n",
       " 'FormInfo.Part1B.DsclrQstns.@Q1B2C',\n",
       " 'FormInfo.Part1B.DsclrQstns.@Q1B2D',\n",
       " 'FormInfo.Part1B.DsclrQstns.@Q1B2E1',\n",
       " 'FormInfo.Part1B.DsclrQstns.@Q1B2E2',\n",
       " 'FormInfo.Part1B.DsclrQstns.@Q1B2E3',\n",
       " 'FormInfo.Part1B.DsclrQstns.@Q1B2E4',\n",
       " 'FormInfo.Part1B.DsclrQstns.@Q1B2E5',\n",
       " 'FormInfo.Part1B.DsclrQstns.@Q1B2F1',\n",
       " 'FormInfo.Part1B.DsclrQstns.@Q1B2F2',\n",
       " 'FormInfo.Part1B.DsclrQstns.@Q1B2F3',\n",
       " 'FormInfo.Part1B.DsclrQstns.@Q1B2F4',\n",
       " 'FormInfo.Part1B.DsclrQstns.@Q1B2F5',\n",
       " 'FormInfo.Part1B.Item2.@Q1B2B1',\n",
       " 'FormInfo.Part1B.Item2.@Q1B2B2',\n",
       " 'FormInfo.Part1B.Item2.@Q1B2B4',\n",
       " 'FormInfo.Part1B.ItemG.@Q1B2G2',\n",
       " 'FormInfo.Part1B.ItemG.@Q1BG1IssueScrts',\n",
       " 'FormInfo.Part1B.ItemG.@Q1BG1PoolInvmt',\n",
       " 'FormInfo.Part1B.ItemG.@Q1BG1ReAdvsr',\n",
       " 'FormInfo.Part1B.ItemG.@Q1BG1TaxPrprr',\n",
       " 'FormInfo.Part1B.ItemG.@Q1BG1XcldPoolInvmt',\n",
       " 'FormInfo.Part1B.ItemH.@Q1B2HNScrtsNvsmt',\n",
       " 'FormInfo.Part1B.ItemH.@Q1B2HNScrtsNvsmtAm',\n",
       " 'FormInfo.Part1B.ItemH.@Q1B2HScrtsNvsmt',\n",
       " 'FormInfo.Part1B.ItemH.@Q1B2HScrtsNvsmtAm',\n",
       " 'FormInfo.Part1B.ItemI.@Q1B2I1',\n",
       " 'FormInfo.Part1B.ItemI.@Q1B2I1A',\n",
       " 'FormInfo.Part1B.ItemI.@Q1B2I1B',\n",
       " 'FormInfo.Part1B.ItemI.@Q1B2I1C',\n",
       " 'FormInfo.Part1B.ItemI.@Q1B2I2Ai',\n",
       " 'FormInfo.Part1B.ItemI.@Q1B2I2AiiAtrny',\n",
       " 'FormInfo.Part1B.ItemI.@Q1B2I2AiiCpa',\n",
       " 'FormInfo.Part1B.ItemI.@Q1B2I2AiiOth',\n",
       " 'FormInfo.Part1B.ItemI.@Q1B2I2AiiOthTx',\n",
       " 'FormInfo.Part1B.ItemI.@Q1B2I2B',\n",
       " 'FormInfo.Part1B.ItemI.@Q1B2I3',\n",
       " 'FormInfo.Part1B.ItemJ.@Q1BJ1A',\n",
       " 'FormInfo.Part1B.ItemJ.@Q1BJ1B',\n",
       " 'FormInfo.Part1B.ItemJ.@Q1BJ2A',\n",
       " 'FormInfo.Part1B.ItemJ.@Q1BJ2BCfa',\n",
       " 'FormInfo.Part1B.ItemJ.@Q1BJ2BCfp',\n",
       " 'FormInfo.Part1B.ItemJ.@Q1BJ2BChfc',\n",
       " 'FormInfo.Part1B.ItemJ.@Q1BJ2BCic',\n",
       " 'FormInfo.Part1B.ItemJ.@Q1BJ2BNone',\n",
       " 'FormInfo.Part1B.ItemJ.@Q1BJ2BPfs',\n",
       " 'FormInfo.Part1B.ItemK.@Q1B2K1',\n",
       " 'StateRgstn.Rgltrs',\n",
       " 'StateRgstn.Rgltrs.Rgltr',\n",
       " 'StateRgstn.Rgltrs.Rgltr.@Cd',\n",
       " 'StateRgstn.Rgltrs.Rgltr.@Dt',\n",
       " 'StateRgstn.Rgltrs.Rgltr.@St'}"
      ]
     },
     "execution_count": 48,
     "metadata": {},
     "output_type": "execute_result"
    }
   ],
   "source": [
    "set(df_state.columns) - set(df_sec.columns)"
   ]
  },
  {
   "cell_type": "markdown",
   "id": "90ab7e36",
   "metadata": {},
   "source": []
  }
 ],
 "metadata": {
  "kernelspec": {
   "display_name": "datao",
   "language": "python",
   "name": "python3"
  },
  "language_info": {
   "codemirror_mode": {
    "name": "ipython",
    "version": 3
   },
   "file_extension": ".py",
   "mimetype": "text/x-python",
   "name": "python",
   "nbconvert_exporter": "python",
   "pygments_lexer": "ipython3",
   "version": "3.10.5"
  },
  "vscode": {
   "interpreter": {
    "hash": "0cdcd265c9bb750c5fabfe7bcb72950644c1ef8ebcf2e1946daf5440ad6dbbd5"
   }
  }
 },
 "nbformat": 4,
 "nbformat_minor": 5
}
