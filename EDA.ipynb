{
 "cells": [
  {
   "cell_type": "code",
   "execution_count": 3,
   "id": "00b45f8f-5ab6-46ad-b152-df40d30b30e5",
   "metadata": {
    "tags": []
   },
   "outputs": [],
   "source": [
    "import pandas as pd\n",
    "import numpy as np\n",
    "import matplotlib.pyplot as plt\n",
    "import re\n",
    "import uuid"
   ]
  },
  {
   "cell_type": "code",
   "execution_count": 4,
   "id": "e0da9547-d106-4220-b090-59df2e8c1d24",
   "metadata": {
    "tags": []
   },
   "outputs": [],
   "source": [
    "# !pip install surt\n",
    "# !pip install validators"
   ]
  },
  {
   "cell_type": "code",
   "execution_count": 5,
   "id": "e2ddb4f9-bafa-4fe8-93a4-e51d78c4f429",
   "metadata": {
    "tags": []
   },
   "outputs": [],
   "source": [
    "# Two handy libraries for checking if a URL is valid or not\n",
    "import surt\n",
    "import validators"
   ]
  },
  {
   "cell_type": "markdown",
   "id": "8139f451-f36f-4eea-a15d-a07b4f8efd66",
   "metadata": {},
   "source": [
    "## SEC-Registered"
   ]
  },
  {
   "cell_type": "code",
   "execution_count": 6,
   "id": "e3fa8f46-ae7e-4f5a-9775-7f5af79b4d99",
   "metadata": {
    "tags": []
   },
   "outputs": [
    {
     "name": "stderr",
     "output_type": "stream",
     "text": [
      "C:\\Users\\14097\\AppData\\Local\\Temp\\ipykernel_15868\\926076033.py:1: DtypeWarning: Columns (49,217,250,251,252,253,254,255,256,257,258,259,260,261,262,263,264,265,266,267,268,269,270,271,272,273,274,275,276) have mixed types. Specify dtype option on import or set low_memory=False.\n",
      "  df_sec = pd.read_csv('data/sec/IA_FIRM_SEC_Feed_03_20_2023.csv')\n"
     ]
    }
   ],
   "source": [
    "df_sec = pd.read_csv('data/sec/IA_FIRM_SEC_Feed_03_20_2023.csv')"
   ]
  },
  {
   "cell_type": "code",
   "execution_count": 7,
   "id": "b735bf5c-2994-41e5-b38c-386d6d713634",
   "metadata": {
    "tags": []
   },
   "outputs": [],
   "source": [
    "# Remove long prefix at the beginning of many column names\n",
    "df_sec.columns = df_sec.columns.str.removeprefix('FormInfo.Part1A.Item')"
   ]
  },
  {
   "cell_type": "code",
   "execution_count": 8,
   "id": "b7ac48a9-b454-4039-81b7-11d65d7866c2",
   "metadata": {
    "tags": []
   },
   "outputs": [
    {
     "data": {
      "text/plain": [
       "0        82c31e31-f06d-4957-8df9-75fbc8fc9b60\n",
       "1        87a09822-ae37-4776-a471-fb2a1487e008\n",
       "2        d9fc43de-962d-4a74-a8e2-8c56890d561c\n",
       "3        8c7a256b-eeeb-4237-8331-4eaf06fe94c9\n",
       "4        8f187cf8-fec7-463d-899b-9ae8504f2ba4\n",
       "                         ...                 \n",
       "21095    f5a0186b-8439-45a7-b3d7-18cc73fcf479\n",
       "21096    e451ccd0-1a85-43ab-a186-4df99b7bf93d\n",
       "21097    6c71871f-26b9-44f9-bb77-9d5dbf459dd5\n",
       "21098    f09d5938-88ac-4588-9576-646e42c326b2\n",
       "21099    c302b327-37ab-4115-8384-508cf7d4fb04\n",
       "Name: uuid, Length: 21100, dtype: object"
      ]
     },
     "execution_count": 8,
     "metadata": {},
     "output_type": "execute_result"
    }
   ],
   "source": [
    "df_sec['uuid'] = df_sec.apply(lambda _: uuid.uuid4(), axis=1)\n",
    "\n",
    "df_sec['uuid']"
   ]
  },
  {
   "cell_type": "code",
   "execution_count": 9,
   "id": "ccbc8ef2-9044-4a54-a57a-583c2813c364",
   "metadata": {
    "tags": []
   },
   "outputs": [
    {
     "data": {
      "text/plain": [
       "['1.@Q1F5',\n",
       " '1.@Q1I',\n",
       " '1.@Q1M',\n",
       " '1.@Q1N',\n",
       " '1.@Q1O',\n",
       " '1.@Q1ODesc',\n",
       " '1.@Q1P',\n",
       " '1.WebAddrs',\n",
       " '1.WebAddrs.WebAddr',\n",
       " '10A.@Q10A',\n",
       " '11.@Q11',\n",
       " '11A.@Q11A1',\n",
       " '11A.@Q11A2',\n",
       " '11B.@Q11B1',\n",
       " '11B.@Q11B2',\n",
       " '11C.@Q11C1',\n",
       " '11C.@Q11C2',\n",
       " '11C.@Q11C3',\n",
       " '11C.@Q11C4',\n",
       " '11C.@Q11C5',\n",
       " '11D.@Q11D1',\n",
       " '11D.@Q11D2',\n",
       " '11D.@Q11D3',\n",
       " '11D.@Q11D4',\n",
       " '11D.@Q11D5',\n",
       " '11E.@Q11E1',\n",
       " '11E.@Q11E2',\n",
       " '11E.@Q11E3',\n",
       " '11E.@Q11E4',\n",
       " '11F.@Q11F',\n",
       " '11G.@Q11G',\n",
       " '11H.@Q11H1A',\n",
       " '11H.@Q11H1B',\n",
       " '11H.@Q11H1C',\n",
       " '11H.@Q11H2',\n",
       " '2A.@Q2A1',\n",
       " '2A.@Q2A10',\n",
       " '2A.@Q2A11',\n",
       " '2A.@Q2A12',\n",
       " '2A.@Q2A13',\n",
       " '2A.@Q2A2',\n",
       " '2A.@Q2A4',\n",
       " '2A.@Q2A5',\n",
       " '2A.@Q2A6',\n",
       " '2A.@Q2A7',\n",
       " '2A.@Q2A8',\n",
       " '2A.@Q2A9',\n",
       " '2B.@Q2B1',\n",
       " '2B.@Q2B2',\n",
       " '2B.@Q2B3',\n",
       " '3A.@OrgFormNm',\n",
       " '3A.@OrgFormOthNm',\n",
       " '3B.@Q3B',\n",
       " '3C.@CntryNm',\n",
       " '3C.@StateCD',\n",
       " '5A.@TtlEmp',\n",
       " '5B.@Q5B1',\n",
       " '5B.@Q5B2',\n",
       " '5B.@Q5B3',\n",
       " '5B.@Q5B4',\n",
       " '5B.@Q5B5',\n",
       " '5B.@Q5B6',\n",
       " '5C.@Q5C1',\n",
       " '5C.@Q5C1Oth',\n",
       " '5C.@Q5C2',\n",
       " '5D.@Q5D1A',\n",
       " '5D.@Q5D1B',\n",
       " '5D.@Q5D1C',\n",
       " '5D.@Q5D1D',\n",
       " '5D.@Q5D1E',\n",
       " '5D.@Q5D1F',\n",
       " '5D.@Q5D1G',\n",
       " '5D.@Q5D1H',\n",
       " '5D.@Q5D1I',\n",
       " '5D.@Q5D1J',\n",
       " '5D.@Q5D1K',\n",
       " '5D.@Q5D1L',\n",
       " '5D.@Q5D1M',\n",
       " '5D.@Q5D2A',\n",
       " '5D.@Q5D2B',\n",
       " '5D.@Q5D2C',\n",
       " '5D.@Q5D2D',\n",
       " '5D.@Q5D2E',\n",
       " '5D.@Q5D2F',\n",
       " '5D.@Q5D2G',\n",
       " '5D.@Q5D2H',\n",
       " '5D.@Q5D2I',\n",
       " '5D.@Q5D2J',\n",
       " '5D.@Q5D2K',\n",
       " '5D.@Q5D2L',\n",
       " '5D.@Q5D2M',\n",
       " '5D.@Q5DA1',\n",
       " '5D.@Q5DA2',\n",
       " '5D.@Q5DA3',\n",
       " '5D.@Q5DB1',\n",
       " '5D.@Q5DB2',\n",
       " '5D.@Q5DB3',\n",
       " '5D.@Q5DC1',\n",
       " '5D.@Q5DC2',\n",
       " '5D.@Q5DC3',\n",
       " '5D.@Q5DD1',\n",
       " '5D.@Q5DD3',\n",
       " '5D.@Q5DE1',\n",
       " '5D.@Q5DE3',\n",
       " '5D.@Q5DF1',\n",
       " '5D.@Q5DF3',\n",
       " '5D.@Q5DG1',\n",
       " '5D.@Q5DG2',\n",
       " '5D.@Q5DG3',\n",
       " '5D.@Q5DH1',\n",
       " '5D.@Q5DH2',\n",
       " '5D.@Q5DH3',\n",
       " '5D.@Q5DI1',\n",
       " '5D.@Q5DI2',\n",
       " '5D.@Q5DI3',\n",
       " '5D.@Q5DJ1',\n",
       " '5D.@Q5DJ2',\n",
       " '5D.@Q5DJ3',\n",
       " '5D.@Q5DK1',\n",
       " '5D.@Q5DK2',\n",
       " '5D.@Q5DK3',\n",
       " '5D.@Q5DL1',\n",
       " '5D.@Q5DL2',\n",
       " '5D.@Q5DL3',\n",
       " '5D.@Q5DM1',\n",
       " '5D.@Q5DM2',\n",
       " '5D.@Q5DM3',\n",
       " '5D.@Q5DN1',\n",
       " '5D.@Q5DN2',\n",
       " '5D.@Q5DN3',\n",
       " '5D.@Q5DN3Oth',\n",
       " '5E.@Q5E1',\n",
       " '5E.@Q5E2',\n",
       " '5E.@Q5E3',\n",
       " '5E.@Q5E4',\n",
       " '5E.@Q5E5',\n",
       " '5E.@Q5E6',\n",
       " '5E.@Q5E7',\n",
       " '5E.@Q5E7Oth',\n",
       " '5F.@Q5F1',\n",
       " '5F.@Q5F2A',\n",
       " '5F.@Q5F2B',\n",
       " '5F.@Q5F2C',\n",
       " '5F.@Q5F2D',\n",
       " '5F.@Q5F2E',\n",
       " '5F.@Q5F2F',\n",
       " '5F.@Q5F3',\n",
       " '5G.@Q5G1',\n",
       " '5G.@Q5G10',\n",
       " '5G.@Q5G11',\n",
       " '5G.@Q5G12',\n",
       " '5G.@Q5G12Oth',\n",
       " '5G.@Q5G2',\n",
       " '5G.@Q5G3',\n",
       " '5G.@Q5G4',\n",
       " '5G.@Q5G5',\n",
       " '5G.@Q5G6',\n",
       " '5G.@Q5G7',\n",
       " '5G.@Q5G8',\n",
       " '5G.@Q5G9',\n",
       " '5H.@Q5H',\n",
       " '5H.@Q5HMT500',\n",
       " '5I.@Q5I1',\n",
       " '5I.@Q5I2A',\n",
       " '5I.@Q5I2B',\n",
       " '5I.@Q5I2C',\n",
       " '5J.@Q5J1',\n",
       " '5J.@Q5J2',\n",
       " '5K.@Q5K1',\n",
       " '5K.@Q5K2',\n",
       " '5K.@Q5K3',\n",
       " '5K.@Q5K4',\n",
       " '5L.@Q5L1A',\n",
       " '5L.@Q5L1B',\n",
       " '5L.@Q5L1C',\n",
       " '5L.@Q5L1D',\n",
       " '5L.@Q5L1E',\n",
       " '5L.@Q5L2',\n",
       " '5L.@Q5L3',\n",
       " '5L.@Q5L4',\n",
       " '6A.@Q6A1',\n",
       " '6A.@Q6A10',\n",
       " '6A.@Q6A11',\n",
       " '6A.@Q6A12',\n",
       " '6A.@Q6A13',\n",
       " '6A.@Q6A14',\n",
       " '6A.@Q6A14Oth',\n",
       " '6A.@Q6A2',\n",
       " '6A.@Q6A3',\n",
       " '6A.@Q6A4',\n",
       " '6A.@Q6A5',\n",
       " '6A.@Q6A6',\n",
       " '6A.@Q6A7',\n",
       " '6A.@Q6A8',\n",
       " '6A.@Q6A9',\n",
       " '6B.@Q6B1',\n",
       " '6B.@Q6B2',\n",
       " '6B.@Q6B3',\n",
       " '7A.@Q7A1',\n",
       " '7A.@Q7A10',\n",
       " '7A.@Q7A11',\n",
       " '7A.@Q7A12',\n",
       " '7A.@Q7A13',\n",
       " '7A.@Q7A14',\n",
       " '7A.@Q7A15',\n",
       " '7A.@Q7A16',\n",
       " '7A.@Q7A2',\n",
       " '7A.@Q7A3',\n",
       " '7A.@Q7A4',\n",
       " '7A.@Q7A5',\n",
       " '7A.@Q7A6',\n",
       " '7A.@Q7A7',\n",
       " '7A.@Q7A8',\n",
       " '7A.@Q7A9',\n",
       " '7B.@Q7B',\n",
       " '8A.@Q8A1',\n",
       " '8A.@Q8A2',\n",
       " '8A.@Q8A3',\n",
       " '8B.@Q8B1',\n",
       " '8B.@Q8B2',\n",
       " '8B.@Q8B3',\n",
       " '8C.@Q8C1',\n",
       " '8C.@Q8C2',\n",
       " '8C.@Q8C3',\n",
       " '8C.@Q8C4',\n",
       " '8D.@Q8D',\n",
       " '8E.@Q8E',\n",
       " '8F.@Q8F',\n",
       " '8G.@Q8G1',\n",
       " '8G.@Q8G2',\n",
       " '8H.@Q8H',\n",
       " '8H.@Q8H1',\n",
       " '8H.@Q8H2',\n",
       " '8I.@Q8I',\n",
       " '9A.@Q9A1A',\n",
       " '9A.@Q9A1B',\n",
       " '9A.@Q9A2A',\n",
       " '9A.@Q9A2B',\n",
       " '9B.@Q9B1A',\n",
       " '9B.@Q9B1B',\n",
       " '9B.@Q9B2A',\n",
       " '9B.@Q9B2B',\n",
       " '9C.@Q9C1',\n",
       " '9C.@Q9C2',\n",
       " '9C.@Q9C3',\n",
       " '9C.@Q9C4',\n",
       " '9D.@Q9D1',\n",
       " '9D.@Q9D2',\n",
       " '9E.@Q9E',\n",
       " '9F.@Q9F',\n",
       " 'Filing.@Dt',\n",
       " 'Filing.@FormVrsn',\n",
       " 'Info.@BusNm',\n",
       " 'Info.@FirmCrdNb',\n",
       " 'Info.@LegalNm',\n",
       " 'Info.@SECNb',\n",
       " 'Info.@SECRgnCD',\n",
       " 'Info.@UmbrRgstn',\n",
       " 'MailingAddr.@City',\n",
       " 'MailingAddr.@Cntry',\n",
       " 'MailingAddr.@PostlCd',\n",
       " 'MailingAddr.@State',\n",
       " 'MailingAddr.@Strt1',\n",
       " 'MailingAddr.@Strt2',\n",
       " 'MainAddr.@City',\n",
       " 'MainAddr.@Cntry',\n",
       " 'MainAddr.@FaxNb',\n",
       " 'MainAddr.@PhNb',\n",
       " 'MainAddr.@PostlCd',\n",
       " 'MainAddr.@State',\n",
       " 'MainAddr.@Strt1',\n",
       " 'MainAddr.@Strt2',\n",
       " 'NoticeFiled.States.@Dt',\n",
       " 'NoticeFiled.States.@RgltrCd',\n",
       " 'NoticeFiled.States.@St',\n",
       " 'Rgstn.@Dt',\n",
       " 'Rgstn.@FirmType',\n",
       " 'Rgstn.@St',\n",
       " 'uuid']"
      ]
     },
     "execution_count": 9,
     "metadata": {},
     "output_type": "execute_result"
    }
   ],
   "source": [
    "sorted(df_sec.columns.to_list())"
   ]
  },
  {
   "cell_type": "markdown",
   "id": "2e348260-8088-4de3-b23a-527c0993d0fe",
   "metadata": {},
   "source": [
    "Number of Advisers -- everything"
   ]
  },
  {
   "cell_type": "code",
   "execution_count": 10,
   "id": "29bf88ac-12f6-4a59-b554-945ca79f4afd",
   "metadata": {
    "tags": []
   },
   "outputs": [
    {
     "data": {
      "text/plain": [
       "(21100, 279)"
      ]
     },
     "execution_count": 10,
     "metadata": {},
     "output_type": "execute_result"
    }
   ],
   "source": [
    "df_sec.shape"
   ]
  },
  {
   "cell_type": "code",
   "execution_count": 11,
   "id": "390b0650-471f-40e9-bb6b-cff1ce34da2b",
   "metadata": {
    "tags": []
   },
   "outputs": [
    {
     "data": {
      "text/plain": [
       "21100"
      ]
     },
     "execution_count": 11,
     "metadata": {},
     "output_type": "execute_result"
    }
   ],
   "source": [
    "df_sec['Info.@SECNb'].unique().size"
   ]
  },
  {
   "cell_type": "code",
   "execution_count": 12,
   "id": "d5472312-5538-467a-8185-e613c454890d",
   "metadata": {
    "tags": []
   },
   "outputs": [],
   "source": [
    "df_secno = df_sec['Info.@SECNb']"
   ]
  },
  {
   "cell_type": "code",
   "execution_count": 13,
   "id": "f00981c4-d3d2-4f55-bd5b-2cfef7724305",
   "metadata": {
    "tags": []
   },
   "outputs": [
    {
     "data": {
      "text/plain": [
       "0         801-73527\n",
       "1        801-118322\n",
       "2        801-106933\n",
       "3        801-108550\n",
       "4         801-18270\n",
       "            ...    \n",
       "21095    801-127344\n",
       "21096    802-127293\n",
       "21097    801-127370\n",
       "21098    801-127237\n",
       "21099    801-127348\n",
       "Name: Info.@SECNb, Length: 21100, dtype: object"
      ]
     },
     "execution_count": 13,
     "metadata": {},
     "output_type": "execute_result"
    }
   ],
   "source": [
    "df_secno"
   ]
  },
  {
   "cell_type": "code",
   "execution_count": 14,
   "id": "7a0bccd0-6e4d-467c-8d77-0a538faf736a",
   "metadata": {
    "tags": []
   },
   "outputs": [],
   "source": [
    "df_secnb = df_sec['Info.@FirmCrdNb']"
   ]
  },
  {
   "cell_type": "code",
   "execution_count": 15,
   "id": "c0464ae1-54d6-49d1-bc9f-b6d2fbfa109f",
   "metadata": {
    "tags": []
   },
   "outputs": [
    {
     "data": {
      "text/plain": [
       "21100"
      ]
     },
     "execution_count": 15,
     "metadata": {},
     "output_type": "execute_result"
    }
   ],
   "source": [
    "df_secnb.shape[0]"
   ]
  },
  {
   "cell_type": "code",
   "execution_count": 16,
   "id": "0379a23f-1110-4882-be0f-17037abd427b",
   "metadata": {
    "tags": []
   },
   "outputs": [],
   "source": [
    "df_sec['large_or_mid_sized'] = np.where((df_sec['2A.@Q2A1'] == 'Y') | (df_sec['2A.@Q2A2'] == 'Y'),\n",
    "                                        True,\n",
    "                                        False)"
   ]
  },
  {
   "cell_type": "code",
   "execution_count": 17,
   "id": "587ed5ae-f520-475f-a518-098608159014",
   "metadata": {
    "tags": []
   },
   "outputs": [],
   "source": [
    "df_sec['robo'] = np.where(df_sec['2A.@Q2A11'] == 'Y',\n",
    "                          True, False)"
   ]
  },
  {
   "cell_type": "code",
   "execution_count": 18,
   "id": "0c2a22d6-ff8a-4bf7-9697-4f629a33d0a1",
   "metadata": {
    "tags": []
   },
   "outputs": [
    {
     "data": {
      "text/plain": [
       "True"
      ]
     },
     "execution_count": 18,
     "metadata": {},
     "output_type": "execute_result"
    }
   ],
   "source": [
    "(df_sec.loc[(df_sec['2A.@Q2A1'] == 'Y') | (df_sec['2A.@Q2A2'] == 'Y'),:].index == df_sec[df_sec['large_or_mid_sized']].index).all()"
   ]
  },
  {
   "cell_type": "markdown",
   "id": "849a8536-f7f3-4e10-a3c4-eb7a6b7fc316",
   "metadata": {},
   "source": [
    "Number of Advisers -- just the \"regular\" firms"
   ]
  },
  {
   "cell_type": "code",
   "execution_count": 19,
   "id": "3b5c751d-9d92-44de-be9f-e9f4ab11d03b",
   "metadata": {
    "tags": []
   },
   "outputs": [
    {
     "data": {
      "text/plain": [
       "13797"
      ]
     },
     "execution_count": 19,
     "metadata": {},
     "output_type": "execute_result"
    }
   ],
   "source": [
    "df_sec_reg = df_sec[df_sec['large_or_mid_sized']].copy()\n",
    "df_sec_reg.shape[0]"
   ]
  },
  {
   "cell_type": "markdown",
   "id": "dc067efb-4b4c-4963-8b4b-e6f4a6145a3f",
   "metadata": {},
   "source": [
    "Number of Robo Advisers"
   ]
  },
  {
   "cell_type": "code",
   "execution_count": 20,
   "id": "bc86f8f6-b448-4bd1-b8ab-7f412247e74e",
   "metadata": {
    "tags": []
   },
   "outputs": [
    {
     "data": {
      "text/plain": [
       "270"
      ]
     },
     "execution_count": 20,
     "metadata": {},
     "output_type": "execute_result"
    }
   ],
   "source": [
    "df_sec_robo = df_sec[df_sec['robo']].copy()\n",
    "df_sec_robo.shape[0]"
   ]
  },
  {
   "cell_type": "markdown",
   "id": "37eb51e4-d9f9-4606-a7c9-cb76c13ae5aa",
   "metadata": {},
   "source": [
    "## State-Registered Advisers "
   ]
  },
  {
   "cell_type": "code",
   "execution_count": 21,
   "id": "40ced4ae-3670-4bd8-95c2-1c1e0c3dfb22",
   "metadata": {
    "tags": []
   },
   "outputs": [
    {
     "name": "stderr",
     "output_type": "stream",
     "text": [
      "C:\\Users\\14097\\AppData\\Local\\Temp\\ipykernel_15868\\2016899816.py:1: DtypeWarning: Columns (35,243,244,245,246,247,248,249,250,251,252,253,254,255,256,257,258,259,260,261,262,263,264,265,266,267,268,270,277,306,309,310,313) have mixed types. Specify dtype option on import or set low_memory=False.\n",
      "  df_state = pd.read_csv('data/sec/IA_FIRM_STATE_Feed_03_20_2023.csv')\n"
     ]
    }
   ],
   "source": [
    "df_state = pd.read_csv('data/sec/IA_FIRM_STATE_Feed_03_20_2023.csv')"
   ]
  },
  {
   "cell_type": "code",
   "execution_count": 22,
   "id": "fbe1a715-0e21-4720-8198-08827f43b16d",
   "metadata": {
    "collapsed": true,
    "jupyter": {
     "outputs_hidden": true
    },
    "tags": []
   },
   "outputs": [
    {
     "data": {
      "text/plain": [
       "['ERA.Rgltrs',\n",
       " 'ERA.Rgltrs.Rgltr',\n",
       " 'ERA.Rgltrs.Rgltr.@Cd',\n",
       " 'ERA.Rgltrs.Rgltr.@Dt',\n",
       " 'ERA.Rgltrs.Rgltr.@St',\n",
       " 'Filing.@Dt',\n",
       " 'Filing.@FormVrsn',\n",
       " 'FormInfo.Part1A.Item1.@Q1F5',\n",
       " 'FormInfo.Part1A.Item1.@Q1I',\n",
       " 'FormInfo.Part1A.Item1.@Q1M',\n",
       " 'FormInfo.Part1A.Item1.@Q1N',\n",
       " 'FormInfo.Part1A.Item1.@Q1O',\n",
       " 'FormInfo.Part1A.Item1.@Q1ODESC',\n",
       " 'FormInfo.Part1A.Item1.@Q1P',\n",
       " 'FormInfo.Part1A.Item1.WebAddrs',\n",
       " 'FormInfo.Part1A.Item1.WebAddrs.WebAddr',\n",
       " 'FormInfo.Part1A.Item10A.@Q10A',\n",
       " 'FormInfo.Part1A.Item11.@Q11',\n",
       " 'FormInfo.Part1A.Item11A.@Q11A1',\n",
       " 'FormInfo.Part1A.Item11A.@Q11A2',\n",
       " 'FormInfo.Part1A.Item11B.@Q11B1',\n",
       " 'FormInfo.Part1A.Item11B.@Q11B2',\n",
       " 'FormInfo.Part1A.Item11C.@Q11C1',\n",
       " 'FormInfo.Part1A.Item11C.@Q11C2',\n",
       " 'FormInfo.Part1A.Item11C.@Q11C3',\n",
       " 'FormInfo.Part1A.Item11C.@Q11C4',\n",
       " 'FormInfo.Part1A.Item11C.@Q11C5',\n",
       " 'FormInfo.Part1A.Item11D.@Q11D1',\n",
       " 'FormInfo.Part1A.Item11D.@Q11D2',\n",
       " 'FormInfo.Part1A.Item11D.@Q11D3',\n",
       " 'FormInfo.Part1A.Item11D.@Q11D4',\n",
       " 'FormInfo.Part1A.Item11D.@Q11D5',\n",
       " 'FormInfo.Part1A.Item11E.@Q11E1',\n",
       " 'FormInfo.Part1A.Item11E.@Q11E2',\n",
       " 'FormInfo.Part1A.Item11E.@Q11E3',\n",
       " 'FormInfo.Part1A.Item11E.@Q11E4',\n",
       " 'FormInfo.Part1A.Item11F.@Q11F',\n",
       " 'FormInfo.Part1A.Item11G.@Q11G',\n",
       " 'FormInfo.Part1A.Item11H.@Q11H1A',\n",
       " 'FormInfo.Part1A.Item11H.@Q11H1B',\n",
       " 'FormInfo.Part1A.Item11H.@Q11H1C',\n",
       " 'FormInfo.Part1A.Item11H.@Q11H2',\n",
       " 'FormInfo.Part1A.Item3A.@OrgFormNm',\n",
       " 'FormInfo.Part1A.Item3A.@OrgFormOthNm',\n",
       " 'FormInfo.Part1A.Item3B.@Q3B',\n",
       " 'FormInfo.Part1A.Item3C.@CntryNm',\n",
       " 'FormInfo.Part1A.Item3C.@StateCD',\n",
       " 'FormInfo.Part1A.Item5A.@TtlEmp',\n",
       " 'FormInfo.Part1A.Item5B.@Q5B1',\n",
       " 'FormInfo.Part1A.Item5B.@Q5B2',\n",
       " 'FormInfo.Part1A.Item5B.@Q5B3',\n",
       " 'FormInfo.Part1A.Item5B.@Q5B4',\n",
       " 'FormInfo.Part1A.Item5B.@Q5B5',\n",
       " 'FormInfo.Part1A.Item5B.@Q5B6',\n",
       " 'FormInfo.Part1A.Item5C.@Q5C1',\n",
       " 'FormInfo.Part1A.Item5C.@Q5C1Oth',\n",
       " 'FormInfo.Part1A.Item5C.@Q5C2',\n",
       " 'FormInfo.Part1A.Item5D.@Q5D1A',\n",
       " 'FormInfo.Part1A.Item5D.@Q5D1B',\n",
       " 'FormInfo.Part1A.Item5D.@Q5D1C',\n",
       " 'FormInfo.Part1A.Item5D.@Q5D1D',\n",
       " 'FormInfo.Part1A.Item5D.@Q5D1E',\n",
       " 'FormInfo.Part1A.Item5D.@Q5D1F',\n",
       " 'FormInfo.Part1A.Item5D.@Q5D1G',\n",
       " 'FormInfo.Part1A.Item5D.@Q5D1H',\n",
       " 'FormInfo.Part1A.Item5D.@Q5D1I',\n",
       " 'FormInfo.Part1A.Item5D.@Q5D1J',\n",
       " 'FormInfo.Part1A.Item5D.@Q5D1K',\n",
       " 'FormInfo.Part1A.Item5D.@Q5D1L',\n",
       " 'FormInfo.Part1A.Item5D.@Q5D1M',\n",
       " 'FormInfo.Part1A.Item5D.@Q5D1MOth',\n",
       " 'FormInfo.Part1A.Item5D.@Q5D2A',\n",
       " 'FormInfo.Part1A.Item5D.@Q5D2B',\n",
       " 'FormInfo.Part1A.Item5D.@Q5D2C',\n",
       " 'FormInfo.Part1A.Item5D.@Q5D2D',\n",
       " 'FormInfo.Part1A.Item5D.@Q5D2E',\n",
       " 'FormInfo.Part1A.Item5D.@Q5D2F',\n",
       " 'FormInfo.Part1A.Item5D.@Q5D2G',\n",
       " 'FormInfo.Part1A.Item5D.@Q5D2H',\n",
       " 'FormInfo.Part1A.Item5D.@Q5D2I',\n",
       " 'FormInfo.Part1A.Item5D.@Q5D2J',\n",
       " 'FormInfo.Part1A.Item5D.@Q5D2K',\n",
       " 'FormInfo.Part1A.Item5D.@Q5D2L',\n",
       " 'FormInfo.Part1A.Item5D.@Q5D2M',\n",
       " 'FormInfo.Part1A.Item5D.@Q5D2MOth',\n",
       " 'FormInfo.Part1A.Item5D.@Q5DA1',\n",
       " 'FormInfo.Part1A.Item5D.@Q5DA2',\n",
       " 'FormInfo.Part1A.Item5D.@Q5DA3',\n",
       " 'FormInfo.Part1A.Item5D.@Q5DB1',\n",
       " 'FormInfo.Part1A.Item5D.@Q5DB2',\n",
       " 'FormInfo.Part1A.Item5D.@Q5DB3',\n",
       " 'FormInfo.Part1A.Item5D.@Q5DC1',\n",
       " 'FormInfo.Part1A.Item5D.@Q5DC2',\n",
       " 'FormInfo.Part1A.Item5D.@Q5DC3',\n",
       " 'FormInfo.Part1A.Item5D.@Q5DD1',\n",
       " 'FormInfo.Part1A.Item5D.@Q5DD3',\n",
       " 'FormInfo.Part1A.Item5D.@Q5DE1',\n",
       " 'FormInfo.Part1A.Item5D.@Q5DE3',\n",
       " 'FormInfo.Part1A.Item5D.@Q5DF1',\n",
       " 'FormInfo.Part1A.Item5D.@Q5DF3',\n",
       " 'FormInfo.Part1A.Item5D.@Q5DG1',\n",
       " 'FormInfo.Part1A.Item5D.@Q5DG2',\n",
       " 'FormInfo.Part1A.Item5D.@Q5DG3',\n",
       " 'FormInfo.Part1A.Item5D.@Q5DH1',\n",
       " 'FormInfo.Part1A.Item5D.@Q5DH2',\n",
       " 'FormInfo.Part1A.Item5D.@Q5DH3',\n",
       " 'FormInfo.Part1A.Item5D.@Q5DI1',\n",
       " 'FormInfo.Part1A.Item5D.@Q5DI2',\n",
       " 'FormInfo.Part1A.Item5D.@Q5DI3',\n",
       " 'FormInfo.Part1A.Item5D.@Q5DJ1',\n",
       " 'FormInfo.Part1A.Item5D.@Q5DJ2',\n",
       " 'FormInfo.Part1A.Item5D.@Q5DJ3',\n",
       " 'FormInfo.Part1A.Item5D.@Q5DK1',\n",
       " 'FormInfo.Part1A.Item5D.@Q5DK2',\n",
       " 'FormInfo.Part1A.Item5D.@Q5DK3',\n",
       " 'FormInfo.Part1A.Item5D.@Q5DL1',\n",
       " 'FormInfo.Part1A.Item5D.@Q5DL2',\n",
       " 'FormInfo.Part1A.Item5D.@Q5DL3',\n",
       " 'FormInfo.Part1A.Item5D.@Q5DM1',\n",
       " 'FormInfo.Part1A.Item5D.@Q5DM2',\n",
       " 'FormInfo.Part1A.Item5D.@Q5DM3',\n",
       " 'FormInfo.Part1A.Item5D.@Q5DN1',\n",
       " 'FormInfo.Part1A.Item5D.@Q5DN2',\n",
       " 'FormInfo.Part1A.Item5D.@Q5DN3',\n",
       " 'FormInfo.Part1A.Item5D.@Q5DN3Oth',\n",
       " 'FormInfo.Part1A.Item5E.@Q5E1',\n",
       " 'FormInfo.Part1A.Item5E.@Q5E2',\n",
       " 'FormInfo.Part1A.Item5E.@Q5E3',\n",
       " 'FormInfo.Part1A.Item5E.@Q5E4',\n",
       " 'FormInfo.Part1A.Item5E.@Q5E5',\n",
       " 'FormInfo.Part1A.Item5E.@Q5E6',\n",
       " 'FormInfo.Part1A.Item5E.@Q5E7',\n",
       " 'FormInfo.Part1A.Item5E.@Q5E7Oth',\n",
       " 'FormInfo.Part1A.Item5F.@Q5F1',\n",
       " 'FormInfo.Part1A.Item5F.@Q5F2A',\n",
       " 'FormInfo.Part1A.Item5F.@Q5F2B',\n",
       " 'FormInfo.Part1A.Item5F.@Q5F2C',\n",
       " 'FormInfo.Part1A.Item5F.@Q5F2D',\n",
       " 'FormInfo.Part1A.Item5F.@Q5F2E',\n",
       " 'FormInfo.Part1A.Item5F.@Q5F2F',\n",
       " 'FormInfo.Part1A.Item5F.@Q5F3',\n",
       " 'FormInfo.Part1A.Item5G.@Q5G1',\n",
       " 'FormInfo.Part1A.Item5G.@Q5G10',\n",
       " 'FormInfo.Part1A.Item5G.@Q5G11',\n",
       " 'FormInfo.Part1A.Item5G.@Q5G12',\n",
       " 'FormInfo.Part1A.Item5G.@Q5G12Oth',\n",
       " 'FormInfo.Part1A.Item5G.@Q5G2',\n",
       " 'FormInfo.Part1A.Item5G.@Q5G3',\n",
       " 'FormInfo.Part1A.Item5G.@Q5G4',\n",
       " 'FormInfo.Part1A.Item5G.@Q5G5',\n",
       " 'FormInfo.Part1A.Item5G.@Q5G6',\n",
       " 'FormInfo.Part1A.Item5G.@Q5G7',\n",
       " 'FormInfo.Part1A.Item5G.@Q5G8',\n",
       " 'FormInfo.Part1A.Item5G.@Q5G9',\n",
       " 'FormInfo.Part1A.Item5H.@Q5H',\n",
       " 'FormInfo.Part1A.Item5H.@Q5HMT500',\n",
       " 'FormInfo.Part1A.Item5I.@Q5I1',\n",
       " 'FormInfo.Part1A.Item5I.@Q5I2A',\n",
       " 'FormInfo.Part1A.Item5I.@Q5I2B',\n",
       " 'FormInfo.Part1A.Item5I.@Q5I2C',\n",
       " 'FormInfo.Part1A.Item5J.@Q5J1',\n",
       " 'FormInfo.Part1A.Item5J.@Q5J2',\n",
       " 'FormInfo.Part1A.Item5K.@Q5K1',\n",
       " 'FormInfo.Part1A.Item5K.@Q5K2',\n",
       " 'FormInfo.Part1A.Item5K.@Q5K3',\n",
       " 'FormInfo.Part1A.Item5K.@Q5K4',\n",
       " 'FormInfo.Part1A.Item5L.@Q5L1A',\n",
       " 'FormInfo.Part1A.Item5L.@Q5L1B',\n",
       " 'FormInfo.Part1A.Item5L.@Q5L1C',\n",
       " 'FormInfo.Part1A.Item5L.@Q5L1D',\n",
       " 'FormInfo.Part1A.Item5L.@Q5L1E',\n",
       " 'FormInfo.Part1A.Item5L.@Q5L2',\n",
       " 'FormInfo.Part1A.Item5L.@Q5L3',\n",
       " 'FormInfo.Part1A.Item5L.@Q5L4',\n",
       " 'FormInfo.Part1A.Item6A.@Q6A1',\n",
       " 'FormInfo.Part1A.Item6A.@Q6A10',\n",
       " 'FormInfo.Part1A.Item6A.@Q6A11',\n",
       " 'FormInfo.Part1A.Item6A.@Q6A12',\n",
       " 'FormInfo.Part1A.Item6A.@Q6A13',\n",
       " 'FormInfo.Part1A.Item6A.@Q6A14',\n",
       " 'FormInfo.Part1A.Item6A.@Q6A14Oth',\n",
       " 'FormInfo.Part1A.Item6A.@Q6A2',\n",
       " 'FormInfo.Part1A.Item6A.@Q6A3',\n",
       " 'FormInfo.Part1A.Item6A.@Q6A4',\n",
       " 'FormInfo.Part1A.Item6A.@Q6A5',\n",
       " 'FormInfo.Part1A.Item6A.@Q6A6',\n",
       " 'FormInfo.Part1A.Item6A.@Q6A7',\n",
       " 'FormInfo.Part1A.Item6A.@Q6A8',\n",
       " 'FormInfo.Part1A.Item6A.@Q6A9',\n",
       " 'FormInfo.Part1A.Item6B.@Q6B1',\n",
       " 'FormInfo.Part1A.Item6B.@Q6B2',\n",
       " 'FormInfo.Part1A.Item6B.@Q6B3',\n",
       " 'FormInfo.Part1A.Item7A.@Q7A1',\n",
       " 'FormInfo.Part1A.Item7A.@Q7A10',\n",
       " 'FormInfo.Part1A.Item7A.@Q7A11',\n",
       " 'FormInfo.Part1A.Item7A.@Q7A12',\n",
       " 'FormInfo.Part1A.Item7A.@Q7A13',\n",
       " 'FormInfo.Part1A.Item7A.@Q7A14',\n",
       " 'FormInfo.Part1A.Item7A.@Q7A15',\n",
       " 'FormInfo.Part1A.Item7A.@Q7A16',\n",
       " 'FormInfo.Part1A.Item7A.@Q7A2',\n",
       " 'FormInfo.Part1A.Item7A.@Q7A3',\n",
       " 'FormInfo.Part1A.Item7A.@Q7A4',\n",
       " 'FormInfo.Part1A.Item7A.@Q7A5',\n",
       " 'FormInfo.Part1A.Item7A.@Q7A6',\n",
       " 'FormInfo.Part1A.Item7A.@Q7A7',\n",
       " 'FormInfo.Part1A.Item7A.@Q7A8',\n",
       " 'FormInfo.Part1A.Item7A.@Q7A9',\n",
       " 'FormInfo.Part1A.Item7B.@Q7B',\n",
       " 'FormInfo.Part1A.Item8A.@Q8A1',\n",
       " 'FormInfo.Part1A.Item8A.@Q8A2',\n",
       " 'FormInfo.Part1A.Item8A.@Q8A3',\n",
       " 'FormInfo.Part1A.Item8B.@Q8B1',\n",
       " 'FormInfo.Part1A.Item8B.@Q8B2',\n",
       " 'FormInfo.Part1A.Item8B.@Q8B3',\n",
       " 'FormInfo.Part1A.Item8C.@Q8C1',\n",
       " 'FormInfo.Part1A.Item8C.@Q8C2',\n",
       " 'FormInfo.Part1A.Item8C.@Q8C3',\n",
       " 'FormInfo.Part1A.Item8C.@Q8C4',\n",
       " 'FormInfo.Part1A.Item8D.@Q8D',\n",
       " 'FormInfo.Part1A.Item8E.@Q8E',\n",
       " 'FormInfo.Part1A.Item8F.@Q8F',\n",
       " 'FormInfo.Part1A.Item8G.@Q8G1',\n",
       " 'FormInfo.Part1A.Item8G.@Q8G2',\n",
       " 'FormInfo.Part1A.Item8H.@Q8H',\n",
       " 'FormInfo.Part1A.Item8H.@Q8H1',\n",
       " 'FormInfo.Part1A.Item8H.@Q8H2',\n",
       " 'FormInfo.Part1A.Item8I.@Q8I',\n",
       " 'FormInfo.Part1A.Item9A.@Q9A1A',\n",
       " 'FormInfo.Part1A.Item9A.@Q9A1B',\n",
       " 'FormInfo.Part1A.Item9A.@Q9A2A',\n",
       " 'FormInfo.Part1A.Item9A.@Q9A2B',\n",
       " 'FormInfo.Part1A.Item9B.@Q9B1A',\n",
       " 'FormInfo.Part1A.Item9B.@Q9B1B',\n",
       " 'FormInfo.Part1A.Item9B.@Q9B2A',\n",
       " 'FormInfo.Part1A.Item9B.@Q9B2B',\n",
       " 'FormInfo.Part1A.Item9C.@Q9C1',\n",
       " 'FormInfo.Part1A.Item9C.@Q9C2',\n",
       " 'FormInfo.Part1A.Item9C.@Q9C3',\n",
       " 'FormInfo.Part1A.Item9C.@Q9C4',\n",
       " 'FormInfo.Part1A.Item9D.@Q9D1',\n",
       " 'FormInfo.Part1A.Item9D.@Q9D2',\n",
       " 'FormInfo.Part1A.Item9E.@Q9E',\n",
       " 'FormInfo.Part1A.Item9F.@Q9F',\n",
       " 'FormInfo.Part1B.DsclrQstns.@Q1B2C',\n",
       " 'FormInfo.Part1B.DsclrQstns.@Q1B2D',\n",
       " 'FormInfo.Part1B.DsclrQstns.@Q1B2E1',\n",
       " 'FormInfo.Part1B.DsclrQstns.@Q1B2E2',\n",
       " 'FormInfo.Part1B.DsclrQstns.@Q1B2E3',\n",
       " 'FormInfo.Part1B.DsclrQstns.@Q1B2E4',\n",
       " 'FormInfo.Part1B.DsclrQstns.@Q1B2E5',\n",
       " 'FormInfo.Part1B.DsclrQstns.@Q1B2F1',\n",
       " 'FormInfo.Part1B.DsclrQstns.@Q1B2F2',\n",
       " 'FormInfo.Part1B.DsclrQstns.@Q1B2F3',\n",
       " 'FormInfo.Part1B.DsclrQstns.@Q1B2F4',\n",
       " 'FormInfo.Part1B.DsclrQstns.@Q1B2F5',\n",
       " 'FormInfo.Part1B.Item2.@Q1B2B1',\n",
       " 'FormInfo.Part1B.Item2.@Q1B2B2',\n",
       " 'FormInfo.Part1B.Item2.@Q1B2B4',\n",
       " 'FormInfo.Part1B.ItemG.@Q1B2G2',\n",
       " 'FormInfo.Part1B.ItemG.@Q1BG1IssueScrts',\n",
       " 'FormInfo.Part1B.ItemG.@Q1BG1PoolInvmt',\n",
       " 'FormInfo.Part1B.ItemG.@Q1BG1ReAdvsr',\n",
       " 'FormInfo.Part1B.ItemG.@Q1BG1TaxPrprr',\n",
       " 'FormInfo.Part1B.ItemG.@Q1BG1XcldPoolInvmt',\n",
       " 'FormInfo.Part1B.ItemH.@Q1B2HNScrtsNvsmt',\n",
       " 'FormInfo.Part1B.ItemH.@Q1B2HNScrtsNvsmtAm',\n",
       " 'FormInfo.Part1B.ItemH.@Q1B2HScrtsNvsmt',\n",
       " 'FormInfo.Part1B.ItemH.@Q1B2HScrtsNvsmtAm',\n",
       " 'FormInfo.Part1B.ItemI.@Q1B2I1',\n",
       " 'FormInfo.Part1B.ItemI.@Q1B2I1A',\n",
       " 'FormInfo.Part1B.ItemI.@Q1B2I1B',\n",
       " 'FormInfo.Part1B.ItemI.@Q1B2I1C',\n",
       " 'FormInfo.Part1B.ItemI.@Q1B2I2Ai',\n",
       " 'FormInfo.Part1B.ItemI.@Q1B2I2AiiAtrny',\n",
       " 'FormInfo.Part1B.ItemI.@Q1B2I2AiiCpa',\n",
       " 'FormInfo.Part1B.ItemI.@Q1B2I2AiiOth',\n",
       " 'FormInfo.Part1B.ItemI.@Q1B2I2AiiOthTx',\n",
       " 'FormInfo.Part1B.ItemI.@Q1B2I2B',\n",
       " 'FormInfo.Part1B.ItemI.@Q1B2I3',\n",
       " 'FormInfo.Part1B.ItemJ.@Q1BJ1A',\n",
       " 'FormInfo.Part1B.ItemJ.@Q1BJ1B',\n",
       " 'FormInfo.Part1B.ItemJ.@Q1BJ2A',\n",
       " 'FormInfo.Part1B.ItemJ.@Q1BJ2BCfa',\n",
       " 'FormInfo.Part1B.ItemJ.@Q1BJ2BCfp',\n",
       " 'FormInfo.Part1B.ItemJ.@Q1BJ2BChfc',\n",
       " 'FormInfo.Part1B.ItemJ.@Q1BJ2BCic',\n",
       " 'FormInfo.Part1B.ItemJ.@Q1BJ2BNone',\n",
       " 'FormInfo.Part1B.ItemJ.@Q1BJ2BPfs',\n",
       " 'FormInfo.Part1B.ItemK.@Q1B2K1',\n",
       " 'Info.@BusNm',\n",
       " 'Info.@FirmCrdNb',\n",
       " 'Info.@LegalNm',\n",
       " 'Info.@SECNb',\n",
       " 'Info.@UmbrRgstn',\n",
       " 'MailingAddr.@City',\n",
       " 'MailingAddr.@Cntry',\n",
       " 'MailingAddr.@PostlCd',\n",
       " 'MailingAddr.@State',\n",
       " 'MailingAddr.@Strt1',\n",
       " 'MailingAddr.@Strt2',\n",
       " 'MainAddr.@City',\n",
       " 'MainAddr.@Cntry',\n",
       " 'MainAddr.@FaxNb',\n",
       " 'MainAddr.@PhNb',\n",
       " 'MainAddr.@PostlCd',\n",
       " 'MainAddr.@State',\n",
       " 'MainAddr.@Strt1',\n",
       " 'MainAddr.@Strt2',\n",
       " 'StateRgstn.Rgltrs',\n",
       " 'StateRgstn.Rgltrs.Rgltr',\n",
       " 'StateRgstn.Rgltrs.Rgltr.@Cd',\n",
       " 'StateRgstn.Rgltrs.Rgltr.@Dt',\n",
       " 'StateRgstn.Rgltrs.Rgltr.@St']"
      ]
     },
     "execution_count": 22,
     "metadata": {},
     "output_type": "execute_result"
    }
   ],
   "source": [
    "sorted(df_state.columns.to_list())"
   ]
  },
  {
   "cell_type": "code",
   "execution_count": 23,
   "id": "9ff82c46-d371-47af-8ff4-9c93d5e4a2b3",
   "metadata": {
    "tags": []
   },
   "outputs": [],
   "source": [
    "df_state['uuid'] = df_state.apply(lambda _: uuid.uuid4(), axis=1)"
   ]
  },
  {
   "cell_type": "code",
   "execution_count": 24,
   "id": "698d628d-592f-449e-aa9b-95172c259202",
   "metadata": {
    "tags": []
   },
   "outputs": [
    {
     "data": {
      "text/plain": [
       "0        d9c422f1-f5ce-4d8b-9447-abde4e9575c3\n",
       "1        e6fdbd2a-ecc9-4c24-a425-52d7e22b1991\n",
       "2        5d52ddea-9f95-48fe-af59-9a66cb5242e4\n",
       "3        3b629316-c821-4548-b00a-07e6fa8c7f4a\n",
       "4        db942b51-7473-44e7-966d-25964f7f3fe1\n",
       "                         ...                 \n",
       "21261    76d9efc0-e7a3-416d-83c4-dff1bbb770e4\n",
       "21262    db71a4ad-7b86-4760-8476-e688fcd0e46b\n",
       "21263    b0b31cd6-cf33-4a16-a532-3aac5d54b843\n",
       "21264    3e18d95c-dca3-4e7f-a1d2-cc6db7cd2ca2\n",
       "21265    27c072ad-a51f-4bc7-b249-7afca65a7941\n",
       "Name: uuid, Length: 21266, dtype: object"
      ]
     },
     "execution_count": 24,
     "metadata": {},
     "output_type": "execute_result"
    }
   ],
   "source": [
    "df_state['uuid']"
   ]
  },
  {
   "cell_type": "markdown",
   "id": "95463207-57f2-43c3-850d-605c9cba4685",
   "metadata": {},
   "source": [
    "Some Advisers are \"Exempt Reporting Advisers\", they are typically VCs \n",
    "https://learn.angellist.com/articles/exempt-reporting-advisor"
   ]
  },
  {
   "cell_type": "code",
   "execution_count": 25,
   "id": "a3454355-1afb-47cd-af0b-1e0f9ff587a8",
   "metadata": {
    "tags": []
   },
   "outputs": [],
   "source": [
    "df_state_exempt = df_state[(df_state['ERA.Rgltrs'].notnull() |\n",
    "                            df_state['ERA.Rgltrs.Rgltr'].notnull() |\n",
    "                            df_state['ERA.Rgltrs.Rgltr.@Cd'].notnull() |\n",
    "                            df_state['ERA.Rgltrs.Rgltr.@Dt'].notnull() |\n",
    "                            df_state['ERA.Rgltrs.Rgltr.@St'].notnull() )].copy()"
   ]
  },
  {
   "cell_type": "code",
   "execution_count": 26,
   "id": "1362f0e2-9a77-4264-9c01-21f8e3c48baa",
   "metadata": {
    "tags": []
   },
   "outputs": [],
   "source": [
    "df_state_reg = df_state[(df_state['ERA.Rgltrs'].isnull() &\n",
    "                        df_state['ERA.Rgltrs.Rgltr'].isnull() &\n",
    "                        df_state['ERA.Rgltrs.Rgltr.@Cd'].isnull() &\n",
    "                        df_state['ERA.Rgltrs.Rgltr.@Dt'].isnull() &\n",
    "                        df_state['ERA.Rgltrs.Rgltr.@St'].isnull() )].copy()"
   ]
  },
  {
   "cell_type": "code",
   "execution_count": 27,
   "id": "7965ac13-a189-48f2-9cc1-3bdf3b5da9e8",
   "metadata": {
    "tags": []
   },
   "outputs": [
    {
     "data": {
      "text/plain": [
       "True"
      ]
     },
     "execution_count": 27,
     "metadata": {},
     "output_type": "execute_result"
    }
   ],
   "source": [
    "df_state_reg.shape[0] + df_state_exempt.shape[0] == df_state.shape[0]"
   ]
  },
  {
   "cell_type": "code",
   "execution_count": 28,
   "id": "81e0c236-2802-4c76-ae19-9354125286f5",
   "metadata": {
    "tags": []
   },
   "outputs": [
    {
     "data": {
      "text/plain": [
       "21266"
      ]
     },
     "execution_count": 28,
     "metadata": {},
     "output_type": "execute_result"
    }
   ],
   "source": [
    "df_state.shape[0]"
   ]
  },
  {
   "cell_type": "code",
   "execution_count": 29,
   "id": "a6e10dfe-f946-45e4-92b8-4b94d20ec24f",
   "metadata": {
    "tags": []
   },
   "outputs": [
    {
     "data": {
      "text/plain": [
       "(21266, 315)"
      ]
     },
     "execution_count": 29,
     "metadata": {},
     "output_type": "execute_result"
    }
   ],
   "source": [
    "df_state.shape"
   ]
  },
  {
   "cell_type": "code",
   "execution_count": 30,
   "id": "ff6521a6-3200-498f-a19b-18f8975786b5",
   "metadata": {
    "tags": []
   },
   "outputs": [
    {
     "data": {
      "text/plain": [
       "3862"
      ]
     },
     "execution_count": 30,
     "metadata": {},
     "output_type": "execute_result"
    }
   ],
   "source": [
    "df_state['Info.@SECNb'].unique().size"
   ]
  },
  {
   "cell_type": "code",
   "execution_count": 31,
   "id": "5692ecbb-22d6-4d22-b19a-5ca3384b45ff",
   "metadata": {
    "tags": []
   },
   "outputs": [
    {
     "data": {
      "text/plain": [
       "21266"
      ]
     },
     "execution_count": 31,
     "metadata": {},
     "output_type": "execute_result"
    }
   ],
   "source": [
    "df_state['Info.@FirmCrdNb'].unique().size"
   ]
  },
  {
   "cell_type": "code",
   "execution_count": 32,
   "id": "f40232ab-d440-4095-991a-68c59adbbe51",
   "metadata": {
    "tags": []
   },
   "outputs": [],
   "source": [
    "df_statecrb = df_state['Info.@FirmCrdNb']"
   ]
  },
  {
   "cell_type": "code",
   "execution_count": 33,
   "id": "a5c83318-9c0e-4b18-8456-bfac51090960",
   "metadata": {
    "tags": []
   },
   "outputs": [
    {
     "data": {
      "text/plain": [
       "0        146099\n",
       "1        289221\n",
       "2         23940\n",
       "3        155220\n",
       "4        171863\n",
       "          ...  \n",
       "21261    324629\n",
       "21262    324630\n",
       "21263    324661\n",
       "21264    324664\n",
       "21265    324649\n",
       "Name: Info.@FirmCrdNb, Length: 21266, dtype: int64"
      ]
     },
     "execution_count": 33,
     "metadata": {},
     "output_type": "execute_result"
    }
   ],
   "source": [
    "df_statecrb"
   ]
  },
  {
   "cell_type": "markdown",
   "id": "d83d9cde-e1a7-438a-b87d-fbd4e1945afd",
   "metadata": {},
   "source": [
    "# Combine"
   ]
  },
  {
   "cell_type": "code",
   "execution_count": 34,
   "id": "33c6b1c0-8fb3-41ca-b299-c48ddc30c4c7",
   "metadata": {
    "tags": []
   },
   "outputs": [],
   "source": [
    "df_all = pd.merge(df_sec, df_state, on=['Info.@FirmCrdNb', 'Info.@BusNm', 'Info.@LegalNm'])"
   ]
  },
  {
   "cell_type": "code",
   "execution_count": 35,
   "id": "53d4237a-fc6a-4390-b668-bff29d26888a",
   "metadata": {
    "tags": []
   },
   "outputs": [
    {
     "data": {
      "text/plain": [
       "(1787, 593)"
      ]
     },
     "execution_count": 35,
     "metadata": {},
     "output_type": "execute_result"
    }
   ],
   "source": [
    "df_all.shape"
   ]
  },
  {
   "cell_type": "code",
   "execution_count": 36,
   "id": "30292b94-096f-46cc-aba9-6a3caa3ac1be",
   "metadata": {
    "tags": []
   },
   "outputs": [
    {
     "data": {
      "text/plain": [
       "1787"
      ]
     },
     "execution_count": 36,
     "metadata": {},
     "output_type": "execute_result"
    }
   ],
   "source": [
    "df_all['Info.@FirmCrdNb'].unique().size"
   ]
  },
  {
   "cell_type": "code",
   "execution_count": 37,
   "id": "2767cc5b-dab4-40d4-bdef-1972552f82db",
   "metadata": {
    "tags": []
   },
   "outputs": [
    {
     "data": {
      "text/plain": [
       "1787"
      ]
     },
     "execution_count": 37,
     "metadata": {},
     "output_type": "execute_result"
    }
   ],
   "source": [
    "df_all['Info.@SECNb_x'].unique().size"
   ]
  },
  {
   "cell_type": "code",
   "execution_count": 38,
   "id": "4877d6cc-753e-4b45-b1b0-a3b61c6d795d",
   "metadata": {
    "tags": []
   },
   "outputs": [
    {
     "data": {
      "text/html": [
       "<div>\n",
       "<style scoped>\n",
       "    .dataframe tbody tr th:only-of-type {\n",
       "        vertical-align: middle;\n",
       "    }\n",
       "\n",
       "    .dataframe tbody tr th {\n",
       "        vertical-align: top;\n",
       "    }\n",
       "\n",
       "    .dataframe thead th {\n",
       "        text-align: right;\n",
       "    }\n",
       "</style>\n",
       "<table border=\"1\" class=\"dataframe\">\n",
       "  <thead>\n",
       "    <tr style=\"text-align: right;\">\n",
       "      <th></th>\n",
       "      <th>Info.@SECRgnCD</th>\n",
       "      <th>Info.@FirmCrdNb</th>\n",
       "      <th>Info.@SECNb_x</th>\n",
       "      <th>Info.@BusNm</th>\n",
       "      <th>Info.@LegalNm</th>\n",
       "      <th>Info.@UmbrRgstn_x</th>\n",
       "      <th>MainAddr.@Strt1_x</th>\n",
       "      <th>MainAddr.@Strt2_x</th>\n",
       "      <th>MainAddr.@City_x</th>\n",
       "      <th>MainAddr.@State_x</th>\n",
       "      <th>...</th>\n",
       "      <th>FormInfo.Part1B.ItemJ.@Q1BJ2BNone</th>\n",
       "      <th>FormInfo.Part1A.Item9E.@Q9E</th>\n",
       "      <th>ERA.Rgltrs.Rgltr</th>\n",
       "      <th>FormInfo.Part1B.ItemH.@Q1B2HNScrtsNvsmtAm</th>\n",
       "      <th>FormInfo.Part1A.Item1.@Q1ODESC</th>\n",
       "      <th>FormInfo.Part1A.Item5D.@Q5D1MOth</th>\n",
       "      <th>FormInfo.Part1A.Item5H.@Q5HMT500</th>\n",
       "      <th>FormInfo.Part1A.Item5C.@Q5C1Oth</th>\n",
       "      <th>FormInfo.Part1A.Item5D.@Q5D2MOth</th>\n",
       "      <th>uuid_y</th>\n",
       "    </tr>\n",
       "  </thead>\n",
       "  <tbody>\n",
       "    <tr>\n",
       "      <th>387</th>\n",
       "      <td>NYRO</td>\n",
       "      <td>163343</td>\n",
       "      <td>802-75144</td>\n",
       "      <td>NEW YORK CITY INVESTMENT FUND MANAGER, INC.</td>\n",
       "      <td>NEW YORK CITY INVESTMENT FUND MANAGER, INC.</td>\n",
       "      <td>NaN</td>\n",
       "      <td>ONE BATTERY PARK PLAZA</td>\n",
       "      <td>NaN</td>\n",
       "      <td>NEW YORK</td>\n",
       "      <td>NY</td>\n",
       "      <td>...</td>\n",
       "      <td>NaN</td>\n",
       "      <td>NaN</td>\n",
       "      <td>NaN</td>\n",
       "      <td>NaN</td>\n",
       "      <td>NaN</td>\n",
       "      <td>NaN</td>\n",
       "      <td>NaN</td>\n",
       "      <td>NaN</td>\n",
       "      <td>NaN</td>\n",
       "      <td>8f61d32e-94a0-43f4-baad-ad4d39f10ba9</td>\n",
       "    </tr>\n",
       "    <tr>\n",
       "      <th>476</th>\n",
       "      <td>LARO</td>\n",
       "      <td>289457</td>\n",
       "      <td>802-112715</td>\n",
       "      <td>BONFIRE VENTURES</td>\n",
       "      <td>BONFIRE VENTURES MANAGEMENT, LLC</td>\n",
       "      <td>NaN</td>\n",
       "      <td>725 ARIZONA AVE.</td>\n",
       "      <td>SUITE 400</td>\n",
       "      <td>SANTA MONICA</td>\n",
       "      <td>CA</td>\n",
       "      <td>...</td>\n",
       "      <td>NaN</td>\n",
       "      <td>NaN</td>\n",
       "      <td>NaN</td>\n",
       "      <td>NaN</td>\n",
       "      <td>NaN</td>\n",
       "      <td>NaN</td>\n",
       "      <td>NaN</td>\n",
       "      <td>NaN</td>\n",
       "      <td>NaN</td>\n",
       "      <td>98a77ffb-78af-4072-88fc-f7ddf88a6c22</td>\n",
       "    </tr>\n",
       "    <tr>\n",
       "      <th>749</th>\n",
       "      <td>SFRO</td>\n",
       "      <td>162705</td>\n",
       "      <td>802-75503</td>\n",
       "      <td>DAG VENTURES</td>\n",
       "      <td>DAG VENTURES, LLC</td>\n",
       "      <td>NaN</td>\n",
       "      <td>251 LYTTON AVE.</td>\n",
       "      <td>SUITE 200</td>\n",
       "      <td>PALO ALTO</td>\n",
       "      <td>CA</td>\n",
       "      <td>...</td>\n",
       "      <td>NaN</td>\n",
       "      <td>NaN</td>\n",
       "      <td>NaN</td>\n",
       "      <td>NaN</td>\n",
       "      <td>NaN</td>\n",
       "      <td>NaN</td>\n",
       "      <td>NaN</td>\n",
       "      <td>NaN</td>\n",
       "      <td>NaN</td>\n",
       "      <td>a48a9fda-c27d-455f-a36c-186923906ebe</td>\n",
       "    </tr>\n",
       "  </tbody>\n",
       "</table>\n",
       "<p>3 rows × 593 columns</p>\n",
       "</div>"
      ],
      "text/plain": [
       "    Info.@SECRgnCD  Info.@FirmCrdNb Info.@SECNb_x  \\\n",
       "387           NYRO           163343     802-75144   \n",
       "476           LARO           289457    802-112715   \n",
       "749           SFRO           162705     802-75503   \n",
       "\n",
       "                                     Info.@BusNm  \\\n",
       "387  NEW YORK CITY INVESTMENT FUND MANAGER, INC.   \n",
       "476                             BONFIRE VENTURES   \n",
       "749                                 DAG VENTURES   \n",
       "\n",
       "                                   Info.@LegalNm Info.@UmbrRgstn_x  \\\n",
       "387  NEW YORK CITY INVESTMENT FUND MANAGER, INC.               NaN   \n",
       "476             BONFIRE VENTURES MANAGEMENT, LLC               NaN   \n",
       "749                            DAG VENTURES, LLC               NaN   \n",
       "\n",
       "          MainAddr.@Strt1_x MainAddr.@Strt2_x MainAddr.@City_x  \\\n",
       "387  ONE BATTERY PARK PLAZA               NaN         NEW YORK   \n",
       "476        725 ARIZONA AVE.         SUITE 400     SANTA MONICA   \n",
       "749         251 LYTTON AVE.         SUITE 200        PALO ALTO   \n",
       "\n",
       "    MainAddr.@State_x  ... FormInfo.Part1B.ItemJ.@Q1BJ2BNone  \\\n",
       "387                NY  ...                               NaN   \n",
       "476                CA  ...                               NaN   \n",
       "749                CA  ...                               NaN   \n",
       "\n",
       "    FormInfo.Part1A.Item9E.@Q9E ERA.Rgltrs.Rgltr  \\\n",
       "387                         NaN              NaN   \n",
       "476                         NaN              NaN   \n",
       "749                         NaN              NaN   \n",
       "\n",
       "    FormInfo.Part1B.ItemH.@Q1B2HNScrtsNvsmtAm FormInfo.Part1A.Item1.@Q1ODESC  \\\n",
       "387                                       NaN                            NaN   \n",
       "476                                       NaN                            NaN   \n",
       "749                                       NaN                            NaN   \n",
       "\n",
       "    FormInfo.Part1A.Item5D.@Q5D1MOth FormInfo.Part1A.Item5H.@Q5HMT500  \\\n",
       "387                              NaN                              NaN   \n",
       "476                              NaN                              NaN   \n",
       "749                              NaN                              NaN   \n",
       "\n",
       "    FormInfo.Part1A.Item5C.@Q5C1Oth FormInfo.Part1A.Item5D.@Q5D2MOth  \\\n",
       "387                             NaN                              NaN   \n",
       "476                             NaN                              NaN   \n",
       "749                             NaN                              NaN   \n",
       "\n",
       "                                   uuid_y  \n",
       "387  8f61d32e-94a0-43f4-baad-ad4d39f10ba9  \n",
       "476  98a77ffb-78af-4072-88fc-f7ddf88a6c22  \n",
       "749  a48a9fda-c27d-455f-a36c-186923906ebe  \n",
       "\n",
       "[3 rows x 593 columns]"
      ]
     },
     "execution_count": 38,
     "metadata": {},
     "output_type": "execute_result"
    }
   ],
   "source": [
    "df_all.sample(3)"
   ]
  },
  {
   "cell_type": "markdown",
   "id": "edc9c36b-0ee1-4917-be3a-bbf5026bf7a1",
   "metadata": {},
   "source": [
    "# Get All Web Addresses"
   ]
  },
  {
   "cell_type": "code",
   "execution_count": 39,
   "id": "be37af59-ad3f-4525-95a3-41fb3b258c52",
   "metadata": {
    "tags": []
   },
   "outputs": [],
   "source": [
    "def get_all_urls(df, valid_only=True):\n",
    "    df_urls = df.loc[df['1.WebAddrs.WebAddr'].notnull(),\n",
    "                    ['Info.@FirmCrdNb',\n",
    "                     '1.WebAddrs.WebAddr']\n",
    "                    ]\n",
    "    df_urls.rename(columns={'1.WebAddrs.WebAddr':'url'}, inplace=True)\n",
    "    df_urls['url'] = df_urls['url'].apply(lambda x: eval(x.lower()) if ('[' in x and ']' in x) else x.lower())\n",
    "    df_urls = df_urls.explode('url').reset_index(drop=True)\n",
    "    df_urls['url_valid'] = df_urls['url'].apply(validators.url)\n",
    "    if valid_only:\n",
    "        df_urls = df_urls.loc[df_urls['url_valid'] == True,:]\n",
    "    return df_urls"
   ]
  },
  {
   "cell_type": "code",
   "execution_count": 40,
   "id": "ddca5d99-1d19-4e8e-ae39-6e42cff7576d",
   "metadata": {
    "tags": []
   },
   "outputs": [],
   "source": [
    "df_sec_reg_urls = get_all_urls(df_sec_reg, valid_only=False)"
   ]
  }
 ],
 "metadata": {
  "kernelspec": {
   "display_name": "Python 3 (ipykernel)",
   "language": "python",
   "name": "python3"
  },
  "language_info": {
   "codemirror_mode": {
    "name": "ipython",
    "version": 3
   },
   "file_extension": ".py",
   "mimetype": "text/x-python",
   "name": "python",
   "nbconvert_exporter": "python",
   "pygments_lexer": "ipython3",
   "version": "3.9.0"
  }
 },
 "nbformat": 4,
 "nbformat_minor": 5
}
