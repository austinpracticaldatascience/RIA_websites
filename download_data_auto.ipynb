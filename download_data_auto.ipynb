{
 "cells": [
  {
   "cell_type": "code",
   "execution_count": 2,
   "id": "fea936b6-a42c-4197-89c1-2bc0061bff57",
   "metadata": {
    "tags": []
   },
   "outputs": [],
   "source": [
    "import requests\n",
    "from datetime import datetime\n",
    "import os\n",
    "from zipfile import ZipFile\n",
    "import gzip\n",
    "import shutil\n",
    "import xmltodict\n",
    "import pandas as pd"
   ]
  },
  {
   "cell_type": "code",
   "execution_count": 3,
   "id": "40b6e907-9e81-4f7a-9cf5-905be5770db9",
   "metadata": {
    "tags": []
   },
   "outputs": [],
   "source": [
    "r = requests.get('https://reports.adviserinfo.sec.gov/reports/CompilationReports/CompilationReports.manifest.json')\n",
    "filenames = r.json()['files']\n",
    "filenames = [x['name'] for x in filenames]"
   ]
  },
  {
   "cell_type": "code",
   "execution_count": 4,
   "id": "c7dc57f5-53c8-4c9f-8024-b17134166145",
   "metadata": {
    "tags": []
   },
   "outputs": [],
   "source": [
    "# only get investment adviser firms (not individuals) for now\n",
    "filenames = [x for x in filenames if x.startswith('IA_FIRM')]"
   ]
  },
  {
   "cell_type": "code",
   "execution_count": 5,
   "id": "0e350f46-fc6f-4971-8e1e-2ae14210a973",
   "metadata": {
    "tags": []
   },
   "outputs": [],
   "source": [
    "BASE_XML_URL = ['https://reports.adviserinfo.sec.gov/reports/CompilationReports/']*len(filenames)"
   ]
  },
  {
   "cell_type": "code",
   "execution_count": 6,
   "id": "b7c6329b-1c2c-4d02-b4f6-8af947ec9ac0",
   "metadata": {
    "tags": []
   },
   "outputs": [],
   "source": [
    "urls = []\n",
    "for (base_url, file) in zip(BASE_XML_URL, filenames):\n",
    "    urls.append(base_url + file)"
   ]
  },
  {
   "cell_type": "code",
   "execution_count": 7,
   "id": "c0aac71b-bf60-441a-bec8-957aa2939d04",
   "metadata": {
    "tags": []
   },
   "outputs": [
    {
     "data": {
      "text/plain": [
       "['https://reports.adviserinfo.sec.gov/reports/CompilationReports/IA_FIRM_SEC_Feed_03_20_2023.xml.gz',\n",
       " 'https://reports.adviserinfo.sec.gov/reports/CompilationReports/IA_FIRM_STATE_Feed_03_20_2023.xml.gz']"
      ]
     },
     "execution_count": 7,
     "metadata": {},
     "output_type": "execute_result"
    }
   ],
   "source": [
    "urls"
   ]
  },
  {
   "cell_type": "code",
   "execution_count": 8,
   "id": "a106011c-6f34-4ab2-8b38-d81a395f9692",
   "metadata": {
    "tags": []
   },
   "outputs": [],
   "source": [
    "DOWNLOAD_DIR = 'data/sec'"
   ]
  },
  {
   "cell_type": "code",
   "execution_count": 9,
   "id": "fc5950b6-eb02-493c-aa02-9d549589e43e",
   "metadata": {
    "tags": []
   },
   "outputs": [],
   "source": [
    "if not os.path.isdir(DOWNLOAD_DIR):\n",
    "    os.makedirs(DOWNLOAD_DIR)"
   ]
  },
  {
   "cell_type": "code",
   "execution_count": 10,
   "id": "041bcf55-6654-425e-a151-9275b566de4c",
   "metadata": {
    "tags": []
   },
   "outputs": [],
   "source": [
    "def download_file(url, download_dir = DOWNLOAD_DIR):\n",
    "    filename = url.split('/')[-1]\n",
    "    path = os.path.join(download_dir, filename)\n",
    "    with requests.get(url, stream=True) as r:\n",
    "        with open(path, 'wb') as f:\n",
    "            shutil.copyfileobj(r.raw, f)\n",
    "    return filename, path"
   ]
  },
  {
   "cell_type": "code",
   "execution_count": 11,
   "id": "70bc0275-7856-4614-95fb-437136b54cc5",
   "metadata": {
    "tags": []
   },
   "outputs": [],
   "source": [
    "def zipfile_builtin(download_dir, filename):\n",
    "    with ZipFile(os.path.join(download_dir, filename),\n",
    "                 'r') as in_file:\n",
    "        in_file.extractall(os.path.join(download_dir,\n",
    "                                        '.'.join(filename.split('.')[:-2])\n",
    "                                       )\n",
    "                          )"
   ]
  },
  {
   "cell_type": "code",
   "execution_count": 12,
   "id": "bfa2c839-6480-42ca-84ed-fe065b4946f1",
   "metadata": {
    "tags": []
   },
   "outputs": [],
   "source": [
    "def gunzip_shutil(download_dir, filename, block_size=65536):\n",
    "    with gzip.open(os.path.join(download_dir, filename), 'rb') as s_file,\\\n",
    "         open(os.path.join(download_dir,'.'.join(filename.split('.')[:-1])), 'wb') as d_file:\n",
    "        shutil.copyfileobj(s_file, d_file, block_size)"
   ]
  },
  {
   "cell_type": "code",
   "execution_count": 13,
   "id": "f7c666cb-68db-4ac6-a46b-f8721b52f98b",
   "metadata": {
    "tags": []
   },
   "outputs": [
    {
     "name": "stdout",
     "output_type": "stream",
     "text": [
      "IA_FIRM_SEC_Feed_03_20_2023.xml.gz data/sec\\IA_FIRM_SEC_Feed_03_20_2023.xml.gz gz\n",
      "IA_FIRM_STATE_Feed_03_20_2023.xml.gz data/sec\\IA_FIRM_STATE_Feed_03_20_2023.xml.gz gz\n"
     ]
    }
   ],
   "source": [
    "for url in urls:\n",
    "    filename, filename_path = download_file(url, DOWNLOAD_DIR)\n",
    "    filename_format = filename.split('.')[-1]\n",
    "    print(filename, filename_path, filename_format)\n",
    "    if filename_format == 'zip':\n",
    "        zipfile_builtin(DOWNLOAD_DIR, filename)\n",
    "    elif filename_format == 'gz':\n",
    "        gunzip_shutil(DOWNLOAD_DIR, filename)\n",
    "    else:\n",
    "        print(f'WARNING: unknown file format: {local_filename}')"
   ]
  },
  {
   "cell_type": "code",
   "execution_count": 18,
   "id": "0f8aacdf-ebe2-4f30-a097-711f96e948a8",
   "metadata": {
    "tags": []
   },
   "outputs": [],
   "source": [
    "xml_files = [\n",
    "             ('IA_FIRM_STATE_Feed_03_20_2023.xml', ['data/sec/IA_FIRM_STATE_Feed_03_20_2023.xml']),\n",
    "             ('IA_FIRM_SEC_Feed_03_20_2023.xml', ['data/sec/IA_FIRM_SEC_Feed_03_20_2023.xml']),\n",
    "            ]"
   ]
  },
  {
   "cell_type": "code",
   "execution_count": 19,
   "id": "40f03c47-b3ea-4fcb-afac-ddf65838ce1d",
   "metadata": {
    "tags": []
   },
   "outputs": [],
   "source": [
    "PROCESSED_DIR = DOWNLOAD_DIR"
   ]
  },
  {
   "cell_type": "code",
   "execution_count": 20,
   "id": "0aed1612-a318-4226-b1bb-d7e3519eb4f3",
   "metadata": {
    "tags": []
   },
   "outputs": [
    {
     "name": "stdout",
     "output_type": "stream",
     "text": [
      "IA_FIRM_STATE_Feed_03_20_2023.xml ['data/sec/IA_FIRM_STATE_Feed_03_20_2023.xml']\n",
      "adding data for data/sec/IA_FIRM_STATE_Feed_03_20_2023.xml\n",
      "creating data/sec/IA_FIRM_STATE_Feed_03_20_2023.xml in data/sec\\IA_FIRM_STATE_Feed_03_20_2023.csv\n",
      "IA_FIRM_SEC_Feed_03_20_2023.xml ['data/sec/IA_FIRM_SEC_Feed_03_20_2023.xml']\n",
      "adding data for data/sec/IA_FIRM_SEC_Feed_03_20_2023.xml\n",
      "creating data/sec/IA_FIRM_SEC_Feed_03_20_2023.xml in data/sec\\IA_FIRM_SEC_Feed_03_20_2023.csv\n"
     ]
    }
   ],
   "source": [
    "for filename, file_path in xml_files:\n",
    "    print(filename, file_path)\n",
    "    dfs = []\n",
    "    for fp in file_path:\n",
    "        with open(fp, encoding = 'ISO-8859-1') as fd:\n",
    "            data_dict = xmltodict.parse(fd.read(), encoding = 'ISO-8859-1')\n",
    "    \n",
    "        if data_dict.get('IAPDFirmSECReport'):\n",
    "            data = data_dict.get('IAPDFirmSECReport').get('Firms').get('Firm')\n",
    "        elif data_dict.get('IAPDFirmStateReport'):\n",
    "            data = data_dict.get('IAPDFirmStateReport').get('Firms').get('Firm')\n",
    "        elif data_dict.get('IAPDIndividualReport'):\n",
    "            data = data_dict.get('IAPDIndividualReport').get('Indvls').get('Indvl')\n",
    "        else:\n",
    "            print('WARNING: Unrecognized data!')\n",
    "        print(f'adding data for {fp}')\n",
    "        df_flat = pd.json_normalize(data)\n",
    "        \n",
    "        # TODO: check that WebAddr & Rgltr are indeed the only fields with nested data\n",
    "        df_flat = df_flat.loc[:, df_flat.columns.str.contains('@|WebAddr|Rgltr')]\n",
    "        dfs.append(df_flat)\n",
    "        \n",
    "    df_all = pd.concat(dfs)\n",
    "    filename_csv = filename.replace('.xml', '.csv')\n",
    "    file_path_csv = os.path.join(PROCESSED_DIR, filename_csv)\n",
    "\n",
    "    print(f'creating {fp} in {file_path_csv}')\n",
    "    df_all.to_csv(file_path_csv, index=False)"
   ]
  }
 ],
 "metadata": {
  "kernelspec": {
   "display_name": "Python 3 (ipykernel)",
   "language": "python",
   "name": "python3"
  },
  "language_info": {
   "codemirror_mode": {
    "name": "ipython",
    "version": 3
   },
   "file_extension": ".py",
   "mimetype": "text/x-python",
   "name": "python",
   "nbconvert_exporter": "python",
   "pygments_lexer": "ipython3",
   "version": "3.9.0"
  }
 },
 "nbformat": 4,
 "nbformat_minor": 5
}
