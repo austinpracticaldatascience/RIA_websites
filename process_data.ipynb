{
 "cells": [
  {
   "cell_type": "code",
   "execution_count": 94,
   "id": "00b45f8f-5ab6-46ad-b152-df40d30b30e5",
   "metadata": {
    "tags": []
   },
   "outputs": [],
   "source": [
    "import pandas as pd\n",
    "import numpy as np\n",
    "import matplotlib.pyplot as plt\n",
    "import re\n",
    "import datetime\n",
    "import os"
   ]
  },
  {
   "cell_type": "code",
   "execution_count": 95,
   "id": "46c7e00b-9c46-4172-8d67-938ac2bb755f",
   "metadata": {
    "tags": []
   },
   "outputs": [],
   "source": [
    "import validators"
   ]
  },
  {
   "cell_type": "code",
   "execution_count": 96,
   "id": "2b0d3280-9fa6-4eec-a6ba-2482254523ba",
   "metadata": {
    "tags": []
   },
   "outputs": [],
   "source": [
    "import warnings"
   ]
  },
  {
   "cell_type": "code",
   "execution_count": 97,
   "id": "1ddd27b4-c4ca-40e1-9711-4f31ee259708",
   "metadata": {
    "tags": []
   },
   "outputs": [],
   "source": [
    "from pprint import pprint"
   ]
  },
  {
   "cell_type": "code",
   "execution_count": 98,
   "id": "fde08a98-1a5a-48af-a8a1-8a9279436d37",
   "metadata": {
    "tags": []
   },
   "outputs": [],
   "source": [
    "import plotly.express as px"
   ]
  },
  {
   "cell_type": "code",
   "execution_count": 99,
   "id": "5bf0dc71-00ee-4386-8fec-039693544437",
   "metadata": {
    "tags": []
   },
   "outputs": [],
   "source": [
    "import seaborn as sns"
   ]
  },
  {
   "cell_type": "code",
   "execution_count": 100,
   "id": "be27b61d-460e-4f58-b7fb-1355319d0210",
   "metadata": {
    "tags": []
   },
   "outputs": [],
   "source": [
    "import warnings\n",
    "warnings.filterwarnings('ignore')\n",
    "warnings.simplefilter('ignore')"
   ]
  },
  {
   "cell_type": "code",
   "execution_count": 101,
   "id": "26c905c1-967d-401b-9e23-5d43d2511e43",
   "metadata": {
    "tags": []
   },
   "outputs": [],
   "source": [
    "import glob"
   ]
  },
  {
   "cell_type": "code",
   "execution_count": 102,
   "id": "1fa23ae8-1a5d-49b7-97f3-1df7d5180912",
   "metadata": {
    "tags": []
   },
   "outputs": [],
   "source": [
    "## SEC-Registered"
   ]
  },
  {
   "cell_type": "code",
   "execution_count": 103,
   "id": "e3fa8f46-ae7e-4f5a-9775-7f5af79b4d99",
   "metadata": {
    "tags": []
   },
   "outputs": [],
   "source": [
    "df_sec = pd.read_csv(glob.glob('data/sec/IA_FIRM_SEC_Feed_*.csv')[0],\n",
    "                     low_memory=False)"
   ]
  },
  {
   "cell_type": "code",
   "execution_count": 104,
   "id": "ccbc8ef2-9044-4a54-a57a-583c2813c364",
   "metadata": {
    "tags": []
   },
   "outputs": [],
   "source": [
    "# sorted(df_sec.columns.to_list())"
   ]
  },
  {
   "cell_type": "code",
   "execution_count": 105,
   "id": "fe072a3d-70d8-4ba7-af1c-40bfbdbb9016",
   "metadata": {},
   "outputs": [],
   "source": [
    "## State-Registered Advisers "
   ]
  },
  {
   "cell_type": "code",
   "execution_count": 106,
   "id": "40ced4ae-3670-4bd8-95c2-1c1e0c3dfb22",
   "metadata": {
    "tags": []
   },
   "outputs": [],
   "source": [
    "df_state = pd.read_csv(glob.glob('data/sec/IA_FIRM_STATE_Feed_*.csv')[0],\n",
    "                       low_memory=False)"
   ]
  },
  {
   "cell_type": "code",
   "execution_count": 107,
   "id": "fbe1a715-0e21-4720-8198-08827f43b16d",
   "metadata": {
    "tags": []
   },
   "outputs": [],
   "source": [
    "# sorted(df_state.columns.to_list())"
   ]
  },
  {
   "cell_type": "code",
   "execution_count": null,
   "id": "464ff4d8-6c37-47a6-a5e7-dfb63a1e60ff",
   "metadata": {},
   "outputs": [],
   "source": []
  },
  {
   "cell_type": "code",
   "execution_count": 108,
   "id": "6684dfe6-c755-46a6-9caa-101adaed9641",
   "metadata": {
    "tags": []
   },
   "outputs": [],
   "source": [
    "## Merging SEC + State Registered RIA data \n",
    "### (N.B. some firms appear in both datasets, so must be fixed)"
   ]
  },
  {
   "cell_type": "code",
   "execution_count": 109,
   "id": "a575feff-6aa2-4a3c-b702-fc2ef82b24f9",
   "metadata": {
    "tags": []
   },
   "outputs": [],
   "source": [
    "df_state_ids = df_state.loc[:,['Info.@BusNm',\n",
    "                             'Info.@FirmCrdNb',\n",
    "                             'Info.@LegalNm',\n",
    "                             'Info.@SECNb']]"
   ]
  },
  {
   "cell_type": "code",
   "execution_count": 110,
   "id": "8609a8c0-1082-4753-ac3e-dabae988ab6d",
   "metadata": {
    "tags": []
   },
   "outputs": [],
   "source": [
    "df_sec_ids = df_sec.loc[:,['Info.@BusNm',\n",
    "                         'Info.@FirmCrdNb',\n",
    "                         'Info.@LegalNm',\n",
    "                         'Info.@SECNb']]"
   ]
  },
  {
   "cell_type": "code",
   "execution_count": 111,
   "id": "f513178c-9cbd-440e-9780-760695fd722d",
   "metadata": {
    "tags": []
   },
   "outputs": [],
   "source": [
    "df_all_ids = pd.merge(df_state_ids, df_sec_ids,\n",
    "                      how='outer',\n",
    "                      # on=['Info.@FirmCrdNb', 'Info.@SECNb', 'Info.@BusNm', 'Info.@LegalNm'],\n",
    "                      indicator=True)"
   ]
  },
  {
   "cell_type": "code",
   "execution_count": 112,
   "id": "4341f22d-967c-41f1-a553-289225cd7656",
   "metadata": {
    "tags": []
   },
   "outputs": [],
   "source": [
    "### Rows"
   ]
  },
  {
   "cell_type": "code",
   "execution_count": 113,
   "id": "2d3490b3-b709-4a99-b0ba-c6efc588a04b",
   "metadata": {
    "tags": []
   },
   "outputs": [],
   "source": [
    "#### CRD numbers are unique identifiers within each dataset."
   ]
  },
  {
   "cell_type": "code",
   "execution_count": 114,
   "id": "86799635-ccfa-463c-8386-a623ff7f9101",
   "metadata": {
    "tags": []
   },
   "outputs": [],
   "source": [
    "# df_state_ids.nunique()/df_state_ids.shape[0]"
   ]
  },
  {
   "cell_type": "code",
   "execution_count": 115,
   "id": "7e789504-8fa4-49b0-8eda-6fa3c4e06d60",
   "metadata": {
    "tags": []
   },
   "outputs": [],
   "source": [
    "# df_sec_ids.nunique()/df_sec_ids.shape[0]"
   ]
  },
  {
   "cell_type": "code",
   "execution_count": 116,
   "id": "80f112d7-eac4-4339-a0fa-1bbc8c4be989",
   "metadata": {
    "tags": []
   },
   "outputs": [],
   "source": [
    "# number_of_firms_state_and_sec = df_all_ids[df_all_ids['_merge'] == 'both'].shape[0]\n",
    "# print(f'{number_of_firms_state_and_sec} firms appear in both the State and the SEC datasets')\n",
    "# print(f'{number_of_firms_state_and_sec/df_all_ids.shape[0]:.2%} of total')"
   ]
  },
  {
   "cell_type": "code",
   "execution_count": 117,
   "id": "3097c3a0-00a9-4437-a425-7cdd5c2bb71b",
   "metadata": {
    "tags": []
   },
   "outputs": [],
   "source": [
    "#### TODO: we must clean this up"
   ]
  },
  {
   "cell_type": "code",
   "execution_count": 118,
   "id": "7cd25596-23a5-4aa4-bc8a-866be9b22d6b",
   "metadata": {
    "tags": []
   },
   "outputs": [],
   "source": [
    "### Columns"
   ]
  },
  {
   "cell_type": "code",
   "execution_count": 119,
   "id": "f5b10f52-a97b-4fdb-9c9c-6599660a5484",
   "metadata": {
    "tags": []
   },
   "outputs": [],
   "source": [
    "#### The majority of columns are common to both state & SEC registered, but there are significant differences in the set of columns"
   ]
  },
  {
   "cell_type": "code",
   "execution_count": 120,
   "id": "09322882-c315-4fa8-ac16-90359e38172f",
   "metadata": {
    "tags": []
   },
   "outputs": [],
   "source": [
    "df_state_cols = set(df_state.columns)\n",
    "df_sec_cols = set(df_sec.columns)"
   ]
  },
  {
   "cell_type": "code",
   "execution_count": 121,
   "id": "eb036026-ca22-4e01-a911-63e1148d7a2b",
   "metadata": {
    "tags": []
   },
   "outputs": [],
   "source": [
    "# print('There are %s unique columns in total' %len(df_sec_cols.union(df_state_cols)))\n",
    "# print('')\n",
    "# print('%s columns are in both State & SEC' %len(df_sec_cols.intersection(df_state_cols)))\n",
    "# print('')\n",
    "# print('%s columns are in only one of State or SEC' %len(df_sec_cols.symmetric_difference(df_state_cols)))\n",
    "# print('of which:')\n",
    "# print('%s columns are in only SEC' %len(df_sec_cols.difference(df_state_cols)))\n",
    "# print('%s columns are in only State' %len(df_state_cols.difference(df_sec_cols)))"
   ]
  },
  {
   "cell_type": "code",
   "execution_count": 122,
   "id": "2658572d-6c8f-4d7c-8aad-4d897c2311be",
   "metadata": {
    "tags": []
   },
   "outputs": [],
   "source": [
    "### Clean up the data"
   ]
  },
  {
   "cell_type": "code",
   "execution_count": 123,
   "id": "8cc10f94-4980-4c09-addd-61de7e6e16a3",
   "metadata": {
    "tags": []
   },
   "outputs": [],
   "source": [
    "# We'll process the data in 3 parts:\n",
    "# 1. Firms in both (the hard part, as entries for common columns may not be the same across the 2 datasets)\n",
    "# 2. Firms in State only\n",
    "# 3. Firms in SEC only"
   ]
  },
  {
   "cell_type": "code",
   "execution_count": 124,
   "id": "88b67a3f-8935-4c78-a14e-da1b9573a5a8",
   "metadata": {
    "tags": []
   },
   "outputs": [],
   "source": [
    "df_both_ids = df_all_ids[df_all_ids._merge == 'both'].drop(columns=['_merge'])\n",
    "df_state_only_ids = df_all_ids[df_all_ids._merge == 'left_only'].drop(columns=['_merge'])\n",
    "df_sec_only_ids = df_all_ids[df_all_ids._merge == 'right_only'].drop(columns=['_merge'])"
   ]
  },
  {
   "cell_type": "code",
   "execution_count": 125,
   "id": "e9ef2670-80f6-4bbb-abeb-cc953d1ca553",
   "metadata": {
    "tags": []
   },
   "outputs": [],
   "source": [
    "# df_both_ids.shape[0]"
   ]
  },
  {
   "cell_type": "code",
   "execution_count": 126,
   "id": "f4c93b55-002c-4ebd-85db-c7ce3cda7711",
   "metadata": {
    "tags": []
   },
   "outputs": [],
   "source": [
    "df_both_state_data = pd.merge(df_state, df_both_ids,\n",
    "                              how = 'right',\n",
    "                              on=['Info.@FirmCrdNb', 'Info.@SECNb', 'Info.@BusNm', 'Info.@LegalNm'])"
   ]
  },
  {
   "cell_type": "code",
   "execution_count": 127,
   "id": "db76e988-d498-4416-a6f1-8e5d3de86632",
   "metadata": {
    "tags": []
   },
   "outputs": [],
   "source": [
    "df_both_sec_data = pd.merge(df_sec, df_both_ids,\n",
    "                            how = 'right',\n",
    "                            on=['Info.@FirmCrdNb', 'Info.@SECNb', 'Info.@BusNm', 'Info.@LegalNm'])"
   ]
  },
  {
   "cell_type": "code",
   "execution_count": 128,
   "id": "8892f27f-7e7c-4edb-b6c7-a175c47cb76e",
   "metadata": {
    "tags": []
   },
   "outputs": [],
   "source": [
    "# this operation can cause a lot of \"type mismatch\" style errors\n",
    "# TODO: specify dtype on the initial pd.read_csv methods & confirm this fixes the errors\n",
    "with warnings.catch_warnings():\n",
    "    warnings.simplefilter(action='ignore', category=FutureWarning)\n",
    "    df_both = pd.merge(df_both_state_data, df_both_sec_data,\n",
    "                       how='outer',\n",
    "                       suffixes = ('__State', '__SEC'))"
   ]
  },
  {
   "cell_type": "code",
   "execution_count": 129,
   "id": "ffdf3691-f8bd-4098-a2d9-356a9ba177ce",
   "metadata": {
    "tags": []
   },
   "outputs": [],
   "source": [
    "# df_both.shape[0]"
   ]
  },
  {
   "cell_type": "code",
   "execution_count": 130,
   "id": "8ba8259b-f20e-4e4b-bcf8-26c36ad507f2",
   "metadata": {
    "tags": []
   },
   "outputs": [],
   "source": [
    "# We gained extra rows during merge -- so some data in the common columns did not match"
   ]
  },
  {
   "cell_type": "code",
   "execution_count": 131,
   "id": "ccba9375-5675-4ecb-add3-bdb6f994da28",
   "metadata": {
    "tags": []
   },
   "outputs": [],
   "source": [
    "df_both_value_counts = df_both.value_counts(subset=['Info.@FirmCrdNb', 'Info.@SECNb', 'Info.@BusNm', 'Info.@LegalNm'])"
   ]
  },
  {
   "cell_type": "code",
   "execution_count": 132,
   "id": "ef67f196-3bee-436d-8832-a4a6565c3af6",
   "metadata": {
    "tags": []
   },
   "outputs": [],
   "source": [
    "df_both_mismatched_data_ids = df_both_value_counts[df_both_value_counts > 1].index.to_frame().reset_index(drop=True)"
   ]
  },
  {
   "cell_type": "code",
   "execution_count": 133,
   "id": "f2ec86ca-b5a6-4b80-a82c-98fe7b1fb608",
   "metadata": {
    "tags": []
   },
   "outputs": [],
   "source": [
    "# df_both_mismatched_data_ids"
   ]
  },
  {
   "cell_type": "code",
   "execution_count": 134,
   "id": "369cda1f-eef1-4f23-8dfd-3d045fcee792",
   "metadata": {
    "tags": []
   },
   "outputs": [],
   "source": [
    "merged_series = []\n",
    "for row in df_both_mismatched_data_ids.iterrows():\n",
    "    df_mismatch = df_both[(df_both['Info.@FirmCrdNb'] == row[1]['Info.@FirmCrdNb']) &\\\n",
    "                           (df_both['Info.@SECNb'] == row[1]['Info.@SECNb']) &\\\n",
    "                           (df_both['Info.@BusNm'] == row[1]['Info.@BusNm']) &\\\n",
    "                           (df_both['Info.@LegalNm'] == row[1]['Info.@LegalNm'])].copy()\n",
    "    df_both.drop(index=df_mismatch.index, inplace=True)\n",
    "    df_mismatch = df_mismatch.transpose()\n",
    "    increasing_nulls_index = df_mismatch.isna().sum().sort_values(ascending=True).index\n",
    "    best_merge = df_mismatch.loc[:,increasing_nulls_index[0]].combine_first(df_mismatch.loc[:,increasing_nulls_index[1]])\n",
    "    merged_series.append(best_merge)"
   ]
  },
  {
   "cell_type": "code",
   "execution_count": 135,
   "id": "21fe8084-b814-408c-ba5b-b89649e9c20f",
   "metadata": {
    "tags": []
   },
   "outputs": [],
   "source": [
    "df_both_mismatched_data_fixed = pd.DataFrame(merged_series)"
   ]
  },
  {
   "cell_type": "code",
   "execution_count": 136,
   "id": "b914df76-66b8-4290-84b5-1daaed10ae59",
   "metadata": {
    "tags": []
   },
   "outputs": [],
   "source": [
    "df_both = pd.concat([df_both, df_both_mismatched_data_fixed]).reset_index(drop=True)"
   ]
  },
  {
   "cell_type": "code",
   "execution_count": 137,
   "id": "38d2fe13-e43e-40c9-9101-658ef94652d0",
   "metadata": {
    "tags": []
   },
   "outputs": [],
   "source": [
    "# df_both"
   ]
  },
  {
   "cell_type": "code",
   "execution_count": null,
   "id": "fe989855-c245-4c56-83ea-cf697db8ab7e",
   "metadata": {},
   "outputs": [],
   "source": []
  },
  {
   "cell_type": "code",
   "execution_count": 138,
   "id": "fbdf0783-b6bb-4087-be96-bb065e242aaf",
   "metadata": {
    "tags": []
   },
   "outputs": [],
   "source": [
    "df_only_state_data = pd.merge(df_state, df_state_only_ids,\n",
    "                              how = 'right',\n",
    "                              on=['Info.@FirmCrdNb', 'Info.@SECNb', 'Info.@BusNm', 'Info.@LegalNm'])"
   ]
  },
  {
   "cell_type": "code",
   "execution_count": 139,
   "id": "02e4ecbd-e5f3-4bf1-b9ee-10c11459f2fe",
   "metadata": {
    "tags": []
   },
   "outputs": [],
   "source": [
    "df_only_sec_data = pd.merge(df_sec, df_sec_only_ids,\n",
    "                            how = 'right',\n",
    "                            on=['Info.@FirmCrdNb', 'Info.@SECNb', 'Info.@BusNm', 'Info.@LegalNm'])"
   ]
  },
  {
   "cell_type": "code",
   "execution_count": 140,
   "id": "e0a12eee-da5d-4fb3-863f-ca87201d68fe",
   "metadata": {
    "tags": []
   },
   "outputs": [],
   "source": [
    "df_state_or_sec = pd.merge(df_only_state_data, df_only_sec_data,\n",
    "                   how='outer',\n",
    "                   suffixes = ('__State', '__SEC'))"
   ]
  },
  {
   "cell_type": "code",
   "execution_count": 141,
   "id": "e000dc41-f5ad-4321-ae3c-941701c21597",
   "metadata": {
    "tags": []
   },
   "outputs": [],
   "source": [
    "assert df_state_or_sec.columns.str.endswith('__State').any() == False\n",
    "assert df_state_or_sec.columns.str.endswith('__SEC').any() == False"
   ]
  },
  {
   "cell_type": "code",
   "execution_count": 142,
   "id": "55ad1a3e-7e9f-4efa-9607-69d795b52eba",
   "metadata": {
    "tags": []
   },
   "outputs": [],
   "source": [
    "df_all = pd.merge(df_state_or_sec, df_both,\n",
    "                   how='outer',\n",
    "                   suffixes = ('__State', '__SEC'))"
   ]
  },
  {
   "cell_type": "code",
   "execution_count": 143,
   "id": "7c1e9e0c-4629-4f0e-a405-9619916b1e3c",
   "metadata": {
    "tags": []
   },
   "outputs": [],
   "source": [
    "# df_all"
   ]
  },
  {
   "cell_type": "code",
   "execution_count": 144,
   "id": "dcffef6d-b12a-456c-9157-3f5f6dbfeb81",
   "metadata": {
    "tags": []
   },
   "outputs": [],
   "source": [
    "assert df_all.shape[0] == df_all_ids.shape[0]"
   ]
  },
  {
   "cell_type": "code",
   "execution_count": 145,
   "id": "1c80dd1f-e3ff-4dae-ab5a-e9a663a03c82",
   "metadata": {
    "tags": []
   },
   "outputs": [],
   "source": [
    "# df_all.head()"
   ]
  },
  {
   "cell_type": "code",
   "execution_count": null,
   "id": "4f372cd5-eb1e-4c31-95df-84172ed14a0f",
   "metadata": {},
   "outputs": [],
   "source": []
  },
  {
   "cell_type": "code",
   "execution_count": 146,
   "id": "a0407051-bdcc-4bc3-b4eb-3e195e6db8d2",
   "metadata": {
    "tags": []
   },
   "outputs": [],
   "source": [
    "# Get All Web Addresses"
   ]
  },
  {
   "cell_type": "code",
   "execution_count": 147,
   "id": "be37af59-ad3f-4525-95a3-41fb3b258c52",
   "metadata": {
    "tags": []
   },
   "outputs": [],
   "source": [
    "## Best not to use eval on data from the internet\n",
    "## https://xkcd.com/327/\n",
    "\n",
    "# def get_all_urls(df, valid_only=True):\n",
    "#     df_urls = df.loc[df['FormInfo.Part1A.Item1.WebAddrs.WebAddr'].notnull(),\n",
    "#                     ['Info.@FirmCrdNb',\n",
    "#                      'FormInfo.Part1A.Item1.WebAddrs.WebAddr']\n",
    "#                     ]\n",
    "#     df_urls.rename(columns={'FormInfo.Part1A.Item1.WebAddrs.WebAddr':'url'}, inplace=True)\n",
    "#     df_urls['url'] = df_urls['url'].apply(lambda x: eval(x.lower()) if ('[' in x and ']' in x) else x.lower())\n",
    "#     df_urls = df_urls.explode('url').reset_index(drop=True)\n",
    "#     df_urls['url_valid'] = df_urls['url'].apply(validators.url)\n",
    "#     if valid_only:\n",
    "#         df_urls = df_urls.loc[df_urls['url_valid'] == True,:]\n",
    "#     return df_urls"
   ]
  },
  {
   "cell_type": "code",
   "execution_count": 148,
   "id": "66665b0b-984a-4bf6-843e-d938656fe9d5",
   "metadata": {
    "tags": []
   },
   "outputs": [],
   "source": [
    "from urllib.parse import urlparse\n",
    "from collections import defaultdict"
   ]
  },
  {
   "cell_type": "code",
   "execution_count": 149,
   "id": "fd686338-808d-44ce-b8fc-c7fcacec324d",
   "metadata": {
    "tags": []
   },
   "outputs": [],
   "source": [
    "def parse_array(web_addr):\n",
    "    if web_addr in (None, np.NaN):\n",
    "        return np.NaN\n",
    "    web_addr = web_addr.lower()\n",
    "    if web_addr.startswith(\"[\"):\n",
    "        web_addr = web_addr.replace(\"'\", '\"')\n",
    "        web_addr = web_addr.removeprefix(\"[\").removesuffix(\"]\")\n",
    "        candidates = [url.removeprefix('\"').removesuffix('\"') for url in web_addr.split(\", \")]\n",
    "    else:\n",
    "        candidates = [web_addr]\n",
    "    return candidates"
   ]
  },
  {
   "cell_type": "code",
   "execution_count": 150,
   "id": "0d6dcacd-b36e-4fba-a230-5dc9623e9179",
   "metadata": {
    "tags": []
   },
   "outputs": [],
   "source": [
    "df_all['urls'] = df_all['FormInfo.Part1A.Item1.WebAddrs.WebAddr'].apply(parse_array)"
   ]
  },
  {
   "cell_type": "code",
   "execution_count": 151,
   "id": "0ea1b3bf-7866-4c0e-b70b-3da7b773fff5",
   "metadata": {
    "tags": []
   },
   "outputs": [],
   "source": [
    "# df_all['urls']"
   ]
  },
  {
   "cell_type": "code",
   "execution_count": 152,
   "id": "b932facc-c4d1-442e-ba22-1011298bdc56",
   "metadata": {
    "tags": []
   },
   "outputs": [],
   "source": [
    "def parse_urls(urls):\n",
    "    if not isinstance(urls, list):\n",
    "        return np.NaN, np.NaN\n",
    "    domains = []\n",
    "    schemes = []\n",
    "    for url in urls:\n",
    "        if validators.url(url):\n",
    "            parsed_url = urlparse(url)\n",
    "            domain = parsed_url.netloc\n",
    "            if domain.startswith(\"www.\"):\n",
    "                domain = domain.removeprefix(\"www.\")\n",
    "            elif domain.startswith(\"m.\"):\n",
    "                domain = domain.removeprefix(\"m.\")\n",
    "            elif domain.startswith(\"mobile.\"):\n",
    "                domain = domain.removeprefix(\"mobile.\")\n",
    "            domains.append(domain)\n",
    "            schemes.append(parsed_url.scheme)\n",
    "    return domains, schemes"
   ]
  },
  {
   "cell_type": "code",
   "execution_count": 153,
   "id": "2cd6a093-77bf-4b7b-a7c4-41d4f34c6454",
   "metadata": {
    "tags": []
   },
   "outputs": [],
   "source": [
    "# TODO: make less fugly\n",
    "df_all_urls = df_all.apply(lambda x: parse_urls(x['urls']), axis=1, result_type='expand')\n",
    "df_all_urls.columns = ['url_domains', 'url_schemes']"
   ]
  },
  {
   "cell_type": "code",
   "execution_count": 154,
   "id": "875cdfee-2a63-4bd7-a499-94d48ea429df",
   "metadata": {
    "tags": []
   },
   "outputs": [],
   "source": [
    "df_all = df_all.join(df_all_urls)"
   ]
  },
  {
   "cell_type": "code",
   "execution_count": 155,
   "id": "3b429109-0a4c-4468-914a-78b4b83281b7",
   "metadata": {
    "tags": []
   },
   "outputs": [],
   "source": [
    "# df_all[['Info.@FirmCrdNb', 'Info.@SECNb', 'Info.@BusNm', 'Info.@LegalNm', 'urls','url_domains', 'url_schemes']].head()"
   ]
  },
  {
   "cell_type": "code",
   "execution_count": 156,
   "id": "69ea9cf8-2d8e-4126-bae8-d5e174a6fca8",
   "metadata": {
    "tags": []
   },
   "outputs": [],
   "source": [
    "SOCIAL_MEDIA = [\n",
    "    'linkedin.com',\n",
    "    'facebook.com',\n",
    "    'twitter.com',\n",
    "    'instagram.com',\n",
    "    'youtube.com',\n",
    "    'vimeo.com',\n",
    "    'medium.com',\n",
    "    'tiktok.com',\n",
    "    'pinterest.com',\n",
    "    'soundcloud.com',\n",
    "    'plus.google.com',\n",
    "    'open.spotify.com',\n",
    "    'reddit.com',\n",
    "    'linkedin',\n",
    "    'podcasts.apple.com',\n",
    "    'seekingalpha.com',\n",
    "    'apple.co', #TODO: Prcessing error? #podcasts.apple.com\n",
    "    'apple.com',\n",
    "    'glassdoor.com',\n",
    "    'spoti.fi',\n",
    "    'ca.linkedin.com',\n",
    "    'business.facebook.com',\n",
    "    'mp.weixin.qq.com', #wechat\n",
    "    'hvst.com',\n",
    "    'douyin.com', #tiktok in chinese\n",
    "    'anchor.fm', #podcasts\n",
    "    'line.naver.jp', #chinese wechat competitor, only Blackrock is on it!\n",
    "    'hk.linkedin.com', \n",
    "    'quora.com', \n",
    "    'slideshare.net', #sharing ppt's!\n",
    "    'g.page',  #google business page\n",
    "    'sg.linkedin.com',\n",
    "    'au.linkedin.com',  \n",
    "    'stitcher.com', # podcasts\n",
    "    'itunes.apple.com', # podcasts\n",
    "    'instragram.com', #typo, but it still redirects\n",
    "    'podcasts.google.com',   \n",
    "    'uk.linkedin.com', \n",
    "    'facebook', #TODO: Prcessing error?\n",
    "    'buzzsprout.com', #podcast\n",
    "    'ja-jp.facebook.com', \n",
    "    'stocktwits.com',\n",
    "    'blog.naver.com', #chinese wechat competitor only AB on this!\n",
    "]"
   ]
  },
  {
   "cell_type": "code",
   "execution_count": 157,
   "id": "17a2410b-5561-4961-b7b0-2896c69afbdf",
   "metadata": {
    "tags": []
   },
   "outputs": [],
   "source": [
    "AGGREGATOR_SITES = [\n",
    "    'yelp.com',\n",
    "    'angel.co',\n",
    "    'feeonlynetwork.com',\n",
    "    'crunchbase.com',\n",
    "    'thefinancialhq.com', #this is a weird one - no \"homepage\" to speak of\n",
    "    'napfa.org',\n",
    "    'alignable.com',\n",
    "    'realwealthmedia.com',\n",
    "    'letsmakeaplan.org' # CFP official site (for clients)\n",
    "    'google.com', # Typically google maps\n",
    "    'nextdoor.com',\n",
    "    'xyplanningnetwork.com',\n",
    "    'plannersearch.org', # FPA official website\n",
    "]"
   ]
  },
  {
   "cell_type": "code",
   "execution_count": 158,
   "id": "1c666483-0a83-4ee6-8daf-3f54fe48cd4d",
   "metadata": {
    "tags": []
   },
   "outputs": [],
   "source": [
    "LINKEDIN_SITES = [\n",
    "                    'linkedin.com',\n",
    "                    'linkedin',\n",
    "                    'ca.linkedin.com',\n",
    "                    'hk.linkedin.com', \n",
    "                    'sg.linkedin.com',\n",
    "                    'au.linkedin.com', \n",
    "                    'uk.linkedin.com', \n",
    "]"
   ]
  },
  {
   "cell_type": "code",
   "execution_count": 159,
   "id": "1ca98372-2e39-4402-a63e-3960473c727f",
   "metadata": {
    "tags": []
   },
   "outputs": [],
   "source": [
    "processing_errors = [\n",
    "    'apple.co',\n",
    "    'link.edgepilot.com',\n",
    "    'facebook',\n",
    "]"
   ]
  },
  {
   "cell_type": "code",
   "execution_count": 160,
   "id": "74995bdb-8e03-483b-8ee5-5ddb6efb1cac",
   "metadata": {
    "tags": []
   },
   "outputs": [],
   "source": [
    "def isin_group(x, group_list, return_bool=True, handle_nulls = True, inverse=False):\n",
    "    if handle_nulls and isinstance(x, float): # np.NaN is of type float!\n",
    "        if np.isnan(x): # but the floats actually have to be eaual to nan\n",
    "            if return_bool:\n",
    "                return False\n",
    "            return np.NaN\n",
    "    if return_bool:\n",
    "        if inverse:\n",
    "            return any([(el not in group_list) for el in x if el is not None])\n",
    "        return any([(el in group_list) for el in x if el is not None])\n",
    "    else:\n",
    "        if inverse:\n",
    "            return [el for el in x if (el not in group_list) and (el is not None)]\n",
    "        return [el for el in x if (el in group_list) and (el is not None)]"
   ]
  },
  {
   "cell_type": "code",
   "execution_count": 161,
   "id": "d504ce06-f21a-41e0-8883-36393f3403c5",
   "metadata": {
    "tags": []
   },
   "outputs": [],
   "source": [
    "# def notin_group(x, group_list, return_bool=True, handle_nulls = True, inverse=False):\n",
    "#     if handle_nulls and isinstance(x, float): \n",
    "#         if np.isnan(x): \n",
    "#             if return_bool:\n",
    "#                 return False\n",
    "#             return np.NaN\n",
    "#     if return_bool:\n",
    "#         return_bool = any([(el not in group_list) for el in x if el is not None])\n",
    "#         if inverse:\n",
    "#             return not return_bool\n",
    "#         return return_bool\n",
    "#     else:\n",
    "#         if inverse:\n",
    "#             return [el for el in x if (el in group_list) and (el is not None)]\n",
    "#         return [el for el in x if (el not in group_list) and (el is not None)]"
   ]
  },
  {
   "cell_type": "code",
   "execution_count": 162,
   "id": "95eae451-d053-49d8-9847-4d089be75d14",
   "metadata": {
    "tags": []
   },
   "outputs": [],
   "source": [
    "df_all['url_has_linkedin'] = df_all['url_domains'].apply(isin_group, group_list=LINKEDIN_SITES)\n",
    "df_all['url_has_social_media'] = df_all['url_domains'].apply(isin_group, group_list=SOCIAL_MEDIA)\n",
    "df_all['url_has_aggregator'] = df_all['url_domains'].apply(isin_group, group_list=AGGREGATOR_SITES)\n",
    "df_all['url_has_firm_specific'] = df_all['url_domains'].apply(isin_group, group_list=SOCIAL_MEDIA + AGGREGATOR_SITES, inverse=True)\n",
    "\n",
    "df_all['url_social_media'] = df_all['url_domains'].apply(isin_group, group_list=SOCIAL_MEDIA, return_bool=False)\n",
    "df_all['url_aggregator'] = df_all['url_domains'].apply(isin_group, group_list=AGGREGATOR_SITES, return_bool=False)\n",
    "df_all['url_firm_specific'] = df_all['url_domains'].apply(isin_group, group_list=SOCIAL_MEDIA + AGGREGATOR_SITES, inverse=True, return_bool=False)"
   ]
  },
  {
   "cell_type": "code",
   "execution_count": 163,
   "id": "361ce003-740e-4895-9a11-a02a78159c55",
   "metadata": {
    "tags": []
   },
   "outputs": [],
   "source": [
    "df_all['url_social_media_count'] = df_all['url_social_media'].apply(lambda x: len(set(x)) if isinstance(x, list) else 0)"
   ]
  },
  {
   "cell_type": "code",
   "execution_count": 164,
   "id": "ec365f27-d4e9-46f7-97e8-77acae22595c",
   "metadata": {
    "tags": []
   },
   "outputs": [],
   "source": [
    "# df_all['url_social_media_count'].max()"
   ]
  },
  {
   "cell_type": "code",
   "execution_count": 165,
   "id": "23f4a6eb-3641-4bad-bf5b-68cd9468c878",
   "metadata": {
    "tags": []
   },
   "outputs": [],
   "source": [
    "# df_all.head()"
   ]
  },
  {
   "cell_type": "code",
   "execution_count": 166,
   "id": "77568c43-5559-48f8-a75e-a1101dbbeacd",
   "metadata": {
    "tags": []
   },
   "outputs": [],
   "source": [
    "# Summarize Firm AUM values"
   ]
  },
  {
   "cell_type": "code",
   "execution_count": 167,
   "id": "40f07adc-1167-4930-951c-37dd480afbf2",
   "metadata": {
    "tags": []
   },
   "outputs": [],
   "source": [
    "df_all['TotalAUM'] = df_all.loc[:,(df_all.columns.str.startswith('FormInfo.Part1A.Item5D') \\\n",
    "                                   & df_all.columns.str.endswith('3'))           \n",
    "                               ].sum(axis=1)"
   ]
  },
  {
   "cell_type": "code",
   "execution_count": 168,
   "id": "2a135659-3052-4fac-992d-30d72cdcc43b",
   "metadata": {
    "tags": []
   },
   "outputs": [],
   "source": [
    "## Firms by Registration Type"
   ]
  },
  {
   "cell_type": "code",
   "execution_count": 169,
   "id": "4d032c35-864f-486e-b958-6514c05745de",
   "metadata": {
    "tags": []
   },
   "outputs": [],
   "source": [
    "df_both_ids['registration'] = 'both'\n",
    "df_state_only_ids['registration'] = 'state'\n",
    "df_sec_only_ids['registration'] = 'sec'"
   ]
  },
  {
   "cell_type": "code",
   "execution_count": 170,
   "id": "bfa2c44c-9bbd-4488-9c9b-b767e4f23813",
   "metadata": {
    "tags": []
   },
   "outputs": [],
   "source": [
    "df_registration = pd.concat([df_both_ids, df_state_only_ids, df_sec_only_ids])"
   ]
  },
  {
   "cell_type": "code",
   "execution_count": 171,
   "id": "5fb3c2c7-e31f-47a7-a334-a2b61ab09045",
   "metadata": {
    "tags": []
   },
   "outputs": [],
   "source": [
    "df_all = df_all.merge(df_registration, how='left')"
   ]
  },
  {
   "cell_type": "code",
   "execution_count": 172,
   "id": "7dc70df3-501f-41e3-b8be-7e545898baf9",
   "metadata": {
    "tags": []
   },
   "outputs": [],
   "source": [
    "## Identify ERAs (so we can ignore them)"
   ]
  },
  {
   "cell_type": "code",
   "execution_count": 173,
   "id": "21f5fbec-bcc6-449e-a851-73895bcca3ec",
   "metadata": {
    "tags": []
   },
   "outputs": [],
   "source": [
    "df_era_ids = df_all.loc[(df_all['ERA.Rgltrs'].notnull() |\n",
    "                         df_all['ERA.Rgltrs.Rgltr'].notnull() |\n",
    "                         df_all['ERA.Rgltrs.Rgltr.@Cd'].notnull() |\n",
    "                         df_all['ERA.Rgltrs.Rgltr.@Dt'].notnull() |\n",
    "                         df_all['ERA.Rgltrs.Rgltr.@St'].notnull() |\n",
    "                         ( df_all['Rgstn.@FirmType'] == 'ERA' ) ),\n",
    "                        'Info.@FirmCrdNb']\n",
    "\n",
    "df_all.loc[df_era_ids.index, 'ERA'] = True\n",
    "df_all['ERA'] = df_all['ERA'].fillna(False)"
   ]
  },
  {
   "cell_type": "code",
   "execution_count": 174,
   "id": "d09c0e29-db87-42bb-b421-945c1cea8758",
   "metadata": {
    "tags": []
   },
   "outputs": [],
   "source": [
    "# recode zero employees\n",
    "df_all['TotalEmp'] = np.where(df_all['FormInfo.Part1A.Item5A.@TtlEmp'] > 0, df_all['FormInfo.Part1A.Item5A.@TtlEmp'], 1)"
   ]
  },
  {
   "cell_type": "code",
   "execution_count": 175,
   "id": "40aad982-5984-45ce-831e-ef54099bddd9",
   "metadata": {
    "tags": []
   },
   "outputs": [],
   "source": [
    "df_ria = df_all[df_all['ERA'] == False]"
   ]
  },
  {
   "cell_type": "code",
   "execution_count": 176,
   "id": "9dee7cca-18a9-4208-b9fa-d5d3090f4721",
   "metadata": {
    "tags": []
   },
   "outputs": [],
   "source": [
    "if not os.path.exists('data/clean'):\n",
    "    os.makedirs('data/clean')"
   ]
  },
  {
   "cell_type": "code",
   "execution_count": 177,
   "id": "94909d97-71d0-4cca-a465-6f3d6a673758",
   "metadata": {
    "tags": []
   },
   "outputs": [],
   "source": [
    "df_all.to_csv('data/clean/ALL_03_20_2023.csv', index=False)\n",
    "df_ria.to_csv('data/clean/RIA_03_20_2023.csv', index=False)"
   ]
  },
  {
   "cell_type": "code",
   "execution_count": null,
   "id": "dff0bc16-073e-4c47-8a93-e899a90aa46d",
   "metadata": {},
   "outputs": [],
   "source": []
  }
 ],
 "metadata": {
  "kernelspec": {
   "display_name": "Python 3 (ipykernel)",
   "language": "python",
   "name": "python3"
  },
  "language_info": {
   "codemirror_mode": {
    "name": "ipython",
    "version": 3
   },
   "file_extension": ".py",
   "mimetype": "text/x-python",
   "name": "python",
   "nbconvert_exporter": "python",
   "pygments_lexer": "ipython3",
   "version": "3.10.10"
  }
 },
 "nbformat": 4,
 "nbformat_minor": 5
}
