{
 "cells": [
  {
   "cell_type": "code",
   "execution_count": 1,
   "id": "00b45f8f-5ab6-46ad-b152-df40d30b30e5",
   "metadata": {
    "tags": []
   },
   "outputs": [],
   "source": [
    "import pandas as pd\n",
    "import numpy as np\n",
    "import matplotlib.pyplot as plt\n",
    "import xmltodict\n",
    "import json\n",
    "import datetime"
   ]
  },
  {
   "cell_type": "code",
   "execution_count": 43,
   "id": "6d49827f-a099-4064-b635-867a939682ea",
   "metadata": {
    "tags": []
   },
   "outputs": [],
   "source": [
    "from urllib.parse import urlparse\n",
    "from collections import defaultdict"
   ]
  },
  {
   "cell_type": "code",
   "execution_count": 2,
   "id": "e0da9547-d106-4220-b090-59df2e8c1d24",
   "metadata": {
    "tags": []
   },
   "outputs": [],
   "source": [
    "# !pip install validators\n",
    "# !pip install statsmodels"
   ]
  },
  {
   "cell_type": "code",
   "execution_count": 3,
   "id": "e2ddb4f9-bafa-4fe8-93a4-e51d78c4f429",
   "metadata": {
    "tags": []
   },
   "outputs": [],
   "source": [
    "import validators\n",
    "import warnings\n",
    "import glob"
   ]
  },
  {
   "cell_type": "code",
   "execution_count": 4,
   "id": "e230d3c1-3de8-4180-a77a-dd2d3e687a3f",
   "metadata": {
    "tags": []
   },
   "outputs": [
    {
     "data": {
      "text/html": [
       "        <script type=\"text/javascript\">\n",
       "        window.PlotlyConfig = {MathJaxConfig: 'local'};\n",
       "        if (window.MathJax && window.MathJax.Hub && window.MathJax.Hub.Config) {window.MathJax.Hub.Config({SVG: {font: \"STIX-Web\"}});}\n",
       "        if (typeof require !== 'undefined') {\n",
       "        require.undef(\"plotly\");\n",
       "        requirejs.config({\n",
       "            paths: {\n",
       "                'plotly': ['https://cdn.plot.ly/plotly-2.18.2.min']\n",
       "            }\n",
       "        });\n",
       "        require(['plotly'], function(Plotly) {\n",
       "            window._Plotly = Plotly;\n",
       "        });\n",
       "        }\n",
       "        </script>\n",
       "        "
      ]
     },
     "metadata": {},
     "output_type": "display_data"
    }
   ],
   "source": [
    "import seaborn as sns\n",
    "import plotly.express as px\n",
    "from plotly.offline import init_notebook_mode\n",
    "init_notebook_mode(connected = True)"
   ]
  },
  {
   "cell_type": "markdown",
   "id": "8139f451-f36f-4eea-a15d-a07b4f8efd66",
   "metadata": {},
   "source": [
    "## SEC-Registered"
   ]
  },
  {
   "cell_type": "code",
   "execution_count": 6,
   "id": "e3fa8f46-ae7e-4f5a-9775-7f5af79b4d99",
   "metadata": {
    "tags": []
   },
   "outputs": [],
   "source": [
    "df_sec = pd.read_csv(glob.glob('data/sec/IA_FIRM_SEC_Feed_*.csv')[0],\n",
    "                     low_memory=False)"
   ]
  },
  {
   "cell_type": "code",
   "execution_count": 7,
   "id": "ccbc8ef2-9044-4a54-a57a-583c2813c364",
   "metadata": {
    "collapsed": true,
    "jupyter": {
     "outputs_hidden": true
    },
    "tags": []
   },
   "outputs": [
    {
     "data": {
      "text/plain": [
       "['Filing.@Dt',\n",
       " 'Filing.@FormVrsn',\n",
       " 'FormInfo.Part1A.Item1.@Q1F5',\n",
       " 'FormInfo.Part1A.Item1.@Q1I',\n",
       " 'FormInfo.Part1A.Item1.@Q1M',\n",
       " 'FormInfo.Part1A.Item1.@Q1N',\n",
       " 'FormInfo.Part1A.Item1.@Q1O',\n",
       " 'FormInfo.Part1A.Item1.@Q1ODesc',\n",
       " 'FormInfo.Part1A.Item1.@Q1P',\n",
       " 'FormInfo.Part1A.Item1.WebAddrs',\n",
       " 'FormInfo.Part1A.Item1.WebAddrs.WebAddr',\n",
       " 'FormInfo.Part1A.Item10A.@Q10A',\n",
       " 'FormInfo.Part1A.Item11.@Q11',\n",
       " 'FormInfo.Part1A.Item11A.@Q11A1',\n",
       " 'FormInfo.Part1A.Item11A.@Q11A2',\n",
       " 'FormInfo.Part1A.Item11B.@Q11B1',\n",
       " 'FormInfo.Part1A.Item11B.@Q11B2',\n",
       " 'FormInfo.Part1A.Item11C.@Q11C1',\n",
       " 'FormInfo.Part1A.Item11C.@Q11C2',\n",
       " 'FormInfo.Part1A.Item11C.@Q11C3',\n",
       " 'FormInfo.Part1A.Item11C.@Q11C4',\n",
       " 'FormInfo.Part1A.Item11C.@Q11C5',\n",
       " 'FormInfo.Part1A.Item11D.@Q11D1',\n",
       " 'FormInfo.Part1A.Item11D.@Q11D2',\n",
       " 'FormInfo.Part1A.Item11D.@Q11D3',\n",
       " 'FormInfo.Part1A.Item11D.@Q11D4',\n",
       " 'FormInfo.Part1A.Item11D.@Q11D5',\n",
       " 'FormInfo.Part1A.Item11E.@Q11E1',\n",
       " 'FormInfo.Part1A.Item11E.@Q11E2',\n",
       " 'FormInfo.Part1A.Item11E.@Q11E3',\n",
       " 'FormInfo.Part1A.Item11E.@Q11E4',\n",
       " 'FormInfo.Part1A.Item11F.@Q11F',\n",
       " 'FormInfo.Part1A.Item11G.@Q11G',\n",
       " 'FormInfo.Part1A.Item11H.@Q11H1A',\n",
       " 'FormInfo.Part1A.Item11H.@Q11H1B',\n",
       " 'FormInfo.Part1A.Item11H.@Q11H1C',\n",
       " 'FormInfo.Part1A.Item11H.@Q11H2',\n",
       " 'FormInfo.Part1A.Item2A.@Q2A1',\n",
       " 'FormInfo.Part1A.Item2A.@Q2A10',\n",
       " 'FormInfo.Part1A.Item2A.@Q2A11',\n",
       " 'FormInfo.Part1A.Item2A.@Q2A12',\n",
       " 'FormInfo.Part1A.Item2A.@Q2A13',\n",
       " 'FormInfo.Part1A.Item2A.@Q2A2',\n",
       " 'FormInfo.Part1A.Item2A.@Q2A4',\n",
       " 'FormInfo.Part1A.Item2A.@Q2A5',\n",
       " 'FormInfo.Part1A.Item2A.@Q2A6',\n",
       " 'FormInfo.Part1A.Item2A.@Q2A7',\n",
       " 'FormInfo.Part1A.Item2A.@Q2A8',\n",
       " 'FormInfo.Part1A.Item2A.@Q2A9',\n",
       " 'FormInfo.Part1A.Item2B.@Q2B1',\n",
       " 'FormInfo.Part1A.Item2B.@Q2B2',\n",
       " 'FormInfo.Part1A.Item2B.@Q2B3',\n",
       " 'FormInfo.Part1A.Item3A.@OrgFormNm',\n",
       " 'FormInfo.Part1A.Item3A.@OrgFormOthNm',\n",
       " 'FormInfo.Part1A.Item3B.@Q3B',\n",
       " 'FormInfo.Part1A.Item3C.@CntryNm',\n",
       " 'FormInfo.Part1A.Item3C.@StateCD',\n",
       " 'FormInfo.Part1A.Item5A.@TtlEmp',\n",
       " 'FormInfo.Part1A.Item5B.@Q5B1',\n",
       " 'FormInfo.Part1A.Item5B.@Q5B2',\n",
       " 'FormInfo.Part1A.Item5B.@Q5B3',\n",
       " 'FormInfo.Part1A.Item5B.@Q5B4',\n",
       " 'FormInfo.Part1A.Item5B.@Q5B5',\n",
       " 'FormInfo.Part1A.Item5B.@Q5B6',\n",
       " 'FormInfo.Part1A.Item5C.@Q5C1',\n",
       " 'FormInfo.Part1A.Item5C.@Q5C1Oth',\n",
       " 'FormInfo.Part1A.Item5C.@Q5C2',\n",
       " 'FormInfo.Part1A.Item5D.@Q5D1A',\n",
       " 'FormInfo.Part1A.Item5D.@Q5D1B',\n",
       " 'FormInfo.Part1A.Item5D.@Q5D1C',\n",
       " 'FormInfo.Part1A.Item5D.@Q5D1D',\n",
       " 'FormInfo.Part1A.Item5D.@Q5D1E',\n",
       " 'FormInfo.Part1A.Item5D.@Q5D1F',\n",
       " 'FormInfo.Part1A.Item5D.@Q5D1G',\n",
       " 'FormInfo.Part1A.Item5D.@Q5D1H',\n",
       " 'FormInfo.Part1A.Item5D.@Q5D1I',\n",
       " 'FormInfo.Part1A.Item5D.@Q5D1J',\n",
       " 'FormInfo.Part1A.Item5D.@Q5D1K',\n",
       " 'FormInfo.Part1A.Item5D.@Q5D1L',\n",
       " 'FormInfo.Part1A.Item5D.@Q5D1M',\n",
       " 'FormInfo.Part1A.Item5D.@Q5D2A',\n",
       " 'FormInfo.Part1A.Item5D.@Q5D2B',\n",
       " 'FormInfo.Part1A.Item5D.@Q5D2C',\n",
       " 'FormInfo.Part1A.Item5D.@Q5D2D',\n",
       " 'FormInfo.Part1A.Item5D.@Q5D2E',\n",
       " 'FormInfo.Part1A.Item5D.@Q5D2F',\n",
       " 'FormInfo.Part1A.Item5D.@Q5D2G',\n",
       " 'FormInfo.Part1A.Item5D.@Q5D2H',\n",
       " 'FormInfo.Part1A.Item5D.@Q5D2I',\n",
       " 'FormInfo.Part1A.Item5D.@Q5D2J',\n",
       " 'FormInfo.Part1A.Item5D.@Q5D2K',\n",
       " 'FormInfo.Part1A.Item5D.@Q5D2L',\n",
       " 'FormInfo.Part1A.Item5D.@Q5D2M',\n",
       " 'FormInfo.Part1A.Item5D.@Q5DA1',\n",
       " 'FormInfo.Part1A.Item5D.@Q5DA2',\n",
       " 'FormInfo.Part1A.Item5D.@Q5DA3',\n",
       " 'FormInfo.Part1A.Item5D.@Q5DB1',\n",
       " 'FormInfo.Part1A.Item5D.@Q5DB2',\n",
       " 'FormInfo.Part1A.Item5D.@Q5DB3',\n",
       " 'FormInfo.Part1A.Item5D.@Q5DC1',\n",
       " 'FormInfo.Part1A.Item5D.@Q5DC2',\n",
       " 'FormInfo.Part1A.Item5D.@Q5DC3',\n",
       " 'FormInfo.Part1A.Item5D.@Q5DD1',\n",
       " 'FormInfo.Part1A.Item5D.@Q5DD3',\n",
       " 'FormInfo.Part1A.Item5D.@Q5DE1',\n",
       " 'FormInfo.Part1A.Item5D.@Q5DE3',\n",
       " 'FormInfo.Part1A.Item5D.@Q5DF1',\n",
       " 'FormInfo.Part1A.Item5D.@Q5DF3',\n",
       " 'FormInfo.Part1A.Item5D.@Q5DG1',\n",
       " 'FormInfo.Part1A.Item5D.@Q5DG2',\n",
       " 'FormInfo.Part1A.Item5D.@Q5DG3',\n",
       " 'FormInfo.Part1A.Item5D.@Q5DH1',\n",
       " 'FormInfo.Part1A.Item5D.@Q5DH2',\n",
       " 'FormInfo.Part1A.Item5D.@Q5DH3',\n",
       " 'FormInfo.Part1A.Item5D.@Q5DI1',\n",
       " 'FormInfo.Part1A.Item5D.@Q5DI2',\n",
       " 'FormInfo.Part1A.Item5D.@Q5DI3',\n",
       " 'FormInfo.Part1A.Item5D.@Q5DJ1',\n",
       " 'FormInfo.Part1A.Item5D.@Q5DJ2',\n",
       " 'FormInfo.Part1A.Item5D.@Q5DJ3',\n",
       " 'FormInfo.Part1A.Item5D.@Q5DK1',\n",
       " 'FormInfo.Part1A.Item5D.@Q5DK2',\n",
       " 'FormInfo.Part1A.Item5D.@Q5DK3',\n",
       " 'FormInfo.Part1A.Item5D.@Q5DL1',\n",
       " 'FormInfo.Part1A.Item5D.@Q5DL2',\n",
       " 'FormInfo.Part1A.Item5D.@Q5DL3',\n",
       " 'FormInfo.Part1A.Item5D.@Q5DM1',\n",
       " 'FormInfo.Part1A.Item5D.@Q5DM2',\n",
       " 'FormInfo.Part1A.Item5D.@Q5DM3',\n",
       " 'FormInfo.Part1A.Item5D.@Q5DN1',\n",
       " 'FormInfo.Part1A.Item5D.@Q5DN2',\n",
       " 'FormInfo.Part1A.Item5D.@Q5DN3',\n",
       " 'FormInfo.Part1A.Item5D.@Q5DN3Oth',\n",
       " 'FormInfo.Part1A.Item5E.@Q5E1',\n",
       " 'FormInfo.Part1A.Item5E.@Q5E2',\n",
       " 'FormInfo.Part1A.Item5E.@Q5E3',\n",
       " 'FormInfo.Part1A.Item5E.@Q5E4',\n",
       " 'FormInfo.Part1A.Item5E.@Q5E5',\n",
       " 'FormInfo.Part1A.Item5E.@Q5E6',\n",
       " 'FormInfo.Part1A.Item5E.@Q5E7',\n",
       " 'FormInfo.Part1A.Item5E.@Q5E7Oth',\n",
       " 'FormInfo.Part1A.Item5F.@Q5F1',\n",
       " 'FormInfo.Part1A.Item5F.@Q5F2A',\n",
       " 'FormInfo.Part1A.Item5F.@Q5F2B',\n",
       " 'FormInfo.Part1A.Item5F.@Q5F2C',\n",
       " 'FormInfo.Part1A.Item5F.@Q5F2D',\n",
       " 'FormInfo.Part1A.Item5F.@Q5F2E',\n",
       " 'FormInfo.Part1A.Item5F.@Q5F2F',\n",
       " 'FormInfo.Part1A.Item5F.@Q5F3',\n",
       " 'FormInfo.Part1A.Item5G.@Q5G1',\n",
       " 'FormInfo.Part1A.Item5G.@Q5G10',\n",
       " 'FormInfo.Part1A.Item5G.@Q5G11',\n",
       " 'FormInfo.Part1A.Item5G.@Q5G12',\n",
       " 'FormInfo.Part1A.Item5G.@Q5G12Oth',\n",
       " 'FormInfo.Part1A.Item5G.@Q5G2',\n",
       " 'FormInfo.Part1A.Item5G.@Q5G3',\n",
       " 'FormInfo.Part1A.Item5G.@Q5G4',\n",
       " 'FormInfo.Part1A.Item5G.@Q5G5',\n",
       " 'FormInfo.Part1A.Item5G.@Q5G6',\n",
       " 'FormInfo.Part1A.Item5G.@Q5G7',\n",
       " 'FormInfo.Part1A.Item5G.@Q5G8',\n",
       " 'FormInfo.Part1A.Item5G.@Q5G9',\n",
       " 'FormInfo.Part1A.Item5H.@Q5H',\n",
       " 'FormInfo.Part1A.Item5H.@Q5HMT500',\n",
       " 'FormInfo.Part1A.Item5I.@Q5I1',\n",
       " 'FormInfo.Part1A.Item5I.@Q5I2A',\n",
       " 'FormInfo.Part1A.Item5I.@Q5I2B',\n",
       " 'FormInfo.Part1A.Item5I.@Q5I2C',\n",
       " 'FormInfo.Part1A.Item5J.@Q5J1',\n",
       " 'FormInfo.Part1A.Item5J.@Q5J2',\n",
       " 'FormInfo.Part1A.Item5K.@Q5K1',\n",
       " 'FormInfo.Part1A.Item5K.@Q5K2',\n",
       " 'FormInfo.Part1A.Item5K.@Q5K3',\n",
       " 'FormInfo.Part1A.Item5K.@Q5K4',\n",
       " 'FormInfo.Part1A.Item5L.@Q5L1A',\n",
       " 'FormInfo.Part1A.Item5L.@Q5L1B',\n",
       " 'FormInfo.Part1A.Item5L.@Q5L1C',\n",
       " 'FormInfo.Part1A.Item5L.@Q5L1D',\n",
       " 'FormInfo.Part1A.Item5L.@Q5L1E',\n",
       " 'FormInfo.Part1A.Item5L.@Q5L2',\n",
       " 'FormInfo.Part1A.Item5L.@Q5L3',\n",
       " 'FormInfo.Part1A.Item5L.@Q5L4',\n",
       " 'FormInfo.Part1A.Item6A.@Q6A1',\n",
       " 'FormInfo.Part1A.Item6A.@Q6A10',\n",
       " 'FormInfo.Part1A.Item6A.@Q6A11',\n",
       " 'FormInfo.Part1A.Item6A.@Q6A12',\n",
       " 'FormInfo.Part1A.Item6A.@Q6A13',\n",
       " 'FormInfo.Part1A.Item6A.@Q6A14',\n",
       " 'FormInfo.Part1A.Item6A.@Q6A14Oth',\n",
       " 'FormInfo.Part1A.Item6A.@Q6A2',\n",
       " 'FormInfo.Part1A.Item6A.@Q6A3',\n",
       " 'FormInfo.Part1A.Item6A.@Q6A4',\n",
       " 'FormInfo.Part1A.Item6A.@Q6A5',\n",
       " 'FormInfo.Part1A.Item6A.@Q6A6',\n",
       " 'FormInfo.Part1A.Item6A.@Q6A7',\n",
       " 'FormInfo.Part1A.Item6A.@Q6A8',\n",
       " 'FormInfo.Part1A.Item6A.@Q6A9',\n",
       " 'FormInfo.Part1A.Item6B.@Q6B1',\n",
       " 'FormInfo.Part1A.Item6B.@Q6B2',\n",
       " 'FormInfo.Part1A.Item6B.@Q6B3',\n",
       " 'FormInfo.Part1A.Item7A.@Q7A1',\n",
       " 'FormInfo.Part1A.Item7A.@Q7A10',\n",
       " 'FormInfo.Part1A.Item7A.@Q7A11',\n",
       " 'FormInfo.Part1A.Item7A.@Q7A12',\n",
       " 'FormInfo.Part1A.Item7A.@Q7A13',\n",
       " 'FormInfo.Part1A.Item7A.@Q7A14',\n",
       " 'FormInfo.Part1A.Item7A.@Q7A15',\n",
       " 'FormInfo.Part1A.Item7A.@Q7A16',\n",
       " 'FormInfo.Part1A.Item7A.@Q7A2',\n",
       " 'FormInfo.Part1A.Item7A.@Q7A3',\n",
       " 'FormInfo.Part1A.Item7A.@Q7A4',\n",
       " 'FormInfo.Part1A.Item7A.@Q7A5',\n",
       " 'FormInfo.Part1A.Item7A.@Q7A6',\n",
       " 'FormInfo.Part1A.Item7A.@Q7A7',\n",
       " 'FormInfo.Part1A.Item7A.@Q7A8',\n",
       " 'FormInfo.Part1A.Item7A.@Q7A9',\n",
       " 'FormInfo.Part1A.Item7B.@Q7B',\n",
       " 'FormInfo.Part1A.Item8A.@Q8A1',\n",
       " 'FormInfo.Part1A.Item8A.@Q8A2',\n",
       " 'FormInfo.Part1A.Item8A.@Q8A3',\n",
       " 'FormInfo.Part1A.Item8B.@Q8B1',\n",
       " 'FormInfo.Part1A.Item8B.@Q8B2',\n",
       " 'FormInfo.Part1A.Item8B.@Q8B3',\n",
       " 'FormInfo.Part1A.Item8C.@Q8C1',\n",
       " 'FormInfo.Part1A.Item8C.@Q8C2',\n",
       " 'FormInfo.Part1A.Item8C.@Q8C3',\n",
       " 'FormInfo.Part1A.Item8C.@Q8C4',\n",
       " 'FormInfo.Part1A.Item8D.@Q8D',\n",
       " 'FormInfo.Part1A.Item8E.@Q8E',\n",
       " 'FormInfo.Part1A.Item8F.@Q8F',\n",
       " 'FormInfo.Part1A.Item8G.@Q8G1',\n",
       " 'FormInfo.Part1A.Item8G.@Q8G2',\n",
       " 'FormInfo.Part1A.Item8H.@Q8H',\n",
       " 'FormInfo.Part1A.Item8H.@Q8H1',\n",
       " 'FormInfo.Part1A.Item8H.@Q8H2',\n",
       " 'FormInfo.Part1A.Item8I.@Q8I',\n",
       " 'FormInfo.Part1A.Item9A.@Q9A1A',\n",
       " 'FormInfo.Part1A.Item9A.@Q9A1B',\n",
       " 'FormInfo.Part1A.Item9A.@Q9A2A',\n",
       " 'FormInfo.Part1A.Item9A.@Q9A2B',\n",
       " 'FormInfo.Part1A.Item9B.@Q9B1A',\n",
       " 'FormInfo.Part1A.Item9B.@Q9B1B',\n",
       " 'FormInfo.Part1A.Item9B.@Q9B2A',\n",
       " 'FormInfo.Part1A.Item9B.@Q9B2B',\n",
       " 'FormInfo.Part1A.Item9C.@Q9C1',\n",
       " 'FormInfo.Part1A.Item9C.@Q9C2',\n",
       " 'FormInfo.Part1A.Item9C.@Q9C3',\n",
       " 'FormInfo.Part1A.Item9C.@Q9C4',\n",
       " 'FormInfo.Part1A.Item9D.@Q9D1',\n",
       " 'FormInfo.Part1A.Item9D.@Q9D2',\n",
       " 'FormInfo.Part1A.Item9E.@Q9E',\n",
       " 'FormInfo.Part1A.Item9F.@Q9F',\n",
       " 'Info.@BusNm',\n",
       " 'Info.@FirmCrdNb',\n",
       " 'Info.@LegalNm',\n",
       " 'Info.@SECNb',\n",
       " 'Info.@SECRgnCD',\n",
       " 'Info.@UmbrRgstn',\n",
       " 'MailingAddr.@City',\n",
       " 'MailingAddr.@Cntry',\n",
       " 'MailingAddr.@PostlCd',\n",
       " 'MailingAddr.@State',\n",
       " 'MailingAddr.@Strt1',\n",
       " 'MailingAddr.@Strt2',\n",
       " 'MainAddr.@City',\n",
       " 'MainAddr.@Cntry',\n",
       " 'MainAddr.@FaxNb',\n",
       " 'MainAddr.@PhNb',\n",
       " 'MainAddr.@PostlCd',\n",
       " 'MainAddr.@State',\n",
       " 'MainAddr.@Strt1',\n",
       " 'MainAddr.@Strt2',\n",
       " 'NoticeFiled.States.@Dt',\n",
       " 'NoticeFiled.States.@RgltrCd',\n",
       " 'NoticeFiled.States.@St',\n",
       " 'Rgstn.@Dt',\n",
       " 'Rgstn.@FirmType',\n",
       " 'Rgstn.@St']"
      ]
     },
     "execution_count": 7,
     "metadata": {},
     "output_type": "execute_result"
    }
   ],
   "source": [
    "sorted(df_sec.columns.to_list())"
   ]
  },
  {
   "cell_type": "code",
   "execution_count": 8,
   "id": "a6e10dfe-f946-45e4-92b8-4b94d20ec24f",
   "metadata": {},
   "outputs": [],
   "source": [
    "sec_cols = set(df_sec.columns)"
   ]
  },
  {
   "cell_type": "markdown",
   "id": "2e348260-8088-4de3-b23a-527c0993d0fe",
   "metadata": {},
   "source": [
    "Number of Advisers"
   ]
  },
  {
   "cell_type": "code",
   "execution_count": 9,
   "id": "e1ba3fec-053d-42f0-9eaa-e7dd29674891",
   "metadata": {
    "tags": []
   },
   "outputs": [
    {
     "data": {
      "text/plain": [
       "21100"
      ]
     },
     "execution_count": 9,
     "metadata": {},
     "output_type": "execute_result"
    }
   ],
   "source": [
    "df_sec.shape[0]"
   ]
  },
  {
   "cell_type": "code",
   "execution_count": null,
   "id": "5a74e29e-1eb8-4c07-8df6-10a87d2fb437",
   "metadata": {},
   "outputs": [],
   "source": []
  },
  {
   "cell_type": "markdown",
   "id": "37eb51e4-d9f9-4606-a7c9-cb76c13ae5aa",
   "metadata": {},
   "source": [
    "## State-Registered Advisers "
   ]
  },
  {
   "cell_type": "code",
   "execution_count": 10,
   "id": "40ced4ae-3670-4bd8-95c2-1c1e0c3dfb22",
   "metadata": {
    "tags": []
   },
   "outputs": [],
   "source": [
    "df_state = pd.read_csv(glob.glob('data/sec/IA_FIRM_STATE_Feed_*.csv')[0],\n",
    "                     low_memory=False)"
   ]
  },
  {
   "cell_type": "code",
   "execution_count": 11,
   "id": "fbe1a715-0e21-4720-8198-08827f43b16d",
   "metadata": {
    "collapsed": true,
    "jupyter": {
     "outputs_hidden": true
    },
    "tags": []
   },
   "outputs": [
    {
     "data": {
      "text/plain": [
       "['ERA.Rgltrs',\n",
       " 'ERA.Rgltrs.Rgltr',\n",
       " 'ERA.Rgltrs.Rgltr.@Cd',\n",
       " 'ERA.Rgltrs.Rgltr.@Dt',\n",
       " 'ERA.Rgltrs.Rgltr.@St',\n",
       " 'Filing.@Dt',\n",
       " 'Filing.@FormVrsn',\n",
       " 'FormInfo.Part1A.Item1.@Q1F5',\n",
       " 'FormInfo.Part1A.Item1.@Q1I',\n",
       " 'FormInfo.Part1A.Item1.@Q1M',\n",
       " 'FormInfo.Part1A.Item1.@Q1N',\n",
       " 'FormInfo.Part1A.Item1.@Q1O',\n",
       " 'FormInfo.Part1A.Item1.@Q1ODESC',\n",
       " 'FormInfo.Part1A.Item1.@Q1P',\n",
       " 'FormInfo.Part1A.Item1.WebAddrs',\n",
       " 'FormInfo.Part1A.Item1.WebAddrs.WebAddr',\n",
       " 'FormInfo.Part1A.Item10A.@Q10A',\n",
       " 'FormInfo.Part1A.Item11.@Q11',\n",
       " 'FormInfo.Part1A.Item11A.@Q11A1',\n",
       " 'FormInfo.Part1A.Item11A.@Q11A2',\n",
       " 'FormInfo.Part1A.Item11B.@Q11B1',\n",
       " 'FormInfo.Part1A.Item11B.@Q11B2',\n",
       " 'FormInfo.Part1A.Item11C.@Q11C1',\n",
       " 'FormInfo.Part1A.Item11C.@Q11C2',\n",
       " 'FormInfo.Part1A.Item11C.@Q11C3',\n",
       " 'FormInfo.Part1A.Item11C.@Q11C4',\n",
       " 'FormInfo.Part1A.Item11C.@Q11C5',\n",
       " 'FormInfo.Part1A.Item11D.@Q11D1',\n",
       " 'FormInfo.Part1A.Item11D.@Q11D2',\n",
       " 'FormInfo.Part1A.Item11D.@Q11D3',\n",
       " 'FormInfo.Part1A.Item11D.@Q11D4',\n",
       " 'FormInfo.Part1A.Item11D.@Q11D5',\n",
       " 'FormInfo.Part1A.Item11E.@Q11E1',\n",
       " 'FormInfo.Part1A.Item11E.@Q11E2',\n",
       " 'FormInfo.Part1A.Item11E.@Q11E3',\n",
       " 'FormInfo.Part1A.Item11E.@Q11E4',\n",
       " 'FormInfo.Part1A.Item11F.@Q11F',\n",
       " 'FormInfo.Part1A.Item11G.@Q11G',\n",
       " 'FormInfo.Part1A.Item11H.@Q11H1A',\n",
       " 'FormInfo.Part1A.Item11H.@Q11H1B',\n",
       " 'FormInfo.Part1A.Item11H.@Q11H1C',\n",
       " 'FormInfo.Part1A.Item11H.@Q11H2',\n",
       " 'FormInfo.Part1A.Item3A.@OrgFormNm',\n",
       " 'FormInfo.Part1A.Item3A.@OrgFormOthNm',\n",
       " 'FormInfo.Part1A.Item3B.@Q3B',\n",
       " 'FormInfo.Part1A.Item3C.@CntryNm',\n",
       " 'FormInfo.Part1A.Item3C.@StateCD',\n",
       " 'FormInfo.Part1A.Item5A.@TtlEmp',\n",
       " 'FormInfo.Part1A.Item5B.@Q5B1',\n",
       " 'FormInfo.Part1A.Item5B.@Q5B2',\n",
       " 'FormInfo.Part1A.Item5B.@Q5B3',\n",
       " 'FormInfo.Part1A.Item5B.@Q5B4',\n",
       " 'FormInfo.Part1A.Item5B.@Q5B5',\n",
       " 'FormInfo.Part1A.Item5B.@Q5B6',\n",
       " 'FormInfo.Part1A.Item5C.@Q5C1',\n",
       " 'FormInfo.Part1A.Item5C.@Q5C1Oth',\n",
       " 'FormInfo.Part1A.Item5C.@Q5C2',\n",
       " 'FormInfo.Part1A.Item5D.@Q5D1A',\n",
       " 'FormInfo.Part1A.Item5D.@Q5D1B',\n",
       " 'FormInfo.Part1A.Item5D.@Q5D1C',\n",
       " 'FormInfo.Part1A.Item5D.@Q5D1D',\n",
       " 'FormInfo.Part1A.Item5D.@Q5D1E',\n",
       " 'FormInfo.Part1A.Item5D.@Q5D1F',\n",
       " 'FormInfo.Part1A.Item5D.@Q5D1G',\n",
       " 'FormInfo.Part1A.Item5D.@Q5D1H',\n",
       " 'FormInfo.Part1A.Item5D.@Q5D1I',\n",
       " 'FormInfo.Part1A.Item5D.@Q5D1J',\n",
       " 'FormInfo.Part1A.Item5D.@Q5D1K',\n",
       " 'FormInfo.Part1A.Item5D.@Q5D1L',\n",
       " 'FormInfo.Part1A.Item5D.@Q5D1M',\n",
       " 'FormInfo.Part1A.Item5D.@Q5D1MOth',\n",
       " 'FormInfo.Part1A.Item5D.@Q5D2A',\n",
       " 'FormInfo.Part1A.Item5D.@Q5D2B',\n",
       " 'FormInfo.Part1A.Item5D.@Q5D2C',\n",
       " 'FormInfo.Part1A.Item5D.@Q5D2D',\n",
       " 'FormInfo.Part1A.Item5D.@Q5D2E',\n",
       " 'FormInfo.Part1A.Item5D.@Q5D2F',\n",
       " 'FormInfo.Part1A.Item5D.@Q5D2G',\n",
       " 'FormInfo.Part1A.Item5D.@Q5D2H',\n",
       " 'FormInfo.Part1A.Item5D.@Q5D2I',\n",
       " 'FormInfo.Part1A.Item5D.@Q5D2J',\n",
       " 'FormInfo.Part1A.Item5D.@Q5D2K',\n",
       " 'FormInfo.Part1A.Item5D.@Q5D2L',\n",
       " 'FormInfo.Part1A.Item5D.@Q5D2M',\n",
       " 'FormInfo.Part1A.Item5D.@Q5D2MOth',\n",
       " 'FormInfo.Part1A.Item5D.@Q5DA1',\n",
       " 'FormInfo.Part1A.Item5D.@Q5DA2',\n",
       " 'FormInfo.Part1A.Item5D.@Q5DA3',\n",
       " 'FormInfo.Part1A.Item5D.@Q5DB1',\n",
       " 'FormInfo.Part1A.Item5D.@Q5DB2',\n",
       " 'FormInfo.Part1A.Item5D.@Q5DB3',\n",
       " 'FormInfo.Part1A.Item5D.@Q5DC1',\n",
       " 'FormInfo.Part1A.Item5D.@Q5DC2',\n",
       " 'FormInfo.Part1A.Item5D.@Q5DC3',\n",
       " 'FormInfo.Part1A.Item5D.@Q5DD1',\n",
       " 'FormInfo.Part1A.Item5D.@Q5DD3',\n",
       " 'FormInfo.Part1A.Item5D.@Q5DE1',\n",
       " 'FormInfo.Part1A.Item5D.@Q5DE3',\n",
       " 'FormInfo.Part1A.Item5D.@Q5DF1',\n",
       " 'FormInfo.Part1A.Item5D.@Q5DF3',\n",
       " 'FormInfo.Part1A.Item5D.@Q5DG1',\n",
       " 'FormInfo.Part1A.Item5D.@Q5DG2',\n",
       " 'FormInfo.Part1A.Item5D.@Q5DG3',\n",
       " 'FormInfo.Part1A.Item5D.@Q5DH1',\n",
       " 'FormInfo.Part1A.Item5D.@Q5DH2',\n",
       " 'FormInfo.Part1A.Item5D.@Q5DH3',\n",
       " 'FormInfo.Part1A.Item5D.@Q5DI1',\n",
       " 'FormInfo.Part1A.Item5D.@Q5DI2',\n",
       " 'FormInfo.Part1A.Item5D.@Q5DI3',\n",
       " 'FormInfo.Part1A.Item5D.@Q5DJ1',\n",
       " 'FormInfo.Part1A.Item5D.@Q5DJ2',\n",
       " 'FormInfo.Part1A.Item5D.@Q5DJ3',\n",
       " 'FormInfo.Part1A.Item5D.@Q5DK1',\n",
       " 'FormInfo.Part1A.Item5D.@Q5DK2',\n",
       " 'FormInfo.Part1A.Item5D.@Q5DK3',\n",
       " 'FormInfo.Part1A.Item5D.@Q5DL1',\n",
       " 'FormInfo.Part1A.Item5D.@Q5DL2',\n",
       " 'FormInfo.Part1A.Item5D.@Q5DL3',\n",
       " 'FormInfo.Part1A.Item5D.@Q5DM1',\n",
       " 'FormInfo.Part1A.Item5D.@Q5DM2',\n",
       " 'FormInfo.Part1A.Item5D.@Q5DM3',\n",
       " 'FormInfo.Part1A.Item5D.@Q5DN1',\n",
       " 'FormInfo.Part1A.Item5D.@Q5DN2',\n",
       " 'FormInfo.Part1A.Item5D.@Q5DN3',\n",
       " 'FormInfo.Part1A.Item5D.@Q5DN3Oth',\n",
       " 'FormInfo.Part1A.Item5E.@Q5E1',\n",
       " 'FormInfo.Part1A.Item5E.@Q5E2',\n",
       " 'FormInfo.Part1A.Item5E.@Q5E3',\n",
       " 'FormInfo.Part1A.Item5E.@Q5E4',\n",
       " 'FormInfo.Part1A.Item5E.@Q5E5',\n",
       " 'FormInfo.Part1A.Item5E.@Q5E6',\n",
       " 'FormInfo.Part1A.Item5E.@Q5E7',\n",
       " 'FormInfo.Part1A.Item5E.@Q5E7Oth',\n",
       " 'FormInfo.Part1A.Item5F.@Q5F1',\n",
       " 'FormInfo.Part1A.Item5F.@Q5F2A',\n",
       " 'FormInfo.Part1A.Item5F.@Q5F2B',\n",
       " 'FormInfo.Part1A.Item5F.@Q5F2C',\n",
       " 'FormInfo.Part1A.Item5F.@Q5F2D',\n",
       " 'FormInfo.Part1A.Item5F.@Q5F2E',\n",
       " 'FormInfo.Part1A.Item5F.@Q5F2F',\n",
       " 'FormInfo.Part1A.Item5F.@Q5F3',\n",
       " 'FormInfo.Part1A.Item5G.@Q5G1',\n",
       " 'FormInfo.Part1A.Item5G.@Q5G10',\n",
       " 'FormInfo.Part1A.Item5G.@Q5G11',\n",
       " 'FormInfo.Part1A.Item5G.@Q5G12',\n",
       " 'FormInfo.Part1A.Item5G.@Q5G12Oth',\n",
       " 'FormInfo.Part1A.Item5G.@Q5G2',\n",
       " 'FormInfo.Part1A.Item5G.@Q5G3',\n",
       " 'FormInfo.Part1A.Item5G.@Q5G4',\n",
       " 'FormInfo.Part1A.Item5G.@Q5G5',\n",
       " 'FormInfo.Part1A.Item5G.@Q5G6',\n",
       " 'FormInfo.Part1A.Item5G.@Q5G7',\n",
       " 'FormInfo.Part1A.Item5G.@Q5G8',\n",
       " 'FormInfo.Part1A.Item5G.@Q5G9',\n",
       " 'FormInfo.Part1A.Item5H.@Q5H',\n",
       " 'FormInfo.Part1A.Item5H.@Q5HMT500',\n",
       " 'FormInfo.Part1A.Item5I.@Q5I1',\n",
       " 'FormInfo.Part1A.Item5I.@Q5I2A',\n",
       " 'FormInfo.Part1A.Item5I.@Q5I2B',\n",
       " 'FormInfo.Part1A.Item5I.@Q5I2C',\n",
       " 'FormInfo.Part1A.Item5J.@Q5J1',\n",
       " 'FormInfo.Part1A.Item5J.@Q5J2',\n",
       " 'FormInfo.Part1A.Item5K.@Q5K1',\n",
       " 'FormInfo.Part1A.Item5K.@Q5K2',\n",
       " 'FormInfo.Part1A.Item5K.@Q5K3',\n",
       " 'FormInfo.Part1A.Item5K.@Q5K4',\n",
       " 'FormInfo.Part1A.Item5L.@Q5L1A',\n",
       " 'FormInfo.Part1A.Item5L.@Q5L1B',\n",
       " 'FormInfo.Part1A.Item5L.@Q5L1C',\n",
       " 'FormInfo.Part1A.Item5L.@Q5L1D',\n",
       " 'FormInfo.Part1A.Item5L.@Q5L1E',\n",
       " 'FormInfo.Part1A.Item5L.@Q5L2',\n",
       " 'FormInfo.Part1A.Item5L.@Q5L3',\n",
       " 'FormInfo.Part1A.Item5L.@Q5L4',\n",
       " 'FormInfo.Part1A.Item6A.@Q6A1',\n",
       " 'FormInfo.Part1A.Item6A.@Q6A10',\n",
       " 'FormInfo.Part1A.Item6A.@Q6A11',\n",
       " 'FormInfo.Part1A.Item6A.@Q6A12',\n",
       " 'FormInfo.Part1A.Item6A.@Q6A13',\n",
       " 'FormInfo.Part1A.Item6A.@Q6A14',\n",
       " 'FormInfo.Part1A.Item6A.@Q6A14Oth',\n",
       " 'FormInfo.Part1A.Item6A.@Q6A2',\n",
       " 'FormInfo.Part1A.Item6A.@Q6A3',\n",
       " 'FormInfo.Part1A.Item6A.@Q6A4',\n",
       " 'FormInfo.Part1A.Item6A.@Q6A5',\n",
       " 'FormInfo.Part1A.Item6A.@Q6A6',\n",
       " 'FormInfo.Part1A.Item6A.@Q6A7',\n",
       " 'FormInfo.Part1A.Item6A.@Q6A8',\n",
       " 'FormInfo.Part1A.Item6A.@Q6A9',\n",
       " 'FormInfo.Part1A.Item6B.@Q6B1',\n",
       " 'FormInfo.Part1A.Item6B.@Q6B2',\n",
       " 'FormInfo.Part1A.Item6B.@Q6B3',\n",
       " 'FormInfo.Part1A.Item7A.@Q7A1',\n",
       " 'FormInfo.Part1A.Item7A.@Q7A10',\n",
       " 'FormInfo.Part1A.Item7A.@Q7A11',\n",
       " 'FormInfo.Part1A.Item7A.@Q7A12',\n",
       " 'FormInfo.Part1A.Item7A.@Q7A13',\n",
       " 'FormInfo.Part1A.Item7A.@Q7A14',\n",
       " 'FormInfo.Part1A.Item7A.@Q7A15',\n",
       " 'FormInfo.Part1A.Item7A.@Q7A16',\n",
       " 'FormInfo.Part1A.Item7A.@Q7A2',\n",
       " 'FormInfo.Part1A.Item7A.@Q7A3',\n",
       " 'FormInfo.Part1A.Item7A.@Q7A4',\n",
       " 'FormInfo.Part1A.Item7A.@Q7A5',\n",
       " 'FormInfo.Part1A.Item7A.@Q7A6',\n",
       " 'FormInfo.Part1A.Item7A.@Q7A7',\n",
       " 'FormInfo.Part1A.Item7A.@Q7A8',\n",
       " 'FormInfo.Part1A.Item7A.@Q7A9',\n",
       " 'FormInfo.Part1A.Item7B.@Q7B',\n",
       " 'FormInfo.Part1A.Item8A.@Q8A1',\n",
       " 'FormInfo.Part1A.Item8A.@Q8A2',\n",
       " 'FormInfo.Part1A.Item8A.@Q8A3',\n",
       " 'FormInfo.Part1A.Item8B.@Q8B1',\n",
       " 'FormInfo.Part1A.Item8B.@Q8B2',\n",
       " 'FormInfo.Part1A.Item8B.@Q8B3',\n",
       " 'FormInfo.Part1A.Item8C.@Q8C1',\n",
       " 'FormInfo.Part1A.Item8C.@Q8C2',\n",
       " 'FormInfo.Part1A.Item8C.@Q8C3',\n",
       " 'FormInfo.Part1A.Item8C.@Q8C4',\n",
       " 'FormInfo.Part1A.Item8D.@Q8D',\n",
       " 'FormInfo.Part1A.Item8E.@Q8E',\n",
       " 'FormInfo.Part1A.Item8F.@Q8F',\n",
       " 'FormInfo.Part1A.Item8G.@Q8G1',\n",
       " 'FormInfo.Part1A.Item8G.@Q8G2',\n",
       " 'FormInfo.Part1A.Item8H.@Q8H',\n",
       " 'FormInfo.Part1A.Item8H.@Q8H1',\n",
       " 'FormInfo.Part1A.Item8H.@Q8H2',\n",
       " 'FormInfo.Part1A.Item8I.@Q8I',\n",
       " 'FormInfo.Part1A.Item9A.@Q9A1A',\n",
       " 'FormInfo.Part1A.Item9A.@Q9A1B',\n",
       " 'FormInfo.Part1A.Item9A.@Q9A2A',\n",
       " 'FormInfo.Part1A.Item9A.@Q9A2B',\n",
       " 'FormInfo.Part1A.Item9B.@Q9B1A',\n",
       " 'FormInfo.Part1A.Item9B.@Q9B1B',\n",
       " 'FormInfo.Part1A.Item9B.@Q9B2A',\n",
       " 'FormInfo.Part1A.Item9B.@Q9B2B',\n",
       " 'FormInfo.Part1A.Item9C.@Q9C1',\n",
       " 'FormInfo.Part1A.Item9C.@Q9C2',\n",
       " 'FormInfo.Part1A.Item9C.@Q9C3',\n",
       " 'FormInfo.Part1A.Item9C.@Q9C4',\n",
       " 'FormInfo.Part1A.Item9D.@Q9D1',\n",
       " 'FormInfo.Part1A.Item9D.@Q9D2',\n",
       " 'FormInfo.Part1A.Item9E.@Q9E',\n",
       " 'FormInfo.Part1A.Item9F.@Q9F',\n",
       " 'FormInfo.Part1B.DsclrQstns.@Q1B2C',\n",
       " 'FormInfo.Part1B.DsclrQstns.@Q1B2D',\n",
       " 'FormInfo.Part1B.DsclrQstns.@Q1B2E1',\n",
       " 'FormInfo.Part1B.DsclrQstns.@Q1B2E2',\n",
       " 'FormInfo.Part1B.DsclrQstns.@Q1B2E3',\n",
       " 'FormInfo.Part1B.DsclrQstns.@Q1B2E4',\n",
       " 'FormInfo.Part1B.DsclrQstns.@Q1B2E5',\n",
       " 'FormInfo.Part1B.DsclrQstns.@Q1B2F1',\n",
       " 'FormInfo.Part1B.DsclrQstns.@Q1B2F2',\n",
       " 'FormInfo.Part1B.DsclrQstns.@Q1B2F3',\n",
       " 'FormInfo.Part1B.DsclrQstns.@Q1B2F4',\n",
       " 'FormInfo.Part1B.DsclrQstns.@Q1B2F5',\n",
       " 'FormInfo.Part1B.Item2.@Q1B2B1',\n",
       " 'FormInfo.Part1B.Item2.@Q1B2B2',\n",
       " 'FormInfo.Part1B.Item2.@Q1B2B4',\n",
       " 'FormInfo.Part1B.ItemG.@Q1B2G2',\n",
       " 'FormInfo.Part1B.ItemG.@Q1BG1IssueScrts',\n",
       " 'FormInfo.Part1B.ItemG.@Q1BG1PoolInvmt',\n",
       " 'FormInfo.Part1B.ItemG.@Q1BG1ReAdvsr',\n",
       " 'FormInfo.Part1B.ItemG.@Q1BG1TaxPrprr',\n",
       " 'FormInfo.Part1B.ItemG.@Q1BG1XcldPoolInvmt',\n",
       " 'FormInfo.Part1B.ItemH.@Q1B2HNScrtsNvsmt',\n",
       " 'FormInfo.Part1B.ItemH.@Q1B2HNScrtsNvsmtAm',\n",
       " 'FormInfo.Part1B.ItemH.@Q1B2HScrtsNvsmt',\n",
       " 'FormInfo.Part1B.ItemH.@Q1B2HScrtsNvsmtAm',\n",
       " 'FormInfo.Part1B.ItemI.@Q1B2I1',\n",
       " 'FormInfo.Part1B.ItemI.@Q1B2I1A',\n",
       " 'FormInfo.Part1B.ItemI.@Q1B2I1B',\n",
       " 'FormInfo.Part1B.ItemI.@Q1B2I1C',\n",
       " 'FormInfo.Part1B.ItemI.@Q1B2I2Ai',\n",
       " 'FormInfo.Part1B.ItemI.@Q1B2I2AiiAtrny',\n",
       " 'FormInfo.Part1B.ItemI.@Q1B2I2AiiCpa',\n",
       " 'FormInfo.Part1B.ItemI.@Q1B2I2AiiOth',\n",
       " 'FormInfo.Part1B.ItemI.@Q1B2I2AiiOthTx',\n",
       " 'FormInfo.Part1B.ItemI.@Q1B2I2B',\n",
       " 'FormInfo.Part1B.ItemI.@Q1B2I3',\n",
       " 'FormInfo.Part1B.ItemJ.@Q1BJ1A',\n",
       " 'FormInfo.Part1B.ItemJ.@Q1BJ1B',\n",
       " 'FormInfo.Part1B.ItemJ.@Q1BJ2A',\n",
       " 'FormInfo.Part1B.ItemJ.@Q1BJ2BCfa',\n",
       " 'FormInfo.Part1B.ItemJ.@Q1BJ2BCfp',\n",
       " 'FormInfo.Part1B.ItemJ.@Q1BJ2BChfc',\n",
       " 'FormInfo.Part1B.ItemJ.@Q1BJ2BCic',\n",
       " 'FormInfo.Part1B.ItemJ.@Q1BJ2BNone',\n",
       " 'FormInfo.Part1B.ItemJ.@Q1BJ2BPfs',\n",
       " 'FormInfo.Part1B.ItemK.@Q1B2K1',\n",
       " 'Info.@BusNm',\n",
       " 'Info.@FirmCrdNb',\n",
       " 'Info.@LegalNm',\n",
       " 'Info.@SECNb',\n",
       " 'Info.@UmbrRgstn',\n",
       " 'MailingAddr.@City',\n",
       " 'MailingAddr.@Cntry',\n",
       " 'MailingAddr.@PostlCd',\n",
       " 'MailingAddr.@State',\n",
       " 'MailingAddr.@Strt1',\n",
       " 'MailingAddr.@Strt2',\n",
       " 'MainAddr.@City',\n",
       " 'MainAddr.@Cntry',\n",
       " 'MainAddr.@FaxNb',\n",
       " 'MainAddr.@PhNb',\n",
       " 'MainAddr.@PostlCd',\n",
       " 'MainAddr.@State',\n",
       " 'MainAddr.@Strt1',\n",
       " 'MainAddr.@Strt2',\n",
       " 'StateRgstn.Rgltrs',\n",
       " 'StateRgstn.Rgltrs.Rgltr',\n",
       " 'StateRgstn.Rgltrs.Rgltr.@Cd',\n",
       " 'StateRgstn.Rgltrs.Rgltr.@Dt',\n",
       " 'StateRgstn.Rgltrs.Rgltr.@St']"
      ]
     },
     "execution_count": 11,
     "metadata": {},
     "output_type": "execute_result"
    }
   ],
   "source": [
    "sorted(df_state.columns.to_list())"
   ]
  },
  {
   "cell_type": "code",
   "execution_count": 12,
   "id": "81e0c236-2802-4c76-ae19-9354125286f5",
   "metadata": {},
   "outputs": [],
   "source": [
    "state_cols = set(df_state.columns)"
   ]
  },
  {
   "cell_type": "markdown",
   "id": "04c78e6a-67f7-4c93-83cb-b6fb4b147f83",
   "metadata": {},
   "source": [
    "Number of Advisers"
   ]
  },
  {
   "cell_type": "code",
   "execution_count": 13,
   "id": "1da2fbf9-bce4-4ec2-8dd0-8071c6418652",
   "metadata": {
    "tags": []
   },
   "outputs": [
    {
     "data": {
      "text/plain": [
       "21266"
      ]
     },
     "execution_count": 13,
     "metadata": {},
     "output_type": "execute_result"
    }
   ],
   "source": [
    "df_state.shape[0]"
   ]
  },
  {
   "cell_type": "markdown",
   "id": "44b9d690-4233-40b6-83c3-fb5f65191d31",
   "metadata": {},
   "source": [
    "## Join SEC & State-Registered Advisers "
   ]
  },
  {
   "cell_type": "code",
   "execution_count": 14,
   "id": "4a2b6dbf-435e-4bf3-a678-9e906970ab3d",
   "metadata": {
    "tags": []
   },
   "outputs": [],
   "source": [
    "df_state_ids = df_state.loc[:,['Info.@BusNm',\n",
    "                             'Info.@FirmCrdNb',\n",
    "                             'Info.@LegalNm',\n",
    "                             'Info.@SECNb']]"
   ]
  },
  {
   "cell_type": "code",
   "execution_count": 15,
   "id": "5af1cbd2-619b-4058-82e0-dcc8a7633ca1",
   "metadata": {
    "tags": []
   },
   "outputs": [],
   "source": [
    "df_sec_ids = df_sec.loc[:,['Info.@BusNm',\n",
    "                         'Info.@FirmCrdNb',\n",
    "                         'Info.@LegalNm',\n",
    "                         'Info.@SECNb']]"
   ]
  },
  {
   "cell_type": "code",
   "execution_count": 16,
   "id": "c20efe3d-7d3b-45d3-bee7-136ad74fa6e9",
   "metadata": {
    "tags": []
   },
   "outputs": [],
   "source": [
    "df_all_ids = pd.merge(df_state_ids, df_sec_ids,\n",
    "                      how='outer',\n",
    "                      # on=['Info.@FirmCrdNb', 'Info.@SECNb', 'Info.@BusNm', 'Info.@LegalNm'],\n",
    "                      indicator=True)"
   ]
  },
  {
   "cell_type": "code",
   "execution_count": 17,
   "id": "1bbfd66f-afcf-46d2-b09d-19d2f4e0bed1",
   "metadata": {
    "tags": []
   },
   "outputs": [],
   "source": [
    "df_state_cols = set(df_state.columns)\n",
    "df_sec_cols = set(df_sec.columns)"
   ]
  },
  {
   "cell_type": "code",
   "execution_count": 18,
   "id": "b431f337-5d41-4f4c-8953-f3859a24e99e",
   "metadata": {
    "tags": []
   },
   "outputs": [
    {
     "name": "stdout",
     "output_type": "stream",
     "text": [
      "There are 337 unique columns in total\n",
      "\n",
      "255 columns are in both State & SEC\n",
      "\n",
      "82 columns are in only one of State or SEC\n",
      "of which:\n",
      "23 columns are in only SEC\n",
      "59 columns are in only State\n"
     ]
    }
   ],
   "source": [
    "print('There are %s unique columns in total' %len(df_sec_cols.union(df_state_cols)))\n",
    "print('')\n",
    "print('%s columns are in both State & SEC' %len(df_sec_cols.intersection(df_state_cols)))\n",
    "print('')\n",
    "print('%s columns are in only one of State or SEC' %len(df_sec_cols.symmetric_difference(df_state_cols)))\n",
    "print('of which:')\n",
    "print('%s columns are in only SEC' %len(df_sec_cols.difference(df_state_cols)))\n",
    "print('%s columns are in only State' %len(df_state_cols.difference(df_sec_cols)))"
   ]
  },
  {
   "cell_type": "code",
   "execution_count": 19,
   "id": "cb12b352-b60d-4d8c-bc94-9be62d8a01c1",
   "metadata": {
    "tags": []
   },
   "outputs": [],
   "source": [
    "### Clean up the data"
   ]
  },
  {
   "cell_type": "code",
   "execution_count": 20,
   "id": "e4e044a6-1a3d-4346-ab4a-56fc1b5cc96d",
   "metadata": {
    "tags": []
   },
   "outputs": [],
   "source": [
    "# We'll process the data in 3 parts:\n",
    "# 1. Firms in both (the hard part, as entries for common columns may not be the same across the 2 datasets)\n",
    "# 2. Firms in State only\n",
    "# 3. Firms in SEC only"
   ]
  },
  {
   "cell_type": "code",
   "execution_count": 21,
   "id": "7efd16e5-262e-4842-b20f-b271d99bae19",
   "metadata": {
    "tags": []
   },
   "outputs": [],
   "source": [
    "df_both_ids = df_all_ids[df_all_ids._merge == 'both'].drop(columns=['_merge'])\n",
    "df_state_only_ids = df_all_ids[df_all_ids._merge == 'left_only'].drop(columns=['_merge'])\n",
    "df_sec_only_ids = df_all_ids[df_all_ids._merge == 'right_only'].drop(columns=['_merge'])"
   ]
  },
  {
   "cell_type": "code",
   "execution_count": 22,
   "id": "c1b31d92-1d5e-44b2-a58f-88ac76724199",
   "metadata": {
    "tags": []
   },
   "outputs": [
    {
     "data": {
      "text/plain": [
       "1787"
      ]
     },
     "execution_count": 22,
     "metadata": {},
     "output_type": "execute_result"
    }
   ],
   "source": [
    "df_both_ids.shape[0]"
   ]
  },
  {
   "cell_type": "code",
   "execution_count": 23,
   "id": "ba8cad3d-2acc-441e-a887-ef84f1a782fc",
   "metadata": {
    "tags": []
   },
   "outputs": [],
   "source": [
    "df_both_state_data = pd.merge(df_state, df_both_ids,\n",
    "                              how = 'right',\n",
    "                              on=['Info.@FirmCrdNb', 'Info.@SECNb', 'Info.@BusNm', 'Info.@LegalNm'])"
   ]
  },
  {
   "cell_type": "code",
   "execution_count": 24,
   "id": "e1023280-027a-4ddd-8aa6-861c4523c7bf",
   "metadata": {
    "tags": []
   },
   "outputs": [],
   "source": [
    "df_both_sec_data = pd.merge(df_sec, df_both_ids,\n",
    "                            how = 'right',\n",
    "                            on=['Info.@FirmCrdNb', 'Info.@SECNb', 'Info.@BusNm', 'Info.@LegalNm'])"
   ]
  },
  {
   "cell_type": "code",
   "execution_count": 25,
   "id": "269ac525-c728-4d86-95f8-ef395e346490",
   "metadata": {
    "tags": []
   },
   "outputs": [],
   "source": [
    "# this operation can cause a lot of \"type mismatch\" style errors\n",
    "# TODO: specify dtype on the initial pd.read_csv methods & confirm this fixes the errors\n",
    "with warnings.catch_warnings():\n",
    "    warnings.simplefilter(action='ignore', category=FutureWarning)\n",
    "    df_both = pd.merge(df_both_state_data, df_both_sec_data,\n",
    "                       how='outer',\n",
    "                       suffixes = ('__State', '__SEC'))"
   ]
  },
  {
   "cell_type": "code",
   "execution_count": 26,
   "id": "8451aa66-73d6-430d-9985-1094c6a809b4",
   "metadata": {
    "tags": []
   },
   "outputs": [
    {
     "data": {
      "text/plain": [
       "1799"
      ]
     },
     "execution_count": 26,
     "metadata": {},
     "output_type": "execute_result"
    }
   ],
   "source": [
    "# We gained extra rows during merge -- so some data in the common columns did not match\n",
    "df_both.shape[0]"
   ]
  },
  {
   "cell_type": "code",
   "execution_count": 27,
   "id": "0eacfcee-4ae1-469e-9ad2-2001745e845f",
   "metadata": {
    "tags": []
   },
   "outputs": [],
   "source": [
    "df_both_value_counts = df_both.value_counts(subset=['Info.@FirmCrdNb', 'Info.@SECNb', 'Info.@BusNm', 'Info.@LegalNm'])"
   ]
  },
  {
   "cell_type": "code",
   "execution_count": 28,
   "id": "ebb5d1e1-ab57-4065-8b4c-97bd0249537a",
   "metadata": {
    "tags": []
   },
   "outputs": [],
   "source": [
    "df_both_mismatched_data_ids = df_both_value_counts[df_both_value_counts > 1].index.to_frame().reset_index(drop=True)"
   ]
  },
  {
   "cell_type": "code",
   "execution_count": 29,
   "id": "32c0f645-8ff0-4999-acc8-3201a6d58cc4",
   "metadata": {
    "tags": []
   },
   "outputs": [
    {
     "data": {
      "text/plain": [
       "12"
      ]
     },
     "execution_count": 29,
     "metadata": {},
     "output_type": "execute_result"
    }
   ],
   "source": [
    "df_both_mismatched_data_ids.shape[0]"
   ]
  },
  {
   "cell_type": "code",
   "execution_count": 30,
   "id": "15e2930f-fa6e-46f9-bd57-da920c862d92",
   "metadata": {
    "tags": []
   },
   "outputs": [],
   "source": [
    "# Double check that this is all the \"extra\" rows\n",
    "assert df_both_mismatched_data_ids.shape[0] == df_both.shape[0] - df_both_ids.shape[0]"
   ]
  },
  {
   "cell_type": "code",
   "execution_count": 31,
   "id": "81033a7d-415e-4bd2-b863-1ba42e9c4d5e",
   "metadata": {
    "tags": []
   },
   "outputs": [],
   "source": [
    "merged_series = []\n",
    "for row in df_both_mismatched_data_ids.iterrows():\n",
    "    df_mismatch = df_both[(df_both['Info.@FirmCrdNb'] == row[1]['Info.@FirmCrdNb']) &\\\n",
    "                           (df_both['Info.@SECNb'] == row[1]['Info.@SECNb']) &\\\n",
    "                           (df_both['Info.@BusNm'] == row[1]['Info.@BusNm']) &\\\n",
    "                           (df_both['Info.@LegalNm'] == row[1]['Info.@LegalNm'])].copy()\n",
    "    df_both.drop(index=df_mismatch.index, inplace=True)\n",
    "    df_mismatch = df_mismatch.transpose()\n",
    "    increasing_nulls_index = df_mismatch.isna().sum().sort_values(ascending=True).index\n",
    "    best_merge = df_mismatch.loc[:,increasing_nulls_index[0]].combine_first(df_mismatch.loc[:,increasing_nulls_index[1]])\n",
    "    merged_series.append(best_merge)"
   ]
  },
  {
   "cell_type": "code",
   "execution_count": 32,
   "id": "f2d9995a-b794-4927-a398-f7bdaf456b2a",
   "metadata": {
    "tags": []
   },
   "outputs": [],
   "source": [
    "df_both_mismatched_data_fixed = pd.DataFrame(merged_series)"
   ]
  },
  {
   "cell_type": "code",
   "execution_count": 33,
   "id": "7091cc24-937f-4005-bee9-536889c0d073",
   "metadata": {
    "tags": []
   },
   "outputs": [],
   "source": [
    "df_both = pd.concat([df_both, df_both_mismatched_data_fixed]).reset_index(drop=True)"
   ]
  },
  {
   "cell_type": "code",
   "execution_count": 34,
   "id": "62d5be92-a989-4cd0-b830-817d1c8181a1",
   "metadata": {
    "tags": []
   },
   "outputs": [
    {
     "data": {
      "text/html": [
       "<div>\n",
       "<style scoped>\n",
       "    .dataframe tbody tr th:only-of-type {\n",
       "        vertical-align: middle;\n",
       "    }\n",
       "\n",
       "    .dataframe tbody tr th {\n",
       "        vertical-align: top;\n",
       "    }\n",
       "\n",
       "    .dataframe thead th {\n",
       "        text-align: right;\n",
       "    }\n",
       "</style>\n",
       "<table border=\"1\" class=\"dataframe\">\n",
       "  <thead>\n",
       "    <tr style=\"text-align: right;\">\n",
       "      <th></th>\n",
       "      <th>Info.@FirmCrdNb</th>\n",
       "      <th>Info.@BusNm</th>\n",
       "      <th>Info.@LegalNm</th>\n",
       "      <th>Info.@UmbrRgstn</th>\n",
       "      <th>MainAddr.@Strt1</th>\n",
       "      <th>MainAddr.@Strt2</th>\n",
       "      <th>MainAddr.@City</th>\n",
       "      <th>MainAddr.@State</th>\n",
       "      <th>MainAddr.@Cntry</th>\n",
       "      <th>MainAddr.@PostlCd</th>\n",
       "      <th>...</th>\n",
       "      <th>FormInfo.Part1A.Item2A.@Q2A11</th>\n",
       "      <th>FormInfo.Part1A.Item2A.@Q2A12</th>\n",
       "      <th>FormInfo.Part1A.Item2A.@Q2A13</th>\n",
       "      <th>FormInfo.Part1A.Item1.@Q1ODesc</th>\n",
       "      <th>FormInfo.Part1A.Item2B.@Q2B1</th>\n",
       "      <th>FormInfo.Part1A.Item2B.@Q2B2</th>\n",
       "      <th>FormInfo.Part1A.Item2B.@Q2B3</th>\n",
       "      <th>NoticeFiled.States.@RgltrCd</th>\n",
       "      <th>NoticeFiled.States.@St</th>\n",
       "      <th>NoticeFiled.States.@Dt</th>\n",
       "    </tr>\n",
       "  </thead>\n",
       "  <tbody>\n",
       "    <tr>\n",
       "      <th>0</th>\n",
       "      <td>171863</td>\n",
       "      <td>MOSAIK PARTNERS</td>\n",
       "      <td>MOSAIK PARTNERS, LP</td>\n",
       "      <td>NaN</td>\n",
       "      <td>555 CALIFORNIA STREET</td>\n",
       "      <td>24TH FLOOR</td>\n",
       "      <td>SAN FRANCISCO</td>\n",
       "      <td>CA</td>\n",
       "      <td>United States</td>\n",
       "      <td>94104</td>\n",
       "      <td>...</td>\n",
       "      <td>NaN</td>\n",
       "      <td>NaN</td>\n",
       "      <td>NaN</td>\n",
       "      <td>NaN</td>\n",
       "      <td>Y</td>\n",
       "      <td>N</td>\n",
       "      <td>N</td>\n",
       "      <td>NaN</td>\n",
       "      <td>NaN</td>\n",
       "      <td>NaN</td>\n",
       "    </tr>\n",
       "    <tr>\n",
       "      <th>1</th>\n",
       "      <td>298061</td>\n",
       "      <td>ZZG CAPITAL LLC</td>\n",
       "      <td>ZZG CAPITAL LLC</td>\n",
       "      <td>NaN</td>\n",
       "      <td>NaN</td>\n",
       "      <td>NaN</td>\n",
       "      <td>NaN</td>\n",
       "      <td>NaN</td>\n",
       "      <td>NaN</td>\n",
       "      <td>NaN</td>\n",
       "      <td>...</td>\n",
       "      <td>NaN</td>\n",
       "      <td>NaN</td>\n",
       "      <td>NaN</td>\n",
       "      <td>NaN</td>\n",
       "      <td>Y</td>\n",
       "      <td>N</td>\n",
       "      <td>N</td>\n",
       "      <td>NaN</td>\n",
       "      <td>NaN</td>\n",
       "      <td>NaN</td>\n",
       "    </tr>\n",
       "    <tr>\n",
       "      <th>2</th>\n",
       "      <td>161098</td>\n",
       "      <td>OKAPI VENTURE CAPITAL</td>\n",
       "      <td>OKAPI VENTURE CAPITAL, LLC</td>\n",
       "      <td>NaN</td>\n",
       "      <td>1600 NEWPORT CENTER DRIVE</td>\n",
       "      <td>SUITE 1600</td>\n",
       "      <td>NEWPORT BEACH</td>\n",
       "      <td>CA</td>\n",
       "      <td>United States</td>\n",
       "      <td>92660</td>\n",
       "      <td>...</td>\n",
       "      <td>NaN</td>\n",
       "      <td>NaN</td>\n",
       "      <td>NaN</td>\n",
       "      <td>NaN</td>\n",
       "      <td>Y</td>\n",
       "      <td>Y</td>\n",
       "      <td>N</td>\n",
       "      <td>NaN</td>\n",
       "      <td>NaN</td>\n",
       "      <td>NaN</td>\n",
       "    </tr>\n",
       "    <tr>\n",
       "      <th>3</th>\n",
       "      <td>298342</td>\n",
       "      <td>IDEO COLAB VENTURES LLC</td>\n",
       "      <td>IDEO COLAB VENTURES LLC</td>\n",
       "      <td>NaN</td>\n",
       "      <td>501 THE EMBARCADERO</td>\n",
       "      <td>PIER 28 ANNEX</td>\n",
       "      <td>SAN FRANCISCO</td>\n",
       "      <td>CA</td>\n",
       "      <td>United States</td>\n",
       "      <td>94105</td>\n",
       "      <td>...</td>\n",
       "      <td>NaN</td>\n",
       "      <td>NaN</td>\n",
       "      <td>NaN</td>\n",
       "      <td>NaN</td>\n",
       "      <td>Y</td>\n",
       "      <td>N</td>\n",
       "      <td>N</td>\n",
       "      <td>NaN</td>\n",
       "      <td>NaN</td>\n",
       "      <td>NaN</td>\n",
       "    </tr>\n",
       "    <tr>\n",
       "      <th>4</th>\n",
       "      <td>226615</td>\n",
       "      <td>MEGHALAYA PARTNERS, L.P.</td>\n",
       "      <td>MEGHALAYA PARTNERS, L.P.</td>\n",
       "      <td>NaN</td>\n",
       "      <td>500 WEST PUTNAM AVENUE</td>\n",
       "      <td>SUITE 400</td>\n",
       "      <td>GREENWICH</td>\n",
       "      <td>CT</td>\n",
       "      <td>United States</td>\n",
       "      <td>06830</td>\n",
       "      <td>...</td>\n",
       "      <td>NaN</td>\n",
       "      <td>NaN</td>\n",
       "      <td>NaN</td>\n",
       "      <td>NaN</td>\n",
       "      <td>N</td>\n",
       "      <td>Y</td>\n",
       "      <td>N</td>\n",
       "      <td>NaN</td>\n",
       "      <td>NaN</td>\n",
       "      <td>NaN</td>\n",
       "    </tr>\n",
       "  </tbody>\n",
       "</table>\n",
       "<p>5 rows × 337 columns</p>\n",
       "</div>"
      ],
      "text/plain": [
       "   Info.@FirmCrdNb               Info.@BusNm               Info.@LegalNm  \\\n",
       "0           171863           MOSAIK PARTNERS         MOSAIK PARTNERS, LP   \n",
       "1           298061           ZZG CAPITAL LLC             ZZG CAPITAL LLC   \n",
       "2           161098     OKAPI VENTURE CAPITAL  OKAPI VENTURE CAPITAL, LLC   \n",
       "3           298342   IDEO COLAB VENTURES LLC     IDEO COLAB VENTURES LLC   \n",
       "4           226615  MEGHALAYA PARTNERS, L.P.    MEGHALAYA PARTNERS, L.P.   \n",
       "\n",
       "  Info.@UmbrRgstn            MainAddr.@Strt1 MainAddr.@Strt2 MainAddr.@City  \\\n",
       "0             NaN      555 CALIFORNIA STREET      24TH FLOOR  SAN FRANCISCO   \n",
       "1             NaN                        NaN             NaN            NaN   \n",
       "2             NaN  1600 NEWPORT CENTER DRIVE      SUITE 1600  NEWPORT BEACH   \n",
       "3             NaN        501 THE EMBARCADERO   PIER 28 ANNEX  SAN FRANCISCO   \n",
       "4             NaN     500 WEST PUTNAM AVENUE       SUITE 400      GREENWICH   \n",
       "\n",
       "  MainAddr.@State MainAddr.@Cntry MainAddr.@PostlCd  ...  \\\n",
       "0              CA   United States             94104  ...   \n",
       "1             NaN             NaN               NaN  ...   \n",
       "2              CA   United States             92660  ...   \n",
       "3              CA   United States             94105  ...   \n",
       "4              CT   United States             06830  ...   \n",
       "\n",
       "  FormInfo.Part1A.Item2A.@Q2A11 FormInfo.Part1A.Item2A.@Q2A12  \\\n",
       "0                           NaN                           NaN   \n",
       "1                           NaN                           NaN   \n",
       "2                           NaN                           NaN   \n",
       "3                           NaN                           NaN   \n",
       "4                           NaN                           NaN   \n",
       "\n",
       "  FormInfo.Part1A.Item2A.@Q2A13 FormInfo.Part1A.Item1.@Q1ODesc  \\\n",
       "0                           NaN                            NaN   \n",
       "1                           NaN                            NaN   \n",
       "2                           NaN                            NaN   \n",
       "3                           NaN                            NaN   \n",
       "4                           NaN                            NaN   \n",
       "\n",
       "  FormInfo.Part1A.Item2B.@Q2B1  FormInfo.Part1A.Item2B.@Q2B2  \\\n",
       "0                            Y                             N   \n",
       "1                            Y                             N   \n",
       "2                            Y                             Y   \n",
       "3                            Y                             N   \n",
       "4                            N                             Y   \n",
       "\n",
       "  FormInfo.Part1A.Item2B.@Q2B3 NoticeFiled.States.@RgltrCd  \\\n",
       "0                            N                         NaN   \n",
       "1                            N                         NaN   \n",
       "2                            N                         NaN   \n",
       "3                            N                         NaN   \n",
       "4                            N                         NaN   \n",
       "\n",
       "   NoticeFiled.States.@St NoticeFiled.States.@Dt  \n",
       "0                     NaN                    NaN  \n",
       "1                     NaN                    NaN  \n",
       "2                     NaN                    NaN  \n",
       "3                     NaN                    NaN  \n",
       "4                     NaN                    NaN  \n",
       "\n",
       "[5 rows x 337 columns]"
      ]
     },
     "execution_count": 34,
     "metadata": {},
     "output_type": "execute_result"
    }
   ],
   "source": [
    "df_both.head()"
   ]
  },
  {
   "cell_type": "code",
   "execution_count": 35,
   "id": "5fa71964-84bf-4e73-9c3a-d9ca42e75684",
   "metadata": {
    "tags": []
   },
   "outputs": [],
   "source": [
    "df_only_state_data = pd.merge(df_state, df_state_only_ids,\n",
    "                              how = 'right',\n",
    "                              on=['Info.@FirmCrdNb', 'Info.@SECNb', 'Info.@BusNm', 'Info.@LegalNm'])"
   ]
  },
  {
   "cell_type": "code",
   "execution_count": 36,
   "id": "243aa148-0039-44c5-a252-dba1a2b1f19d",
   "metadata": {
    "tags": []
   },
   "outputs": [],
   "source": [
    "df_only_sec_data = pd.merge(df_sec, df_sec_only_ids,\n",
    "                            how = 'right',\n",
    "                            on=['Info.@FirmCrdNb', 'Info.@SECNb', 'Info.@BusNm', 'Info.@LegalNm'])"
   ]
  },
  {
   "cell_type": "code",
   "execution_count": 37,
   "id": "75e37191-f686-456a-9f1b-e4f0d80e3a9b",
   "metadata": {
    "tags": []
   },
   "outputs": [],
   "source": [
    "df_state_or_sec = pd.merge(df_only_state_data, df_only_sec_data,\n",
    "                   how='outer',\n",
    "                   suffixes = ('__State', '__SEC'))"
   ]
  },
  {
   "cell_type": "code",
   "execution_count": 38,
   "id": "f0d4b0e9-eb6e-4e0e-bbf7-fe1ec67069a0",
   "metadata": {
    "tags": []
   },
   "outputs": [],
   "source": [
    "assert df_state_or_sec.columns.str.endswith('__State').any() == False\n",
    "assert df_state_or_sec.columns.str.endswith('__SEC').any() == False"
   ]
  },
  {
   "cell_type": "code",
   "execution_count": 39,
   "id": "dbc082e8-4a39-4b07-927c-8d4449f31877",
   "metadata": {
    "tags": []
   },
   "outputs": [],
   "source": [
    "df_all = pd.merge(df_state_or_sec, df_both,\n",
    "                   how='outer',\n",
    "                   suffixes = ('__State', '__SEC'))"
   ]
  },
  {
   "cell_type": "code",
   "execution_count": 40,
   "id": "8a1e4470-4b17-4dcd-960c-5d3055d02d34",
   "metadata": {
    "tags": []
   },
   "outputs": [],
   "source": [
    "assert df_all.shape[0] == df_all_ids.shape[0]"
   ]
  },
  {
   "cell_type": "code",
   "execution_count": 41,
   "id": "a2b18ef6-ef61-4941-ba06-0ab63e41bef1",
   "metadata": {},
   "outputs": [
    {
     "data": {
      "text/html": [
       "<div>\n",
       "<style scoped>\n",
       "    .dataframe tbody tr th:only-of-type {\n",
       "        vertical-align: middle;\n",
       "    }\n",
       "\n",
       "    .dataframe tbody tr th {\n",
       "        vertical-align: top;\n",
       "    }\n",
       "\n",
       "    .dataframe thead th {\n",
       "        text-align: right;\n",
       "    }\n",
       "</style>\n",
       "<table border=\"1\" class=\"dataframe\">\n",
       "  <thead>\n",
       "    <tr style=\"text-align: right;\">\n",
       "      <th></th>\n",
       "      <th>Info.@FirmCrdNb</th>\n",
       "      <th>Info.@BusNm</th>\n",
       "      <th>Info.@LegalNm</th>\n",
       "      <th>Info.@UmbrRgstn</th>\n",
       "      <th>MainAddr.@Strt1</th>\n",
       "      <th>MainAddr.@Strt2</th>\n",
       "      <th>MainAddr.@City</th>\n",
       "      <th>MainAddr.@State</th>\n",
       "      <th>MainAddr.@Cntry</th>\n",
       "      <th>MainAddr.@PostlCd</th>\n",
       "      <th>...</th>\n",
       "      <th>FormInfo.Part1A.Item2A.@Q2A11</th>\n",
       "      <th>FormInfo.Part1A.Item2A.@Q2A12</th>\n",
       "      <th>FormInfo.Part1A.Item2A.@Q2A13</th>\n",
       "      <th>FormInfo.Part1A.Item1.@Q1ODesc</th>\n",
       "      <th>FormInfo.Part1A.Item2B.@Q2B1</th>\n",
       "      <th>FormInfo.Part1A.Item2B.@Q2B2</th>\n",
       "      <th>FormInfo.Part1A.Item2B.@Q2B3</th>\n",
       "      <th>NoticeFiled.States.@RgltrCd</th>\n",
       "      <th>NoticeFiled.States.@St</th>\n",
       "      <th>NoticeFiled.States.@Dt</th>\n",
       "    </tr>\n",
       "  </thead>\n",
       "  <tbody>\n",
       "    <tr>\n",
       "      <th>0</th>\n",
       "      <td>146099</td>\n",
       "      <td>PRINCIPA FINANCIAL ADVISORS</td>\n",
       "      <td>CHUNG, BUCK CHWEE</td>\n",
       "      <td>N</td>\n",
       "      <td>15111 WHITTIER BLVD</td>\n",
       "      <td>STE 360</td>\n",
       "      <td>WHITTIER</td>\n",
       "      <td>CA</td>\n",
       "      <td>United States</td>\n",
       "      <td>90603</td>\n",
       "      <td>...</td>\n",
       "      <td>NaN</td>\n",
       "      <td>NaN</td>\n",
       "      <td>NaN</td>\n",
       "      <td>NaN</td>\n",
       "      <td>NaN</td>\n",
       "      <td>NaN</td>\n",
       "      <td>NaN</td>\n",
       "      <td>NaN</td>\n",
       "      <td>NaN</td>\n",
       "      <td>NaN</td>\n",
       "    </tr>\n",
       "    <tr>\n",
       "      <th>1</th>\n",
       "      <td>289221</td>\n",
       "      <td>HOMEWOOD CAPITAL MANAGEMENT EAST LLC</td>\n",
       "      <td>HOMEWOOD CAPITAL MANAGEMENT EAST LLC</td>\n",
       "      <td>N</td>\n",
       "      <td>NaN</td>\n",
       "      <td>NaN</td>\n",
       "      <td>NaN</td>\n",
       "      <td>NaN</td>\n",
       "      <td>NaN</td>\n",
       "      <td>NaN</td>\n",
       "      <td>...</td>\n",
       "      <td>NaN</td>\n",
       "      <td>NaN</td>\n",
       "      <td>NaN</td>\n",
       "      <td>NaN</td>\n",
       "      <td>NaN</td>\n",
       "      <td>NaN</td>\n",
       "      <td>NaN</td>\n",
       "      <td>NaN</td>\n",
       "      <td>NaN</td>\n",
       "      <td>NaN</td>\n",
       "    </tr>\n",
       "    <tr>\n",
       "      <th>2</th>\n",
       "      <td>23940</td>\n",
       "      <td>OFG FINANCIAL SERVICES, INC.</td>\n",
       "      <td>OFG FINANCIAL SERVICES, INC.</td>\n",
       "      <td>N</td>\n",
       "      <td>120 SE 6TH AVENUE</td>\n",
       "      <td>TOWNSITE PLAZA #2, SUITE 105</td>\n",
       "      <td>TOPEKA</td>\n",
       "      <td>KS</td>\n",
       "      <td>United States</td>\n",
       "      <td>66603-3515</td>\n",
       "      <td>...</td>\n",
       "      <td>NaN</td>\n",
       "      <td>NaN</td>\n",
       "      <td>NaN</td>\n",
       "      <td>NaN</td>\n",
       "      <td>NaN</td>\n",
       "      <td>NaN</td>\n",
       "      <td>NaN</td>\n",
       "      <td>NaN</td>\n",
       "      <td>NaN</td>\n",
       "      <td>NaN</td>\n",
       "    </tr>\n",
       "    <tr>\n",
       "      <th>3</th>\n",
       "      <td>155220</td>\n",
       "      <td>WORCH CAPITAL LLC</td>\n",
       "      <td>WORCH CAPITAL LLC</td>\n",
       "      <td>N</td>\n",
       "      <td>11300 ROCKVILLE PIKE</td>\n",
       "      <td>NaN</td>\n",
       "      <td>ROCKVILLE</td>\n",
       "      <td>MD</td>\n",
       "      <td>United States</td>\n",
       "      <td>20852</td>\n",
       "      <td>...</td>\n",
       "      <td>NaN</td>\n",
       "      <td>NaN</td>\n",
       "      <td>NaN</td>\n",
       "      <td>NaN</td>\n",
       "      <td>NaN</td>\n",
       "      <td>NaN</td>\n",
       "      <td>NaN</td>\n",
       "      <td>NaN</td>\n",
       "      <td>NaN</td>\n",
       "      <td>NaN</td>\n",
       "    </tr>\n",
       "    <tr>\n",
       "      <th>4</th>\n",
       "      <td>122779</td>\n",
       "      <td>FINANCIAL PLANNING RESOURCES,LLC</td>\n",
       "      <td>FINANCIAL PLANNING RESOURCES,LLC</td>\n",
       "      <td>NaN</td>\n",
       "      <td>NaN</td>\n",
       "      <td>NaN</td>\n",
       "      <td>NaN</td>\n",
       "      <td>NaN</td>\n",
       "      <td>NaN</td>\n",
       "      <td>NaN</td>\n",
       "      <td>...</td>\n",
       "      <td>NaN</td>\n",
       "      <td>NaN</td>\n",
       "      <td>NaN</td>\n",
       "      <td>NaN</td>\n",
       "      <td>NaN</td>\n",
       "      <td>NaN</td>\n",
       "      <td>NaN</td>\n",
       "      <td>NaN</td>\n",
       "      <td>NaN</td>\n",
       "      <td>NaN</td>\n",
       "    </tr>\n",
       "    <tr>\n",
       "      <th>...</th>\n",
       "      <td>...</td>\n",
       "      <td>...</td>\n",
       "      <td>...</td>\n",
       "      <td>...</td>\n",
       "      <td>...</td>\n",
       "      <td>...</td>\n",
       "      <td>...</td>\n",
       "      <td>...</td>\n",
       "      <td>...</td>\n",
       "      <td>...</td>\n",
       "      <td>...</td>\n",
       "      <td>...</td>\n",
       "      <td>...</td>\n",
       "      <td>...</td>\n",
       "      <td>...</td>\n",
       "      <td>...</td>\n",
       "      <td>...</td>\n",
       "      <td>...</td>\n",
       "      <td>...</td>\n",
       "      <td>...</td>\n",
       "      <td>...</td>\n",
       "    </tr>\n",
       "    <tr>\n",
       "      <th>40574</th>\n",
       "      <td>298150</td>\n",
       "      <td>COMPOUND INSIGHT</td>\n",
       "      <td>COMPOUND INSIGHT, LLC</td>\n",
       "      <td>N</td>\n",
       "      <td>NaN</td>\n",
       "      <td>NaN</td>\n",
       "      <td>NaN</td>\n",
       "      <td>NaN</td>\n",
       "      <td>NaN</td>\n",
       "      <td>NaN</td>\n",
       "      <td>...</td>\n",
       "      <td>NaN</td>\n",
       "      <td>NaN</td>\n",
       "      <td>NaN</td>\n",
       "      <td>NaN</td>\n",
       "      <td>N</td>\n",
       "      <td>Y</td>\n",
       "      <td>N</td>\n",
       "      <td>NaN</td>\n",
       "      <td>NaN</td>\n",
       "      <td>NaN</td>\n",
       "    </tr>\n",
       "    <tr>\n",
       "      <th>40575</th>\n",
       "      <td>306263</td>\n",
       "      <td>ASTRA VENTURES</td>\n",
       "      <td>ASTRA VENTURES INVESTMENT PARTNERS LLC</td>\n",
       "      <td>N</td>\n",
       "      <td>NaN</td>\n",
       "      <td>NaN</td>\n",
       "      <td>NaN</td>\n",
       "      <td>NaN</td>\n",
       "      <td>NaN</td>\n",
       "      <td>NaN</td>\n",
       "      <td>...</td>\n",
       "      <td>NaN</td>\n",
       "      <td>NaN</td>\n",
       "      <td>NaN</td>\n",
       "      <td>NaN</td>\n",
       "      <td>N</td>\n",
       "      <td>Y</td>\n",
       "      <td>N</td>\n",
       "      <td>NaN</td>\n",
       "      <td>NaN</td>\n",
       "      <td>NaN</td>\n",
       "    </tr>\n",
       "    <tr>\n",
       "      <th>40576</th>\n",
       "      <td>169199</td>\n",
       "      <td>SHEROW MANAGEMENT, LLC</td>\n",
       "      <td>SHEROW MANAGEMENT, LLC</td>\n",
       "      <td>N</td>\n",
       "      <td>NaN</td>\n",
       "      <td>NaN</td>\n",
       "      <td>NaN</td>\n",
       "      <td>NaN</td>\n",
       "      <td>NaN</td>\n",
       "      <td>NaN</td>\n",
       "      <td>...</td>\n",
       "      <td>NaN</td>\n",
       "      <td>NaN</td>\n",
       "      <td>NaN</td>\n",
       "      <td>NaN</td>\n",
       "      <td>N</td>\n",
       "      <td>Y</td>\n",
       "      <td>N</td>\n",
       "      <td>NaN</td>\n",
       "      <td>NaN</td>\n",
       "      <td>NaN</td>\n",
       "    </tr>\n",
       "    <tr>\n",
       "      <th>40577</th>\n",
       "      <td>154538</td>\n",
       "      <td>SALT MARSH INVESTMENTS, LLC</td>\n",
       "      <td>SALT MARSH INVESTMENTS, LLC</td>\n",
       "      <td>N</td>\n",
       "      <td>NaN</td>\n",
       "      <td>NaN</td>\n",
       "      <td>NaN</td>\n",
       "      <td>NaN</td>\n",
       "      <td>NaN</td>\n",
       "      <td>NaN</td>\n",
       "      <td>...</td>\n",
       "      <td>NaN</td>\n",
       "      <td>NaN</td>\n",
       "      <td>NaN</td>\n",
       "      <td>NaN</td>\n",
       "      <td>N</td>\n",
       "      <td>Y</td>\n",
       "      <td>N</td>\n",
       "      <td>NaN</td>\n",
       "      <td>NaN</td>\n",
       "      <td>NaN</td>\n",
       "    </tr>\n",
       "    <tr>\n",
       "      <th>40578</th>\n",
       "      <td>291251</td>\n",
       "      <td>ZAMA CAPITAL ADVISORS LP</td>\n",
       "      <td>ZAMA CAPITAL ADVISORS LP</td>\n",
       "      <td>N</td>\n",
       "      <td>900 THIRD AVENUE,</td>\n",
       "      <td>SUITE 201-6</td>\n",
       "      <td>NEW YORK</td>\n",
       "      <td>NY</td>\n",
       "      <td>United States</td>\n",
       "      <td>10022</td>\n",
       "      <td>...</td>\n",
       "      <td>NaN</td>\n",
       "      <td>NaN</td>\n",
       "      <td>NaN</td>\n",
       "      <td>NaN</td>\n",
       "      <td>N</td>\n",
       "      <td>Y</td>\n",
       "      <td>N</td>\n",
       "      <td>NaN</td>\n",
       "      <td>NaN</td>\n",
       "      <td>NaN</td>\n",
       "    </tr>\n",
       "  </tbody>\n",
       "</table>\n",
       "<p>40579 rows × 337 columns</p>\n",
       "</div>"
      ],
      "text/plain": [
       "       Info.@FirmCrdNb                           Info.@BusNm  \\\n",
       "0               146099           PRINCIPA FINANCIAL ADVISORS   \n",
       "1               289221  HOMEWOOD CAPITAL MANAGEMENT EAST LLC   \n",
       "2                23940          OFG FINANCIAL SERVICES, INC.   \n",
       "3               155220                     WORCH CAPITAL LLC   \n",
       "4               122779      FINANCIAL PLANNING RESOURCES,LLC   \n",
       "...                ...                                   ...   \n",
       "40574           298150                      COMPOUND INSIGHT   \n",
       "40575           306263                        ASTRA VENTURES   \n",
       "40576           169199                SHEROW MANAGEMENT, LLC   \n",
       "40577           154538           SALT MARSH INVESTMENTS, LLC   \n",
       "40578           291251              ZAMA CAPITAL ADVISORS LP   \n",
       "\n",
       "                                Info.@LegalNm Info.@UmbrRgstn  \\\n",
       "0                           CHUNG, BUCK CHWEE               N   \n",
       "1        HOMEWOOD CAPITAL MANAGEMENT EAST LLC               N   \n",
       "2                OFG FINANCIAL SERVICES, INC.               N   \n",
       "3                           WORCH CAPITAL LLC               N   \n",
       "4            FINANCIAL PLANNING RESOURCES,LLC             NaN   \n",
       "...                                       ...             ...   \n",
       "40574                   COMPOUND INSIGHT, LLC               N   \n",
       "40575  ASTRA VENTURES INVESTMENT PARTNERS LLC               N   \n",
       "40576                  SHEROW MANAGEMENT, LLC               N   \n",
       "40577             SALT MARSH INVESTMENTS, LLC               N   \n",
       "40578                ZAMA CAPITAL ADVISORS LP               N   \n",
       "\n",
       "            MainAddr.@Strt1               MainAddr.@Strt2 MainAddr.@City  \\\n",
       "0       15111 WHITTIER BLVD                       STE 360       WHITTIER   \n",
       "1                       NaN                           NaN            NaN   \n",
       "2         120 SE 6TH AVENUE  TOWNSITE PLAZA #2, SUITE 105         TOPEKA   \n",
       "3      11300 ROCKVILLE PIKE                           NaN      ROCKVILLE   \n",
       "4                       NaN                           NaN            NaN   \n",
       "...                     ...                           ...            ...   \n",
       "40574                   NaN                           NaN            NaN   \n",
       "40575                   NaN                           NaN            NaN   \n",
       "40576                   NaN                           NaN            NaN   \n",
       "40577                   NaN                           NaN            NaN   \n",
       "40578     900 THIRD AVENUE,                   SUITE 201-6       NEW YORK   \n",
       "\n",
       "      MainAddr.@State MainAddr.@Cntry MainAddr.@PostlCd  ...  \\\n",
       "0                  CA   United States             90603  ...   \n",
       "1                 NaN             NaN               NaN  ...   \n",
       "2                  KS   United States        66603-3515  ...   \n",
       "3                  MD   United States             20852  ...   \n",
       "4                 NaN             NaN               NaN  ...   \n",
       "...               ...             ...               ...  ...   \n",
       "40574             NaN             NaN               NaN  ...   \n",
       "40575             NaN             NaN               NaN  ...   \n",
       "40576             NaN             NaN               NaN  ...   \n",
       "40577             NaN             NaN               NaN  ...   \n",
       "40578              NY   United States             10022  ...   \n",
       "\n",
       "      FormInfo.Part1A.Item2A.@Q2A11 FormInfo.Part1A.Item2A.@Q2A12  \\\n",
       "0                               NaN                           NaN   \n",
       "1                               NaN                           NaN   \n",
       "2                               NaN                           NaN   \n",
       "3                               NaN                           NaN   \n",
       "4                               NaN                           NaN   \n",
       "...                             ...                           ...   \n",
       "40574                           NaN                           NaN   \n",
       "40575                           NaN                           NaN   \n",
       "40576                           NaN                           NaN   \n",
       "40577                           NaN                           NaN   \n",
       "40578                           NaN                           NaN   \n",
       "\n",
       "      FormInfo.Part1A.Item2A.@Q2A13 FormInfo.Part1A.Item1.@Q1ODesc  \\\n",
       "0                               NaN                            NaN   \n",
       "1                               NaN                            NaN   \n",
       "2                               NaN                            NaN   \n",
       "3                               NaN                            NaN   \n",
       "4                               NaN                            NaN   \n",
       "...                             ...                            ...   \n",
       "40574                           NaN                            NaN   \n",
       "40575                           NaN                            NaN   \n",
       "40576                           NaN                            NaN   \n",
       "40577                           NaN                            NaN   \n",
       "40578                           NaN                            NaN   \n",
       "\n",
       "      FormInfo.Part1A.Item2B.@Q2B1  FormInfo.Part1A.Item2B.@Q2B2  \\\n",
       "0                              NaN                           NaN   \n",
       "1                              NaN                           NaN   \n",
       "2                              NaN                           NaN   \n",
       "3                              NaN                           NaN   \n",
       "4                              NaN                           NaN   \n",
       "...                            ...                           ...   \n",
       "40574                            N                             Y   \n",
       "40575                            N                             Y   \n",
       "40576                            N                             Y   \n",
       "40577                            N                             Y   \n",
       "40578                            N                             Y   \n",
       "\n",
       "      FormInfo.Part1A.Item2B.@Q2B3 NoticeFiled.States.@RgltrCd  \\\n",
       "0                              NaN                         NaN   \n",
       "1                              NaN                         NaN   \n",
       "2                              NaN                         NaN   \n",
       "3                              NaN                         NaN   \n",
       "4                              NaN                         NaN   \n",
       "...                            ...                         ...   \n",
       "40574                            N                         NaN   \n",
       "40575                            N                         NaN   \n",
       "40576                            N                         NaN   \n",
       "40577                            N                         NaN   \n",
       "40578                            N                         NaN   \n",
       "\n",
       "       NoticeFiled.States.@St NoticeFiled.States.@Dt  \n",
       "0                         NaN                    NaN  \n",
       "1                         NaN                    NaN  \n",
       "2                         NaN                    NaN  \n",
       "3                         NaN                    NaN  \n",
       "4                         NaN                    NaN  \n",
       "...                       ...                    ...  \n",
       "40574                     NaN                    NaN  \n",
       "40575                     NaN                    NaN  \n",
       "40576                     NaN                    NaN  \n",
       "40577                     NaN                    NaN  \n",
       "40578                     NaN                    NaN  \n",
       "\n",
       "[40579 rows x 337 columns]"
      ]
     },
     "execution_count": 41,
     "metadata": {},
     "output_type": "execute_result"
    }
   ],
   "source": [
    "df_all"
   ]
  },
  {
   "cell_type": "code",
   "execution_count": null,
   "id": "4877d6cc-753e-4b45-b1b0-a3b61c6d795d",
   "metadata": {},
   "outputs": [],
   "source": []
  },
  {
   "cell_type": "markdown",
   "id": "edc9c36b-0ee1-4917-be3a-bbf5026bf7a1",
   "metadata": {},
   "source": [
    "# Get All Web Addresses"
   ]
  },
  {
   "cell_type": "code",
   "execution_count": 44,
   "id": "fd686338-808d-44ce-b8fc-c7fcacec324d",
   "metadata": {
    "tags": []
   },
   "outputs": [],
   "source": [
    "def parse_array(web_addr):\n",
    "    if web_addr in (None, np.NaN):\n",
    "        return np.NaN\n",
    "    web_addr = web_addr.lower()\n",
    "    # @quantology\n",
    "    if web_addr.startswith(\"[\"):\n",
    "        web_addr = web_addr.replace(\"'\", '\"')\n",
    "        web_addr = web_addr.removeprefix(\"[\").removesuffix(\"]\")\n",
    "        candidates = [url.removeprefix('\"').removesuffix('\"') for url in web_addr.split(\", \")]\n",
    "    else:\n",
    "        candidates = [web_addr]\n",
    "    return candidates"
   ]
  },
  {
   "cell_type": "code",
   "execution_count": 45,
   "id": "0d6dcacd-b36e-4fba-a230-5dc9623e9179",
   "metadata": {
    "tags": []
   },
   "outputs": [],
   "source": [
    "df_all['urls'] = df_all['FormInfo.Part1A.Item1.WebAddrs.WebAddr'].apply(parse_array)"
   ]
  },
  {
   "cell_type": "code",
   "execution_count": 46,
   "id": "0ea1b3bf-7866-4c0e-b70b-3da7b773fff5",
   "metadata": {
    "tags": []
   },
   "outputs": [
    {
     "data": {
      "text/plain": [
       "0                                                      NaN\n",
       "1                                                      NaN\n",
       "2                            [http://www.ofgfinancial.com]\n",
       "3        [https://www.worchcapital.com/, https://www.li...\n",
       "4                                                      NaN\n",
       "                               ...                        \n",
       "40574    [https://www.scuttleblurb.com, http://www.comp...\n",
       "40575    [https://www.linkedin.com/company/64656852/adm...\n",
       "40576                   [https://www.sherowmanagement.com]\n",
       "40577                                                  NaN\n",
       "40578                                                  NaN\n",
       "Name: urls, Length: 40579, dtype: object"
      ]
     },
     "execution_count": 46,
     "metadata": {},
     "output_type": "execute_result"
    }
   ],
   "source": [
    "df_all['urls']"
   ]
  },
  {
   "cell_type": "code",
   "execution_count": 47,
   "id": "b932facc-c4d1-442e-ba22-1011298bdc56",
   "metadata": {
    "tags": []
   },
   "outputs": [],
   "source": [
    "# @quantology\n",
    "def parse_urls(urls):\n",
    "    if not isinstance(urls, list):\n",
    "        return np.NaN, np.NaN\n",
    "    domains = []\n",
    "    schemes = []\n",
    "    for url in urls:\n",
    "        if validators.url(url):\n",
    "            parsed_url = urlparse(url)\n",
    "            domain = parsed_url.netloc\n",
    "            if domain.startswith(\"www.\"):\n",
    "                domain = domain.removeprefix(\"www.\")\n",
    "            elif domain.startswith(\"m.\"):\n",
    "                domain = domain.removeprefix(\"m.\")\n",
    "            elif domain.startswith(\"mobile.\"):\n",
    "                domain = domain.removeprefix(\"mobile.\")\n",
    "            domains.append(domain)\n",
    "            schemes.append(parsed_url.scheme)\n",
    "    return domains, schemes"
   ]
  },
  {
   "cell_type": "code",
   "execution_count": 48,
   "id": "2cd6a093-77bf-4b7b-a7c4-41d4f34c6454",
   "metadata": {
    "tags": []
   },
   "outputs": [],
   "source": [
    "# TODO: make less fugly\n",
    "df_all_urls = df_all.apply(lambda x: parse_urls(x['urls']), axis=1, result_type='expand')\n",
    "df_all_urls.columns = ['url_domains', 'url_schemes']"
   ]
  },
  {
   "cell_type": "code",
   "execution_count": 49,
   "id": "875cdfee-2a63-4bd7-a499-94d48ea429df",
   "metadata": {
    "tags": []
   },
   "outputs": [],
   "source": [
    "df_all = df_all.join(df_all_urls)"
   ]
  },
  {
   "cell_type": "code",
   "execution_count": 50,
   "id": "3b429109-0a4c-4468-914a-78b4b83281b7",
   "metadata": {
    "tags": []
   },
   "outputs": [
    {
     "data": {
      "text/html": [
       "<div>\n",
       "<style scoped>\n",
       "    .dataframe tbody tr th:only-of-type {\n",
       "        vertical-align: middle;\n",
       "    }\n",
       "\n",
       "    .dataframe tbody tr th {\n",
       "        vertical-align: top;\n",
       "    }\n",
       "\n",
       "    .dataframe thead th {\n",
       "        text-align: right;\n",
       "    }\n",
       "</style>\n",
       "<table border=\"1\" class=\"dataframe\">\n",
       "  <thead>\n",
       "    <tr style=\"text-align: right;\">\n",
       "      <th></th>\n",
       "      <th>Info.@FirmCrdNb</th>\n",
       "      <th>Info.@SECNb</th>\n",
       "      <th>Info.@BusNm</th>\n",
       "      <th>Info.@LegalNm</th>\n",
       "      <th>urls</th>\n",
       "      <th>url_domains</th>\n",
       "      <th>url_schemes</th>\n",
       "    </tr>\n",
       "  </thead>\n",
       "  <tbody>\n",
       "    <tr>\n",
       "      <th>0</th>\n",
       "      <td>146099</td>\n",
       "      <td>NaN</td>\n",
       "      <td>PRINCIPA FINANCIAL ADVISORS</td>\n",
       "      <td>CHUNG, BUCK CHWEE</td>\n",
       "      <td>NaN</td>\n",
       "      <td>NaN</td>\n",
       "      <td>NaN</td>\n",
       "    </tr>\n",
       "    <tr>\n",
       "      <th>1</th>\n",
       "      <td>289221</td>\n",
       "      <td>NaN</td>\n",
       "      <td>HOMEWOOD CAPITAL MANAGEMENT EAST LLC</td>\n",
       "      <td>HOMEWOOD CAPITAL MANAGEMENT EAST LLC</td>\n",
       "      <td>NaN</td>\n",
       "      <td>NaN</td>\n",
       "      <td>NaN</td>\n",
       "    </tr>\n",
       "    <tr>\n",
       "      <th>2</th>\n",
       "      <td>23940</td>\n",
       "      <td>NaN</td>\n",
       "      <td>OFG FINANCIAL SERVICES, INC.</td>\n",
       "      <td>OFG FINANCIAL SERVICES, INC.</td>\n",
       "      <td>[http://www.ofgfinancial.com]</td>\n",
       "      <td>[ofgfinancial.com]</td>\n",
       "      <td>[http]</td>\n",
       "    </tr>\n",
       "    <tr>\n",
       "      <th>3</th>\n",
       "      <td>155220</td>\n",
       "      <td>NaN</td>\n",
       "      <td>WORCH CAPITAL LLC</td>\n",
       "      <td>WORCH CAPITAL LLC</td>\n",
       "      <td>[https://www.worchcapital.com/, https://www.li...</td>\n",
       "      <td>[worchcapital.com, linkedin.com, worchcapital....</td>\n",
       "      <td>[https, https, http, https]</td>\n",
       "    </tr>\n",
       "    <tr>\n",
       "      <th>4</th>\n",
       "      <td>122779</td>\n",
       "      <td>NaN</td>\n",
       "      <td>FINANCIAL PLANNING RESOURCES,LLC</td>\n",
       "      <td>FINANCIAL PLANNING RESOURCES,LLC</td>\n",
       "      <td>NaN</td>\n",
       "      <td>NaN</td>\n",
       "      <td>NaN</td>\n",
       "    </tr>\n",
       "  </tbody>\n",
       "</table>\n",
       "</div>"
      ],
      "text/plain": [
       "   Info.@FirmCrdNb Info.@SECNb                           Info.@BusNm  \\\n",
       "0           146099         NaN           PRINCIPA FINANCIAL ADVISORS   \n",
       "1           289221         NaN  HOMEWOOD CAPITAL MANAGEMENT EAST LLC   \n",
       "2            23940         NaN          OFG FINANCIAL SERVICES, INC.   \n",
       "3           155220         NaN                     WORCH CAPITAL LLC   \n",
       "4           122779         NaN      FINANCIAL PLANNING RESOURCES,LLC   \n",
       "\n",
       "                          Info.@LegalNm  \\\n",
       "0                     CHUNG, BUCK CHWEE   \n",
       "1  HOMEWOOD CAPITAL MANAGEMENT EAST LLC   \n",
       "2          OFG FINANCIAL SERVICES, INC.   \n",
       "3                     WORCH CAPITAL LLC   \n",
       "4      FINANCIAL PLANNING RESOURCES,LLC   \n",
       "\n",
       "                                                urls  \\\n",
       "0                                                NaN   \n",
       "1                                                NaN   \n",
       "2                      [http://www.ofgfinancial.com]   \n",
       "3  [https://www.worchcapital.com/, https://www.li...   \n",
       "4                                                NaN   \n",
       "\n",
       "                                         url_domains  \\\n",
       "0                                                NaN   \n",
       "1                                                NaN   \n",
       "2                                 [ofgfinancial.com]   \n",
       "3  [worchcapital.com, linkedin.com, worchcapital....   \n",
       "4                                                NaN   \n",
       "\n",
       "                   url_schemes  \n",
       "0                          NaN  \n",
       "1                          NaN  \n",
       "2                       [http]  \n",
       "3  [https, https, http, https]  \n",
       "4                          NaN  "
      ]
     },
     "execution_count": 50,
     "metadata": {},
     "output_type": "execute_result"
    }
   ],
   "source": [
    "df_all[['Info.@FirmCrdNb', 'Info.@SECNb', 'Info.@BusNm', 'Info.@LegalNm', 'urls','url_domains', 'url_schemes']].head()"
   ]
  },
  {
   "cell_type": "code",
   "execution_count": 51,
   "id": "69ea9cf8-2d8e-4126-bae8-d5e174a6fca8",
   "metadata": {
    "tags": []
   },
   "outputs": [],
   "source": [
    "SOCIAL_MEDIA = [\n",
    "    'linkedin.com',\n",
    "    'facebook.com',\n",
    "    'twitter.com',\n",
    "    'instagram.com',\n",
    "    'youtube.com',\n",
    "    'vimeo.com',\n",
    "    'medium.com',\n",
    "    'tiktok.com',\n",
    "    'pinterest.com',\n",
    "    'soundcloud.com',\n",
    "    'plus.google.com',\n",
    "    'open.spotify.com',\n",
    "    'reddit.com',\n",
    "    'linkedin',\n",
    "    'podcasts.apple.com',\n",
    "    'seekingalpha.com',\n",
    "    'apple.co', #TODO: Prcessing error? #podcasts.apple.com\n",
    "    'apple.com',\n",
    "    'glassdoor.com',\n",
    "    'spoti.fi',\n",
    "    'ca.linkedin.com',\n",
    "    'business.facebook.com',\n",
    "    'mp.weixin.qq.com', #wechat\n",
    "    'hvst.com',\n",
    "    'douyin.com', #tiktok in chinese\n",
    "    'anchor.fm', #podcasts\n",
    "    'line.naver.jp', #chinese wechat competitor, only Blackrock is on it!\n",
    "    'hk.linkedin.com', \n",
    "    'quora.com', \n",
    "    'slideshare.net', #sharing ppt's!\n",
    "    'g.page',  #google business page\n",
    "    'sg.linkedin.com',\n",
    "    'au.linkedin.com',  \n",
    "    'stitcher.com', # podcasts\n",
    "    'itunes.apple.com', # podcasts\n",
    "    'instragram.com', #typo, but it still redirects\n",
    "    'podcasts.google.com',   \n",
    "    'uk.linkedin.com', \n",
    "    'facebook', #TODO: Prcessing error?\n",
    "    'buzzsprout.com', #podcast\n",
    "    'ja-jp.facebook.com', \n",
    "    'stocktwits.com',\n",
    "    'blog.naver.com', #chinese wechat competitor only AB on this!\n",
    "]"
   ]
  },
  {
   "cell_type": "code",
   "execution_count": 52,
   "id": "17a2410b-5561-4961-b7b0-2896c69afbdf",
   "metadata": {
    "tags": []
   },
   "outputs": [],
   "source": [
    "AGGREGATOR_SITES = [\n",
    "    'yelp.com',\n",
    "    'angel.co',\n",
    "    'feeonlynetwork.com',\n",
    "    'crunchbase.com',\n",
    "    'thefinancialhq.com', #this is a weird one - no \"homepage\" to speak of\n",
    "    'napfa.org',\n",
    "    'alignable.com',\n",
    "    'realwealthmedia.com',\n",
    "    'letsmakeaplan.org' # CFP official site (for clients)\n",
    "    'google.com', # Typically google maps\n",
    "    'nextdoor.com',\n",
    "    'xyplanningnetwork.com',\n",
    "    'plannersearch.org', # FPA official website\n",
    "]"
   ]
  },
  {
   "cell_type": "code",
   "execution_count": 53,
   "id": "1c666483-0a83-4ee6-8daf-3f54fe48cd4d",
   "metadata": {
    "tags": []
   },
   "outputs": [],
   "source": [
    "LINKEDIN_SITES = [\n",
    "                    'linkedin.com',\n",
    "                    'linkedin',\n",
    "                    'ca.linkedin.com',\n",
    "                    'hk.linkedin.com', \n",
    "                    'sg.linkedin.com',\n",
    "                    'au.linkedin.com', \n",
    "                    'uk.linkedin.com', \n",
    "]"
   ]
  },
  {
   "cell_type": "code",
   "execution_count": 54,
   "id": "1ca98372-2e39-4402-a63e-3960473c727f",
   "metadata": {
    "tags": []
   },
   "outputs": [],
   "source": [
    "processing_errors = [\n",
    "    'apple.co',\n",
    "    'link.edgepilot.com',\n",
    "    'facebook',\n",
    "]"
   ]
  },
  {
   "cell_type": "code",
   "execution_count": 55,
   "id": "74995bdb-8e03-483b-8ee5-5ddb6efb1cac",
   "metadata": {
    "tags": []
   },
   "outputs": [],
   "source": [
    "def isin_group(x, group_list, return_bool=True, handle_nulls = True, inverse=False):\n",
    "    if handle_nulls and isinstance(x, float): # np.NaN is of type float!\n",
    "        if np.isnan(x): # but the floats actually have to be eaual to nan\n",
    "            if return_bool:\n",
    "                return False\n",
    "            return np.NaN\n",
    "    if return_bool:\n",
    "        if inverse:\n",
    "            return any([(el not in group_list) for el in x if el is not None])\n",
    "        return any([(el in group_list) for el in x if el is not None])\n",
    "    else:\n",
    "        if inverse:\n",
    "            return [el for el in x if (el not in group_list) and (el is not None)]\n",
    "        return [el for el in x if (el in group_list) and (el is not None)]"
   ]
  },
  {
   "cell_type": "code",
   "execution_count": 56,
   "id": "95eae451-d053-49d8-9847-4d089be75d14",
   "metadata": {
    "tags": []
   },
   "outputs": [],
   "source": [
    "df_all['url_has_linkedin'] = df_all['url_domains'].apply(isin_group, group_list=LINKEDIN_SITES)\n",
    "df_all['url_has_social_media'] = df_all['url_domains'].apply(isin_group, group_list=SOCIAL_MEDIA)\n",
    "df_all['url_has_aggregator'] = df_all['url_domains'].apply(isin_group, group_list=AGGREGATOR_SITES)\n",
    "df_all['url_has_firm_specific'] = df_all['url_domains'].apply(isin_group, group_list=SOCIAL_MEDIA + AGGREGATOR_SITES, inverse=True)\n",
    "\n",
    "df_all['url_social_media'] = df_all['url_domains'].apply(isin_group, group_list=SOCIAL_MEDIA, return_bool=False)\n",
    "df_all['url_aggregator'] = df_all['url_domains'].apply(isin_group, group_list=AGGREGATOR_SITES, return_bool=False)\n",
    "df_all['url_firm_specific'] = df_all['url_domains'].apply(isin_group, group_list=SOCIAL_MEDIA + AGGREGATOR_SITES, inverse=True, return_bool=False)"
   ]
  },
  {
   "cell_type": "code",
   "execution_count": 57,
   "id": "361ce003-740e-4895-9a11-a02a78159c55",
   "metadata": {
    "tags": []
   },
   "outputs": [],
   "source": [
    "df_all['url_social_media_count'] = df_all['url_social_media'].apply(lambda x: len(set(x)) if isinstance(x, list) else 0)"
   ]
  },
  {
   "cell_type": "code",
   "execution_count": 58,
   "id": "ec365f27-d4e9-46f7-97e8-77acae22595c",
   "metadata": {
    "tags": []
   },
   "outputs": [
    {
     "data": {
      "text/plain": [
       "11"
      ]
     },
     "execution_count": 58,
     "metadata": {},
     "output_type": "execute_result"
    }
   ],
   "source": [
    "df_all['url_social_media_count'].max()"
   ]
  },
  {
   "cell_type": "markdown",
   "id": "0bb4c409-417c-484c-a6b1-8f7ed76a149e",
   "metadata": {
    "tags": []
   },
   "source": [
    "# Summarize Firm Assets Under Management (AUM) values"
   ]
  },
  {
   "cell_type": "code",
   "execution_count": 59,
   "id": "40f07adc-1167-4930-951c-37dd480afbf2",
   "metadata": {
    "tags": []
   },
   "outputs": [],
   "source": [
    "df_all['TotalAUM'] = df_all.loc[:,(df_all.columns.str.startswith('FormInfo.Part1A.Item5D') \\\n",
    "                                   & df_all.columns.str.endswith('3'))           \n",
    "                               ].sum(axis=1)"
   ]
  },
  {
   "cell_type": "markdown",
   "id": "7815c335-6f9d-4537-a2b1-249662e3a91b",
   "metadata": {
    "tags": []
   },
   "source": [
    "# Firms by Registration Type"
   ]
  },
  {
   "cell_type": "code",
   "execution_count": 60,
   "id": "4d032c35-864f-486e-b958-6514c05745de",
   "metadata": {
    "tags": []
   },
   "outputs": [],
   "source": [
    "df_both_ids['registration'] = 'both'\n",
    "df_state_only_ids['registration'] = 'state'\n",
    "df_sec_only_ids['registration'] = 'sec'"
   ]
  },
  {
   "cell_type": "code",
   "execution_count": 61,
   "id": "bfa2c44c-9bbd-4488-9c9b-b767e4f23813",
   "metadata": {
    "tags": []
   },
   "outputs": [],
   "source": [
    "df_registration = pd.concat([df_both_ids, df_state_only_ids, df_sec_only_ids])"
   ]
  },
  {
   "cell_type": "code",
   "execution_count": 62,
   "id": "5fb3c2c7-e31f-47a7-a334-a2b61ab09045",
   "metadata": {
    "tags": []
   },
   "outputs": [],
   "source": [
    "df_all = df_all.merge(df_registration, how='left')"
   ]
  },
  {
   "cell_type": "code",
   "execution_count": 63,
   "id": "7dc70df3-501f-41e3-b8be-7e545898baf9",
   "metadata": {
    "tags": []
   },
   "outputs": [],
   "source": [
    "## Identify ERAs (so we can ignore them)"
   ]
  },
  {
   "cell_type": "code",
   "execution_count": 65,
   "id": "21f5fbec-bcc6-449e-a851-73895bcca3ec",
   "metadata": {
    "tags": []
   },
   "outputs": [],
   "source": [
    "df_era_ids = df_all.loc[(df_all['ERA.Rgltrs'].notnull() |\n",
    "                         df_all['ERA.Rgltrs.Rgltr'].notnull() |\n",
    "                         df_all['ERA.Rgltrs.Rgltr.@Cd'].notnull() |\n",
    "                         df_all['ERA.Rgltrs.Rgltr.@Dt'].notnull() |\n",
    "                         df_all['ERA.Rgltrs.Rgltr.@St'].notnull() |\n",
    "                         ( df_all['Rgstn.@FirmType'] == 'ERA' ) ),\n",
    "                        'Info.@FirmCrdNb']\n",
    "\n",
    "df_all.loc[df_era_ids.index, 'ERA'] = True\n",
    "df_all['ERA'] = df_all['ERA'].fillna(False)"
   ]
  },
  {
   "cell_type": "code",
   "execution_count": 66,
   "id": "4cbb927b-71e4-4a32-8f48-e6551e4fb540",
   "metadata": {},
   "outputs": [
    {
     "data": {
      "text/plain": [
       "8049"
      ]
     },
     "execution_count": 66,
     "metadata": {},
     "output_type": "execute_result"
    }
   ],
   "source": [
    "df_era_ids.shape[0]"
   ]
  },
  {
   "cell_type": "code",
   "execution_count": 67,
   "id": "d09c0e29-db87-42bb-b421-945c1cea8758",
   "metadata": {
    "tags": []
   },
   "outputs": [],
   "source": [
    "# recode zero employees\n",
    "df_all['TotalEmp'] = np.where(df_all['FormInfo.Part1A.Item5A.@TtlEmp'] > 0, df_all['FormInfo.Part1A.Item5A.@TtlEmp'], 1)"
   ]
  },
  {
   "cell_type": "code",
   "execution_count": 68,
   "id": "40aad982-5984-45ce-831e-ef54099bddd9",
   "metadata": {
    "tags": []
   },
   "outputs": [],
   "source": [
    "df_ria = df_all[df_all['ERA'] == False].copy()"
   ]
  },
  {
   "cell_type": "code",
   "execution_count": 69,
   "id": "edff724f-bde5-489c-ac6e-b1cc7fcf2ea5",
   "metadata": {
    "tags": []
   },
   "outputs": [
    {
     "data": {
      "text/plain": [
       "(32530, 352)"
      ]
     },
     "execution_count": 69,
     "metadata": {},
     "output_type": "execute_result"
    }
   ],
   "source": [
    "df_ria.shape"
   ]
  },
  {
   "cell_type": "markdown",
   "id": "c324bcf1-1174-480b-8f9c-d5e7f511e8a4",
   "metadata": {},
   "source": [
    "# Save to CSV"
   ]
  },
  {
   "cell_type": "code",
   "execution_count": 70,
   "id": "94909d97-71d0-4cca-a465-6f3d6a673758",
   "metadata": {
    "tags": []
   },
   "outputs": [],
   "source": [
    "df_all.to_csv('data/clean/ALL_03_20_2023.csv', index=False)\n",
    "df_ria.to_csv('data/clean/RIA_03_20_2023.csv', index=False)"
   ]
  },
  {
   "cell_type": "markdown",
   "id": "aedaddc7-aeab-40e2-aae3-b837c5f64a63",
   "metadata": {
    "tags": []
   },
   "source": [
    "# Questions:"
   ]
  },
  {
   "cell_type": "markdown",
   "id": "0423be7c-10ad-41b4-ab28-621f3ed83147",
   "metadata": {},
   "source": [
    "- How many RIAs are in the full data set?\n"
   ]
  },
  {
   "cell_type": "markdown",
   "id": "17d0d293-3ac3-4170-996b-f7dad9d0ef77",
   "metadata": {},
   "source": [
    "- What RIAs do and don't have a website?"
   ]
  },
  {
   "cell_type": "markdown",
   "id": "67a39ff8-a447-41f2-9046-68b426ba15c3",
   "metadata": {},
   "source": [
    "- Is it mainly independent IARs that don't?"
   ]
  },
  {
   "cell_type": "markdown",
   "id": "077261cd-4caf-4728-9b70-8dd007bb2a50",
   "metadata": {},
   "source": [
    "- Is there any geographic observations around those that dont?"
   ]
  },
  {
   "cell_type": "markdown",
   "id": "71578f3f-d190-4344-bac8-a765d388fb11",
   "metadata": {},
   "source": [
    "- Is there an AUM mark that divides those that have a website and those that dont."
   ]
  },
  {
   "cell_type": "markdown",
   "id": "b431fd63-cfda-49c4-bd41-df9a5ffee977",
   "metadata": {},
   "source": [
    "- Is there an age mark that divides those that have a website and those that don't."
   ]
  },
  {
   "cell_type": "markdown",
   "id": "ee30e1ee-b512-4123-b030-278062979ae0",
   "metadata": {},
   "source": [
    "- How many RIAs just have a linkedin account?"
   ]
  },
  {
   "cell_type": "markdown",
   "id": "ecc5ab22-2825-4def-a026-5db56112f119",
   "metadata": {},
   "source": [
    "- Have many social media accounts do majority of RIAs have? Linkedin, facebook, twitter, other?"
   ]
  },
  {
   "cell_type": "markdown",
   "id": "81f2b335-3f8b-4cb9-9fbb-a0488b559397",
   "metadata": {},
   "source": [
    "- For those with websites, how many are http vs https --- or is there some way to identify the ages of them?"
   ]
  },
  {
   "cell_type": "markdown",
   "id": "8e8a199f-081c-47e7-a9b6-d3a0b814c02e",
   "metadata": {},
   "source": [
    "If you are organized other than as a sole proprietorship, please provide the following:\n",
    "(1)\tIndicate the date you obtained your legal status. Date of formation: "
   ]
  },
  {
   "cell_type": "code",
   "execution_count": 96,
   "id": "39af77ef-f24c-4d14-a430-f730fce29140",
   "metadata": {
    "tags": []
   },
   "outputs": [],
   "source": [
    "df_ria['FormInfo.Part1B.ItemK.@Q1B2K1'] = pd.to_datetime(df_ria['FormInfo.Part1B.ItemK.@Q1B2K1'])\n",
    "df_ria['Years_since_formation'] = df_ria['FormInfo.Part1B.ItemK.@Q1B2K1'].apply(lambda x: (datetime.datetime.now() - x).days/365)"
   ]
  },
  {
   "cell_type": "code",
   "execution_count": 97,
   "id": "11e1ea96-c029-4411-87bf-ae3f7ea3b097",
   "metadata": {
    "tags": []
   },
   "outputs": [
    {
     "data": {
      "text/plain": [
       "<AxesSubplot:>"
      ]
     },
     "execution_count": 97,
     "metadata": {},
     "output_type": "execute_result"
    },
    {
     "data": {
      "image/png": "[encoded data removed]",
      "text/plain": [
       "<Figure size 640x480 with 1 Axes>"
      ]
     },
     "metadata": {},
     "output_type": "display_data"
    }
   ],
   "source": [
    "df_ria['Years_since_formation'].hist()"
   ]
  },
  {
   "cell_type": "code",
   "execution_count": null,
   "id": "22c00eb8-963b-4299-808e-41e50edb934d",
   "metadata": {},
   "outputs": [],
   "source": []
  }
 ],
 "metadata": {
  "kernelspec": {
   "display_name": "Python 3 (ipykernel)",
   "language": "python",
   "name": "python3"
  },
  "language_info": {
   "codemirror_mode": {
    "name": "ipython",
    "version": 3
   },
   "file_extension": ".py",
   "mimetype": "text/x-python",
   "name": "python",
   "nbconvert_exporter": "python",
   "pygments_lexer": "ipython3",
   "version": "3.8.13"
  }
 },
 "nbformat": 4,
 "nbformat_minor": 5
}
